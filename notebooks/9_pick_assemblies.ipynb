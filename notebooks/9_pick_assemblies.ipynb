{
 "cells": [
  {
   "cell_type": "code",
   "execution_count": 1,
   "metadata": {},
   "outputs": [
    {
     "name": "stdout",
     "output_type": "stream",
     "text": [
      "pandas  1.1.4\n",
      "seaborn 0.10.1\n",
      "numpy   1.20.1\n",
      "\n"
     ]
    }
   ],
   "source": [
    "import numpy as np\n",
    "import matplotlib.pyplot as plt\n",
    "import pandas as pd\n",
    "import warnings\n",
    "import seaborn as sns\n",
    "\n",
    "from scipy.stats import pearsonr\n",
    "\n",
    "sns.set_style(\"darkgrid\")\n",
    "np.random.seed(930525)\n",
    "pd.set_option('display.max_columns', 20)\n",
    "pd.set_option('display.max_rows', 200)\n",
    "\n",
    "warnings.simplefilter('once')\n",
    "\n",
    "%matplotlib inline\n",
    "%load_ext watermark\n",
    "%watermark --iversions"
   ]
  },
  {
   "cell_type": "code",
   "execution_count": 3,
   "metadata": {},
   "outputs": [
    {
     "name": "stderr",
     "output_type": "stream",
     "text": [
      "/home/bhillmann/.conda/envs/type_1/lib/python3.8/site-packages/ipykernel/ipkernel.py:287: DeprecationWarning: `should_run_async` will not call `transform_cell` automatically in the future. Please pass the result to `transformed_cell` argument and any exception that happen during thetransform in `preprocessing_exc_tuple` in IPython 7.17 and above.\n",
      "  and should_run_async(code)\n"
     ]
    }
   ],
   "source": [
    "file_path = \"/mnt/btrfs/data/type_1/assemblies/assembly_summary.txt\""
   ]
  },
  {
   "cell_type": "code",
   "execution_count": 6,
   "metadata": {},
   "outputs": [
    {
     "name": "stderr",
     "output_type": "stream",
     "text": [
      "/home/bhillmann/.conda/envs/type_1/lib/python3.8/site-packages/ipykernel/ipkernel.py:287: DeprecationWarning: `should_run_async` will not call `transform_cell` automatically in the future. Please pass the result to `transformed_cell` argument and any exception that happen during thetransform in `preprocessing_exc_tuple` in IPython 7.17 and above.\n",
      "  and should_run_async(code)\n",
      "/home/bhillmann/.conda/envs/type_1/lib/python3.8/site-packages/IPython/core/interactiveshell.py:3165: DtypeWarning: Columns (5,6) have mixed types.Specify dtype option on import or set low_memory=False.\n",
      "  has_raised = await self.run_ast_nodes(code_ast.body, cell_name,\n"
     ]
    }
   ],
   "source": [
    "df_assembly = pd.read_csv(file_path, sep=\"\\t\", skiprows=1)"
   ]
  },
  {
   "cell_type": "code",
   "execution_count": 15,
   "metadata": {},
   "outputs": [
    {
     "name": "stderr",
     "output_type": "stream",
     "text": [
      "/home/bhillmann/.conda/envs/type_1/lib/python3.8/site-packages/ipykernel/ipkernel.py:287: DeprecationWarning: `should_run_async` will not call `transform_cell` automatically in the future. Please pass the result to `transformed_cell` argument and any exception that happen during thetransform in `preprocessing_exc_tuple` in IPython 7.17 and above.\n",
      "  and should_run_async(code)\n"
     ]
    }
   ],
   "source": [
    "df_assembly_clean = df_assembly.copy()"
   ]
  },
  {
   "cell_type": "code",
   "execution_count": 8,
   "metadata": {},
   "outputs": [
    {
     "data": {
      "text/plain": [
       "Index(['# assembly_accession', 'bioproject', 'biosample', 'wgs_master',\n",
       "       'refseq_category', 'taxid', 'species_taxid', 'organism_name',\n",
       "       'infraspecific_name', 'isolate', 'version_status', 'assembly_level',\n",
       "       'release_type', 'genome_rep', 'seq_rel_date', 'asm_name', 'submitter',\n",
       "       'gbrs_paired_asm', 'paired_asm_comp', 'ftp_path',\n",
       "       'excluded_from_refseq', 'relation_to_type_material'],\n",
       "      dtype='object')"
      ]
     },
     "execution_count": 8,
     "metadata": {},
     "output_type": "execute_result"
    }
   ],
   "source": [
    "df_assembly.columns"
   ]
  },
  {
   "cell_type": "code",
   "execution_count": 13,
   "metadata": {},
   "outputs": [
    {
     "data": {
      "text/plain": [
       "0         Full\n",
       "1         Full\n",
       "2         Full\n",
       "3         Full\n",
       "4         Full\n",
       "          ... \n",
       "210328    Full\n",
       "210329    Full\n",
       "210330    Full\n",
       "210331    Full\n",
       "210332    Full\n",
       "Name: genome_rep, Length: 210333, dtype: object"
      ]
     },
     "execution_count": 13,
     "metadata": {},
     "output_type": "execute_result"
    }
   ],
   "source": [
    "df_assembly.genome_rep"
   ]
  },
  {
   "cell_type": "code",
   "execution_count": 30,
   "metadata": {},
   "outputs": [
    {
     "name": "stderr",
     "output_type": "stream",
     "text": [
      "/home/bhillmann/.conda/envs/type_1/lib/python3.8/site-packages/ipykernel/ipkernel.py:287: DeprecationWarning: `should_run_async` will not call `transform_cell` automatically in the future. Please pass the result to `transformed_cell` argument and any exception that happen during thetransform in `preprocessing_exc_tuple` in IPython 7.17 and above.\n",
      "  and should_run_async(code)\n"
     ]
    }
   ],
   "source": [
    "df_assembly = df_assembly.query('refseq_category in (\"representative genome\", \"reference genome\")')\n",
    "\n",
    "df_assembly = df_assembly.query('genome_rep == \"Full\"')\n",
    "\n",
    "df_assembly = df_assembly.query('version_status == \"latest\"')\n",
    "\n",
    "mask_master = df_assembly['wgs_master'].astype(str) != 'nan'\n",
    "\n",
    "df_assembly = df_assembly.loc[mask_master,:]"
   ]
  },
  {
   "cell_type": "code",
   "execution_count": 33,
   "metadata": {},
   "outputs": [
    {
     "data": {
      "text/plain": [
       "0         GCF_002287175.1\n",
       "14        GCF_002287215.1\n",
       "15        GCF_001571405.1\n",
       "76        GCF_000765475.1\n",
       "151       GCF_001462395.1\n",
       "               ...       \n",
       "209414    GCF_900239495.1\n",
       "209463    GCF_013366925.1\n",
       "209724    GCF_003397585.1\n",
       "209726    GCF_003397705.1\n",
       "210009    GCF_002191155.1\n",
       "Name: # assembly_accession, Length: 9806, dtype: object"
      ]
     },
     "execution_count": 33,
     "metadata": {},
     "output_type": "execute_result"
    }
   ],
   "source": [
    "df_assembly[\"# assembly_accession\"]"
   ]
  },
  {
   "cell_type": "code",
   "execution_count": 37,
   "metadata": {},
   "outputs": [],
   "source": [
    "tax_file = \"/mnt/btrfs/data/gtdb_95/gtdb_genomes_reps_r95/r95.gtdb.tax\""
   ]
  },
  {
   "cell_type": "code",
   "execution_count": 40,
   "metadata": {},
   "outputs": [
    {
     "name": "stderr",
     "output_type": "stream",
     "text": [
      "/home/bhillmann/.conda/envs/type_1/lib/python3.8/site-packages/ipykernel/ipkernel.py:287: DeprecationWarning: `should_run_async` will not call `transform_cell` automatically in the future. Please pass the result to `transformed_cell` argument and any exception that happen during thetransform in `preprocessing_exc_tuple` in IPython 7.17 and above.\n",
      "  and should_run_async(code)\n"
     ]
    }
   ],
   "source": [
    "df_tax_clean = pd.read_csv(tax_file, header=None, sep=\"\\t\")\n",
    "\n",
    "df_tax = df_tax_clean.copy()"
   ]
  },
  {
   "cell_type": "code",
   "execution_count": 79,
   "metadata": {},
   "outputs": [],
   "source": [
    "in_gtdb = set([_.split('.')[0] for _ in df_tax[0]])"
   ]
  },
  {
   "cell_type": "code",
   "execution_count": 86,
   "metadata": {},
   "outputs": [],
   "source": [
    "\n",
    "refseq = np.array([_.split('.')[0] in in_gtdb for _ in df_assembly[\"# assembly_accession\"]])\n",
    "genbank = np.array([_.split('.')[0] in in_gtdb for _ in df_assembly[\"gbrs_paired_asm\"]])\n",
    "\n",
    "df_assembly[\"in_gtdb\"] = refseq | genbank"
   ]
  },
  {
   "cell_type": "code",
   "execution_count": 88,
   "metadata": {},
   "outputs": [
    {
     "name": "stderr",
     "output_type": "stream",
     "text": [
      "/home/bhillmann/.conda/envs/type_1/lib/python3.8/site-packages/ipykernel/ipkernel.py:287: DeprecationWarning: `should_run_async` will not call `transform_cell` automatically in the future. Please pass the result to `transformed_cell` argument and any exception that happen during thetransform in `preprocessing_exc_tuple` in IPython 7.17 and above.\n",
      "  and should_run_async(code)\n"
     ]
    }
   ],
   "source": [
    "tax_file_path = \"/mnt/btrfs/data/type_1/assemblies/taxtmp/tid2gg.srt.txt\"\n",
    "\n",
    "df_tax_refseq = pd.read_csv(tax_file_path, sep=\"\\t\", header=None)\n",
    "\n",
    "df_tax_refseq.columns = [\"taxid\", \"gg\"]"
   ]
  },
  {
   "cell_type": "code",
   "execution_count": 96,
   "metadata": {},
   "outputs": [
    {
     "data": {
      "text/html": [
       "<div>\n",
       "<style scoped>\n",
       "    .dataframe tbody tr th:only-of-type {\n",
       "        vertical-align: middle;\n",
       "    }\n",
       "\n",
       "    .dataframe tbody tr th {\n",
       "        vertical-align: top;\n",
       "    }\n",
       "\n",
       "    .dataframe thead th {\n",
       "        text-align: right;\n",
       "    }\n",
       "</style>\n",
       "<table border=\"1\" class=\"dataframe\">\n",
       "  <thead>\n",
       "    <tr style=\"text-align: right;\">\n",
       "      <th></th>\n",
       "      <th>taxid</th>\n",
       "      <th>gg</th>\n",
       "    </tr>\n",
       "  </thead>\n",
       "  <tbody>\n",
       "    <tr>\n",
       "      <th>1137181</th>\n",
       "      <td>2193</td>\n",
       "      <td>k__Archaea;p__Euryarchaeota;c__Methanomicrobia...</td>\n",
       "    </tr>\n",
       "  </tbody>\n",
       "</table>\n",
       "</div>"
      ],
      "text/plain": [
       "         taxid                                                 gg\n",
       "1137181   2193  k__Archaea;p__Euryarchaeota;c__Methanomicrobia..."
      ]
     },
     "execution_count": 96,
     "metadata": {},
     "output_type": "execute_result"
    }
   ],
   "source": [
    "df_tax_refseq.query('taxid == 2193')"
   ]
  },
  {
   "cell_type": "code",
   "execution_count": 102,
   "metadata": {},
   "outputs": [
    {
     "data": {
      "text/plain": [
       "0               10\n",
       "1              100\n",
       "2           100000\n",
       "3          1000000\n",
       "4          1000001\n",
       "            ...   \n",
       "2316613     999995\n",
       "2316614     999996\n",
       "2316615     999997\n",
       "2316616     999998\n",
       "2316617     999999\n",
       "Name: taxid, Length: 2316618, dtype: int64"
      ]
     },
     "execution_count": 102,
     "metadata": {},
     "output_type": "execute_result"
    }
   ],
   "source": [
    "df_tax_refseq.taxid.astype(int)"
   ]
  },
  {
   "cell_type": "code",
   "execution_count": 100,
   "metadata": {},
   "outputs": [
    {
     "data": {
      "text/plain": [
       "0            2161\n",
       "14           2193\n",
       "15           2200\n",
       "76           2226\n",
       "151          2309\n",
       "           ...   \n",
       "209414    2781388\n",
       "209463    2782701\n",
       "209724    2792977\n",
       "209726    2792979\n",
       "210009    2801452\n",
       "Name: taxid, Length: 9806, dtype: int64"
      ]
     },
     "execution_count": 100,
     "metadata": {},
     "output_type": "execute_result"
    }
   ],
   "source": []
  },
  {
   "cell_type": "code",
   "execution_count": 98,
   "metadata": {},
   "outputs": [
    {
     "data": {
      "text/html": [
       "<div>\n",
       "<style scoped>\n",
       "    .dataframe tbody tr th:only-of-type {\n",
       "        vertical-align: middle;\n",
       "    }\n",
       "\n",
       "    .dataframe tbody tr th {\n",
       "        vertical-align: top;\n",
       "    }\n",
       "\n",
       "    .dataframe thead th {\n",
       "        text-align: right;\n",
       "    }\n",
       "</style>\n",
       "<table border=\"1\" class=\"dataframe\">\n",
       "  <thead>\n",
       "    <tr style=\"text-align: right;\">\n",
       "      <th></th>\n",
       "      <th># assembly_accession</th>\n",
       "      <th>bioproject</th>\n",
       "      <th>biosample</th>\n",
       "      <th>wgs_master</th>\n",
       "      <th>refseq_category</th>\n",
       "      <th>taxid</th>\n",
       "      <th>species_taxid</th>\n",
       "      <th>organism_name</th>\n",
       "      <th>infraspecific_name</th>\n",
       "      <th>isolate</th>\n",
       "      <th>...</th>\n",
       "      <th>seq_rel_date</th>\n",
       "      <th>asm_name</th>\n",
       "      <th>submitter</th>\n",
       "      <th>gbrs_paired_asm</th>\n",
       "      <th>paired_asm_comp</th>\n",
       "      <th>ftp_path</th>\n",
       "      <th>excluded_from_refseq</th>\n",
       "      <th>relation_to_type_material</th>\n",
       "      <th>in_gtdb</th>\n",
       "      <th>gg</th>\n",
       "    </tr>\n",
       "  </thead>\n",
       "  <tbody>\n",
       "    <tr>\n",
       "      <th>0</th>\n",
       "      <td>GCF_002287175.1</td>\n",
       "      <td>PRJNA224116</td>\n",
       "      <td>SAMN04229035</td>\n",
       "      <td>LMVM00000000.1</td>\n",
       "      <td>representative genome</td>\n",
       "      <td>2161</td>\n",
       "      <td>2161</td>\n",
       "      <td>Methanobacterium bryantii</td>\n",
       "      <td>strain=M.o.H.</td>\n",
       "      <td>NaN</td>\n",
       "      <td>...</td>\n",
       "      <td>2017/09/06</td>\n",
       "      <td>ASM228717v1</td>\n",
       "      <td>University of California Santa Barbara</td>\n",
       "      <td>GCA_002287175.1</td>\n",
       "      <td>identical</td>\n",
       "      <td>ftp://ftp.ncbi.nlm.nih.gov/genomes/all/GCF/002...</td>\n",
       "      <td>NaN</td>\n",
       "      <td>assembly from type material</td>\n",
       "      <td>True</td>\n",
       "      <td>NaN</td>\n",
       "    </tr>\n",
       "    <tr>\n",
       "      <th>1</th>\n",
       "      <td>GCF_002287215.1</td>\n",
       "      <td>PRJNA224116</td>\n",
       "      <td>SAMN04229038</td>\n",
       "      <td>LMVO00000000.1</td>\n",
       "      <td>representative genome</td>\n",
       "      <td>2193</td>\n",
       "      <td>2193</td>\n",
       "      <td>Methanocorpusculum parvum</td>\n",
       "      <td>strain=XII</td>\n",
       "      <td>NaN</td>\n",
       "      <td>...</td>\n",
       "      <td>2017/09/06</td>\n",
       "      <td>ASM228721v1</td>\n",
       "      <td>University of California Santa Barbara</td>\n",
       "      <td>GCA_002287215.1</td>\n",
       "      <td>identical</td>\n",
       "      <td>ftp://ftp.ncbi.nlm.nih.gov/genomes/all/GCF/002...</td>\n",
       "      <td>NaN</td>\n",
       "      <td>assembly from type material</td>\n",
       "      <td>True</td>\n",
       "      <td>NaN</td>\n",
       "    </tr>\n",
       "    <tr>\n",
       "      <th>2</th>\n",
       "      <td>GCF_001571405.1</td>\n",
       "      <td>PRJNA224116</td>\n",
       "      <td>SAMD00044722</td>\n",
       "      <td>BCNX00000000.1</td>\n",
       "      <td>representative genome</td>\n",
       "      <td>2200</td>\n",
       "      <td>2200</td>\n",
       "      <td>Methanoculleus thermophilus</td>\n",
       "      <td>strain=CR-1</td>\n",
       "      <td>NaN</td>\n",
       "      <td>...</td>\n",
       "      <td>2016/01/19</td>\n",
       "      <td>ASM157140v1</td>\n",
       "      <td>Bioproduction Research Institute, National Ins...</td>\n",
       "      <td>GCA_001571405.1</td>\n",
       "      <td>identical</td>\n",
       "      <td>ftp://ftp.ncbi.nlm.nih.gov/genomes/all/GCF/001...</td>\n",
       "      <td>NaN</td>\n",
       "      <td>assembly from type material</td>\n",
       "      <td>True</td>\n",
       "      <td>NaN</td>\n",
       "    </tr>\n",
       "    <tr>\n",
       "      <th>3</th>\n",
       "      <td>GCF_000765475.1</td>\n",
       "      <td>PRJNA224116</td>\n",
       "      <td>SAMN03067868</td>\n",
       "      <td>JRHO00000000.1</td>\n",
       "      <td>representative genome</td>\n",
       "      <td>2226</td>\n",
       "      <td>2226</td>\n",
       "      <td>Methanococcoides methylutens</td>\n",
       "      <td>strain=DSM 2657</td>\n",
       "      <td>NaN</td>\n",
       "      <td>...</td>\n",
       "      <td>2014/10/10</td>\n",
       "      <td>Mmet_Version1</td>\n",
       "      <td>King Abdullah University of Science and Techno...</td>\n",
       "      <td>GCA_000765475.1</td>\n",
       "      <td>identical</td>\n",
       "      <td>ftp://ftp.ncbi.nlm.nih.gov/genomes/all/GCF/000...</td>\n",
       "      <td>NaN</td>\n",
       "      <td>assembly from type material</td>\n",
       "      <td>True</td>\n",
       "      <td>NaN</td>\n",
       "    </tr>\n",
       "    <tr>\n",
       "      <th>4</th>\n",
       "      <td>GCF_001462395.1</td>\n",
       "      <td>PRJNA224116</td>\n",
       "      <td>SAMN03154506</td>\n",
       "      <td>LNTB00000000.1</td>\n",
       "      <td>representative genome</td>\n",
       "      <td>2309</td>\n",
       "      <td>2309</td>\n",
       "      <td>Pyrodictium occultum</td>\n",
       "      <td>strain=PL-19</td>\n",
       "      <td>NaN</td>\n",
       "      <td>...</td>\n",
       "      <td>2015/12/08</td>\n",
       "      <td>ASM146239v1</td>\n",
       "      <td>Oak Ridge National Laboratory</td>\n",
       "      <td>GCA_001462395.1</td>\n",
       "      <td>identical</td>\n",
       "      <td>ftp://ftp.ncbi.nlm.nih.gov/genomes/all/GCF/001...</td>\n",
       "      <td>NaN</td>\n",
       "      <td>assembly from type material</td>\n",
       "      <td>True</td>\n",
       "      <td>NaN</td>\n",
       "    </tr>\n",
       "    <tr>\n",
       "      <th>...</th>\n",
       "      <td>...</td>\n",
       "      <td>...</td>\n",
       "      <td>...</td>\n",
       "      <td>...</td>\n",
       "      <td>...</td>\n",
       "      <td>...</td>\n",
       "      <td>...</td>\n",
       "      <td>...</td>\n",
       "      <td>...</td>\n",
       "      <td>...</td>\n",
       "      <td>...</td>\n",
       "      <td>...</td>\n",
       "      <td>...</td>\n",
       "      <td>...</td>\n",
       "      <td>...</td>\n",
       "      <td>...</td>\n",
       "      <td>...</td>\n",
       "      <td>...</td>\n",
       "      <td>...</td>\n",
       "      <td>...</td>\n",
       "      <td>...</td>\n",
       "    </tr>\n",
       "    <tr>\n",
       "      <th>9801</th>\n",
       "      <td>GCF_900239495.1</td>\n",
       "      <td>PRJNA224116</td>\n",
       "      <td>SAMEA104389409</td>\n",
       "      <td>OENE00000000.1</td>\n",
       "      <td>representative genome</td>\n",
       "      <td>2781388</td>\n",
       "      <td>2781243</td>\n",
       "      <td>Tenacibaculum finnmarkense genomovar ulcerans</td>\n",
       "      <td>strain=TNO010</td>\n",
       "      <td>NaN</td>\n",
       "      <td>...</td>\n",
       "      <td>2020/04/03</td>\n",
       "      <td>TNO010_V1</td>\n",
       "      <td>INRA</td>\n",
       "      <td>GCA_900239495.1</td>\n",
       "      <td>identical</td>\n",
       "      <td>ftp://ftp.ncbi.nlm.nih.gov/genomes/all/GCF/900...</td>\n",
       "      <td>NaN</td>\n",
       "      <td>assembly from type material</td>\n",
       "      <td>False</td>\n",
       "      <td>k__Bacteria;p__Bacteroidetes;c__Flavobacteriia...</td>\n",
       "    </tr>\n",
       "    <tr>\n",
       "      <th>9802</th>\n",
       "      <td>GCF_013366925.1</td>\n",
       "      <td>PRJNA224116</td>\n",
       "      <td>SAMN14144370</td>\n",
       "      <td>JAALDK000000000.1</td>\n",
       "      <td>representative genome</td>\n",
       "      <td>2782701</td>\n",
       "      <td>2782701</td>\n",
       "      <td>Paraburkholderia youngii</td>\n",
       "      <td>strain=JPY169</td>\n",
       "      <td>NaN</td>\n",
       "      <td>...</td>\n",
       "      <td>2020/06/22</td>\n",
       "      <td>ASM1336692v1</td>\n",
       "      <td>University of Pretoria</td>\n",
       "      <td>GCA_013366925.1</td>\n",
       "      <td>identical</td>\n",
       "      <td>ftp://ftp.ncbi.nlm.nih.gov/genomes/all/GCF/013...</td>\n",
       "      <td>NaN</td>\n",
       "      <td>assembly from type material</td>\n",
       "      <td>False</td>\n",
       "      <td>k__Bacteria;p__Proteobacteria;c__Betaproteobac...</td>\n",
       "    </tr>\n",
       "    <tr>\n",
       "      <th>9803</th>\n",
       "      <td>GCF_003397585.1</td>\n",
       "      <td>PRJNA224116</td>\n",
       "      <td>SAMN09373177</td>\n",
       "      <td>QJUV00000000.1</td>\n",
       "      <td>representative genome</td>\n",
       "      <td>2792977</td>\n",
       "      <td>2792977</td>\n",
       "      <td>Gardnerella piotii</td>\n",
       "      <td>strain=UGent 18.01</td>\n",
       "      <td>NaN</td>\n",
       "      <td>...</td>\n",
       "      <td>2018/08/16</td>\n",
       "      <td>ASM339758v1</td>\n",
       "      <td>Ghent University</td>\n",
       "      <td>GCA_003397585.1</td>\n",
       "      <td>identical</td>\n",
       "      <td>ftp://ftp.ncbi.nlm.nih.gov/genomes/all/GCF/003...</td>\n",
       "      <td>NaN</td>\n",
       "      <td>assembly from type material</td>\n",
       "      <td>False</td>\n",
       "      <td>k__Bacteria;p__Actinobacteria;c__Actinomycetia...</td>\n",
       "    </tr>\n",
       "    <tr>\n",
       "      <th>9804</th>\n",
       "      <td>GCF_003397705.1</td>\n",
       "      <td>PRJNA224116</td>\n",
       "      <td>SAMN09373170</td>\n",
       "      <td>QJVB00000000.1</td>\n",
       "      <td>representative genome</td>\n",
       "      <td>2792979</td>\n",
       "      <td>2792979</td>\n",
       "      <td>Gardnerella swidsinskii</td>\n",
       "      <td>strain=GS 9838-1</td>\n",
       "      <td>NaN</td>\n",
       "      <td>...</td>\n",
       "      <td>2018/08/16</td>\n",
       "      <td>ASM339770v1</td>\n",
       "      <td>Ghent University</td>\n",
       "      <td>GCA_003397705.1</td>\n",
       "      <td>identical</td>\n",
       "      <td>ftp://ftp.ncbi.nlm.nih.gov/genomes/all/GCF/003...</td>\n",
       "      <td>NaN</td>\n",
       "      <td>assembly from type material</td>\n",
       "      <td>False</td>\n",
       "      <td>k__Bacteria;p__Actinobacteria;c__Actinomycetia...</td>\n",
       "    </tr>\n",
       "    <tr>\n",
       "      <th>9805</th>\n",
       "      <td>GCF_002191155.1</td>\n",
       "      <td>PRJNA224116</td>\n",
       "      <td>SAMN06434172</td>\n",
       "      <td>MXAL00000000.1</td>\n",
       "      <td>representative genome</td>\n",
       "      <td>2801452</td>\n",
       "      <td>2801452</td>\n",
       "      <td>Companilactobacillus kimchii</td>\n",
       "      <td>strain=KACC 12383</td>\n",
       "      <td>NaN</td>\n",
       "      <td>...</td>\n",
       "      <td>2017/06/12</td>\n",
       "      <td>ASM219115v1</td>\n",
       "      <td>ChunLab, Inc.</td>\n",
       "      <td>GCA_002191155.1</td>\n",
       "      <td>identical</td>\n",
       "      <td>ftp://ftp.ncbi.nlm.nih.gov/genomes/all/GCF/002...</td>\n",
       "      <td>NaN</td>\n",
       "      <td>NaN</td>\n",
       "      <td>False</td>\n",
       "      <td>k__Bacteria;p__Firmicutes;c__Bacilli;o__Lactob...</td>\n",
       "    </tr>\n",
       "  </tbody>\n",
       "</table>\n",
       "<p>9806 rows × 24 columns</p>\n",
       "</div>"
      ],
      "text/plain": [
       "     # assembly_accession   bioproject       biosample         wgs_master  \\\n",
       "0         GCF_002287175.1  PRJNA224116    SAMN04229035     LMVM00000000.1   \n",
       "1         GCF_002287215.1  PRJNA224116    SAMN04229038     LMVO00000000.1   \n",
       "2         GCF_001571405.1  PRJNA224116    SAMD00044722     BCNX00000000.1   \n",
       "3         GCF_000765475.1  PRJNA224116    SAMN03067868     JRHO00000000.1   \n",
       "4         GCF_001462395.1  PRJNA224116    SAMN03154506     LNTB00000000.1   \n",
       "...                   ...          ...             ...                ...   \n",
       "9801      GCF_900239495.1  PRJNA224116  SAMEA104389409     OENE00000000.1   \n",
       "9802      GCF_013366925.1  PRJNA224116    SAMN14144370  JAALDK000000000.1   \n",
       "9803      GCF_003397585.1  PRJNA224116    SAMN09373177     QJUV00000000.1   \n",
       "9804      GCF_003397705.1  PRJNA224116    SAMN09373170     QJVB00000000.1   \n",
       "9805      GCF_002191155.1  PRJNA224116    SAMN06434172     MXAL00000000.1   \n",
       "\n",
       "            refseq_category    taxid species_taxid  \\\n",
       "0     representative genome     2161          2161   \n",
       "1     representative genome     2193          2193   \n",
       "2     representative genome     2200          2200   \n",
       "3     representative genome     2226          2226   \n",
       "4     representative genome     2309          2309   \n",
       "...                     ...      ...           ...   \n",
       "9801  representative genome  2781388       2781243   \n",
       "9802  representative genome  2782701       2782701   \n",
       "9803  representative genome  2792977       2792977   \n",
       "9804  representative genome  2792979       2792979   \n",
       "9805  representative genome  2801452       2801452   \n",
       "\n",
       "                                      organism_name  infraspecific_name  \\\n",
       "0                         Methanobacterium bryantii       strain=M.o.H.   \n",
       "1                         Methanocorpusculum parvum          strain=XII   \n",
       "2                       Methanoculleus thermophilus         strain=CR-1   \n",
       "3                      Methanococcoides methylutens     strain=DSM 2657   \n",
       "4                              Pyrodictium occultum        strain=PL-19   \n",
       "...                                             ...                 ...   \n",
       "9801  Tenacibaculum finnmarkense genomovar ulcerans       strain=TNO010   \n",
       "9802                       Paraburkholderia youngii       strain=JPY169   \n",
       "9803                             Gardnerella piotii  strain=UGent 18.01   \n",
       "9804                        Gardnerella swidsinskii    strain=GS 9838-1   \n",
       "9805                   Companilactobacillus kimchii   strain=KACC 12383   \n",
       "\n",
       "     isolate  ... seq_rel_date       asm_name  \\\n",
       "0        NaN  ...   2017/09/06    ASM228717v1   \n",
       "1        NaN  ...   2017/09/06    ASM228721v1   \n",
       "2        NaN  ...   2016/01/19    ASM157140v1   \n",
       "3        NaN  ...   2014/10/10  Mmet_Version1   \n",
       "4        NaN  ...   2015/12/08    ASM146239v1   \n",
       "...      ...  ...          ...            ...   \n",
       "9801     NaN  ...   2020/04/03      TNO010_V1   \n",
       "9802     NaN  ...   2020/06/22   ASM1336692v1   \n",
       "9803     NaN  ...   2018/08/16    ASM339758v1   \n",
       "9804     NaN  ...   2018/08/16    ASM339770v1   \n",
       "9805     NaN  ...   2017/06/12    ASM219115v1   \n",
       "\n",
       "                                              submitter  gbrs_paired_asm  \\\n",
       "0                University of California Santa Barbara  GCA_002287175.1   \n",
       "1                University of California Santa Barbara  GCA_002287215.1   \n",
       "2     Bioproduction Research Institute, National Ins...  GCA_001571405.1   \n",
       "3     King Abdullah University of Science and Techno...  GCA_000765475.1   \n",
       "4                         Oak Ridge National Laboratory  GCA_001462395.1   \n",
       "...                                                 ...              ...   \n",
       "9801                                               INRA  GCA_900239495.1   \n",
       "9802                             University of Pretoria  GCA_013366925.1   \n",
       "9803                                   Ghent University  GCA_003397585.1   \n",
       "9804                                   Ghent University  GCA_003397705.1   \n",
       "9805                                      ChunLab, Inc.  GCA_002191155.1   \n",
       "\n",
       "     paired_asm_comp                                           ftp_path  \\\n",
       "0          identical  ftp://ftp.ncbi.nlm.nih.gov/genomes/all/GCF/002...   \n",
       "1          identical  ftp://ftp.ncbi.nlm.nih.gov/genomes/all/GCF/002...   \n",
       "2          identical  ftp://ftp.ncbi.nlm.nih.gov/genomes/all/GCF/001...   \n",
       "3          identical  ftp://ftp.ncbi.nlm.nih.gov/genomes/all/GCF/000...   \n",
       "4          identical  ftp://ftp.ncbi.nlm.nih.gov/genomes/all/GCF/001...   \n",
       "...              ...                                                ...   \n",
       "9801       identical  ftp://ftp.ncbi.nlm.nih.gov/genomes/all/GCF/900...   \n",
       "9802       identical  ftp://ftp.ncbi.nlm.nih.gov/genomes/all/GCF/013...   \n",
       "9803       identical  ftp://ftp.ncbi.nlm.nih.gov/genomes/all/GCF/003...   \n",
       "9804       identical  ftp://ftp.ncbi.nlm.nih.gov/genomes/all/GCF/003...   \n",
       "9805       identical  ftp://ftp.ncbi.nlm.nih.gov/genomes/all/GCF/002...   \n",
       "\n",
       "     excluded_from_refseq    relation_to_type_material in_gtdb  \\\n",
       "0                     NaN  assembly from type material    True   \n",
       "1                     NaN  assembly from type material    True   \n",
       "2                     NaN  assembly from type material    True   \n",
       "3                     NaN  assembly from type material    True   \n",
       "4                     NaN  assembly from type material    True   \n",
       "...                   ...                          ...     ...   \n",
       "9801                  NaN  assembly from type material   False   \n",
       "9802                  NaN  assembly from type material   False   \n",
       "9803                  NaN  assembly from type material   False   \n",
       "9804                  NaN  assembly from type material   False   \n",
       "9805                  NaN                          NaN   False   \n",
       "\n",
       "                                                     gg  \n",
       "0                                                   NaN  \n",
       "1                                                   NaN  \n",
       "2                                                   NaN  \n",
       "3                                                   NaN  \n",
       "4                                                   NaN  \n",
       "...                                                 ...  \n",
       "9801  k__Bacteria;p__Bacteroidetes;c__Flavobacteriia...  \n",
       "9802  k__Bacteria;p__Proteobacteria;c__Betaproteobac...  \n",
       "9803  k__Bacteria;p__Actinobacteria;c__Actinomycetia...  \n",
       "9804  k__Bacteria;p__Actinobacteria;c__Actinomycetia...  \n",
       "9805  k__Bacteria;p__Firmicutes;c__Bacilli;o__Lactob...  \n",
       "\n",
       "[9806 rows x 24 columns]"
      ]
     },
     "execution_count": 98,
     "metadata": {},
     "output_type": "execute_result"
    }
   ],
   "source": [
    "pd.merge(df_assembly, df_tax_refseq, on=\"taxid\", how=\"left\")"
   ]
  },
  {
   "cell_type": "code",
   "execution_count": 112,
   "metadata": {},
   "outputs": [
    {
     "name": "stderr",
     "output_type": "stream",
     "text": [
      "/home/bhillmann/.conda/envs/type_1/lib/python3.8/site-packages/ipykernel/ipkernel.py:287: DeprecationWarning: `should_run_async` will not call `transform_cell` automatically in the future. Please pass the result to `transformed_cell` argument and any exception that happen during thetransform in `preprocessing_exc_tuple` in IPython 7.17 and above.\n",
      "  and should_run_async(code)\n"
     ]
    }
   ],
   "source": [
    "df_assembly['taxid'] = df_assembly['taxid'].astype(int)\n",
    "df_tax_refseq['taxid'] = df_tax_refseq['taxid'].astype(int)\n",
    "\n",
    "df_assembly_gg = pd.merge(df_assembly, df_tax_refseq, on=\"taxid\", how=\"left\")\n",
    "\n",
    "# print(df_assembly_gg['gg'].str.startswith(\"k__Bact\").sum() - df_assembly_gg.shape[0])\n",
    "\n",
    "# df_assembly_gg = df_assembly_gg.query(\"not in_gtdb\").copy().reset_index(drop=True)\n",
    "\n",
    "# print(df_assembly_gg['gg'].str.startswith(\"k__Bact\").sum() - df_assembly_gg.shape[0])"
   ]
  },
  {
   "cell_type": "code",
   "execution_count": 115,
   "metadata": {},
   "outputs": [
    {
     "name": "stderr",
     "output_type": "stream",
     "text": [
      "/home/bhillmann/.conda/envs/type_1/lib/python3.8/site-packages/ipykernel/ipkernel.py:287: DeprecationWarning: `should_run_async` will not call `transform_cell` automatically in the future. Please pass the result to `transformed_cell` argument and any exception that happen during thetransform in `preprocessing_exc_tuple` in IPython 7.17 and above.\n",
      "  and should_run_async(code)\n"
     ]
    }
   ],
   "source": [
    "df_filtered = df_assembly_gg.sample(500)\n",
    "\n",
    "df_filtered.to_csv(\"../data/assemblies_wgs.500.csv\")"
   ]
  },
  {
   "cell_type": "code",
   "execution_count": 121,
   "metadata": {},
   "outputs": [
    {
     "name": "stderr",
     "output_type": "stream",
     "text": [
      "/home/bhillmann/.conda/envs/type_1/lib/python3.8/site-packages/ipykernel/ipkernel.py:287: DeprecationWarning: `should_run_async` will not call `transform_cell` automatically in the future. Please pass the result to `transformed_cell` argument and any exception that happen during thetransform in `preprocessing_exc_tuple` in IPython 7.17 and above.\n",
      "  and should_run_async(code)\n"
     ]
    },
    {
     "data": {
      "text/html": [
       "<div>\n",
       "<style scoped>\n",
       "    .dataframe tbody tr th:only-of-type {\n",
       "        vertical-align: middle;\n",
       "    }\n",
       "\n",
       "    .dataframe tbody tr th {\n",
       "        vertical-align: top;\n",
       "    }\n",
       "\n",
       "    .dataframe thead th {\n",
       "        text-align: right;\n",
       "    }\n",
       "</style>\n",
       "<table border=\"1\" class=\"dataframe\">\n",
       "  <thead>\n",
       "    <tr style=\"text-align: right;\">\n",
       "      <th></th>\n",
       "      <th># assembly_accession</th>\n",
       "      <th>bioproject</th>\n",
       "      <th>biosample</th>\n",
       "      <th>wgs_master</th>\n",
       "      <th>refseq_category</th>\n",
       "      <th>taxid</th>\n",
       "      <th>species_taxid</th>\n",
       "      <th>organism_name</th>\n",
       "      <th>infraspecific_name</th>\n",
       "      <th>isolate</th>\n",
       "      <th>...</th>\n",
       "      <th>seq_rel_date</th>\n",
       "      <th>asm_name</th>\n",
       "      <th>submitter</th>\n",
       "      <th>gbrs_paired_asm</th>\n",
       "      <th>paired_asm_comp</th>\n",
       "      <th>ftp_path</th>\n",
       "      <th>excluded_from_refseq</th>\n",
       "      <th>relation_to_type_material</th>\n",
       "      <th>in_gtdb</th>\n",
       "      <th>gg</th>\n",
       "    </tr>\n",
       "  </thead>\n",
       "  <tbody>\n",
       "    <tr>\n",
       "      <th>3126</th>\n",
       "      <td>GCF_000825685.1</td>\n",
       "      <td>PRJNA224116</td>\n",
       "      <td>SAMEA2771239</td>\n",
       "      <td>CCXM00000000.1</td>\n",
       "      <td>representative genome</td>\n",
       "      <td>467174</td>\n",
       "      <td>467174</td>\n",
       "      <td>Rickettsia hoogstraalii</td>\n",
       "      <td>strain=Croatica</td>\n",
       "      <td>NaN</td>\n",
       "      <td>...</td>\n",
       "      <td>2014/09/23</td>\n",
       "      <td>Rickettsia hoogstraalii Croatica</td>\n",
       "      <td>URMITE</td>\n",
       "      <td>GCA_000825685.1</td>\n",
       "      <td>identical</td>\n",
       "      <td>ftp://ftp.ncbi.nlm.nih.gov/genomes/all/GCF/000...</td>\n",
       "      <td>NaN</td>\n",
       "      <td>assembly from type material</td>\n",
       "      <td>True</td>\n",
       "      <td>k__Bacteria;p__Proteobacteria;c__Alphaproteoba...</td>\n",
       "    </tr>\n",
       "    <tr>\n",
       "      <th>6181</th>\n",
       "      <td>GCF_003990185.1</td>\n",
       "      <td>PRJNA224116</td>\n",
       "      <td>SAMN10644075</td>\n",
       "      <td>RZHF00000000.1</td>\n",
       "      <td>representative genome</td>\n",
       "      <td>1258546</td>\n",
       "      <td>1258546</td>\n",
       "      <td>Halomonas nanhaiensis</td>\n",
       "      <td>strain=JCM 18142</td>\n",
       "      <td>NaN</td>\n",
       "      <td>...</td>\n",
       "      <td>2019/01/01</td>\n",
       "      <td>ASM399018v1</td>\n",
       "      <td>Zhejiang Sci-Tech University</td>\n",
       "      <td>GCA_003990185.1</td>\n",
       "      <td>identical</td>\n",
       "      <td>ftp://ftp.ncbi.nlm.nih.gov/genomes/all/GCF/003...</td>\n",
       "      <td>NaN</td>\n",
       "      <td>assembly from type material</td>\n",
       "      <td>True</td>\n",
       "      <td>k__Bacteria;p__Proteobacteria;c__Gammaproteoba...</td>\n",
       "    </tr>\n",
       "    <tr>\n",
       "      <th>9052</th>\n",
       "      <td>GCF_003449035.1</td>\n",
       "      <td>PRJNA224116</td>\n",
       "      <td>SAMN09759696</td>\n",
       "      <td>QRGB00000000.1</td>\n",
       "      <td>representative genome</td>\n",
       "      <td>2292082</td>\n",
       "      <td>2292082</td>\n",
       "      <td>Pedobacter indicus</td>\n",
       "      <td>strain=SM1810</td>\n",
       "      <td>NaN</td>\n",
       "      <td>...</td>\n",
       "      <td>2018/09/04</td>\n",
       "      <td>ASM344903v1</td>\n",
       "      <td>Shandong University Qingdao Campus</td>\n",
       "      <td>GCA_003449035.1</td>\n",
       "      <td>identical</td>\n",
       "      <td>ftp://ftp.ncbi.nlm.nih.gov/genomes/all/GCF/003...</td>\n",
       "      <td>NaN</td>\n",
       "      <td>assembly from type material</td>\n",
       "      <td>True</td>\n",
       "      <td>k__Bacteria;p__Bacteroidetes;c__Sphingobacteri...</td>\n",
       "    </tr>\n",
       "    <tr>\n",
       "      <th>1342</th>\n",
       "      <td>GCF_014648075.1</td>\n",
       "      <td>PRJNA224116</td>\n",
       "      <td>SAMD00245318</td>\n",
       "      <td>BMQK00000000.1</td>\n",
       "      <td>representative genome</td>\n",
       "      <td>83378</td>\n",
       "      <td>83378</td>\n",
       "      <td>Streptomyces ruber</td>\n",
       "      <td>strain=JCM 3131</td>\n",
       "      <td>NaN</td>\n",
       "      <td>...</td>\n",
       "      <td>2020/09/12</td>\n",
       "      <td>ASM1464807v1</td>\n",
       "      <td>WFCC-MIRCEN World Data Centre for Microorganis...</td>\n",
       "      <td>GCA_014648075.1</td>\n",
       "      <td>identical</td>\n",
       "      <td>ftp://ftp.ncbi.nlm.nih.gov/genomes/all/GCF/014...</td>\n",
       "      <td>NaN</td>\n",
       "      <td>assembly from type material</td>\n",
       "      <td>False</td>\n",
       "      <td>k__Bacteria;p__Actinobacteria;c__Actinomycetia...</td>\n",
       "    </tr>\n",
       "    <tr>\n",
       "      <th>950</th>\n",
       "      <td>GCF_002995745.1</td>\n",
       "      <td>PRJNA224116</td>\n",
       "      <td>SAMN08638840</td>\n",
       "      <td>PVXQ00000000.1</td>\n",
       "      <td>representative genome</td>\n",
       "      <td>52704</td>\n",
       "      <td>52704</td>\n",
       "      <td>Clostridium vincentii</td>\n",
       "      <td>strain=DSM 10228</td>\n",
       "      <td>NaN</td>\n",
       "      <td>...</td>\n",
       "      <td>2018/03/14</td>\n",
       "      <td>ASM299574v1</td>\n",
       "      <td>Goettingen Genomics Laboratory</td>\n",
       "      <td>GCA_002995745.1</td>\n",
       "      <td>identical</td>\n",
       "      <td>ftp://ftp.ncbi.nlm.nih.gov/genomes/all/GCF/002...</td>\n",
       "      <td>NaN</td>\n",
       "      <td>assembly from type material</td>\n",
       "      <td>True</td>\n",
       "      <td>k__Bacteria;p__Firmicutes;c__Clostridia;o__Eub...</td>\n",
       "    </tr>\n",
       "  </tbody>\n",
       "</table>\n",
       "<p>5 rows × 24 columns</p>\n",
       "</div>"
      ],
      "text/plain": [
       "     # assembly_accession   bioproject     biosample      wgs_master  \\\n",
       "3126      GCF_000825685.1  PRJNA224116  SAMEA2771239  CCXM00000000.1   \n",
       "6181      GCF_003990185.1  PRJNA224116  SAMN10644075  RZHF00000000.1   \n",
       "9052      GCF_003449035.1  PRJNA224116  SAMN09759696  QRGB00000000.1   \n",
       "1342      GCF_014648075.1  PRJNA224116  SAMD00245318  BMQK00000000.1   \n",
       "950       GCF_002995745.1  PRJNA224116  SAMN08638840  PVXQ00000000.1   \n",
       "\n",
       "            refseq_category    taxid species_taxid            organism_name  \\\n",
       "3126  representative genome   467174        467174  Rickettsia hoogstraalii   \n",
       "6181  representative genome  1258546       1258546    Halomonas nanhaiensis   \n",
       "9052  representative genome  2292082       2292082       Pedobacter indicus   \n",
       "1342  representative genome    83378         83378       Streptomyces ruber   \n",
       "950   representative genome    52704         52704    Clostridium vincentii   \n",
       "\n",
       "     infraspecific_name isolate  ... seq_rel_date  \\\n",
       "3126    strain=Croatica     NaN  ...   2014/09/23   \n",
       "6181   strain=JCM 18142     NaN  ...   2019/01/01   \n",
       "9052      strain=SM1810     NaN  ...   2018/09/04   \n",
       "1342    strain=JCM 3131     NaN  ...   2020/09/12   \n",
       "950    strain=DSM 10228     NaN  ...   2018/03/14   \n",
       "\n",
       "                              asm_name  \\\n",
       "3126  Rickettsia hoogstraalii Croatica   \n",
       "6181                       ASM399018v1   \n",
       "9052                       ASM344903v1   \n",
       "1342                      ASM1464807v1   \n",
       "950                        ASM299574v1   \n",
       "\n",
       "                                              submitter  gbrs_paired_asm  \\\n",
       "3126                                             URMITE  GCA_000825685.1   \n",
       "6181                       Zhejiang Sci-Tech University  GCA_003990185.1   \n",
       "9052                 Shandong University Qingdao Campus  GCA_003449035.1   \n",
       "1342  WFCC-MIRCEN World Data Centre for Microorganis...  GCA_014648075.1   \n",
       "950                      Goettingen Genomics Laboratory  GCA_002995745.1   \n",
       "\n",
       "     paired_asm_comp                                           ftp_path  \\\n",
       "3126       identical  ftp://ftp.ncbi.nlm.nih.gov/genomes/all/GCF/000...   \n",
       "6181       identical  ftp://ftp.ncbi.nlm.nih.gov/genomes/all/GCF/003...   \n",
       "9052       identical  ftp://ftp.ncbi.nlm.nih.gov/genomes/all/GCF/003...   \n",
       "1342       identical  ftp://ftp.ncbi.nlm.nih.gov/genomes/all/GCF/014...   \n",
       "950        identical  ftp://ftp.ncbi.nlm.nih.gov/genomes/all/GCF/002...   \n",
       "\n",
       "     excluded_from_refseq    relation_to_type_material in_gtdb  \\\n",
       "3126                  NaN  assembly from type material    True   \n",
       "6181                  NaN  assembly from type material    True   \n",
       "9052                  NaN  assembly from type material    True   \n",
       "1342                  NaN  assembly from type material   False   \n",
       "950                   NaN  assembly from type material    True   \n",
       "\n",
       "                                                     gg  \n",
       "3126  k__Bacteria;p__Proteobacteria;c__Alphaproteoba...  \n",
       "6181  k__Bacteria;p__Proteobacteria;c__Gammaproteoba...  \n",
       "9052  k__Bacteria;p__Bacteroidetes;c__Sphingobacteri...  \n",
       "1342  k__Bacteria;p__Actinobacteria;c__Actinomycetia...  \n",
       "950   k__Bacteria;p__Firmicutes;c__Clostridia;o__Eub...  \n",
       "\n",
       "[5 rows x 24 columns]"
      ]
     },
     "execution_count": 121,
     "metadata": {},
     "output_type": "execute_result"
    }
   ],
   "source": [
    "df_filtered.head()"
   ]
  },
  {
   "cell_type": "code",
   "execution_count": 120,
   "metadata": {},
   "outputs": [
    {
     "data": {
      "text/plain": [
       "3126    PRJNA224116\n",
       "6181    PRJNA224116\n",
       "9052    PRJNA224116\n",
       "1342    PRJNA224116\n",
       "950     PRJNA224116\n",
       "           ...     \n",
       "1164    PRJNA224116\n",
       "6861    PRJNA224116\n",
       "2611    PRJNA224116\n",
       "8785    PRJNA224116\n",
       "5483    PRJNA224116\n",
       "Name: bioproject, Length: 500, dtype: object"
      ]
     },
     "execution_count": 120,
     "metadata": {},
     "output_type": "execute_result"
    }
   ],
   "source": [
    "df_filtered.bioproject"
   ]
  },
  {
   "cell_type": "code",
   "execution_count": 148,
   "metadata": {},
   "outputs": [],
   "source": [
    "df_filtered['biosample'].to_csv(\"../data/biosamples.500.txt\", index=False, header=False)\n",
    "df_assembly_gg['wgs_master'].to_csv(\"../data/wgs_master.all.txt\", index=False, header=False)"
   ]
  },
  {
   "cell_type": "code",
   "execution_count": null,
   "metadata": {},
   "outputs": [],
   "source": [
    "df_assembly_gg.sample(500).to_csv(\"../data/assemblies_wgs.csv\")"
   ]
  },
  {
   "cell_type": "code",
   "execution_count": 105,
   "metadata": {},
   "outputs": [
    {
     "name": "stderr",
     "output_type": "stream",
     "text": [
      "/home/bhillmann/.conda/envs/type_1/lib/python3.8/site-packages/ipykernel/ipkernel.py:287: DeprecationWarning: `should_run_async` will not call `transform_cell` automatically in the future. Please pass the result to `transformed_cell` argument and any exception that happen during thetransform in `preprocessing_exc_tuple` in IPython 7.17 and above.\n",
      "  and should_run_async(code)\n"
     ]
    }
   ],
   "source": [
    "from glob import glob"
   ]
  },
  {
   "cell_type": "code",
   "execution_count": 106,
   "metadata": {},
   "outputs": [
    {
     "name": "stderr",
     "output_type": "stream",
     "text": [
      "/home/bhillmann/.conda/envs/type_1/lib/python3.8/site-packages/ipykernel/ipkernel.py:287: DeprecationWarning: `should_run_async` will not call `transform_cell` automatically in the future. Please pass the result to `transformed_cell` argument and any exception that happen during thetransform in `preprocessing_exc_tuple` in IPython 7.17 and above.\n",
      "  and should_run_async(code)\n"
     ]
    }
   ],
   "source": [
    "wgs_master_files = glob(\"/mnt/btrfs/data/type_1/assemblies/*.gbff\")"
   ]
  },
  {
   "cell_type": "code",
   "execution_count": 130,
   "metadata": {},
   "outputs": [],
   "source": [
    "import json"
   ]
  },
  {
   "cell_type": "code",
   "execution_count": 145,
   "metadata": {},
   "outputs": [
    {
     "data": {
      "text/plain": [
       "6"
      ]
     },
     "execution_count": 145,
     "metadata": {},
     "output_type": "execute_result"
    }
   ],
   "source": [
    "len(results)"
   ]
  },
  {
   "cell_type": "code",
   "execution_count": 143,
   "metadata": {},
   "outputs": [
    {
     "name": "stdout",
     "output_type": "stream",
     "text": [
      "^C\n"
     ]
    },
    {
     "name": "stderr",
     "output_type": "stream",
     "text": [
      "/home/bhillmann/.conda/envs/type_1/lib/python3.8/site-packages/IPython/utils/_process_common.py:130: ResourceWarning: unclosed file <_io.BufferedReader name=54>\n",
      "  out = process_handler(cmd, lambda p: p.communicate()[0], subprocess.STDOUT)\n",
      "ResourceWarning: Enable tracemalloc to get the object allocation traceback\n"
     ]
    },
    {
     "name": "stdout",
     "output_type": "stream",
     "text": [
      "^C\n"
     ]
    },
    {
     "name": "stderr",
     "output_type": "stream",
     "text": [
      "/home/bhillmann/.conda/envs/type_1/lib/python3.8/subprocess.py:946: ResourceWarning: subprocess 3213079 is still running\n",
      "  _warn(\"subprocess %s is still running\" % self.pid,\n",
      "ResourceWarning: Enable tracemalloc to get the object allocation traceback\n"
     ]
    },
    {
     "name": "stdout",
     "output_type": "stream",
     "text": [
      "^C\n"
     ]
    },
    {
     "name": "stderr",
     "output_type": "stream",
     "text": [
      "/home/bhillmann/.conda/envs/type_1/lib/python3.8/site-packages/IPython/utils/_process_common.py:130: ResourceWarning: unclosed file <_io.BufferedReader name=55>\n",
      "  out = process_handler(cmd, lambda p: p.communicate()[0], subprocess.STDOUT)\n",
      "ResourceWarning: Enable tracemalloc to get the object allocation traceback\n"
     ]
    },
    {
     "name": "stdout",
     "output_type": "stream",
     "text": [
      "^C\n"
     ]
    },
    {
     "name": "stderr",
     "output_type": "stream",
     "text": [
      "/home/bhillmann/.conda/envs/type_1/lib/python3.8/subprocess.py:744: ResourceWarning: unclosed file <_io.BufferedReader name=54>\n",
      "  _cleanup()\n",
      "ResourceWarning: Enable tracemalloc to get the object allocation traceback\n"
     ]
    },
    {
     "name": "stdout",
     "output_type": "stream",
     "text": [
      "^C\n",
      "^C\n",
      "^C\n",
      "^C\n",
      "^C\n",
      "^C\n",
      "^C\n",
      "^C\n"
     ]
    },
    {
     "ename": "KeyboardInterrupt",
     "evalue": "",
     "output_type": "error",
     "traceback": [
      "\u001b[0;31m---------------------------------------------------------------------------\u001b[0m",
      "\u001b[0;31mKeyboardInterrupt\u001b[0m                         Traceback (most recent call last)",
      "\u001b[0;32m<ipython-input-143-bdf5754152b4>\u001b[0m in \u001b[0;36m<module>\u001b[0;34m\u001b[0m\n\u001b[1;32m      1\u001b[0m \u001b[0mresults\u001b[0m \u001b[0;34m=\u001b[0m \u001b[0;34m[\u001b[0m\u001b[0;34m]\u001b[0m\u001b[0;34m\u001b[0m\u001b[0;34m\u001b[0m\u001b[0m\n\u001b[1;32m      2\u001b[0m \u001b[0;32mfor\u001b[0m \u001b[0mwgs_master\u001b[0m \u001b[0;32min\u001b[0m \u001b[0mdf_assembly_gg\u001b[0m\u001b[0;34m[\u001b[0m\u001b[0;34m\"wgs_master\"\u001b[0m\u001b[0;34m]\u001b[0m\u001b[0;34m.\u001b[0m\u001b[0mvalues\u001b[0m\u001b[0;34m:\u001b[0m\u001b[0;34m\u001b[0m\u001b[0;34m\u001b[0m\u001b[0m\n\u001b[0;32m----> 3\u001b[0;31m     \u001b[0mf\u001b[0m \u001b[0;34m=\u001b[0m \u001b[0mget_ipython\u001b[0m\u001b[0;34m(\u001b[0m\u001b[0;34m)\u001b[0m\u001b[0;34m.\u001b[0m\u001b[0mgetoutput\u001b[0m\u001b[0;34m(\u001b[0m\u001b[0;34m'bio fetch {wgs_master}'\u001b[0m\u001b[0;34m)\u001b[0m\u001b[0;34m\u001b[0m\u001b[0;34m\u001b[0m\u001b[0m\n\u001b[0m\u001b[1;32m      4\u001b[0m     \u001b[0mresult\u001b[0m \u001b[0;34m=\u001b[0m \u001b[0mget_ipython\u001b[0m\u001b[0;34m(\u001b[0m\u001b[0;34m)\u001b[0m\u001b[0;34m.\u001b[0m\u001b[0mgetoutput\u001b[0m\u001b[0;34m(\u001b[0m\u001b[0;34m'bio runinfo {wgs_master} --sample'\u001b[0m\u001b[0;34m)\u001b[0m\u001b[0;34m\u001b[0m\u001b[0;34m\u001b[0m\u001b[0m\n\u001b[1;32m      5\u001b[0m     \u001b[0;32mif\u001b[0m \u001b[0mresult\u001b[0m\u001b[0;34m:\u001b[0m\u001b[0;34m\u001b[0m\u001b[0;34m\u001b[0m\u001b[0m\n",
      "\u001b[0;32m~/.conda/envs/type_1/lib/python3.8/site-packages/IPython/core/interactiveshell.py\u001b[0m in \u001b[0;36mgetoutput\u001b[0;34m(self, cmd, split, depth)\u001b[0m\n\u001b[1;32m   2567\u001b[0m             \u001b[0;31m# this is *far* from a rigorous test\u001b[0m\u001b[0;34m\u001b[0m\u001b[0;34m\u001b[0m\u001b[0;34m\u001b[0m\u001b[0m\n\u001b[1;32m   2568\u001b[0m             \u001b[0;32mraise\u001b[0m \u001b[0mOSError\u001b[0m\u001b[0;34m(\u001b[0m\u001b[0;34m\"Background processes not supported.\"\u001b[0m\u001b[0;34m)\u001b[0m\u001b[0;34m\u001b[0m\u001b[0;34m\u001b[0m\u001b[0m\n\u001b[0;32m-> 2569\u001b[0;31m         \u001b[0mout\u001b[0m \u001b[0;34m=\u001b[0m \u001b[0mgetoutput\u001b[0m\u001b[0;34m(\u001b[0m\u001b[0mself\u001b[0m\u001b[0;34m.\u001b[0m\u001b[0mvar_expand\u001b[0m\u001b[0;34m(\u001b[0m\u001b[0mcmd\u001b[0m\u001b[0;34m,\u001b[0m \u001b[0mdepth\u001b[0m\u001b[0;34m=\u001b[0m\u001b[0mdepth\u001b[0m\u001b[0;34m+\u001b[0m\u001b[0;36m1\u001b[0m\u001b[0;34m)\u001b[0m\u001b[0;34m)\u001b[0m\u001b[0;34m\u001b[0m\u001b[0;34m\u001b[0m\u001b[0m\n\u001b[0m\u001b[1;32m   2570\u001b[0m         \u001b[0;32mif\u001b[0m \u001b[0msplit\u001b[0m\u001b[0;34m:\u001b[0m\u001b[0;34m\u001b[0m\u001b[0;34m\u001b[0m\u001b[0m\n\u001b[1;32m   2571\u001b[0m             \u001b[0mout\u001b[0m \u001b[0;34m=\u001b[0m \u001b[0mSList\u001b[0m\u001b[0;34m(\u001b[0m\u001b[0mout\u001b[0m\u001b[0;34m.\u001b[0m\u001b[0msplitlines\u001b[0m\u001b[0;34m(\u001b[0m\u001b[0;34m)\u001b[0m\u001b[0;34m)\u001b[0m\u001b[0;34m\u001b[0m\u001b[0;34m\u001b[0m\u001b[0m\n",
      "\u001b[0;32m~/.conda/envs/type_1/lib/python3.8/site-packages/IPython/utils/_process_common.py\u001b[0m in \u001b[0;36mgetoutput\u001b[0;34m(cmd)\u001b[0m\n\u001b[1;32m    128\u001b[0m     correct order as would be seen if running the command in a terminal).\n\u001b[1;32m    129\u001b[0m     \"\"\"\n\u001b[0;32m--> 130\u001b[0;31m     \u001b[0mout\u001b[0m \u001b[0;34m=\u001b[0m \u001b[0mprocess_handler\u001b[0m\u001b[0;34m(\u001b[0m\u001b[0mcmd\u001b[0m\u001b[0;34m,\u001b[0m \u001b[0;32mlambda\u001b[0m \u001b[0mp\u001b[0m\u001b[0;34m:\u001b[0m \u001b[0mp\u001b[0m\u001b[0;34m.\u001b[0m\u001b[0mcommunicate\u001b[0m\u001b[0;34m(\u001b[0m\u001b[0;34m)\u001b[0m\u001b[0;34m[\u001b[0m\u001b[0;36m0\u001b[0m\u001b[0;34m]\u001b[0m\u001b[0;34m,\u001b[0m \u001b[0msubprocess\u001b[0m\u001b[0;34m.\u001b[0m\u001b[0mSTDOUT\u001b[0m\u001b[0;34m)\u001b[0m\u001b[0;34m\u001b[0m\u001b[0;34m\u001b[0m\u001b[0m\n\u001b[0m\u001b[1;32m    131\u001b[0m     \u001b[0;32mif\u001b[0m \u001b[0mout\u001b[0m \u001b[0;32mis\u001b[0m \u001b[0;32mNone\u001b[0m\u001b[0;34m:\u001b[0m\u001b[0;34m\u001b[0m\u001b[0;34m\u001b[0m\u001b[0m\n\u001b[1;32m    132\u001b[0m         \u001b[0;32mreturn\u001b[0m \u001b[0;34m''\u001b[0m\u001b[0;34m\u001b[0m\u001b[0;34m\u001b[0m\u001b[0m\n",
      "\u001b[0;32m~/.conda/envs/type_1/lib/python3.8/site-packages/IPython/utils/_process_common.py\u001b[0m in \u001b[0;36mprocess_handler\u001b[0;34m(cmd, callback, stderr)\u001b[0m\n\u001b[1;32m     77\u001b[0m     \u001b[0;32mif\u001b[0m \u001b[0mshell\u001b[0m \u001b[0;32mand\u001b[0m \u001b[0mos\u001b[0m\u001b[0;34m.\u001b[0m\u001b[0mname\u001b[0m \u001b[0;34m==\u001b[0m \u001b[0;34m'posix'\u001b[0m \u001b[0;32mand\u001b[0m \u001b[0;34m'SHELL'\u001b[0m \u001b[0;32min\u001b[0m \u001b[0mos\u001b[0m\u001b[0;34m.\u001b[0m\u001b[0menviron\u001b[0m\u001b[0;34m:\u001b[0m\u001b[0;34m\u001b[0m\u001b[0;34m\u001b[0m\u001b[0m\n\u001b[1;32m     78\u001b[0m         \u001b[0mexecutable\u001b[0m \u001b[0;34m=\u001b[0m \u001b[0mos\u001b[0m\u001b[0;34m.\u001b[0m\u001b[0menviron\u001b[0m\u001b[0;34m[\u001b[0m\u001b[0;34m'SHELL'\u001b[0m\u001b[0;34m]\u001b[0m\u001b[0;34m\u001b[0m\u001b[0;34m\u001b[0m\u001b[0m\n\u001b[0;32m---> 79\u001b[0;31m     p = subprocess.Popen(cmd, shell=shell,\n\u001b[0m\u001b[1;32m     80\u001b[0m                          \u001b[0mexecutable\u001b[0m\u001b[0;34m=\u001b[0m\u001b[0mexecutable\u001b[0m\u001b[0;34m,\u001b[0m\u001b[0;34m\u001b[0m\u001b[0;34m\u001b[0m\u001b[0m\n\u001b[1;32m     81\u001b[0m                          \u001b[0mstdin\u001b[0m\u001b[0;34m=\u001b[0m\u001b[0msubprocess\u001b[0m\u001b[0;34m.\u001b[0m\u001b[0mPIPE\u001b[0m\u001b[0;34m,\u001b[0m\u001b[0;34m\u001b[0m\u001b[0;34m\u001b[0m\u001b[0m\n",
      "\u001b[0;32m~/.conda/envs/type_1/lib/python3.8/subprocess.py\u001b[0m in \u001b[0;36m__init__\u001b[0;34m(self, args, bufsize, executable, stdin, stdout, stderr, preexec_fn, close_fds, shell, cwd, env, universal_newlines, startupinfo, creationflags, restore_signals, start_new_session, pass_fds, encoding, errors, text)\u001b[0m\n\u001b[1;32m    856\u001b[0m                             encoding=encoding, errors=errors)\n\u001b[1;32m    857\u001b[0m \u001b[0;34m\u001b[0m\u001b[0m\n\u001b[0;32m--> 858\u001b[0;31m             self._execute_child(args, executable, preexec_fn, close_fds,\n\u001b[0m\u001b[1;32m    859\u001b[0m                                 \u001b[0mpass_fds\u001b[0m\u001b[0;34m,\u001b[0m \u001b[0mcwd\u001b[0m\u001b[0;34m,\u001b[0m \u001b[0menv\u001b[0m\u001b[0;34m,\u001b[0m\u001b[0;34m\u001b[0m\u001b[0;34m\u001b[0m\u001b[0m\n\u001b[1;32m    860\u001b[0m                                 \u001b[0mstartupinfo\u001b[0m\u001b[0;34m,\u001b[0m \u001b[0mcreationflags\u001b[0m\u001b[0;34m,\u001b[0m \u001b[0mshell\u001b[0m\u001b[0;34m,\u001b[0m\u001b[0;34m\u001b[0m\u001b[0;34m\u001b[0m\u001b[0m\n",
      "\u001b[0;32m~/.conda/envs/type_1/lib/python3.8/subprocess.py\u001b[0m in \u001b[0;36m_execute_child\u001b[0;34m(self, args, executable, preexec_fn, close_fds, pass_fds, cwd, env, startupinfo, creationflags, shell, p2cread, p2cwrite, c2pread, c2pwrite, errread, errwrite, restore_signals, start_new_session)\u001b[0m\n\u001b[1;32m   1660\u001b[0m                 \u001b[0merrpipe_data\u001b[0m \u001b[0;34m=\u001b[0m \u001b[0mbytearray\u001b[0m\u001b[0;34m(\u001b[0m\u001b[0;34m)\u001b[0m\u001b[0;34m\u001b[0m\u001b[0;34m\u001b[0m\u001b[0m\n\u001b[1;32m   1661\u001b[0m                 \u001b[0;32mwhile\u001b[0m \u001b[0;32mTrue\u001b[0m\u001b[0;34m:\u001b[0m\u001b[0;34m\u001b[0m\u001b[0;34m\u001b[0m\u001b[0m\n\u001b[0;32m-> 1662\u001b[0;31m                     \u001b[0mpart\u001b[0m \u001b[0;34m=\u001b[0m \u001b[0mos\u001b[0m\u001b[0;34m.\u001b[0m\u001b[0mread\u001b[0m\u001b[0;34m(\u001b[0m\u001b[0merrpipe_read\u001b[0m\u001b[0;34m,\u001b[0m \u001b[0;36m50000\u001b[0m\u001b[0;34m)\u001b[0m\u001b[0;34m\u001b[0m\u001b[0;34m\u001b[0m\u001b[0m\n\u001b[0m\u001b[1;32m   1663\u001b[0m                     \u001b[0merrpipe_data\u001b[0m \u001b[0;34m+=\u001b[0m \u001b[0mpart\u001b[0m\u001b[0;34m\u001b[0m\u001b[0;34m\u001b[0m\u001b[0m\n\u001b[1;32m   1664\u001b[0m                     \u001b[0;32mif\u001b[0m \u001b[0;32mnot\u001b[0m \u001b[0mpart\u001b[0m \u001b[0;32mor\u001b[0m \u001b[0mlen\u001b[0m\u001b[0;34m(\u001b[0m\u001b[0merrpipe_data\u001b[0m\u001b[0;34m)\u001b[0m \u001b[0;34m>\u001b[0m \u001b[0;36m50000\u001b[0m\u001b[0;34m:\u001b[0m\u001b[0;34m\u001b[0m\u001b[0;34m\u001b[0m\u001b[0m\n",
      "\u001b[0;31mKeyboardInterrupt\u001b[0m: "
     ]
    }
   ],
   "source": [
    "results = []\n",
    "for wgs_master in df_assembly_gg[\"wgs_master\"].values:\n",
    "    f = !bio fetch {wgs_master}\n",
    "    result = !bio runinfo {wgs_master} --sample\n",
    "    if result:\n",
    "        result = ''.join(result)\n",
    "#         d_result['wgs_master'] = wgs_master\n",
    "        results.append(result)"
   ]
  },
  {
   "cell_type": "code",
   "execution_count": 123,
   "metadata": {},
   "outputs": [
    {
     "ename": "KeyboardInterrupt",
     "evalue": "",
     "output_type": "error",
     "traceback": [
      "\u001b[0;31m---------------------------------------------------------------------------\u001b[0m",
      "\u001b[0;31mKeyboardInterrupt\u001b[0m                         Traceback (most recent call last)",
      "\u001b[0;32m<ipython-input-123-4a2d7a5e8da8>\u001b[0m in \u001b[0;36m<module>\u001b[0;34m\u001b[0m\n\u001b[1;32m      1\u001b[0m \u001b[0;32mfor\u001b[0m \u001b[0mfile\u001b[0m \u001b[0;32min\u001b[0m \u001b[0mwgs_master_files\u001b[0m\u001b[0;34m:\u001b[0m\u001b[0;34m\u001b[0m\u001b[0;34m\u001b[0m\u001b[0m\n\u001b[0;32m----> 2\u001b[0;31m     \u001b[0mresults\u001b[0m \u001b[0;34m=\u001b[0m \u001b[0mget_ipython\u001b[0m\u001b[0;34m(\u001b[0m\u001b[0;34m)\u001b[0m\u001b[0;34m.\u001b[0m\u001b[0mgetoutput\u001b[0m\u001b[0;34m(\u001b[0m\u001b[0;34m'rg \"SRR\" {file}'\u001b[0m\u001b[0;34m)\u001b[0m\u001b[0;34m\u001b[0m\u001b[0;34m\u001b[0m\u001b[0m\n\u001b[0m\u001b[1;32m      3\u001b[0m     \u001b[0;32mif\u001b[0m \u001b[0mlen\u001b[0m\u001b[0;34m(\u001b[0m\u001b[0mresults\u001b[0m\u001b[0;34m)\u001b[0m \u001b[0;34m>\u001b[0m \u001b[0;36m0\u001b[0m\u001b[0;34m:\u001b[0m\u001b[0;34m\u001b[0m\u001b[0;34m\u001b[0m\u001b[0m\n\u001b[1;32m      4\u001b[0m         \u001b[0;32mbreak\u001b[0m\u001b[0;34m\u001b[0m\u001b[0;34m\u001b[0m\u001b[0m\n",
      "\u001b[0;32m~/.conda/envs/type_1/lib/python3.8/site-packages/IPython/core/interactiveshell.py\u001b[0m in \u001b[0;36mgetoutput\u001b[0;34m(self, cmd, split, depth)\u001b[0m\n\u001b[1;32m   2567\u001b[0m             \u001b[0;31m# this is *far* from a rigorous test\u001b[0m\u001b[0;34m\u001b[0m\u001b[0;34m\u001b[0m\u001b[0;34m\u001b[0m\u001b[0m\n\u001b[1;32m   2568\u001b[0m             \u001b[0;32mraise\u001b[0m \u001b[0mOSError\u001b[0m\u001b[0;34m(\u001b[0m\u001b[0;34m\"Background processes not supported.\"\u001b[0m\u001b[0;34m)\u001b[0m\u001b[0;34m\u001b[0m\u001b[0;34m\u001b[0m\u001b[0m\n\u001b[0;32m-> 2569\u001b[0;31m         \u001b[0mout\u001b[0m \u001b[0;34m=\u001b[0m \u001b[0mgetoutput\u001b[0m\u001b[0;34m(\u001b[0m\u001b[0mself\u001b[0m\u001b[0;34m.\u001b[0m\u001b[0mvar_expand\u001b[0m\u001b[0;34m(\u001b[0m\u001b[0mcmd\u001b[0m\u001b[0;34m,\u001b[0m \u001b[0mdepth\u001b[0m\u001b[0;34m=\u001b[0m\u001b[0mdepth\u001b[0m\u001b[0;34m+\u001b[0m\u001b[0;36m1\u001b[0m\u001b[0;34m)\u001b[0m\u001b[0;34m)\u001b[0m\u001b[0;34m\u001b[0m\u001b[0;34m\u001b[0m\u001b[0m\n\u001b[0m\u001b[1;32m   2570\u001b[0m         \u001b[0;32mif\u001b[0m \u001b[0msplit\u001b[0m\u001b[0;34m:\u001b[0m\u001b[0;34m\u001b[0m\u001b[0;34m\u001b[0m\u001b[0m\n\u001b[1;32m   2571\u001b[0m             \u001b[0mout\u001b[0m \u001b[0;34m=\u001b[0m \u001b[0mSList\u001b[0m\u001b[0;34m(\u001b[0m\u001b[0mout\u001b[0m\u001b[0;34m.\u001b[0m\u001b[0msplitlines\u001b[0m\u001b[0;34m(\u001b[0m\u001b[0;34m)\u001b[0m\u001b[0;34m)\u001b[0m\u001b[0;34m\u001b[0m\u001b[0;34m\u001b[0m\u001b[0m\n",
      "\u001b[0;32m~/.conda/envs/type_1/lib/python3.8/site-packages/IPython/utils/_process_common.py\u001b[0m in \u001b[0;36mgetoutput\u001b[0;34m(cmd)\u001b[0m\n\u001b[1;32m    128\u001b[0m     correct order as would be seen if running the command in a terminal).\n\u001b[1;32m    129\u001b[0m     \"\"\"\n\u001b[0;32m--> 130\u001b[0;31m     \u001b[0mout\u001b[0m \u001b[0;34m=\u001b[0m \u001b[0mprocess_handler\u001b[0m\u001b[0;34m(\u001b[0m\u001b[0mcmd\u001b[0m\u001b[0;34m,\u001b[0m \u001b[0;32mlambda\u001b[0m \u001b[0mp\u001b[0m\u001b[0;34m:\u001b[0m \u001b[0mp\u001b[0m\u001b[0;34m.\u001b[0m\u001b[0mcommunicate\u001b[0m\u001b[0;34m(\u001b[0m\u001b[0;34m)\u001b[0m\u001b[0;34m[\u001b[0m\u001b[0;36m0\u001b[0m\u001b[0;34m]\u001b[0m\u001b[0;34m,\u001b[0m \u001b[0msubprocess\u001b[0m\u001b[0;34m.\u001b[0m\u001b[0mSTDOUT\u001b[0m\u001b[0;34m)\u001b[0m\u001b[0;34m\u001b[0m\u001b[0;34m\u001b[0m\u001b[0m\n\u001b[0m\u001b[1;32m    131\u001b[0m     \u001b[0;32mif\u001b[0m \u001b[0mout\u001b[0m \u001b[0;32mis\u001b[0m \u001b[0;32mNone\u001b[0m\u001b[0;34m:\u001b[0m\u001b[0;34m\u001b[0m\u001b[0;34m\u001b[0m\u001b[0m\n\u001b[1;32m    132\u001b[0m         \u001b[0;32mreturn\u001b[0m \u001b[0;34m''\u001b[0m\u001b[0;34m\u001b[0m\u001b[0;34m\u001b[0m\u001b[0m\n",
      "\u001b[0;32m~/.conda/envs/type_1/lib/python3.8/site-packages/IPython/utils/_process_common.py\u001b[0m in \u001b[0;36mprocess_handler\u001b[0;34m(cmd, callback, stderr)\u001b[0m\n\u001b[1;32m     77\u001b[0m     \u001b[0;32mif\u001b[0m \u001b[0mshell\u001b[0m \u001b[0;32mand\u001b[0m \u001b[0mos\u001b[0m\u001b[0;34m.\u001b[0m\u001b[0mname\u001b[0m \u001b[0;34m==\u001b[0m \u001b[0;34m'posix'\u001b[0m \u001b[0;32mand\u001b[0m \u001b[0;34m'SHELL'\u001b[0m \u001b[0;32min\u001b[0m \u001b[0mos\u001b[0m\u001b[0;34m.\u001b[0m\u001b[0menviron\u001b[0m\u001b[0;34m:\u001b[0m\u001b[0;34m\u001b[0m\u001b[0;34m\u001b[0m\u001b[0m\n\u001b[1;32m     78\u001b[0m         \u001b[0mexecutable\u001b[0m \u001b[0;34m=\u001b[0m \u001b[0mos\u001b[0m\u001b[0;34m.\u001b[0m\u001b[0menviron\u001b[0m\u001b[0;34m[\u001b[0m\u001b[0;34m'SHELL'\u001b[0m\u001b[0;34m]\u001b[0m\u001b[0;34m\u001b[0m\u001b[0;34m\u001b[0m\u001b[0m\n\u001b[0;32m---> 79\u001b[0;31m     p = subprocess.Popen(cmd, shell=shell,\n\u001b[0m\u001b[1;32m     80\u001b[0m                          \u001b[0mexecutable\u001b[0m\u001b[0;34m=\u001b[0m\u001b[0mexecutable\u001b[0m\u001b[0;34m,\u001b[0m\u001b[0;34m\u001b[0m\u001b[0;34m\u001b[0m\u001b[0m\n\u001b[1;32m     81\u001b[0m                          \u001b[0mstdin\u001b[0m\u001b[0;34m=\u001b[0m\u001b[0msubprocess\u001b[0m\u001b[0;34m.\u001b[0m\u001b[0mPIPE\u001b[0m\u001b[0;34m,\u001b[0m\u001b[0;34m\u001b[0m\u001b[0;34m\u001b[0m\u001b[0m\n",
      "\u001b[0;32m~/.conda/envs/type_1/lib/python3.8/subprocess.py\u001b[0m in \u001b[0;36m__init__\u001b[0;34m(self, args, bufsize, executable, stdin, stdout, stderr, preexec_fn, close_fds, shell, cwd, env, universal_newlines, startupinfo, creationflags, restore_signals, start_new_session, pass_fds, encoding, errors, text)\u001b[0m\n\u001b[1;32m    856\u001b[0m                             encoding=encoding, errors=errors)\n\u001b[1;32m    857\u001b[0m \u001b[0;34m\u001b[0m\u001b[0m\n\u001b[0;32m--> 858\u001b[0;31m             self._execute_child(args, executable, preexec_fn, close_fds,\n\u001b[0m\u001b[1;32m    859\u001b[0m                                 \u001b[0mpass_fds\u001b[0m\u001b[0;34m,\u001b[0m \u001b[0mcwd\u001b[0m\u001b[0;34m,\u001b[0m \u001b[0menv\u001b[0m\u001b[0;34m,\u001b[0m\u001b[0;34m\u001b[0m\u001b[0;34m\u001b[0m\u001b[0m\n\u001b[1;32m    860\u001b[0m                                 \u001b[0mstartupinfo\u001b[0m\u001b[0;34m,\u001b[0m \u001b[0mcreationflags\u001b[0m\u001b[0;34m,\u001b[0m \u001b[0mshell\u001b[0m\u001b[0;34m,\u001b[0m\u001b[0;34m\u001b[0m\u001b[0;34m\u001b[0m\u001b[0m\n",
      "\u001b[0;32m~/.conda/envs/type_1/lib/python3.8/subprocess.py\u001b[0m in \u001b[0;36m_execute_child\u001b[0;34m(self, args, executable, preexec_fn, close_fds, pass_fds, cwd, env, startupinfo, creationflags, shell, p2cread, p2cwrite, c2pread, c2pwrite, errread, errwrite, restore_signals, start_new_session)\u001b[0m\n\u001b[1;32m   1660\u001b[0m                 \u001b[0merrpipe_data\u001b[0m \u001b[0;34m=\u001b[0m \u001b[0mbytearray\u001b[0m\u001b[0;34m(\u001b[0m\u001b[0;34m)\u001b[0m\u001b[0;34m\u001b[0m\u001b[0;34m\u001b[0m\u001b[0m\n\u001b[1;32m   1661\u001b[0m                 \u001b[0;32mwhile\u001b[0m \u001b[0;32mTrue\u001b[0m\u001b[0;34m:\u001b[0m\u001b[0;34m\u001b[0m\u001b[0;34m\u001b[0m\u001b[0m\n\u001b[0;32m-> 1662\u001b[0;31m                     \u001b[0mpart\u001b[0m \u001b[0;34m=\u001b[0m \u001b[0mos\u001b[0m\u001b[0;34m.\u001b[0m\u001b[0mread\u001b[0m\u001b[0;34m(\u001b[0m\u001b[0merrpipe_read\u001b[0m\u001b[0;34m,\u001b[0m \u001b[0;36m50000\u001b[0m\u001b[0;34m)\u001b[0m\u001b[0;34m\u001b[0m\u001b[0;34m\u001b[0m\u001b[0m\n\u001b[0m\u001b[1;32m   1663\u001b[0m                     \u001b[0merrpipe_data\u001b[0m \u001b[0;34m+=\u001b[0m \u001b[0mpart\u001b[0m\u001b[0;34m\u001b[0m\u001b[0;34m\u001b[0m\u001b[0m\n\u001b[1;32m   1664\u001b[0m                     \u001b[0;32mif\u001b[0m \u001b[0;32mnot\u001b[0m \u001b[0mpart\u001b[0m \u001b[0;32mor\u001b[0m \u001b[0mlen\u001b[0m\u001b[0;34m(\u001b[0m\u001b[0merrpipe_data\u001b[0m\u001b[0;34m)\u001b[0m \u001b[0;34m>\u001b[0m \u001b[0;36m50000\u001b[0m\u001b[0;34m:\u001b[0m\u001b[0;34m\u001b[0m\u001b[0;34m\u001b[0m\u001b[0m\n",
      "\u001b[0;31mKeyboardInterrupt\u001b[0m: "
     ]
    }
   ],
   "source": [
    "for file in wgs_master_files:\n",
    "    results = !rg \"SRR\" {file}\n",
    "    if len(results) > 0:\n",
    "        break"
   ]
  },
  {
   "cell_type": "code",
   "execution_count": 125,
   "metadata": {},
   "outputs": [
    {
     "name": "stdout",
     "output_type": "stream",
     "text": [
      "LOCUS       NZ_AGJL01000000      1818783 bp    DNA     linear   BCT 07-JUN-2020\n",
      "DEFINITION  Methanotorris formicicus Mc-S-70, whole genome shotgun sequencing\n",
      "            project.\n",
      "ACCESSION   NZ_AGJL00000000\n",
      "VERSION     NZ_AGJL00000000.1  GI:374637162\n",
      "DBLINK      BioProject: PRJNA224116\n",
      "            BioSample: SAMN02261372\n",
      "            Assembly: GCF_000243455.1\n",
      "KEYWORDS    WGS; GSC:MIGS:2.1; HIGH_QUALITY_DRAFT; RefSeq.\n",
      "SOURCE      Methanotorris formicicus Mc-S-70\n",
      "  ORGANISM  Methanotorris formicicus Mc-S-70\n",
      "            Archaea; Euryarchaeota; Methanomada group; Methanococci;\n",
      "            Methanococcales; Methanocaldococcaceae; Methanotorris.\n",
      "REFERENCE   1  (bases 1 to 1818783)\n",
      "  AUTHORS   Lucas,S., Han,J., Lapidus,A., Cheng,J.-F., Goodwin,L., Pitluck,S.,\n",
      "            Peters,L., Land,M.L., Hauser,L., Sieprawska-Lupa,M., Takai,K.,\n",
      "            Miyazaki,J., Whitman,W. and Woyke,T.J.\n",
      "  CONSRTM   US DOE Joint Genome Institute (JGI-PGF)\n",
      "  TITLE     The draft genome of Methanotorris formicicus Mc-S-70\n",
      "  JOURNAL   Unpublished\n",
      "REFERENCE   2  (bases 1 to 1818783)\n",
      "  AUTHORS   Lucas,S., Han,J., Lapidus,A., Cheng,J.-F., Goodwin,L., Pitluck,S.,\n",
      "            Peters,L., Land,M.L., Hauser,L., Sieprawska-Lupa,M., Takai,K.,\n",
      "            Miyazaki,J., Whitman,W. and Woyke,T.J.\n",
      "  CONSRTM   US DOE Joint Genome Institute (JGI-PGF)\n",
      "  TITLE     Direct Submission\n",
      "  JOURNAL   Submitted (22-SEP-2011) US DOE Joint Genome Institute, 2800\n",
      "            Mitchell Drive B310, Walnut Creek, CA 94598-1698, USA\n",
      "COMMENT     REFSEQ INFORMATION: The reference sequence is identical to\n",
      "            AGJL00000000.1.\n",
      "            The Methanotorris formicicus Mc-S-70 whole genome shotgun (WGS)\n",
      "            project has the project accession NZ_AGJL00000000.  This version of\n",
      "            the project (01) has the accession number NZ_AGJL01000000, and\n",
      "            consists of sequences AGJL01000001-AGJL01000121.\n",
      "            URL -- http://www.jgi.doe.gov\n",
      "            JGI Project ID: 4086482\n",
      "            Source DNA and Organism available from William B. Whitman\n",
      "            (whitman@uga.edu)\n",
      "            Contacts: William B. Whitman (whitman@uga.edu)\n",
      "                      Tanja Woyke (microbe@cuba.jgi-psf.org)\n",
      "            Whole genome sequencing and draft assembly at JGI-PGF\n",
      "            Annotation by JGI-ORNL\n",
      "            The JGI and collaborators endorse the principles for the\n",
      "            distribution and use of large scale sequencing data adopted by the\n",
      "            larger genome sequencing community and urge users of this data to\n",
      "            follow them. It is our intention to publish the work of this\n",
      "            project in a timely fashion and we welcome collaborative\n",
      "            interaction on the project and analysis.\n",
      "            (http://www.genome.gov/page.cfm?pageID=10506376).\n",
      "            \n",
      "            ##MIGS-Data-START##\n",
      "            investigation_type  :: bacteria_archaea\n",
      "            project_name        :: Methanotorris formicicus Mc-S-70\n",
      "            collection_date     :: March, 2002\n",
      "            lat_lon             :: Missing\n",
      "            depth               :: Missing\n",
      "            alt_elev            :: Missing\n",
      "            country             :: Indian Ocean\n",
      "            environment         :: Hydrothermal vent\n",
      "            num_replicons       :: 121\n",
      "            ref_biomaterial     :: JCM 11930T, ATCC BAA-687, DSM 16983\n",
      "            biotic_relationship :: Free living\n",
      "            trophic_level       :: Autotroph, Lithotroph\n",
      "            rel_to_oxygen       :: Anaerobe\n",
      "            isol_growth_condt   :: Missing\n",
      "            sequencing_meth     :: WGS\n",
      "            assembly            :: Newbler v. 2.3 (pre-release)\n",
      "            finishing_strategy  :: Finished\n",
      "            GOLD Stamp ID       :: Gi02046\n",
      "            Type Strain         :: No\n",
      "            Greengenes ID       :: 135915\n",
      "            Gene Calling Method :: Prodigal 1.4, GenePRIMP\n",
      "            Isolation Site      :: Black smoker chimney at the Kairei field in\n",
      "                                   the Central Indian Ridge, Indian Ocean\n",
      "            Isolation Comments  :: isolated by Takai\n",
      "            Cell Shape          :: Coccus-shaped\n",
      "            Temperature Range   :: Thermophile\n",
      "            Temperature Optimum :: 55 - 83C\n",
      "            pH                  :: 6 - 8.5\n",
      "            Gram Staining       :: Gram-\n",
      "            Diseases            :: None\n",
      "            ##MIGS-Data-END##\n",
      "            \n",
      "            ##Genome-Assembly-Data-START##\n",
      "            Finishing Goal           :: Finished\n",
      "            Current Finishing Status :: High-Quality Draft\n",
      "            Assembly Method          :: Newbler v. 2.3\n",
      "            Genome Coverage          :: 30x\n",
      "            Sequencing Technology    :: 454; Illumina\n",
      "            ##Genome-Assembly-Data-END##\n",
      "            \n",
      "            ##Genome-Annotation-Data-START##\n",
      "            Annotation Provider               :: NCBI RefSeq\n",
      "            Annotation Date                   :: 06/07/2020 11:47:38\n",
      "            Annotation Pipeline               :: NCBI Prokaryotic Genome\n",
      "                                                 Annotation Pipeline (PGAP)\n",
      "            Annotation Method                 :: Best-placed reference protein\n",
      "                                                 set; GeneMarkS-2+\n",
      "            Annotation Software revision      :: 4.11\n",
      "            Features Annotated                :: Gene; CDS; rRNA; tRNA; ncRNA;\n",
      "                                                 repeat_region\n",
      "            Genes (total)                     :: 2,012\n",
      "            CDSs (total)                      :: 1,969\n",
      "            Genes (coding)                    :: 1,791\n",
      "            CDSs (with protein)               :: 1,791\n",
      "            Genes (RNA)                       :: 43\n",
      "            rRNAs                             :: 2, 2, 2  ( 5S, 16S, 23S )\n",
      "            complete rRNAs                    :: 2, 1, 1  ( 5S, 16S, 23S )\n",
      "            partial rRNAs                     :: 1, 1  ( 16S, 23S )\n",
      "            tRNAs                             :: 35\n",
      "            ncRNAs                            :: 2\n",
      "            Pseudo Genes (total)              :: 178\n",
      "            CDSs (without protein)            :: 178\n",
      "            Pseudo Genes (ambiguous residues) :: 0 of 178\n",
      "            Pseudo Genes (frameshifted)       :: 112 of 178\n",
      "            Pseudo Genes (incomplete)         :: 87 of 178\n",
      "            Pseudo Genes (internal stop)      :: 11 of 178\n",
      "            Pseudo Genes (multiple problems)  :: 28 of 178\n",
      "            CRISPR Arrays                     :: 4\n",
      "            ##Genome-Annotation-Data-END##\n",
      "FEATURES             Location/Qualifiers\n",
      "     source          1..1818783\n",
      "                     /organism=\"Methanotorris formicicus Mc-S-70\"\n",
      "                     /mol_type=\"genomic DNA\"\n",
      "                     /strain=\"Mc-S-70\"\n",
      "                     /isolation_source=\"Black smoker chimney at the Kairei\n",
      "                     field in the Central Indian Ridge\"\n",
      "                     /type_material=\"type strain of Methanotorris formicicus\"\n",
      "                     /db_xref=\"taxon:647171\"\n",
      "                     /country=\"Indian Ocean\"\n",
      "WGS         AGJL01000001-AGJL01000121\n",
      "WGS_SCAFLD  NZ_AGJL01000001-NZ_AGJL01000121\n",
      "//\n"
     ]
    }
   ],
   "source": [
    "!cat {file}"
   ]
  },
  {
   "cell_type": "code",
   "execution_count": 68,
   "metadata": {},
   "outputs": [
    {
     "data": {
      "text/plain": [
       "(3548, 26)"
      ]
     },
     "execution_count": 68,
     "metadata": {},
     "output_type": "execute_result"
    }
   ],
   "source": [
    "df_assembly_gg.shape"
   ]
  }
 ],
 "metadata": {
  "kernelspec": {
   "display_name": "Python [conda env:.conda-type_1]",
   "language": "python",
   "name": "conda-env-.conda-type_1-py"
  },
  "language_info": {
   "codemirror_mode": {
    "name": "ipython",
    "version": 3
   },
   "file_extension": ".py",
   "mimetype": "text/x-python",
   "name": "python",
   "nbconvert_exporter": "python",
   "pygments_lexer": "ipython3",
   "version": "3.8.8"
  }
 },
 "nbformat": 4,
 "nbformat_minor": 4
}
