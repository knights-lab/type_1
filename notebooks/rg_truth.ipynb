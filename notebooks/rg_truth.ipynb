{
 "cells": [
  {
   "cell_type": "code",
   "execution_count": 50,
   "metadata": {},
   "outputs": [
    {
     "name": "stdout",
     "output_type": "stream",
     "text": [
      "1\n",
      "1\n",
      "1\n",
      "1\n",
      "1\n",
      "1\n",
      "1\n",
      "1\n",
      "1\n",
      "1\n",
      "1\n",
      "1\n",
      "1\n",
      "0\n",
      "Eubacterium_siraeum\n",
      "1\n",
      "1\n",
      "1\n",
      "1\n",
      "1\n",
      "1\n"
     ]
    }
   ],
   "source": [
    "inf_mock_truth = \"/mnt/btrfs/data/type_1/mock_communities/gis_20/ERR3200809/truth.txt\"\n",
    "inf_tax_file = \"/mnt/btrfs/data/rep202/ab/taxmap.tsv\"\n",
    "outf_mock_truth = \"/mnt/btrfs/data/type_1/mock_communities/gis_20/ERR3200809/truth_rg.txt\"\n",
    "\n",
    "with open(outf_mock_truth, \"w\") as outf:\n",
    "    with open(inf_mock_truth) as inf:\n",
    "        for query in inf:\n",
    "            query = query.rstrip()\n",
    "            results = !rg {query} {inf_tax_file}\n",
    "            print(len(results))\n",
    "            if len(results) == 0:\n",
    "                print(query)\n",
    "            for result in results:\n",
    "                outf.write(result + \"\\n\")"
   ]
  },
  {
   "cell_type": "code",
   "execution_count": 53,
   "metadata": {},
   "outputs": [
    {
     "name": "stdout",
     "output_type": "stream",
     "text": [
      "\u001b[0m\u001b[32m6030\u001b[0m:GCF_900107815.1\tk__Bacteria;p__Firmicutes;c__Clostridia;o__Clostridiales;f__Eubacteriaceae;g__\u001b[0m\u001b[1m\u001b[31mEubacterium\u001b[0m;s__\u001b[0m\u001b[1m\u001b[31mEubacterium\u001b[0m_aggregans\n",
      "\u001b[0m\u001b[32m6031\u001b[0m:GCF_900107125.1\tk__Bacteria;p__Firmicutes;c__Clostridia;o__Clostridiales;f__Eubacteriaceae;g__\u001b[0m\u001b[1m\u001b[31mEubacterium\u001b[0m;s__\u001b[0m\u001b[1m\u001b[31mEubacterium\u001b[0m_barkeri\n",
      "\u001b[0m\u001b[32m6032\u001b[0m:GCF_900115415.1\tk__Bacteria;p__Firmicutes;c__Clostridia;o__Clostridiales;f__Eubacteriaceae;g__\u001b[0m\u001b[1m\u001b[31mEubacterium\u001b[0m;s__\u001b[0m\u001b[1m\u001b[31mEubacterium\u001b[0m_callanderi\n",
      "\u001b[0m\u001b[32m6033\u001b[0m:GCF_900167205.1\tk__Bacteria;p__Firmicutes;c__Clostridia;o__Clostridiales;f__Eubacteriaceae;g__\u001b[0m\u001b[1m\u001b[31mEubacterium\u001b[0m;s__\u001b[0m\u001b[1m\u001b[31mEubacterium\u001b[0m_coprostanoligenes\n",
      "\u001b[0m\u001b[32m6034\u001b[0m:GCF_900683775.1\tk__Bacteria;p__Firmicutes;c__Clostridia;o__Clostridiales;f__Eubacteriaceae;g__\u001b[0m\u001b[1m\u001b[31mEubacterium\u001b[0m;s__\u001b[0m\u001b[1m\u001b[31mEubacterium\u001b[0m_limosum\n",
      "\u001b[0m\u001b[32m6035\u001b[0m:GCF_002441855.2\tk__Bacteria;p__Firmicutes;c__Clostridia;o__Clostridiales;f__Eubacteriaceae;g__\u001b[0m\u001b[1m\u001b[31mEubacterium\u001b[0m;s__\u001b[0m\u001b[1m\u001b[31mEubacterium\u001b[0m_maltosivorans\n",
      "\u001b[0m\u001b[32m6036\u001b[0m:GCF_900104415.1\tk__Bacteria;p__Firmicutes;c__Clostridia;o__Clostridiales;f__Eubacteriaceae;g__\u001b[0m\u001b[1m\u001b[31mEubacterium\u001b[0m;s__\u001b[0m\u001b[1m\u001b[31mEubacterium\u001b[0m_oxidoreducens\n",
      "\u001b[0m\u001b[32m6037\u001b[0m:GCF_000364225.1\tk__Bacteria;p__Firmicutes;c__Clostridia;o__Clostridiales;f__Eubacteriaceae;g__\u001b[0m\u001b[1m\u001b[31mEubacterium\u001b[0m;s__\u001b[0m\u001b[1m\u001b[31mEubacterium\u001b[0m_plexicaudatum\n",
      "\u001b[0m\u001b[32m6038\u001b[0m:GCF_902762915.1\tk__Bacteria;p__Firmicutes;c__Clostridia;o__Clostridiales;f__Eubacteriaceae;g__\u001b[0m\u001b[1m\u001b[31mEubacterium\u001b[0m;s__\u001b[0m\u001b[1m\u001b[31mEubacterium\u001b[0m_pyruvativorans\n",
      "\u001b[0m\u001b[32m6039\u001b[0m:GCF_001406295.1\tk__Bacteria;p__Firmicutes;c__Clostridia;o__Clostridiales;f__Eubacteriaceae;g__\u001b[0m\u001b[1m\u001b[31mEubacterium\u001b[0m;s__\u001b[0m\u001b[1m\u001b[31mEubacterium\u001b[0m_ramulus\n",
      "\u001b[0m\u001b[32m6040\u001b[0m:GCF_902785545.1\tk__Bacteria;p__Firmicutes;c__Clostridia;o__Clostridiales;f__Eubacteriaceae;g__\u001b[0m\u001b[1m\u001b[31mEubacterium\u001b[0m;s__\u001b[0m\u001b[1m\u001b[31mEubacterium\u001b[0m_ruminantium\n",
      "\u001b[0m\u001b[32m6041\u001b[0m:GCF_900167115.1\tk__Bacteria;p__Firmicutes;c__Clostridia;o__Clostridiales;f__Eubacteriaceae;g__\u001b[0m\u001b[1m\u001b[31mEubacterium\u001b[0m;s__\u001b[0m\u001b[1m\u001b[31mEubacterium\u001b[0m_uniforme\n",
      "\u001b[0m\u001b[32m6042\u001b[0m:GCF_003470845.1\tk__Bacteria;p__Firmicutes;c__Clostridia;o__Clostridiales;f__Eubacteriaceae;g__\u001b[0m\u001b[1m\u001b[31mEubacterium\u001b[0m;s__\u001b[0m\u001b[1m\u001b[31mEubacterium\u001b[0m_ventriosum\n",
      "\u001b[0m\u001b[32m6043\u001b[0m:GCF_000518685.1\tk__Bacteria;p__Firmicutes;c__Clostridia;o__Clostridiales;f__Eubacteriaceae;g__\u001b[0m\u001b[1m\u001b[31mEubacterium\u001b[0m;s__\u001b[0m\u001b[1m\u001b[31mEubacterium\u001b[0m_xylanophilum\n",
      "\u001b[0m\u001b[32m6044\u001b[0m:GCF_000183525.2\tk__Bacteria;p__Firmicutes;c__Clostridia;o__Clostridiales;f__Eubacteriaceae;g__\u001b[0m\u001b[1m\u001b[31mEubacterium\u001b[0m;s__[\u001b[0m\u001b[1m\u001b[31mEubacterium\u001b[0m]_cellulosolvens\n"
     ]
    }
   ],
   "source": [
    "!rg \"Eubacterium\" {inf_tax_file}"
   ]
  },
  {
   "cell_type": "code",
   "execution_count": 25,
   "metadata": {},
   "outputs": [
    {
     "name": "stdout",
     "output_type": "stream",
     "text": [
      "\u001b[0m\u001b[32m2788\u001b[0m:GCF_000312445.1\tk__Bacteria;p__Bacteroidetes;c__Bacteroidia;o__Bacteroidales;f__;g__\u001b[0m\u001b[1m\u001b[31mPhocaeicola\u001b[0m;s__\u001b[0m\u001b[1m\u001b[31mPhocaeicola\u001b[0m_abscessus\n",
      "\u001b[0m\u001b[32m2789\u001b[0m:GCF_000374585.1\tk__Bacteria;p__Bacteroidetes;c__Bacteroidia;o__Bacteroidales;f__;g__\u001b[0m\u001b[1m\u001b[31mPhocaeicola\u001b[0m;s__\u001b[0m\u001b[1m\u001b[31mPhocaeicola\u001b[0m_barnesiae\n",
      "\u001b[0m\u001b[32m2790\u001b[0m:GCF_003458565.1\tk__Bacteria;p__Bacteroidetes;c__Bacteroidia;o__Bacteroidales;f__;g__\u001b[0m\u001b[1m\u001b[31mPhocaeicola\u001b[0m;s__\u001b[0m\u001b[1m\u001b[31mPhocaeicola\u001b[0m_coprocola\n",
      "\u001b[0m\u001b[32m2791\u001b[0m:GCF_003467215.1\tk__Bacteria;p__Bacteroidetes;c__Bacteroidia;o__Bacteroidales;f__;g__\u001b[0m\u001b[1m\u001b[31mPhocaeicola\u001b[0m;s__\u001b[0m\u001b[1m\u001b[31mPhocaeicola\u001b[0m_coprophilus\n",
      "\u001b[0m\u001b[32m2792\u001b[0m:GCF_902387545.1\tk__Bacteria;p__Bacteroidetes;c__Bacteroidia;o__Bacteroidales;f__;g__\u001b[0m\u001b[1m\u001b[31mPhocaeicola\u001b[0m;s__\u001b[0m\u001b[1m\u001b[31mPhocaeicola\u001b[0m_dorei\n",
      "\u001b[0m\u001b[32m2793\u001b[0m:GCF_000382445.1\tk__Bacteria;p__Bacteroidetes;c__Bacteroidia;o__Bacteroidales;f__;g__\u001b[0m\u001b[1m\u001b[31mPhocaeicola\u001b[0m;s__\u001b[0m\u001b[1m\u001b[31mPhocaeicola\u001b[0m_massiliensis\n",
      "\u001b[0m\u001b[32m2794\u001b[0m:GCF_000613805.1\tk__Bacteria;p__Bacteroidetes;c__Bacteroidia;o__Bacteroidales;f__;g__\u001b[0m\u001b[1m\u001b[31mPhocaeicola\u001b[0m;s__\u001b[0m\u001b[1m\u001b[31mPhocaeicola\u001b[0m_paurosaccharolyticus\n",
      "\u001b[0m\u001b[32m2795\u001b[0m:GCF_003472665.1\tk__Bacteria;p__Bacteroidetes;c__Bacteroidia;o__Bacteroidales;f__;g__\u001b[0m\u001b[1m\u001b[31mPhocaeicola\u001b[0m;s__\u001b[0m\u001b[1m\u001b[31mPhocaeicola\u001b[0m_plebeius\n",
      "\u001b[0m\u001b[32m2796\u001b[0m:GCF_000190575.1\tk__Bacteria;p__Bacteroidetes;c__Bacteroidia;o__Bacteroidales;f__;g__\u001b[0m\u001b[1m\u001b[31mPhocaeicola\u001b[0m;s__\u001b[0m\u001b[1m\u001b[31mPhocaeicola\u001b[0m_salanitronis\n",
      "\u001b[0m\u001b[32m2797\u001b[0m:GCF_000403195.1\tk__Bacteria;p__Bacteroidetes;c__Bacteroidia;o__Bacteroidales;f__;g__\u001b[0m\u001b[1m\u001b[31mPhocaeicola\u001b[0m;s__\u001b[0m\u001b[1m\u001b[31mPhocaeicola\u001b[0m_sartorii\n",
      "\u001b[0m\u001b[32m2798\u001b[0m:GCF_000012825.1\tk__Bacteria;p__Bacteroidetes;c__Bacteroidia;o__Bacteroidales;f__;g__\u001b[0m\u001b[1m\u001b[31mPhocaeicola\u001b[0m;s__\u001b[0m\u001b[1m\u001b[31mPhocaeicola\u001b[0m_vulgatus\n"
     ]
    }
   ],
   "source": [
    "!rg \"Phocaeicola\" {inf_tax_file}"
   ]
  },
  {
   "cell_type": "code",
   "execution_count": 8,
   "metadata": {},
   "outputs": [
    {
     "name": "stdout",
     "output_type": "stream",
     "text": [
      "\u001b[0m\u001b[32m9087\u001b[0m:NZ_CP009257.1\tk__Bacteria;p__Proteobacteria;c__Gammaproteobacteria;o__Pseudomonadales;f__Moraxellaceae;g__Acinetobacter;s__\u001b[0m\u001b[1m\u001b[31mAcinetobacter_baumannii\u001b[0m;t__\n"
     ]
    }
   ],
   "source": [
    "!rg {query} {inf_tax_file}"
   ]
  }
 ],
 "metadata": {
  "kernelspec": {
   "display_name": "Python [conda env:.conda-type_1]",
   "language": "python",
   "name": "conda-env-.conda-type_1-py"
  },
  "language_info": {
   "codemirror_mode": {
    "name": "ipython",
    "version": 3
   },
   "file_extension": ".py",
   "mimetype": "text/x-python",
   "name": "python",
   "nbconvert_exporter": "python",
   "pygments_lexer": "ipython3",
   "version": "3.8.2"
  }
 },
 "nbformat": 4,
 "nbformat_minor": 4
}
