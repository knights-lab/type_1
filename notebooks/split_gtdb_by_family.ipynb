{
 "cells": [
  {
   "cell_type": "code",
   "execution_count": 1,
   "metadata": {},
   "outputs": [
    {
     "name": "stdout",
     "output_type": "stream",
     "text": [
      "numpy   1.18.4\n",
      "seaborn 0.10.1\n",
      "pandas  1.0.4\n",
      "\n"
     ]
    }
   ],
   "source": [
    "import numpy as np\n",
    "import matplotlib.pyplot as plt\n",
    "import pandas as pd\n",
    "import warnings\n",
    "import seaborn as sns\n",
    "\n",
    "from scipy.stats import pearsonr\n",
    "\n",
    "sns.set_style(\"darkgrid\")\n",
    "np.random.seed(930525)\n",
    "pd.set_option('display.max_columns', 20)\n",
    "pd.set_option('display.max_rows', 200)\n",
    "\n",
    "warnings.simplefilter('once')\n",
    "\n",
    "%matplotlib inline\n",
    "%load_ext watermark\n",
    "%watermark --iversions"
   ]
  },
  {
   "cell_type": "code",
   "execution_count": 46,
   "metadata": {},
   "outputs": [],
   "source": [
    "inf_tax = \"/mnt/btrfs/data/gtdb_95/gtdb_genomes_reps_r95/r95.gtdb.tax\"\n",
    "inf_fna = \"/mnt/btrfs/data/gtdb_95/gtdb_genomes_reps_r95/gtdb.fna\"\n",
    "\n",
    "outdir = \"/mnt/btrfs/data/gtdb_95/gtdb_split_by_family\""
   ]
  },
  {
   "cell_type": "code",
   "execution_count": 47,
   "metadata": {},
   "outputs": [],
   "source": [
    "from collections import defaultdict"
   ]
  },
  {
   "cell_type": "code",
   "execution_count": 48,
   "metadata": {},
   "outputs": [],
   "source": [
    "from itertools import zip_longest\n",
    "\n",
    "def grouper(iterable, n, fillvalue=None):\n",
    "    \"Collect data into fixed-length chunks or blocks\"\n",
    "    # grouper('ABCDEFG', 3, 'x') --> ABC DEF Gxx\"\n",
    "    args = [iter(iterable)] * n\n",
    "    return zip_longest(*args, fillvalue=fillvalue)"
   ]
  },
  {
   "cell_type": "code",
   "execution_count": 60,
   "metadata": {},
   "outputs": [],
   "source": [
    "d_tax = dict()\n",
    "\n",
    "with open(inf_tax) as inf:\n",
    "    for line in inf:\n",
    "        row = line.strip().split()\n",
    "        d_tax[row[0]] = row[1]"
   ]
  },
  {
   "cell_type": "code",
   "execution_count": 61,
   "metadata": {},
   "outputs": [
    {
     "data": {
      "text/plain": [
       "'GCA_000007185.1'"
      ]
     },
     "execution_count": 61,
     "metadata": {},
     "output_type": "execute_result"
    }
   ],
   "source": [
    "acc_id"
   ]
  },
  {
   "cell_type": "code",
   "execution_count": 67,
   "metadata": {},
   "outputs": [],
   "source": [
    "import os\n",
    "import shutil"
   ]
  },
  {
   "cell_type": "code",
   "execution_count": 74,
   "metadata": {},
   "outputs": [],
   "source": [
    "shutil.rmtree(outdir, ignore_errors=True)\n",
    "\n",
    "with open(inf_fna) as inf:\n",
    "    for seq in grouper(inf, 2):\n",
    "        acc_id = seq[0].strip()[1:]\n",
    "        str_tax = d_tax[acc_id]\n",
    "        str_family = \";\".join(str_tax.split(\";\")[:5])\n",
    "        dir_family = os.path.join(outdir, str_family)\n",
    "        os.makedirs(dir_family, exist_ok=True)\n",
    "        fna_family = os.path.join(dir_family, \"combined_seqs.fna\")\n",
    "        map_family = os.path.join(dir_family, \"taxmap.txt\")\n",
    "        with open(map_family, \"a+\") as outf_map, open(fna_family, \"a+\") as outf_fna:\n",
    "            outf_map.write(acc_id + \"\\t\" + str_tax + \"\\n\")\n",
    "            outf_fna.write(seq[0])\n",
    "            outf_fna.write(seq[1])"
   ]
  }
 ],
 "metadata": {
  "kernelspec": {
   "display_name": "Python [conda env:.conda-type_1]",
   "language": "python",
   "name": "conda-env-.conda-type_1-py"
  },
  "language_info": {
   "codemirror_mode": {
    "name": "ipython",
    "version": 3
   },
   "file_extension": ".py",
   "mimetype": "text/x-python",
   "name": "python",
   "nbconvert_exporter": "python",
   "pygments_lexer": "ipython3",
   "version": "3.8.2"
  }
 },
 "nbformat": 4,
 "nbformat_minor": 4
}
