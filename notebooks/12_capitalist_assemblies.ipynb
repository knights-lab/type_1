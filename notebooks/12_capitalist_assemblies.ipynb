{
 "cells": [
  {
   "cell_type": "code",
   "execution_count": 2,
   "metadata": {},
   "outputs": [],
   "source": [
    "import os\n",
    "os.environ[\"OPENBLAS_NUM_THREADS\"] = \"1\"\n",
    "os.environ[\"OMP_NUM_THREADS\"] = \"1\"\n",
    "os.environ[\"MKL_NUM_THREADS\"] = \"1\""
   ]
  },
  {
   "cell_type": "code",
   "execution_count": 3,
   "metadata": {},
   "outputs": [
    {
     "name": "stdout",
     "output_type": "stream",
     "text": [
      "seaborn 0.10.1\n",
      "pandas  1.1.4\n",
      "numpy   1.19.5\n",
      "\n"
     ]
    }
   ],
   "source": [
    "import numpy as np\n",
    "import matplotlib.pyplot as plt\n",
    "import pandas as pd\n",
    "import warnings\n",
    "import seaborn as sns\n",
    "\n",
    "from scipy.stats import pearsonr\n",
    "\n",
    "sns.set_style(\"darkgrid\")\n",
    "np.random.seed(930525)\n",
    "pd.set_option('display.max_columns', 20)\n",
    "pd.set_option('display.max_rows', 200)\n",
    "\n",
    "warnings.simplefilter('once')\n",
    "\n",
    "%matplotlib inline\n",
    "%load_ext watermark\n",
    "%watermark --iversions"
   ]
  },
  {
   "cell_type": "code",
   "execution_count": 11,
   "metadata": {},
   "outputs": [
    {
     "name": "stderr",
     "output_type": "stream",
     "text": [
      "/home/bhillmann/.conda/envs/type_1/lib/python3.8/site-packages/ipykernel/ipkernel.py:287: DeprecationWarning: `should_run_async` will not call `transform_cell` automatically in the future. Please pass the result to `transformed_cell` argument and any exception that happen during thetransform in `preprocessing_exc_tuple` in IPython 7.17 and above.\n",
      "  and should_run_async(code)\n"
     ]
    }
   ],
   "source": [
    "from glob import glob\n",
    "import os\n",
    "\n",
    "features_dir = \"/mnt/btrfs/data/type_1/assembly_wgs/features_no_tree_cap/\"\n",
    "\n",
    "files = glob(features_dir + \"*.csv\")\n",
    "\n",
    "dfs = []\n",
    "for file in files:\n",
    "    name = os.path.basename(file).split('.')[0]\n",
    "    df = pd.read_csv(file, index_col = 0)\n",
    "    df['dataset'] = name\n",
    "    dfs.append(df)\n",
    "df_type_1_features = pd.concat(dfs)"
   ]
  },
  {
   "cell_type": "code",
   "execution_count": 12,
   "metadata": {},
   "outputs": [
    {
     "data": {
      "text/html": [
       "<div>\n",
       "<style scoped>\n",
       "    .dataframe tbody tr th:only-of-type {\n",
       "        vertical-align: middle;\n",
       "    }\n",
       "\n",
       "    .dataframe tbody tr th {\n",
       "        vertical-align: top;\n",
       "    }\n",
       "\n",
       "    .dataframe thead th {\n",
       "        text-align: right;\n",
       "    }\n",
       "</style>\n",
       "<table border=\"1\" class=\"dataframe\">\n",
       "  <thead>\n",
       "    <tr style=\"text-align: right;\">\n",
       "      <th></th>\n",
       "      <th>assembly_accession</th>\n",
       "      <th>hits</th>\n",
       "      <th>percent_coverage</th>\n",
       "      <th>mean_coverage</th>\n",
       "      <th>sd_coverage</th>\n",
       "      <th>percent_padded_coverage</th>\n",
       "      <th>mean_padded_coverage</th>\n",
       "      <th>sd_padded_coverage</th>\n",
       "      <th>percent_binned_coverage</th>\n",
       "      <th>mean_binned_coverage</th>\n",
       "      <th>...</th>\n",
       "      <th>tree_gf_ssu_silva_blast_bitscore</th>\n",
       "      <th>tree_gf_ssu_silva_blast_evalue</th>\n",
       "      <th>tree_gf_ssu_silva_blast_perc_identity</th>\n",
       "      <th>tree_gf_ssu_silva_blast_subject_id</th>\n",
       "      <th>tree_gf_ssu_silva_taxonomy</th>\n",
       "      <th>tree_gf_total_gap_length</th>\n",
       "      <th>tree_gf_trna_aa_count</th>\n",
       "      <th>tree_gf_trna_count</th>\n",
       "      <th>tree_gf_trna_selenocysteine_count</th>\n",
       "      <th>dataset</th>\n",
       "    </tr>\n",
       "  </thead>\n",
       "  <tbody>\n",
       "    <tr>\n",
       "      <th>0</th>\n",
       "      <td>GCF_003114855.1</td>\n",
       "      <td>412384</td>\n",
       "      <td>0.999609</td>\n",
       "      <td>30.935455</td>\n",
       "      <td>8.703978</td>\n",
       "      <td>0.999008</td>\n",
       "      <td>20.870225</td>\n",
       "      <td>6.508909</td>\n",
       "      <td>0.9999</td>\n",
       "      <td>41.2384</td>\n",
       "      <td>...</td>\n",
       "      <td>2739</td>\n",
       "      <td>0</td>\n",
       "      <td>99.799</td>\n",
       "      <td>AB476706.1.1492</td>\n",
       "      <td>Bacteria;Spirochaetes;Leptospirae;Leptospirale...</td>\n",
       "      <td>41</td>\n",
       "      <td>20</td>\n",
       "      <td>35</td>\n",
       "      <td>0</td>\n",
       "      <td>DRR124443</td>\n",
       "    </tr>\n",
       "    <tr>\n",
       "      <th>1</th>\n",
       "      <td>GCF_901456055.1</td>\n",
       "      <td>2355</td>\n",
       "      <td>0.000977</td>\n",
       "      <td>0.122706</td>\n",
       "      <td>4.207252</td>\n",
       "      <td>0.000942</td>\n",
       "      <td>0.081812</td>\n",
       "      <td>2.841415</td>\n",
       "      <td>0.0010</td>\n",
       "      <td>0.2355</td>\n",
       "      <td>...</td>\n",
       "      <td>2839</td>\n",
       "      <td>0</td>\n",
       "      <td>100</td>\n",
       "      <td>FLYB01000015.15.1556</td>\n",
       "      <td>Bacteria;Proteobacteria;Gammaproteobacteria;En...</td>\n",
       "      <td>0</td>\n",
       "      <td>18</td>\n",
       "      <td>70</td>\n",
       "      <td>1</td>\n",
       "      <td>DRR124443</td>\n",
       "    </tr>\n",
       "    <tr>\n",
       "      <th>2</th>\n",
       "      <td>GCF_001408515.1</td>\n",
       "      <td>617</td>\n",
       "      <td>0.001354</td>\n",
       "      <td>0.048223</td>\n",
       "      <td>1.384365</td>\n",
       "      <td>0.001328</td>\n",
       "      <td>0.032149</td>\n",
       "      <td>0.932019</td>\n",
       "      <td>0.0014</td>\n",
       "      <td>0.0617</td>\n",
       "      <td>...</td>\n",
       "      <td>2712</td>\n",
       "      <td>0</td>\n",
       "      <td>100</td>\n",
       "      <td>CYRX01000003.598.2082</td>\n",
       "      <td>Bacteria;Proteobacteria;Alphaproteobacteria;Rh...</td>\n",
       "      <td>0</td>\n",
       "      <td>19</td>\n",
       "      <td>41</td>\n",
       "      <td>0</td>\n",
       "      <td>DRR124443</td>\n",
       "    </tr>\n",
       "    <tr>\n",
       "      <th>3</th>\n",
       "      <td>GCF_000751595.1</td>\n",
       "      <td>892</td>\n",
       "      <td>0.001052</td>\n",
       "      <td>0.104349</td>\n",
       "      <td>4.025162</td>\n",
       "      <td>0.000974</td>\n",
       "      <td>0.069583</td>\n",
       "      <td>2.757037</td>\n",
       "      <td>0.0011</td>\n",
       "      <td>0.0892</td>\n",
       "      <td>...</td>\n",
       "      <td>2584</td>\n",
       "      <td>0</td>\n",
       "      <td>98.176</td>\n",
       "      <td>KF193147.1.1480</td>\n",
       "      <td>Bacteria;Bacteroidetes;Bacteroidia;Bacteroidal...</td>\n",
       "      <td>0</td>\n",
       "      <td>20</td>\n",
       "      <td>42</td>\n",
       "      <td>0</td>\n",
       "      <td>DRR124443</td>\n",
       "    </tr>\n",
       "    <tr>\n",
       "      <th>4</th>\n",
       "      <td>GCF_900659615.1</td>\n",
       "      <td>4</td>\n",
       "      <td>0.000055</td>\n",
       "      <td>0.000110</td>\n",
       "      <td>0.016569</td>\n",
       "      <td>0.000037</td>\n",
       "      <td>0.000073</td>\n",
       "      <td>0.013529</td>\n",
       "      <td>0.0002</td>\n",
       "      <td>0.0004</td>\n",
       "      <td>...</td>\n",
       "      <td>2782</td>\n",
       "      <td>0</td>\n",
       "      <td>100</td>\n",
       "      <td>CBRG010000486.287.1792</td>\n",
       "      <td>Bacteria;Actinobacteria;Actinobacteria;Strepto...</td>\n",
       "      <td>0</td>\n",
       "      <td>20</td>\n",
       "      <td>65</td>\n",
       "      <td>0</td>\n",
       "      <td>DRR124443</td>\n",
       "    </tr>\n",
       "    <tr>\n",
       "      <th>...</th>\n",
       "      <td>...</td>\n",
       "      <td>...</td>\n",
       "      <td>...</td>\n",
       "      <td>...</td>\n",
       "      <td>...</td>\n",
       "      <td>...</td>\n",
       "      <td>...</td>\n",
       "      <td>...</td>\n",
       "      <td>...</td>\n",
       "      <td>...</td>\n",
       "      <td>...</td>\n",
       "      <td>...</td>\n",
       "      <td>...</td>\n",
       "      <td>...</td>\n",
       "      <td>...</td>\n",
       "      <td>...</td>\n",
       "      <td>...</td>\n",
       "      <td>...</td>\n",
       "      <td>...</td>\n",
       "      <td>...</td>\n",
       "      <td>...</td>\n",
       "    </tr>\n",
       "    <tr>\n",
       "      <th>193</th>\n",
       "      <td>GCF_000160475.1</td>\n",
       "      <td>1</td>\n",
       "      <td>0.000060</td>\n",
       "      <td>0.000060</td>\n",
       "      <td>0.007747</td>\n",
       "      <td>0.000076</td>\n",
       "      <td>0.000076</td>\n",
       "      <td>0.008743</td>\n",
       "      <td>0.0001</td>\n",
       "      <td>0.0001</td>\n",
       "      <td>...</td>\n",
       "      <td>2724</td>\n",
       "      <td>0</td>\n",
       "      <td>99.271</td>\n",
       "      <td>ADVK01000034.12.1519</td>\n",
       "      <td>Bacteria;Fusobacteria;Fusobacteriia;Fusobacter...</td>\n",
       "      <td>0</td>\n",
       "      <td>19</td>\n",
       "      <td>45</td>\n",
       "      <td>0</td>\n",
       "      <td>SRR960193</td>\n",
       "    </tr>\n",
       "    <tr>\n",
       "      <th>194</th>\n",
       "      <td>GCF_000369505.1</td>\n",
       "      <td>1</td>\n",
       "      <td>0.000046</td>\n",
       "      <td>0.000046</td>\n",
       "      <td>0.006816</td>\n",
       "      <td>0.000057</td>\n",
       "      <td>0.000057</td>\n",
       "      <td>0.007573</td>\n",
       "      <td>0.0001</td>\n",
       "      <td>0.0001</td>\n",
       "      <td>...</td>\n",
       "      <td>2820</td>\n",
       "      <td>0</td>\n",
       "      <td>99.935</td>\n",
       "      <td>HE651915.1.1530</td>\n",
       "      <td>Bacteria;Proteobacteria;Gammaproteobacteria;Ps...</td>\n",
       "      <td>26261</td>\n",
       "      <td>20</td>\n",
       "      <td>61</td>\n",
       "      <td>0</td>\n",
       "      <td>SRR960193</td>\n",
       "    </tr>\n",
       "    <tr>\n",
       "      <th>195</th>\n",
       "      <td>GCA_900554645.1</td>\n",
       "      <td>1</td>\n",
       "      <td>0.000133</td>\n",
       "      <td>0.000133</td>\n",
       "      <td>0.011540</td>\n",
       "      <td>0.000179</td>\n",
       "      <td>0.000179</td>\n",
       "      <td>0.013369</td>\n",
       "      <td>0.0001</td>\n",
       "      <td>0.0001</td>\n",
       "      <td>...</td>\n",
       "      <td>none</td>\n",
       "      <td>none</td>\n",
       "      <td>none</td>\n",
       "      <td>none</td>\n",
       "      <td>none</td>\n",
       "      <td>0</td>\n",
       "      <td>19</td>\n",
       "      <td>43</td>\n",
       "      <td>0</td>\n",
       "      <td>SRR960193</td>\n",
       "    </tr>\n",
       "    <tr>\n",
       "      <th>196</th>\n",
       "      <td>GCA_900549105.1</td>\n",
       "      <td>1</td>\n",
       "      <td>0.000050</td>\n",
       "      <td>0.000050</td>\n",
       "      <td>0.007063</td>\n",
       "      <td>0.000064</td>\n",
       "      <td>0.000064</td>\n",
       "      <td>0.007997</td>\n",
       "      <td>0.0001</td>\n",
       "      <td>0.0001</td>\n",
       "      <td>...</td>\n",
       "      <td>2715</td>\n",
       "      <td>0</td>\n",
       "      <td>99.333</td>\n",
       "      <td>JQ084698.1.1503</td>\n",
       "      <td>Bacteria;Firmicutes;Clostridia;Clostridiales;L...</td>\n",
       "      <td>0</td>\n",
       "      <td>20</td>\n",
       "      <td>56</td>\n",
       "      <td>0</td>\n",
       "      <td>SRR960193</td>\n",
       "    </tr>\n",
       "    <tr>\n",
       "      <th>197</th>\n",
       "      <td>GCF_002573625.1</td>\n",
       "      <td>1</td>\n",
       "      <td>0.000056</td>\n",
       "      <td>0.000056</td>\n",
       "      <td>0.007507</td>\n",
       "      <td>0.000070</td>\n",
       "      <td>0.000070</td>\n",
       "      <td>0.008367</td>\n",
       "      <td>0.0001</td>\n",
       "      <td>0.0001</td>\n",
       "      <td>...</td>\n",
       "      <td>2736</td>\n",
       "      <td>0</td>\n",
       "      <td>99.534</td>\n",
       "      <td>CP013121.1976428.1977974</td>\n",
       "      <td>Bacteria;Fusobacteria;Fusobacteriia;Fusobacter...</td>\n",
       "      <td>0</td>\n",
       "      <td>20</td>\n",
       "      <td>47</td>\n",
       "      <td>0</td>\n",
       "      <td>SRR960193</td>\n",
       "    </tr>\n",
       "  </tbody>\n",
       "</table>\n",
       "<p>13586 rows × 267 columns</p>\n",
       "</div>"
      ],
      "text/plain": [
       "    assembly_accession    hits  percent_coverage  mean_coverage  sd_coverage  \\\n",
       "0      GCF_003114855.1  412384          0.999609      30.935455     8.703978   \n",
       "1      GCF_901456055.1    2355          0.000977       0.122706     4.207252   \n",
       "2      GCF_001408515.1     617          0.001354       0.048223     1.384365   \n",
       "3      GCF_000751595.1     892          0.001052       0.104349     4.025162   \n",
       "4      GCF_900659615.1       4          0.000055       0.000110     0.016569   \n",
       "..                 ...     ...               ...            ...          ...   \n",
       "193    GCF_000160475.1       1          0.000060       0.000060     0.007747   \n",
       "194    GCF_000369505.1       1          0.000046       0.000046     0.006816   \n",
       "195    GCA_900554645.1       1          0.000133       0.000133     0.011540   \n",
       "196    GCA_900549105.1       1          0.000050       0.000050     0.007063   \n",
       "197    GCF_002573625.1       1          0.000056       0.000056     0.007507   \n",
       "\n",
       "     percent_padded_coverage  mean_padded_coverage  sd_padded_coverage  \\\n",
       "0                   0.999008             20.870225            6.508909   \n",
       "1                   0.000942              0.081812            2.841415   \n",
       "2                   0.001328              0.032149            0.932019   \n",
       "3                   0.000974              0.069583            2.757037   \n",
       "4                   0.000037              0.000073            0.013529   \n",
       "..                       ...                   ...                 ...   \n",
       "193                 0.000076              0.000076            0.008743   \n",
       "194                 0.000057              0.000057            0.007573   \n",
       "195                 0.000179              0.000179            0.013369   \n",
       "196                 0.000064              0.000064            0.007997   \n",
       "197                 0.000070              0.000070            0.008367   \n",
       "\n",
       "     percent_binned_coverage  mean_binned_coverage  ...  \\\n",
       "0                     0.9999               41.2384  ...   \n",
       "1                     0.0010                0.2355  ...   \n",
       "2                     0.0014                0.0617  ...   \n",
       "3                     0.0011                0.0892  ...   \n",
       "4                     0.0002                0.0004  ...   \n",
       "..                       ...                   ...  ...   \n",
       "193                   0.0001                0.0001  ...   \n",
       "194                   0.0001                0.0001  ...   \n",
       "195                   0.0001                0.0001  ...   \n",
       "196                   0.0001                0.0001  ...   \n",
       "197                   0.0001                0.0001  ...   \n",
       "\n",
       "     tree_gf_ssu_silva_blast_bitscore  tree_gf_ssu_silva_blast_evalue  \\\n",
       "0                                2739                               0   \n",
       "1                                2839                               0   \n",
       "2                                2712                               0   \n",
       "3                                2584                               0   \n",
       "4                                2782                               0   \n",
       "..                                ...                             ...   \n",
       "193                              2724                               0   \n",
       "194                              2820                               0   \n",
       "195                              none                            none   \n",
       "196                              2715                               0   \n",
       "197                              2736                               0   \n",
       "\n",
       "     tree_gf_ssu_silva_blast_perc_identity  \\\n",
       "0                                   99.799   \n",
       "1                                      100   \n",
       "2                                      100   \n",
       "3                                   98.176   \n",
       "4                                      100   \n",
       "..                                     ...   \n",
       "193                                 99.271   \n",
       "194                                 99.935   \n",
       "195                                   none   \n",
       "196                                 99.333   \n",
       "197                                 99.534   \n",
       "\n",
       "     tree_gf_ssu_silva_blast_subject_id  \\\n",
       "0                       AB476706.1.1492   \n",
       "1                  FLYB01000015.15.1556   \n",
       "2                 CYRX01000003.598.2082   \n",
       "3                       KF193147.1.1480   \n",
       "4                CBRG010000486.287.1792   \n",
       "..                                  ...   \n",
       "193                ADVK01000034.12.1519   \n",
       "194                     HE651915.1.1530   \n",
       "195                                none   \n",
       "196                     JQ084698.1.1503   \n",
       "197            CP013121.1976428.1977974   \n",
       "\n",
       "                            tree_gf_ssu_silva_taxonomy  \\\n",
       "0    Bacteria;Spirochaetes;Leptospirae;Leptospirale...   \n",
       "1    Bacteria;Proteobacteria;Gammaproteobacteria;En...   \n",
       "2    Bacteria;Proteobacteria;Alphaproteobacteria;Rh...   \n",
       "3    Bacteria;Bacteroidetes;Bacteroidia;Bacteroidal...   \n",
       "4    Bacteria;Actinobacteria;Actinobacteria;Strepto...   \n",
       "..                                                 ...   \n",
       "193  Bacteria;Fusobacteria;Fusobacteriia;Fusobacter...   \n",
       "194  Bacteria;Proteobacteria;Gammaproteobacteria;Ps...   \n",
       "195                                               none   \n",
       "196  Bacteria;Firmicutes;Clostridia;Clostridiales;L...   \n",
       "197  Bacteria;Fusobacteria;Fusobacteriia;Fusobacter...   \n",
       "\n",
       "     tree_gf_total_gap_length  tree_gf_trna_aa_count  tree_gf_trna_count  \\\n",
       "0                          41                     20                  35   \n",
       "1                           0                     18                  70   \n",
       "2                           0                     19                  41   \n",
       "3                           0                     20                  42   \n",
       "4                           0                     20                  65   \n",
       "..                        ...                    ...                 ...   \n",
       "193                         0                     19                  45   \n",
       "194                     26261                     20                  61   \n",
       "195                         0                     19                  43   \n",
       "196                         0                     20                  56   \n",
       "197                         0                     20                  47   \n",
       "\n",
       "     tree_gf_trna_selenocysteine_count    dataset  \n",
       "0                                    0  DRR124443  \n",
       "1                                    1  DRR124443  \n",
       "2                                    0  DRR124443  \n",
       "3                                    0  DRR124443  \n",
       "4                                    0  DRR124443  \n",
       "..                                 ...        ...  \n",
       "193                                  0  SRR960193  \n",
       "194                                  0  SRR960193  \n",
       "195                                  0  SRR960193  \n",
       "196                                  0  SRR960193  \n",
       "197                                  0  SRR960193  \n",
       "\n",
       "[13586 rows x 267 columns]"
      ]
     },
     "execution_count": 12,
     "metadata": {},
     "output_type": "execute_result"
    }
   ],
   "source": [
    "df_type_1_features"
   ]
  },
  {
   "cell_type": "code",
   "execution_count": 17,
   "metadata": {},
   "outputs": [
    {
     "name": "stderr",
     "output_type": "stream",
     "text": [
      "/home/bhillmann/.conda/envs/type_1/lib/python3.8/site-packages/ipykernel/ipkernel.py:287: DeprecationWarning: `should_run_async` will not call `transform_cell` automatically in the future. Please pass the result to `transformed_cell` argument and any exception that happen during thetransform in `preprocessing_exc_tuple` in IPython 7.17 and above.\n",
      "  and should_run_async(code)\n"
     ]
    }
   ],
   "source": [
    "df_assembly_summary = pd.read_csv(\"../data/assembly_summary.sra.csv\")"
   ]
  },
  {
   "cell_type": "code",
   "execution_count": 21,
   "metadata": {},
   "outputs": [
    {
     "name": "stderr",
     "output_type": "stream",
     "text": [
      "/home/bhillmann/.conda/envs/type_1/lib/python3.8/site-packages/ipykernel/ipkernel.py:287: DeprecationWarning: `should_run_async` will not call `transform_cell` automatically in the future. Please pass the result to `transformed_cell` argument and any exception that happen during thetransform in `preprocessing_exc_tuple` in IPython 7.17 and above.\n",
      "  and should_run_async(code)\n"
     ]
    }
   ],
   "source": [
    "df_merged = pd.merge(df_type_1_features, df_assembly_summary, left_on=\"dataset\", right_on=\"Run\", how=\"inner\")"
   ]
  },
  {
   "cell_type": "code",
   "execution_count": 24,
   "metadata": {},
   "outputs": [
    {
     "name": "stderr",
     "output_type": "stream",
     "text": [
      "/home/bhillmann/.conda/envs/type_1/lib/python3.8/site-packages/ipykernel/ipkernel.py:287: DeprecationWarning: `should_run_async` will not call `transform_cell` automatically in the future. Please pass the result to `transformed_cell` argument and any exception that happen during thetransform in `preprocessing_exc_tuple` in IPython 7.17 and above.\n",
      "  and should_run_async(code)\n"
     ]
    }
   ],
   "source": [
    "df_merged = df_merged.loc[df_merged[\"in_gtdb\"]]"
   ]
  },
  {
   "cell_type": "code",
   "execution_count": 34,
   "metadata": {},
   "outputs": [
    {
     "name": "stderr",
     "output_type": "stream",
     "text": [
      "<ipython-input-34-81ef9f61b650>:1: SettingWithCopyWarning: \n",
      "A value is trying to be set on a copy of a slice from a DataFrame.\n",
      "Try using .loc[row_indexer,col_indexer] = value instead\n",
      "\n",
      "See the caveats in the documentation: https://pandas.pydata.org/pandas-docs/stable/user_guide/indexing.html#returning-a-view-versus-a-copy\n",
      "  df_merged[\"truth\"] = (df_merged[\"# assembly_accession\"].values == df_merged[\"assembly_accession\"].values)\n"
     ]
    }
   ],
   "source": [
    "df_merged[\"truth\"] = (df_merged[\"# assembly_accession\"].values == df_merged[\"assembly_accession\"].values)\n",
    "\n",
    "df_type_1_features = df_merged.copy()"
   ]
  },
  {
   "cell_type": "code",
   "execution_count": 38,
   "metadata": {},
   "outputs": [],
   "source": [
    "from glob import glob\n",
    "\n",
    "import joblib\n",
    "\n",
    "classifiers = []\n",
    "\n",
    "for file in glob(\"../data/clf.sklearn.*\"):\n",
    "    clf = joblib.load(file)\n",
    "    classifiers.append(clf)"
   ]
  },
  {
   "cell_type": "code",
   "execution_count": 42,
   "metadata": {},
   "outputs": [
    {
     "name": "stderr",
     "output_type": "stream",
     "text": [
      "/home/bhillmann/.conda/envs/type_1/lib/python3.8/site-packages/ipykernel/ipkernel.py:287: DeprecationWarning: `should_run_async` will not call `transform_cell` automatically in the future. Please pass the result to `transformed_cell` argument and any exception that happen during thetransform in `preprocessing_exc_tuple` in IPython 7.17 and above.\n",
      "  and should_run_async(code)\n"
     ]
    }
   ],
   "source": [
    "features = ['hits',\n",
    " 'percent_coverage',\n",
    " 'mean_coverage',\n",
    " 'sd_coverage',\n",
    " 'percent_binned_coverage',\n",
    " 'mean_binned_coverage',\n",
    " 'sd_binned_coverage',\n",
    " 'expected_percent_coverage',\n",
    " 'shannon_entropy',\n",
    " 'percent_max_uncovered_region',\n",
    " 'largest_pileup',\n",
    " 'largest_binned_pileup',\n",
    " 'gc_content',\n",
    " 'total_genome_length',\n",
    " 'ungapped_genome_length',\n",
    " 'num_n_groups',\n",
    " 'consecutive_ns',\n",
    " 'tree_dist',\n",
    " 'tree_top_dist',\n",
    " 'gf_checkm_completeness',\n",
    " 'gf_checkm_contamination',\n",
    " 'relative_abundance',\n",
    " 'tree_hits',\n",
    " 'tree_percent_coverage',\n",
    " 'tree_mean_coverage',\n",
    " 'tree_sd_coverage',\n",
    " 'tree_percent_binned_coverage',\n",
    " 'tree_mean_binned_coverage',\n",
    " 'tree_sd_binned_coverage',\n",
    " 'tree_expected_percent_coverage',\n",
    " 'tree_shannon_entropy',\n",
    " 'tree_percent_max_uncovered_region',\n",
    " 'tree_largest_pileup',\n",
    " 'tree_largest_binned_pileup',\n",
    " 'tree_dist',\n",
    " 'tree_top_dist'\n",
    "]\n",
    "\n",
    "df_type_1_features['relative_abundance'] = df_type_1_features['hits'] / df_type_1_features.groupby('dataset')['hits'].transform('sum')\n",
    "\n",
    "df_type_1_features.reset_index(inplace=True, drop=True)\n",
    "df_type_1_features['dataset_cat'] = pd.Series([_.split(\"_\")[0] for _ in df_type_1_features['dataset']], dtype='category')\n",
    "\n",
    "categories = df_type_1_features['dataset_cat'].cat.categories\n",
    "\n",
    "X = df_type_1_features[features + [\"assembly_accession\", \"dataset\", \"truth\", \"dataset_cat\"]]\n",
    "\n",
    "X = X.loc[:, features].copy()"
   ]
  },
  {
   "cell_type": "code",
   "execution_count": 45,
   "metadata": {},
   "outputs": [
    {
     "name": "stderr",
     "output_type": "stream",
     "text": [
      "/home/bhillmann/.conda/envs/type_1/lib/python3.8/site-packages/ipykernel/ipkernel.py:287: DeprecationWarning: `should_run_async` will not call `transform_cell` automatically in the future. Please pass the result to `transformed_cell` argument and any exception that happen during thetransform in `preprocessing_exc_tuple` in IPython 7.17 and above.\n",
      "  and should_run_async(code)\n"
     ]
    }
   ],
   "source": [
    "predictions = classifiers[0].predict(X)"
   ]
  },
  {
   "cell_type": "code",
   "execution_count": 52,
   "metadata": {},
   "outputs": [
    {
     "name": "stderr",
     "output_type": "stream",
     "text": [
      "/home/bhillmann/.conda/envs/type_1/lib/python3.8/site-packages/ipykernel/ipkernel.py:287: DeprecationWarning: `should_run_async` will not call `transform_cell` automatically in the future. Please pass the result to `transformed_cell` argument and any exception that happen during thetransform in `preprocessing_exc_tuple` in IPython 7.17 and above.\n",
      "  and should_run_async(code)\n"
     ]
    }
   ],
   "source": [
    "accuracy = (df_merged[\"truth\"] == predictions).mean()"
   ]
  },
  {
   "cell_type": "code",
   "execution_count": 53,
   "metadata": {},
   "outputs": [
    {
     "name": "stderr",
     "output_type": "stream",
     "text": [
      "/home/bhillmann/.conda/envs/type_1/lib/python3.8/site-packages/ipykernel/ipkernel.py:287: DeprecationWarning: `should_run_async` will not call `transform_cell` automatically in the future. Please pass the result to `transformed_cell` argument and any exception that happen during thetransform in `preprocessing_exc_tuple` in IPython 7.17 and above.\n",
      "  and should_run_async(code)\n"
     ]
    },
    {
     "data": {
      "text/plain": [
       "0.9997499062148305"
      ]
     },
     "execution_count": 53,
     "metadata": {},
     "output_type": "execute_result"
    }
   ],
   "source": [
    "accuracy"
   ]
  },
  {
   "cell_type": "code",
   "execution_count": 55,
   "metadata": {},
   "outputs": [
    {
     "data": {
      "text/plain": [
       "53"
      ]
     },
     "execution_count": 55,
     "metadata": {},
     "output_type": "execute_result"
    }
   ],
   "source": [
    "df_merged[\"truth\"].sum()"
   ]
  },
  {
   "cell_type": "code",
   "execution_count": 54,
   "metadata": {},
   "outputs": [
    {
     "data": {
      "text/plain": [
       "55"
      ]
     },
     "execution_count": 54,
     "metadata": {},
     "output_type": "execute_result"
    }
   ],
   "source": [
    "predictions.sum()"
   ]
  },
  {
   "cell_type": "code",
   "execution_count": 60,
   "metadata": {},
   "outputs": [
    {
     "name": "stderr",
     "output_type": "stream",
     "text": [
      "/home/bhillmann/.conda/envs/type_1/lib/python3.8/site-packages/ipykernel/ipkernel.py:287: DeprecationWarning: `should_run_async` will not call `transform_cell` automatically in the future. Please pass the result to `transformed_cell` argument and any exception that happen during thetransform in `preprocessing_exc_tuple` in IPython 7.17 and above.\n",
      "  and should_run_async(code)\n"
     ]
    },
    {
     "data": {
      "text/plain": [
       "array([ True, False, False, ..., False, False, False])"
      ]
     },
     "execution_count": 60,
     "metadata": {},
     "output_type": "execute_result"
    }
   ],
   "source": [
    "predictions.sum()"
   ]
  },
  {
   "cell_type": "code",
   "execution_count": 59,
   "metadata": {},
   "outputs": [
    {
     "name": "stderr",
     "output_type": "stream",
     "text": [
      "/home/bhillmann/.conda/envs/type_1/lib/python3.8/site-packages/ipykernel/ipkernel.py:287: DeprecationWarning: `should_run_async` will not call `transform_cell` automatically in the future. Please pass the result to `transformed_cell` argument and any exception that happen during thetransform in `preprocessing_exc_tuple` in IPython 7.17 and above.\n",
      "  and should_run_async(code)\n"
     ]
    },
    {
     "data": {
      "text/plain": [
       "0        False\n",
       "1         True\n",
       "2         True\n",
       "3         True\n",
       "4         True\n",
       "         ...  \n",
       "13581     True\n",
       "13582     True\n",
       "13583     True\n",
       "13584     True\n",
       "13585     True\n",
       "Name: truth, Length: 7997, dtype: bool"
      ]
     },
     "execution_count": 59,
     "metadata": {},
     "output_type": "execute_result"
    }
   ],
   "source": [
    "df_merged.loc[:, \"truth\"] == False"
   ]
  },
  {
   "cell_type": "code",
   "execution_count": 67,
   "metadata": {},
   "outputs": [
    {
     "name": "stderr",
     "output_type": "stream",
     "text": [
      "/home/bhillmann/.conda/envs/type_1/lib/python3.8/site-packages/ipykernel/ipkernel.py:287: DeprecationWarning: `should_run_async` will not call `transform_cell` automatically in the future. Please pass the result to `transformed_cell` argument and any exception that happen during thetransform in `preprocessing_exc_tuple` in IPython 7.17 and above.\n",
      "  and should_run_async(code)\n"
     ]
    },
    {
     "data": {
      "text/plain": [
       "Index(['assembly_accession', 'hits', 'percent_coverage', 'mean_coverage',\n",
       "       'sd_coverage', 'percent_padded_coverage', 'mean_padded_coverage',\n",
       "       'sd_padded_coverage', 'percent_binned_coverage', 'mean_binned_coverage',\n",
       "       ...\n",
       "       'Tumor', 'CenterName', 'Submission', 'Consent', 'RunHash', 'ReadHash',\n",
       "       'LibraryName', 'Subject_ID', 'AssemblyName', 'truth'],\n",
       "      dtype='object', length=329)"
      ]
     },
     "execution_count": 67,
     "metadata": {},
     "output_type": "execute_result"
    }
   ],
   "source": [
    "df_merged.columns"
   ]
  },
  {
   "cell_type": "code",
   "execution_count": 74,
   "metadata": {},
   "outputs": [
    {
     "name": "stderr",
     "output_type": "stream",
     "text": [
      "/home/bhillmann/.conda/envs/type_1/lib/python3.8/site-packages/ipykernel/ipkernel.py:287: DeprecationWarning: `should_run_async` will not call `transform_cell` automatically in the future. Please pass the result to `transformed_cell` argument and any exception that happen during thetransform in `preprocessing_exc_tuple` in IPython 7.17 and above.\n",
      "  and should_run_async(code)\n"
     ]
    },
    {
     "data": {
      "text/plain": [
       "dataset\n",
       "DRR124443      1\n",
       "ERR1448082     1\n",
       "SRR10209490    1\n",
       "SRR1587382     1\n",
       "SRR1592616     1\n",
       "SRR3314034     1\n",
       "SRR3710112     2\n",
       "SRR3721749     1\n",
       "SRR3948005     1\n",
       "SRR4096349     1\n",
       "SRR4096573     1\n",
       "SRR4096622     1\n",
       "SRR4136409     1\n",
       "SRR4136423     1\n",
       "SRR4136541     1\n",
       "SRR4156105     1\n",
       "SRR4156230     1\n",
       "SRR4159523     1\n",
       "SRR4163324     1\n",
       "SRR4163857     1\n",
       "SRR4181631     1\n",
       "SRR4181708     1\n",
       "SRR4217059     1\n",
       "SRR4218335     1\n",
       "SRR4233880     1\n",
       "SRR4233886     1\n",
       "SRR4233890     1\n",
       "SRR4233940     1\n",
       "SRR4235445     1\n",
       "SRR4237007     1\n",
       "SRR4237030     1\n",
       "SRR4996333     1\n",
       "SRR5889151     1\n",
       "SRR6007417     1\n",
       "SRR6479433     1\n",
       "SRR6479487     1\n",
       "SRR6479505     1\n",
       "SRR6480665     1\n",
       "SRR7081650     1\n",
       "SRR7174863     1\n",
       "SRR7178576     1\n",
       "SRR769340      2\n",
       "SRR8393270     1\n",
       "SRR8436120     2\n",
       "SRR8552796     2\n",
       "SRR8640888     1\n",
       "SRR8742574     1\n",
       "SRR9332242     1\n",
       "SRR960193      1\n",
       "Name: truth, dtype: int64"
      ]
     },
     "execution_count": 74,
     "metadata": {},
     "output_type": "execute_result"
    }
   ],
   "source": [
    "df_merged.groupby(\"dataset\")[\"truth\"].sum()"
   ]
  },
  {
   "cell_type": "code",
   "execution_count": 75,
   "metadata": {},
   "outputs": [
    {
     "data": {
      "text/html": [
       "<div>\n",
       "<style scoped>\n",
       "    .dataframe tbody tr th:only-of-type {\n",
       "        vertical-align: middle;\n",
       "    }\n",
       "\n",
       "    .dataframe tbody tr th {\n",
       "        vertical-align: top;\n",
       "    }\n",
       "\n",
       "    .dataframe thead th {\n",
       "        text-align: right;\n",
       "    }\n",
       "</style>\n",
       "<table border=\"1\" class=\"dataframe\">\n",
       "  <thead>\n",
       "    <tr style=\"text-align: right;\">\n",
       "      <th></th>\n",
       "      <th>assembly_accession</th>\n",
       "      <th>hits</th>\n",
       "      <th>percent_coverage</th>\n",
       "      <th>mean_coverage</th>\n",
       "      <th>sd_coverage</th>\n",
       "      <th>percent_padded_coverage</th>\n",
       "      <th>mean_padded_coverage</th>\n",
       "      <th>sd_padded_coverage</th>\n",
       "      <th>percent_binned_coverage</th>\n",
       "      <th>mean_binned_coverage</th>\n",
       "      <th>...</th>\n",
       "      <th>Tumor</th>\n",
       "      <th>CenterName</th>\n",
       "      <th>Submission</th>\n",
       "      <th>Consent</th>\n",
       "      <th>RunHash</th>\n",
       "      <th>ReadHash</th>\n",
       "      <th>LibraryName</th>\n",
       "      <th>Subject_ID</th>\n",
       "      <th>AssemblyName</th>\n",
       "      <th>truth</th>\n",
       "    </tr>\n",
       "  </thead>\n",
       "  <tbody>\n",
       "    <tr>\n",
       "      <th>3542</th>\n",
       "      <td>GCF_000621165.1</td>\n",
       "      <td>11418</td>\n",
       "      <td>0.255164</td>\n",
       "      <td>0.297206</td>\n",
       "      <td>0.55029</td>\n",
       "      <td>0.336669</td>\n",
       "      <td>0.414907</td>\n",
       "      <td>0.651589</td>\n",
       "      <td>0.671</td>\n",
       "      <td>1.1418</td>\n",
       "      <td>...</td>\n",
       "      <td>no</td>\n",
       "      <td>JGI</td>\n",
       "      <td>SRA401434</td>\n",
       "      <td>public</td>\n",
       "      <td>AB01EF63FD99606B34945862A76C9A5B</td>\n",
       "      <td>9435D03FA095A3E0B774B5DB8827FA05</td>\n",
       "      <td>OPXA</td>\n",
       "      <td>NaN</td>\n",
       "      <td>NaN</td>\n",
       "      <td>False</td>\n",
       "    </tr>\n",
       "  </tbody>\n",
       "</table>\n",
       "<p>1 rows × 329 columns</p>\n",
       "</div>"
      ],
      "text/plain": [
       "     assembly_accession   hits  percent_coverage  mean_coverage  sd_coverage  \\\n",
       "3542    GCF_000621165.1  11418          0.255164       0.297206      0.55029   \n",
       "\n",
       "      percent_padded_coverage  mean_padded_coverage  sd_padded_coverage  \\\n",
       "3542                 0.336669              0.414907            0.651589   \n",
       "\n",
       "      percent_binned_coverage  mean_binned_coverage  ...  Tumor  CenterName  \\\n",
       "3542                    0.671                1.1418  ...     no         JGI   \n",
       "\n",
       "      Submission  Consent                           RunHash  \\\n",
       "3542   SRA401434   public  AB01EF63FD99606B34945862A76C9A5B   \n",
       "\n",
       "                              ReadHash  LibraryName  Subject_ID  AssemblyName  \\\n",
       "3542  9435D03FA095A3E0B774B5DB8827FA05         OPXA         NaN           NaN   \n",
       "\n",
       "      truth  \n",
       "3542  False  \n",
       "\n",
       "[1 rows x 329 columns]"
      ]
     },
     "execution_count": 75,
     "metadata": {},
     "output_type": "execute_result"
    }
   ],
   "source": [
    "df_merged.query(\"assembly_accession == 'GCF_000621165.1'\")\n",
    "# \"GCF_000424785.1\""
   ]
  },
  {
   "cell_type": "code",
   "execution_count": 72,
   "metadata": {},
   "outputs": [
    {
     "name": "stderr",
     "output_type": "stream",
     "text": [
      "/home/bhillmann/.conda/envs/type_1/lib/python3.8/site-packages/ipykernel/ipkernel.py:287: DeprecationWarning: `should_run_async` will not call `transform_cell` automatically in the future. Please pass the result to `transformed_cell` argument and any exception that happen during thetransform in `preprocessing_exc_tuple` in IPython 7.17 and above.\n",
      "  and should_run_async(code)\n"
     ]
    },
    {
     "data": {
      "text/html": [
       "<div>\n",
       "<style scoped>\n",
       "    .dataframe tbody tr th:only-of-type {\n",
       "        vertical-align: middle;\n",
       "    }\n",
       "\n",
       "    .dataframe tbody tr th {\n",
       "        vertical-align: top;\n",
       "    }\n",
       "\n",
       "    .dataframe thead th {\n",
       "        text-align: right;\n",
       "    }\n",
       "</style>\n",
       "<table border=\"1\" class=\"dataframe\">\n",
       "  <thead>\n",
       "    <tr style=\"text-align: right;\">\n",
       "      <th></th>\n",
       "      <th>assembly_accession</th>\n",
       "      <th>hits</th>\n",
       "      <th>percent_coverage</th>\n",
       "      <th>mean_coverage</th>\n",
       "      <th>sd_coverage</th>\n",
       "      <th>percent_padded_coverage</th>\n",
       "      <th>mean_padded_coverage</th>\n",
       "      <th>sd_padded_coverage</th>\n",
       "      <th>percent_binned_coverage</th>\n",
       "      <th>mean_binned_coverage</th>\n",
       "      <th>...</th>\n",
       "      <th>Tumor</th>\n",
       "      <th>CenterName</th>\n",
       "      <th>Submission</th>\n",
       "      <th>Consent</th>\n",
       "      <th>RunHash</th>\n",
       "      <th>ReadHash</th>\n",
       "      <th>LibraryName</th>\n",
       "      <th>Subject_ID</th>\n",
       "      <th>AssemblyName</th>\n",
       "      <th>truth</th>\n",
       "    </tr>\n",
       "  </thead>\n",
       "  <tbody>\n",
       "    <tr>\n",
       "      <th>3542</th>\n",
       "      <td>GCF_000621165.1</td>\n",
       "      <td>11418</td>\n",
       "      <td>0.255164</td>\n",
       "      <td>0.297206</td>\n",
       "      <td>0.550290</td>\n",
       "      <td>0.336669</td>\n",
       "      <td>0.414907</td>\n",
       "      <td>0.651589</td>\n",
       "      <td>0.6710</td>\n",
       "      <td>1.1418</td>\n",
       "      <td>...</td>\n",
       "      <td>no</td>\n",
       "      <td>JGI</td>\n",
       "      <td>SRA401434</td>\n",
       "      <td>public</td>\n",
       "      <td>AB01EF63FD99606B34945862A76C9A5B</td>\n",
       "      <td>9435D03FA095A3E0B774B5DB8827FA05</td>\n",
       "      <td>OPXA</td>\n",
       "      <td>NaN</td>\n",
       "      <td>NaN</td>\n",
       "      <td>False</td>\n",
       "    </tr>\n",
       "    <tr>\n",
       "      <th>4203</th>\n",
       "      <td>GCF_000424785.1</td>\n",
       "      <td>25741</td>\n",
       "      <td>0.497184</td>\n",
       "      <td>0.707686</td>\n",
       "      <td>0.865444</td>\n",
       "      <td>0.476624</td>\n",
       "      <td>0.666729</td>\n",
       "      <td>0.840653</td>\n",
       "      <td>0.9113</td>\n",
       "      <td>2.5741</td>\n",
       "      <td>...</td>\n",
       "      <td>no</td>\n",
       "      <td>JGI</td>\n",
       "      <td>SRA436102</td>\n",
       "      <td>public</td>\n",
       "      <td>3190921889CB101D52590CF17D097E89</td>\n",
       "      <td>F7A890B7A67B405C9AA1117D1ED9D045</td>\n",
       "      <td>NBSU</td>\n",
       "      <td>NaN</td>\n",
       "      <td>NaN</td>\n",
       "      <td>False</td>\n",
       "    </tr>\n",
       "  </tbody>\n",
       "</table>\n",
       "<p>2 rows × 329 columns</p>\n",
       "</div>"
      ],
      "text/plain": [
       "     assembly_accession   hits  percent_coverage  mean_coverage  sd_coverage  \\\n",
       "3542    GCF_000621165.1  11418          0.255164       0.297206     0.550290   \n",
       "4203    GCF_000424785.1  25741          0.497184       0.707686     0.865444   \n",
       "\n",
       "      percent_padded_coverage  mean_padded_coverage  sd_padded_coverage  \\\n",
       "3542                 0.336669              0.414907            0.651589   \n",
       "4203                 0.476624              0.666729            0.840653   \n",
       "\n",
       "      percent_binned_coverage  mean_binned_coverage  ...  Tumor  CenterName  \\\n",
       "3542                   0.6710                1.1418  ...     no         JGI   \n",
       "4203                   0.9113                2.5741  ...     no         JGI   \n",
       "\n",
       "      Submission  Consent                           RunHash  \\\n",
       "3542   SRA401434   public  AB01EF63FD99606B34945862A76C9A5B   \n",
       "4203   SRA436102   public  3190921889CB101D52590CF17D097E89   \n",
       "\n",
       "                              ReadHash  LibraryName  Subject_ID  AssemblyName  \\\n",
       "3542  9435D03FA095A3E0B774B5DB8827FA05         OPXA         NaN           NaN   \n",
       "4203  F7A890B7A67B405C9AA1117D1ED9D045         NBSU         NaN           NaN   \n",
       "\n",
       "      truth  \n",
       "3542  False  \n",
       "4203  False  \n",
       "\n",
       "[2 rows x 329 columns]"
      ]
     },
     "execution_count": 72,
     "metadata": {},
     "output_type": "execute_result"
    }
   ],
   "source": [
    "df_merged.loc[predictions == (df_merged.loc[:, \"truth\"] == False).values]"
   ]
  },
  {
   "cell_type": "code",
   "execution_count": 76,
   "metadata": {},
   "outputs": [
    {
     "name": "stderr",
     "output_type": "stream",
     "text": [
      "/home/bhillmann/.conda/envs/type_1/lib/python3.8/site-packages/ipykernel/ipkernel.py:287: DeprecationWarning: `should_run_async` will not call `transform_cell` automatically in the future. Please pass the result to `transformed_cell` argument and any exception that happen during thetransform in `preprocessing_exc_tuple` in IPython 7.17 and above.\n",
      "  and should_run_async(code)\n"
     ]
    },
    {
     "data": {
      "text/plain": [
       "3542    SRR3314034\n",
       "4203    SRR3721749\n",
       "Name: dataset, dtype: object"
      ]
     },
     "execution_count": 76,
     "metadata": {},
     "output_type": "execute_result"
    }
   ],
   "source": [
    "df_merged.loc[predictions == (df_merged.loc[:, \"truth\"] == False).values, \"dataset\"]"
   ]
  },
  {
   "cell_type": "code",
   "execution_count": 35,
   "metadata": {},
   "outputs": [],
   "source": [
    "from sklearn.model_selection import train_test_split\n",
    "from sklearn.svm import SVC\n",
    "from sklearn.metrics import plot_roc_curve\n",
    "from sklearn.ensemble import RandomForestClassifier\n",
    "from sklearn.linear_model import LogisticRegression\n",
    "\n",
    "from sklearn.model_selection import PredefinedSplit\n",
    "\n",
    "from sklearn.metrics import average_precision_score, f1_score, precision_score, recall_score\n",
    "from sklearn.metrics import plot_precision_recall_curve\n",
    "import matplotlib.pyplot as plt\n",
    "\n"
   ]
  },
  {
   "cell_type": "code",
   "execution_count": 36,
   "metadata": {},
   "outputs": [
    {
     "name": "stderr",
     "output_type": "stream",
     "text": [
      "/home/bhillmann/.conda/envs/type_1/lib/python3.8/site-packages/ipykernel/ipkernel.py:287: DeprecationWarning: `should_run_async` will not call `transform_cell` automatically in the future. Please pass the result to `transformed_cell` argument and any exception that happen during thetransform in `preprocessing_exc_tuple` in IPython 7.17 and above.\n",
      "  and should_run_async(code)\n"
     ]
    },
    {
     "ename": "KeyboardInterrupt",
     "evalue": "",
     "output_type": "error",
     "traceback": [
      "\u001b[0;31m---------------------------------------------------------------------------\u001b[0m",
      "\u001b[0;31mKeyboardInterrupt\u001b[0m                         Traceback (most recent call last)",
      "\u001b[0;32m<ipython-input-36-d8cbd10d258b>\u001b[0m in \u001b[0;36m<module>\u001b[0;34m\u001b[0m\n\u001b[1;32m     62\u001b[0m \u001b[0;34m\u001b[0m\u001b[0m\n\u001b[1;32m     63\u001b[0m \u001b[0mrfecv\u001b[0m \u001b[0;34m=\u001b[0m \u001b[0mRFECV\u001b[0m\u001b[0;34m(\u001b[0m\u001b[0mlogistic\u001b[0m\u001b[0;34m,\u001b[0m \u001b[0mstep\u001b[0m\u001b[0;34m=\u001b[0m\u001b[0;36m1\u001b[0m\u001b[0;34m,\u001b[0m \u001b[0mcv\u001b[0m\u001b[0;34m=\u001b[0m\u001b[0mcv\u001b[0m\u001b[0;34m,\u001b[0m \u001b[0mscoring\u001b[0m\u001b[0;34m=\u001b[0m\u001b[0;34m\"f1\"\u001b[0m\u001b[0;34m,\u001b[0m \u001b[0mmin_features_to_select\u001b[0m\u001b[0;34m=\u001b[0m\u001b[0mmin_features_to_select\u001b[0m\u001b[0;34m,\u001b[0m \u001b[0mn_jobs\u001b[0m\u001b[0;34m=\u001b[0m\u001b[0;36m40\u001b[0m\u001b[0;34m)\u001b[0m\u001b[0;34m\u001b[0m\u001b[0;34m\u001b[0m\u001b[0m\n\u001b[0;32m---> 64\u001b[0;31m \u001b[0mrfecv\u001b[0m\u001b[0;34m.\u001b[0m\u001b[0mfit\u001b[0m\u001b[0;34m(\u001b[0m\u001b[0mX\u001b[0m\u001b[0;34m,\u001b[0m \u001b[0my\u001b[0m\u001b[0;34m)\u001b[0m\u001b[0;34m\u001b[0m\u001b[0;34m\u001b[0m\u001b[0m\n\u001b[0m\u001b[1;32m     65\u001b[0m \u001b[0;34m\u001b[0m\u001b[0m\n\u001b[1;32m     66\u001b[0m \u001b[0mprint\u001b[0m\u001b[0;34m(\u001b[0m\u001b[0;34m\"Optimal number of features : %d\"\u001b[0m \u001b[0;34m%\u001b[0m \u001b[0mrfecv\u001b[0m\u001b[0;34m.\u001b[0m\u001b[0mn_features_\u001b[0m\u001b[0;34m)\u001b[0m\u001b[0;34m\u001b[0m\u001b[0;34m\u001b[0m\u001b[0m\n",
      "\u001b[0;32m~/.conda/envs/type_1/lib/python3.8/site-packages/sklearn/feature_selection/_rfe.py\u001b[0m in \u001b[0;36mfit\u001b[0;34m(self, X, y, groups)\u001b[0m\n\u001b[1;32m    603\u001b[0m             \u001b[0mfunc\u001b[0m \u001b[0;34m=\u001b[0m \u001b[0mdelayed\u001b[0m\u001b[0;34m(\u001b[0m\u001b[0m_rfe_single_fit\u001b[0m\u001b[0;34m)\u001b[0m\u001b[0;34m\u001b[0m\u001b[0;34m\u001b[0m\u001b[0m\n\u001b[1;32m    604\u001b[0m \u001b[0;34m\u001b[0m\u001b[0m\n\u001b[0;32m--> 605\u001b[0;31m         scores = parallel(\n\u001b[0m\u001b[1;32m    606\u001b[0m             \u001b[0mfunc\u001b[0m\u001b[0;34m(\u001b[0m\u001b[0mrfe\u001b[0m\u001b[0;34m,\u001b[0m \u001b[0mself\u001b[0m\u001b[0;34m.\u001b[0m\u001b[0mestimator\u001b[0m\u001b[0;34m,\u001b[0m \u001b[0mX\u001b[0m\u001b[0;34m,\u001b[0m \u001b[0my\u001b[0m\u001b[0;34m,\u001b[0m \u001b[0mtrain\u001b[0m\u001b[0;34m,\u001b[0m \u001b[0mtest\u001b[0m\u001b[0;34m,\u001b[0m \u001b[0mscorer\u001b[0m\u001b[0;34m)\u001b[0m\u001b[0;34m\u001b[0m\u001b[0;34m\u001b[0m\u001b[0m\n\u001b[1;32m    607\u001b[0m             for train, test in cv.split(X, y, groups))\n",
      "\u001b[0;32m~/.conda/envs/type_1/lib/python3.8/site-packages/joblib/parallel.py\u001b[0m in \u001b[0;36m__call__\u001b[0;34m(self, iterable)\u001b[0m\n\u001b[1;32m   1052\u001b[0m \u001b[0;34m\u001b[0m\u001b[0m\n\u001b[1;32m   1053\u001b[0m             \u001b[0;32mwith\u001b[0m \u001b[0mself\u001b[0m\u001b[0;34m.\u001b[0m\u001b[0m_backend\u001b[0m\u001b[0;34m.\u001b[0m\u001b[0mretrieval_context\u001b[0m\u001b[0;34m(\u001b[0m\u001b[0;34m)\u001b[0m\u001b[0;34m:\u001b[0m\u001b[0;34m\u001b[0m\u001b[0;34m\u001b[0m\u001b[0m\n\u001b[0;32m-> 1054\u001b[0;31m                 \u001b[0mself\u001b[0m\u001b[0;34m.\u001b[0m\u001b[0mretrieve\u001b[0m\u001b[0;34m(\u001b[0m\u001b[0;34m)\u001b[0m\u001b[0;34m\u001b[0m\u001b[0;34m\u001b[0m\u001b[0m\n\u001b[0m\u001b[1;32m   1055\u001b[0m             \u001b[0;31m# Make sure that we get a last message telling us we are done\u001b[0m\u001b[0;34m\u001b[0m\u001b[0;34m\u001b[0m\u001b[0;34m\u001b[0m\u001b[0m\n\u001b[1;32m   1056\u001b[0m             \u001b[0melapsed_time\u001b[0m \u001b[0;34m=\u001b[0m \u001b[0mtime\u001b[0m\u001b[0;34m.\u001b[0m\u001b[0mtime\u001b[0m\u001b[0;34m(\u001b[0m\u001b[0;34m)\u001b[0m \u001b[0;34m-\u001b[0m \u001b[0mself\u001b[0m\u001b[0;34m.\u001b[0m\u001b[0m_start_time\u001b[0m\u001b[0;34m\u001b[0m\u001b[0;34m\u001b[0m\u001b[0m\n",
      "\u001b[0;32m~/.conda/envs/type_1/lib/python3.8/site-packages/joblib/parallel.py\u001b[0m in \u001b[0;36mretrieve\u001b[0;34m(self)\u001b[0m\n\u001b[1;32m    931\u001b[0m             \u001b[0;32mtry\u001b[0m\u001b[0;34m:\u001b[0m\u001b[0;34m\u001b[0m\u001b[0;34m\u001b[0m\u001b[0m\n\u001b[1;32m    932\u001b[0m                 \u001b[0;32mif\u001b[0m \u001b[0mgetattr\u001b[0m\u001b[0;34m(\u001b[0m\u001b[0mself\u001b[0m\u001b[0;34m.\u001b[0m\u001b[0m_backend\u001b[0m\u001b[0;34m,\u001b[0m \u001b[0;34m'supports_timeout'\u001b[0m\u001b[0;34m,\u001b[0m \u001b[0;32mFalse\u001b[0m\u001b[0;34m)\u001b[0m\u001b[0;34m:\u001b[0m\u001b[0;34m\u001b[0m\u001b[0;34m\u001b[0m\u001b[0m\n\u001b[0;32m--> 933\u001b[0;31m                     \u001b[0mself\u001b[0m\u001b[0;34m.\u001b[0m\u001b[0m_output\u001b[0m\u001b[0;34m.\u001b[0m\u001b[0mextend\u001b[0m\u001b[0;34m(\u001b[0m\u001b[0mjob\u001b[0m\u001b[0;34m.\u001b[0m\u001b[0mget\u001b[0m\u001b[0;34m(\u001b[0m\u001b[0mtimeout\u001b[0m\u001b[0;34m=\u001b[0m\u001b[0mself\u001b[0m\u001b[0;34m.\u001b[0m\u001b[0mtimeout\u001b[0m\u001b[0;34m)\u001b[0m\u001b[0;34m)\u001b[0m\u001b[0;34m\u001b[0m\u001b[0;34m\u001b[0m\u001b[0m\n\u001b[0m\u001b[1;32m    934\u001b[0m                 \u001b[0;32melse\u001b[0m\u001b[0;34m:\u001b[0m\u001b[0;34m\u001b[0m\u001b[0;34m\u001b[0m\u001b[0m\n\u001b[1;32m    935\u001b[0m                     \u001b[0mself\u001b[0m\u001b[0;34m.\u001b[0m\u001b[0m_output\u001b[0m\u001b[0;34m.\u001b[0m\u001b[0mextend\u001b[0m\u001b[0;34m(\u001b[0m\u001b[0mjob\u001b[0m\u001b[0;34m.\u001b[0m\u001b[0mget\u001b[0m\u001b[0;34m(\u001b[0m\u001b[0;34m)\u001b[0m\u001b[0;34m)\u001b[0m\u001b[0;34m\u001b[0m\u001b[0;34m\u001b[0m\u001b[0m\n",
      "\u001b[0;32m~/.conda/envs/type_1/lib/python3.8/site-packages/joblib/_parallel_backends.py\u001b[0m in \u001b[0;36mwrap_future_result\u001b[0;34m(future, timeout)\u001b[0m\n\u001b[1;32m    540\u001b[0m         AsyncResults.get from multiprocessing.\"\"\"\n\u001b[1;32m    541\u001b[0m         \u001b[0;32mtry\u001b[0m\u001b[0;34m:\u001b[0m\u001b[0;34m\u001b[0m\u001b[0;34m\u001b[0m\u001b[0m\n\u001b[0;32m--> 542\u001b[0;31m             \u001b[0;32mreturn\u001b[0m \u001b[0mfuture\u001b[0m\u001b[0;34m.\u001b[0m\u001b[0mresult\u001b[0m\u001b[0;34m(\u001b[0m\u001b[0mtimeout\u001b[0m\u001b[0;34m=\u001b[0m\u001b[0mtimeout\u001b[0m\u001b[0;34m)\u001b[0m\u001b[0;34m\u001b[0m\u001b[0;34m\u001b[0m\u001b[0m\n\u001b[0m\u001b[1;32m    543\u001b[0m         \u001b[0;32mexcept\u001b[0m \u001b[0mCfTimeoutError\u001b[0m \u001b[0;32mas\u001b[0m \u001b[0me\u001b[0m\u001b[0;34m:\u001b[0m\u001b[0;34m\u001b[0m\u001b[0;34m\u001b[0m\u001b[0m\n\u001b[1;32m    544\u001b[0m             \u001b[0;32mraise\u001b[0m \u001b[0mTimeoutError\u001b[0m \u001b[0;32mfrom\u001b[0m \u001b[0me\u001b[0m\u001b[0;34m\u001b[0m\u001b[0;34m\u001b[0m\u001b[0m\n",
      "\u001b[0;32m~/.conda/envs/type_1/lib/python3.8/concurrent/futures/_base.py\u001b[0m in \u001b[0;36mresult\u001b[0;34m(self, timeout)\u001b[0m\n\u001b[1;32m    432\u001b[0m                 \u001b[0;32mreturn\u001b[0m \u001b[0mself\u001b[0m\u001b[0;34m.\u001b[0m\u001b[0m__get_result\u001b[0m\u001b[0;34m(\u001b[0m\u001b[0;34m)\u001b[0m\u001b[0;34m\u001b[0m\u001b[0;34m\u001b[0m\u001b[0m\n\u001b[1;32m    433\u001b[0m \u001b[0;34m\u001b[0m\u001b[0m\n\u001b[0;32m--> 434\u001b[0;31m             \u001b[0mself\u001b[0m\u001b[0;34m.\u001b[0m\u001b[0m_condition\u001b[0m\u001b[0;34m.\u001b[0m\u001b[0mwait\u001b[0m\u001b[0;34m(\u001b[0m\u001b[0mtimeout\u001b[0m\u001b[0;34m)\u001b[0m\u001b[0;34m\u001b[0m\u001b[0;34m\u001b[0m\u001b[0m\n\u001b[0m\u001b[1;32m    435\u001b[0m \u001b[0;34m\u001b[0m\u001b[0m\n\u001b[1;32m    436\u001b[0m             \u001b[0;32mif\u001b[0m \u001b[0mself\u001b[0m\u001b[0;34m.\u001b[0m\u001b[0m_state\u001b[0m \u001b[0;32min\u001b[0m \u001b[0;34m[\u001b[0m\u001b[0mCANCELLED\u001b[0m\u001b[0;34m,\u001b[0m \u001b[0mCANCELLED_AND_NOTIFIED\u001b[0m\u001b[0;34m]\u001b[0m\u001b[0;34m:\u001b[0m\u001b[0;34m\u001b[0m\u001b[0;34m\u001b[0m\u001b[0m\n",
      "\u001b[0;32m~/.conda/envs/type_1/lib/python3.8/threading.py\u001b[0m in \u001b[0;36mwait\u001b[0;34m(self, timeout)\u001b[0m\n\u001b[1;32m    300\u001b[0m         \u001b[0;32mtry\u001b[0m\u001b[0;34m:\u001b[0m    \u001b[0;31m# restore state no matter what (e.g., KeyboardInterrupt)\u001b[0m\u001b[0;34m\u001b[0m\u001b[0;34m\u001b[0m\u001b[0m\n\u001b[1;32m    301\u001b[0m             \u001b[0;32mif\u001b[0m \u001b[0mtimeout\u001b[0m \u001b[0;32mis\u001b[0m \u001b[0;32mNone\u001b[0m\u001b[0;34m:\u001b[0m\u001b[0;34m\u001b[0m\u001b[0;34m\u001b[0m\u001b[0m\n\u001b[0;32m--> 302\u001b[0;31m                 \u001b[0mwaiter\u001b[0m\u001b[0;34m.\u001b[0m\u001b[0macquire\u001b[0m\u001b[0;34m(\u001b[0m\u001b[0;34m)\u001b[0m\u001b[0;34m\u001b[0m\u001b[0;34m\u001b[0m\u001b[0m\n\u001b[0m\u001b[1;32m    303\u001b[0m                 \u001b[0mgotit\u001b[0m \u001b[0;34m=\u001b[0m \u001b[0;32mTrue\u001b[0m\u001b[0;34m\u001b[0m\u001b[0;34m\u001b[0m\u001b[0m\n\u001b[1;32m    304\u001b[0m             \u001b[0;32melse\u001b[0m\u001b[0;34m:\u001b[0m\u001b[0;34m\u001b[0m\u001b[0;34m\u001b[0m\u001b[0m\n",
      "\u001b[0;31mKeyboardInterrupt\u001b[0m: "
     ]
    }
   ],
   "source": [
    "features = ['hits',\n",
    " 'percent_coverage',\n",
    " 'mean_coverage',\n",
    " 'sd_coverage',\n",
    " 'percent_binned_coverage',\n",
    " 'mean_binned_coverage',\n",
    " 'sd_binned_coverage',\n",
    " 'expected_percent_coverage',\n",
    " 'shannon_entropy',\n",
    " 'percent_max_uncovered_region',\n",
    " 'largest_pileup',\n",
    " 'largest_binned_pileup',\n",
    " 'gc_content',\n",
    " 'total_genome_length',\n",
    " 'ungapped_genome_length',\n",
    " 'num_n_groups',\n",
    " 'consecutive_ns',\n",
    " 'tree_dist',\n",
    " 'tree_top_dist',\n",
    " 'gf_checkm_completeness',\n",
    " 'gf_checkm_contamination',\n",
    " 'relative_abundance',\n",
    " 'tree_hits',\n",
    " 'tree_percent_coverage',\n",
    " 'tree_mean_coverage',\n",
    " 'tree_sd_coverage',\n",
    " 'tree_percent_binned_coverage',\n",
    " 'tree_mean_binned_coverage',\n",
    " 'tree_sd_binned_coverage',\n",
    " 'tree_expected_percent_coverage',\n",
    " 'tree_shannon_entropy',\n",
    " 'tree_percent_max_uncovered_region',\n",
    " 'tree_largest_pileup',\n",
    " 'tree_largest_binned_pileup',\n",
    " 'tree_dist',\n",
    " 'tree_top_dist'\n",
    "]\n",
    "\n",
    "df_type_1_features['relative_abundance'] = df_type_1_features['hits'] / df_type_1_features.groupby('dataset')['hits'].transform('sum')\n",
    "\n",
    "df_type_1_features.reset_index(inplace=True, drop=True)\n",
    "df_type_1_features['dataset_cat'] = pd.Series([_.split(\"_\")[0] for _ in df_type_1_features['dataset']], dtype='category')\n",
    "\n",
    "categories = df_type_1_features['dataset_cat'].cat.categories\n",
    "\n",
    "X = df_type_1_features[features + [\"assembly_accession\", \"dataset\", \"truth\", \"dataset_cat\"]]\n",
    "\n",
    "cv = PredefinedSplit(X['dataset_cat'].cat.codes)\n",
    "X = X.loc[:, features].copy()\n",
    "X.reset_index(inplace=True, drop=True)\n",
    "\n",
    "y = df_type_1_features.loc[:, \"truth\"]\n",
    "y.reset_index(inplace=True, drop=True)\n",
    "\n",
    "from sklearn.feature_selection import RFECV\n",
    "\n",
    "# rfc = RandomForestClassifier(n_estimators=100, max_features=.2, min_samples_leaf=17, min_samples_split=9, bootstrap=False, criterion=\"gini\", class_weight=\"balanced\")\n",
    "\n",
    "logistic = LogisticRegression(penalty=\"l1\", solver=\"liblinear\", fit_intercept=True, dual=False, tol=0.001, class_weight=\"balanced\")\n",
    "\n",
    "min_features_to_select = 5\n",
    "\n",
    "rfecv = RFECV(logistic, step=1, cv=cv, scoring=\"f1\", min_features_to_select=min_features_to_select, n_jobs=40)\n",
    "rfecv.fit(X, y)\n",
    "\n",
    "print(\"Optimal number of features : %d\" % rfecv.n_features_)\n",
    "\n",
    "# Plot number of features VS. cross-validation scores\n",
    "plt.figure()\n",
    "plt.xlabel(\"Number of features selected\")\n",
    "plt.ylabel(\"Cross validation score (nb of correct classifications)\")\n",
    "plt.plot(range(min_features_to_select,\n",
    "               len(rfecv.grid_scores_) + min_features_to_select),\n",
    "         rfecv.grid_scores_)\n",
    "plt.show()\n",
    "\n",
    "from sklearn.neural_network import MLPClassifier\n",
    "from sklearn.pipeline import make_pipeline\n",
    "from sklearn.preprocessing import MinMaxScaler\n",
    "from sklearn.feature_selection import RFE\n",
    "\n",
    "\n",
    "exported_pipeline = make_pipeline(\n",
    "    RFE(LogisticRegression(penalty=\"l1\", solver=\"liblinear\", fit_intercept=True, dual=False, tol=0.001, class_weight=\"balanced\")),\n",
    "    MinMaxScaler(),\n",
    "    MLPClassifier(alpha=0.01, learning_rate_init=0.01)\n",
    ")"
   ]
  },
  {
   "cell_type": "code",
   "execution_count": 47,
   "metadata": {},
   "outputs": [
    {
     "name": "stderr",
     "output_type": "stream",
     "text": [
      "/home/bhillmann/.conda/envs/type_1/lib/python3.8/site-packages/ipykernel/ipkernel.py:287: DeprecationWarning: `should_run_async` will not call `transform_cell` automatically in the future. Please pass the result to `transformed_cell` argument and any exception that happen during thetransform in `preprocessing_exc_tuple` in IPython 7.17 and above.\n",
      "  and should_run_async(code)\n"
     ]
    }
   ],
   "source": [
    "from sklearn.metrics import average_precision_score\n",
    "from sklearn.metrics import plot_precision_recall_curve\n",
    "from sklearn.ensemble import ExtraTreesClassifier\n",
    "from sklearn.model_selection import StratifiedKFold\n",
    "\n",
    "precisions = []\n",
    "average_precisions = []\n",
    "mean_recall = np.linspace(0, 1, 100)\n",
    "classifiers = []\n",
    "\n",
    "X_transf = rfecv.transform(X)\n",
    "X_transf = X.copy().values\n",
    "# X_transf = X.copy().values\n",
    "# X.reset_index(inplace=True, drop=True)\n",
    "y.reset_index(inplace=True, drop=True)\n",
    "\n",
    "for i, (train, test) in enumerate(cv.split(X_transf, y)):\n",
    "#     clf = RandomForestClassifier(n_estimators=100, max_features=.2, min_samples_leaf=17, min_samples_split=9, bootstrap=False, criterion=\"gini\", class_weight=\"balanced_subsample\")\n",
    "#     clf = ExtraTreesClassifier(bootstrap=True, class_weight=None, criterion='entropy', max_features=0.8, min_samples_leaf=4, min_samples_split=20, n_estimators=100)\n",
    "    clf = make_pipeline(\n",
    "            MinMaxScaler(),\n",
    "            RFECV(LogisticRegression(penalty=\"l1\", solver=\"liblinear\", fit_intercept=True, dual=False, tol=0.001, class_weight=\"balanced\"), step=1, cv=StratifiedKFold(random_state=930525, shuffle=True), scoring=\"f1\", min_features_to_select=5, n_jobs=40),\n",
    "            MLPClassifier(alpha=0.01, learning_rate_init=0.01)\n",
    "        )\n",
    "\n",
    "#     clf = LogisticRegression(penalty=\"l1\", solver=\"liblinear\", fit_intercept=True, dual=False, tol=0.001, class_weight=\"balanced\")\n",
    "    clf.fit(X_transf[train], y.loc[train])\n",
    "    classifiers.append(clf)"
   ]
  }
 ],
 "metadata": {
  "kernelspec": {
   "display_name": "Python [conda env:.conda-type_1]",
   "language": "python",
   "name": "conda-env-.conda-type_1-py"
  },
  "language_info": {
   "codemirror_mode": {
    "name": "ipython",
    "version": 3
   },
   "file_extension": ".py",
   "mimetype": "text/x-python",
   "name": "python",
   "nbconvert_exporter": "python",
   "pygments_lexer": "ipython3",
   "version": "3.8.8"
  }
 },
 "nbformat": 4,
 "nbformat_minor": 4
}
