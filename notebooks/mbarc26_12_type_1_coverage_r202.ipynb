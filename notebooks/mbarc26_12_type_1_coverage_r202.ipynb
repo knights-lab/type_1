{
 "cells": [
  {
   "cell_type": "code",
   "execution_count": 1,
   "metadata": {},
   "outputs": [
    {
     "name": "stdout",
     "output_type": "stream",
     "text": [
      "pandas  1.0.4\n",
      "numpy   1.18.4\n",
      "seaborn 0.10.1\n",
      "\n"
     ]
    }
   ],
   "source": [
    "import numpy as np\n",
    "import matplotlib.pyplot as plt\n",
    "import pandas as pd\n",
    "import warnings\n",
    "import seaborn as sns\n",
    "\n",
    "from scipy.stats import pearsonr\n",
    "\n",
    "sns.set_style(\"darkgrid\")\n",
    "np.random.seed(930525)\n",
    "pd.set_option('display.max_columns', 20)\n",
    "pd.set_option('display.max_rows', 200)\n",
    "\n",
    "warnings.simplefilter('once')\n",
    "\n",
    "%matplotlib inline\n",
    "%load_ext watermark\n",
    "%watermark --iversions"
   ]
  },
  {
   "cell_type": "code",
   "execution_count": 2,
   "metadata": {},
   "outputs": [
    {
     "name": "stderr",
     "output_type": "stream",
     "text": [
      "<frozen importlib._bootstrap>:219: RuntimeWarning: numpy.ufunc size changed, may indicate binary incompatibility. Expected 192 from C header, got 216 from PyObject\n",
      "<frozen importlib._bootstrap>:219: RuntimeWarning: numpy.ufunc size changed, may indicate binary incompatibility. Expected 192 from C header, got 216 from PyObject\n",
      "<frozen importlib._bootstrap>:219: RuntimeWarning: numpy.ufunc size changed, may indicate binary incompatibility. Expected 192 from C header, got 216 from PyObject\n",
      "<frozen importlib._bootstrap>:219: RuntimeWarning: numpy.ufunc size changed, may indicate binary incompatibility. Expected 192 from C header, got 216 from PyObject\n"
     ]
    }
   ],
   "source": [
    "from sklearn.model_selection import train_test_split\n",
    "from sklearn.svm import SVC\n",
    "from sklearn.metrics import plot_roc_curve\n",
    "from sklearn.ensemble import RandomForestClassifier\n",
    "import shap"
   ]
  },
  {
   "cell_type": "code",
   "execution_count": 3,
   "metadata": {},
   "outputs": [],
   "source": [
    "# https://www.ncbi.nlm.nih.gov/pmc/articles/PMC5037974/\n",
    "inf_truth = \"/mnt/nvidia/pkr/code/type_1/data/mock_communities/mbarc_26/SRR3656745/mbarc_26_truth.txt\"\n",
    "inf_tax_file = \"/mnt/btrfs/data/rep202/ab/taxmap.tsv\"\n",
    "outf_truth = \"/mnt/nvidia/pkr/code/type_1/data/mock_communities/mbarc_26/SRR3656745/mbarc_26_truth_rg.txt\"\n",
    "\n",
    "inf_type_1_coverage = \"/mnt/nvidia/pkr/code/type_1/data/mock_communities/mbarc_26/SRR3656745/filter/features_test.csv\"\n",
    "inf_shogun_coverage = \"/mnt/nvidia/pkr/code/type_1/data/mock_communities/mbarc_26/SRR3656745/filter/coverage-201029.txt\"\n",
    "\n",
    "\n",
    "# bmock12\n",
    "bmock12_inf_truth = \"/mnt/nvidia/pkr/code/type_1/data/mock_communities/bmock_12/SRR8073716/bmock_12_truth.txt\"\n",
    "bmock12_inf_tax_file = \"/mnt/btrfs/data/rep202/ab/taxmap.tsv\"\n",
    "bmock12_outf_truth = \"/mnt/nvidia/pkr/code/type_1/data/mock_communities/bmock_12/SRR8073716/bmock_12_truth_rg.txt\"\n",
    "\n",
    "bmock12_inf_coverage = \"/mnt/nvidia/pkr/code/type_1/data/mock_communities/bmock_12/SRR8073716/coverage-201029.txt\""
   ]
  },
  {
   "cell_type": "markdown",
   "metadata": {},
   "source": [
    "# Building the true species dataset"
   ]
  },
  {
   "cell_type": "code",
   "execution_count": 4,
   "metadata": {},
   "outputs": [
    {
     "name": "stdout",
     "output_type": "stream",
     "text": [
      "Escherichia_coli\n",
      "Salmonella_enterica\n",
      "Salmonella_bongori\n",
      "Pseudomonas_stutzeri\n",
      "Hirschia_baltica\n",
      "Frateuria_aurantia\n",
      "Streptococcus_pyogenes\n",
      "Thermobacillus_composti\n",
      "Desulfosporosinus_meridiei\n",
      "Desulfosporosinus_acidiphilus\n",
      "Desulfallas_gibsoniae\n",
      "Hungateiclostridium_thermocellum\n",
      "Clostridium_perfringens\n",
      "Corynebacterium_glutamicum\n",
      "Segniliparus_rotundus\n",
      "Nocardiopsis_dassonvillei\n",
      "Olsenella_uli\n",
      "Coraliomargarita_akajimensis\n",
      "Terriglobus_roseus\n",
      "Meiothermus_silvanus\n",
      "Echinicola_vietnamensis\n",
      "Sediminispirochaeta_smaragdinae\n",
      "Fervidobacterium_pennivorans\n",
      "Halovivax_ruber\n",
      "Natronobacterium_gregoryi\n",
      "Natronococcus_occultus\n"
     ]
    }
   ],
   "source": [
    "with open(outf_truth, \"w\") as outf:\n",
    "    with open(inf_truth) as inf:\n",
    "        for query in inf:\n",
    "            query = query.rstrip()\n",
    "            print(query)\n",
    "            results = !rg {query} {inf_tax_file}\n",
    "            for result in results:\n",
    "                outf.write(result + \"\\n\")"
   ]
  },
  {
   "cell_type": "code",
   "execution_count": 5,
   "metadata": {},
   "outputs": [],
   "source": [
    "df_tax = pd.read_csv(inf_tax_file, names=[\"assembly_accession\", \"tax\"], sep=\"\\t\")\n",
    "\n",
    "df_tax[\"species\"] = [_.split(\";\")[6] for _ in df_tax.tax]\n",
    "df_tax[\"genus\"] = [_.split(\";\")[5] for _ in df_tax.tax]\n",
    "df_tax[\"family\"] = [_.split(\";\")[4] for _ in df_tax.tax]"
   ]
  },
  {
   "cell_type": "code",
   "execution_count": 6,
   "metadata": {},
   "outputs": [],
   "source": [
    "df_type_1_features = pd.read_csv(inf_type_1_coverage, index_col=0)\n",
    "\n",
    "df_type_1_features = pd.merge(df_type_1_features, df_tax, how=\"left\", on=\"assembly_accession\")\n",
    "\n",
    "df_shogun_features = pd.read_csv(inf_shogun_coverage, sep=\"\\t\")\n",
    "headers = list(df_shogun_features.columns)\n",
    "headers[0] = \"tax\"\n",
    "df_shogun_features.columns = headers"
   ]
  },
  {
   "cell_type": "code",
   "execution_count": 7,
   "metadata": {},
   "outputs": [],
   "source": [
    "df_truth = pd.read_csv(outf_truth, header=None, sep=\"\\t\", names=[\"assembly_accession\", \"tax\"])\n",
    "s_truth = set(df_truth[\"assembly_accession\"])\n",
    "\n",
    "df_type_1_features[\"truth\"] = [_ in s_truth for _ in df_type_1_features.assembly_accession]"
   ]
  },
  {
   "cell_type": "code",
   "execution_count": 8,
   "metadata": {},
   "outputs": [
    {
     "data": {
      "text/html": [
       "<div>\n",
       "<style scoped>\n",
       "    .dataframe tbody tr th:only-of-type {\n",
       "        vertical-align: middle;\n",
       "    }\n",
       "\n",
       "    .dataframe tbody tr th {\n",
       "        vertical-align: top;\n",
       "    }\n",
       "\n",
       "    .dataframe thead th {\n",
       "        text-align: right;\n",
       "    }\n",
       "</style>\n",
       "<table border=\"1\" class=\"dataframe\">\n",
       "  <thead>\n",
       "    <tr style=\"text-align: right;\">\n",
       "      <th></th>\n",
       "      <th>assembly_accession</th>\n",
       "      <th>hits</th>\n",
       "      <th>percent_coverage</th>\n",
       "      <th>expected_coverage</th>\n",
       "      <th>percent_padded_coverage</th>\n",
       "      <th>shannon_entropy</th>\n",
       "      <th>percent_max_uncovered_region</th>\n",
       "      <th>largest_pileup</th>\n",
       "      <th>gc_content</th>\n",
       "      <th>genome_length</th>\n",
       "      <th>num_n_groups</th>\n",
       "      <th>consecutive_ns</th>\n",
       "      <th>tax</th>\n",
       "      <th>species</th>\n",
       "      <th>genus</th>\n",
       "      <th>family</th>\n",
       "    </tr>\n",
       "    <tr>\n",
       "      <th>truth</th>\n",
       "      <th></th>\n",
       "      <th></th>\n",
       "      <th></th>\n",
       "      <th></th>\n",
       "      <th></th>\n",
       "      <th></th>\n",
       "      <th></th>\n",
       "      <th></th>\n",
       "      <th></th>\n",
       "      <th></th>\n",
       "      <th></th>\n",
       "      <th></th>\n",
       "      <th></th>\n",
       "      <th></th>\n",
       "      <th></th>\n",
       "      <th></th>\n",
       "    </tr>\n",
       "  </thead>\n",
       "  <tbody>\n",
       "    <tr>\n",
       "      <th>False</th>\n",
       "      <td>GCF_903652925.1</td>\n",
       "      <td>605899</td>\n",
       "      <td>inf</td>\n",
       "      <td>1.0</td>\n",
       "      <td>1.326339e+12</td>\n",
       "      <td>2.171620</td>\n",
       "      <td>2.000000</td>\n",
       "      <td>25789</td>\n",
       "      <td>0.770192</td>\n",
       "      <td>13613686</td>\n",
       "      <td>2033</td>\n",
       "      <td>4435411</td>\n",
       "      <td>k__Bacteria;p__Verrucomicrobia;c__Opitutae;o__...</td>\n",
       "      <td>s__[Ruminococcus]_torques</td>\n",
       "      <td>g__Zymobacter</td>\n",
       "      <td>f__Zoogloeaceae</td>\n",
       "    </tr>\n",
       "    <tr>\n",
       "      <th>True</th>\n",
       "      <td>GCF_900638035.1</td>\n",
       "      <td>17825608</td>\n",
       "      <td>3.886471e+10</td>\n",
       "      <td>1.0</td>\n",
       "      <td>1.470382e+10</td>\n",
       "      <td>6.259692</td>\n",
       "      <td>0.404189</td>\n",
       "      <td>37882</td>\n",
       "      <td>0.726158</td>\n",
       "      <td>6641645</td>\n",
       "      <td>31</td>\n",
       "      <td>100</td>\n",
       "      <td>k__Bacteria;p__Verrucomicrobia;c__Opitutae;o__...</td>\n",
       "      <td>s__Thermobacillus_composti</td>\n",
       "      <td>g__Thermobacillus</td>\n",
       "      <td>f__Thermaceae</td>\n",
       "    </tr>\n",
       "  </tbody>\n",
       "</table>\n",
       "</div>"
      ],
      "text/plain": [
       "      assembly_accession      hits  percent_coverage  expected_coverage  \\\n",
       "truth                                                                     \n",
       "False    GCF_903652925.1    605899               inf                1.0   \n",
       "True     GCF_900638035.1  17825608      3.886471e+10                1.0   \n",
       "\n",
       "       percent_padded_coverage  shannon_entropy  percent_max_uncovered_region  \\\n",
       "truth                                                                           \n",
       "False             1.326339e+12         2.171620                      2.000000   \n",
       "True              1.470382e+10         6.259692                      0.404189   \n",
       "\n",
       "       largest_pileup  gc_content  genome_length  num_n_groups  \\\n",
       "truth                                                            \n",
       "False           25789    0.770192       13613686          2033   \n",
       "True            37882    0.726158        6641645            31   \n",
       "\n",
       "       consecutive_ns                                                tax  \\\n",
       "truth                                                                      \n",
       "False         4435411  k__Bacteria;p__Verrucomicrobia;c__Opitutae;o__...   \n",
       "True              100  k__Bacteria;p__Verrucomicrobia;c__Opitutae;o__...   \n",
       "\n",
       "                          species              genus           family  \n",
       "truth                                                                  \n",
       "False   s__[Ruminococcus]_torques      g__Zymobacter  f__Zoogloeaceae  \n",
       "True   s__Thermobacillus_composti  g__Thermobacillus    f__Thermaceae  "
      ]
     },
     "execution_count": 8,
     "metadata": {},
     "output_type": "execute_result"
    }
   ],
   "source": [
    "df_type_1_features.groupby(\"truth\").max()"
   ]
  },
  {
   "cell_type": "code",
   "execution_count": 9,
   "metadata": {},
   "outputs": [
    {
     "data": {
      "text/html": [
       "<div>\n",
       "<style scoped>\n",
       "    .dataframe tbody tr th:only-of-type {\n",
       "        vertical-align: middle;\n",
       "    }\n",
       "\n",
       "    .dataframe tbody tr th {\n",
       "        vertical-align: top;\n",
       "    }\n",
       "\n",
       "    .dataframe thead th {\n",
       "        text-align: right;\n",
       "    }\n",
       "</style>\n",
       "<table border=\"1\" class=\"dataframe\">\n",
       "  <thead>\n",
       "    <tr style=\"text-align: right;\">\n",
       "      <th></th>\n",
       "      <th>assembly_accession</th>\n",
       "      <th>hits</th>\n",
       "      <th>percent_coverage</th>\n",
       "      <th>expected_coverage</th>\n",
       "      <th>percent_padded_coverage</th>\n",
       "      <th>shannon_entropy</th>\n",
       "      <th>percent_max_uncovered_region</th>\n",
       "      <th>largest_pileup</th>\n",
       "      <th>gc_content</th>\n",
       "      <th>genome_length</th>\n",
       "      <th>num_n_groups</th>\n",
       "      <th>consecutive_ns</th>\n",
       "      <th>tax</th>\n",
       "      <th>species</th>\n",
       "      <th>genus</th>\n",
       "      <th>family</th>\n",
       "      <th>truth</th>\n",
       "    </tr>\n",
       "  </thead>\n",
       "  <tbody>\n",
       "    <tr>\n",
       "      <th>0</th>\n",
       "      <td>GCF_000233715.2</td>\n",
       "      <td>5850498</td>\n",
       "      <td>4.855530e+06</td>\n",
       "      <td>1.000000</td>\n",
       "      <td>4.855557e+06</td>\n",
       "      <td>NaN</td>\n",
       "      <td>2.059508e-07</td>\n",
       "      <td>2668</td>\n",
       "      <td>0.454910</td>\n",
       "      <td>4855529</td>\n",
       "      <td>0</td>\n",
       "      <td>0</td>\n",
       "      <td>k__Bacteria;p__Firmicutes;c__Clostridia;o__Clo...</td>\n",
       "      <td>s__Desulfallas_gibsoniae</td>\n",
       "      <td>g__Desulfallas</td>\n",
       "      <td>f__Peptococcaceae</td>\n",
       "      <td>True</td>\n",
       "    </tr>\n",
       "    <tr>\n",
       "      <th>1</th>\n",
       "      <td>GCF_000227705.2</td>\n",
       "      <td>5884236</td>\n",
       "      <td>4.357000e+06</td>\n",
       "      <td>1.000000</td>\n",
       "      <td>4.356534e+06</td>\n",
       "      <td>NaN</td>\n",
       "      <td>5.579121e-05</td>\n",
       "      <td>4756</td>\n",
       "      <td>0.601164</td>\n",
       "      <td>4355525</td>\n",
       "      <td>1</td>\n",
       "      <td>20</td>\n",
       "      <td>k__Bacteria;p__Firmicutes;c__Bacilli;o__Bacill...</td>\n",
       "      <td>s__Thermobacillus_composti</td>\n",
       "      <td>g__Thermobacillus</td>\n",
       "      <td>f__Paenibacillaceae</td>\n",
       "      <td>True</td>\n",
       "    </tr>\n",
       "    <tr>\n",
       "      <th>2</th>\n",
       "      <td>GCF_000025905.1</td>\n",
       "      <td>2219355</td>\n",
       "      <td>3.750772e+06</td>\n",
       "      <td>1.000000</td>\n",
       "      <td>3.750812e+06</td>\n",
       "      <td>NaN</td>\n",
       "      <td>2.666119e-07</td>\n",
       "      <td>678</td>\n",
       "      <td>0.536018</td>\n",
       "      <td>3750771</td>\n",
       "      <td>0</td>\n",
       "      <td>0</td>\n",
       "      <td>k__Bacteria;p__Verrucomicrobia;c__Opitutae;o__...</td>\n",
       "      <td>s__Coraliomargarita_akajimensis</td>\n",
       "      <td>g__Coraliomargarita</td>\n",
       "      <td>f__Puniceicoccaceae</td>\n",
       "      <td>True</td>\n",
       "    </tr>\n",
       "    <tr>\n",
       "      <th>3</th>\n",
       "      <td>GCF_000017545.1</td>\n",
       "      <td>605899</td>\n",
       "      <td>9.987303e+07</td>\n",
       "      <td>1.000000</td>\n",
       "      <td>9.037285e+07</td>\n",
       "      <td>NaN</td>\n",
       "      <td>2.383700e-01</td>\n",
       "      <td>25789</td>\n",
       "      <td>0.349893</td>\n",
       "      <td>1948941</td>\n",
       "      <td>0</td>\n",
       "      <td>0</td>\n",
       "      <td>k__Bacteria;p__Thermotogae;c__Thermotogae;o__T...</td>\n",
       "      <td>s__Fervidobacterium_nodosum</td>\n",
       "      <td>g__Fervidobacterium</td>\n",
       "      <td>f__Fervidobacteriaceae</td>\n",
       "      <td>False</td>\n",
       "    </tr>\n",
       "    <tr>\n",
       "      <th>4</th>\n",
       "      <td>GCF_001644665.1</td>\n",
       "      <td>2083245</td>\n",
       "      <td>8.145842e+06</td>\n",
       "      <td>1.000000</td>\n",
       "      <td>7.186443e+06</td>\n",
       "      <td>NaN</td>\n",
       "      <td>1.817104e-02</td>\n",
       "      <td>25789</td>\n",
       "      <td>0.389368</td>\n",
       "      <td>2061852</td>\n",
       "      <td>0</td>\n",
       "      <td>0</td>\n",
       "      <td>k__Bacteria;p__Thermotogae;c__Thermotogae;o__T...</td>\n",
       "      <td>s__Fervidobacterium_pennivorans</td>\n",
       "      <td>g__Fervidobacterium</td>\n",
       "      <td>f__Fervidobacteriaceae</td>\n",
       "      <td>True</td>\n",
       "    </tr>\n",
       "    <tr>\n",
       "      <th>...</th>\n",
       "      <td>...</td>\n",
       "      <td>...</td>\n",
       "      <td>...</td>\n",
       "      <td>...</td>\n",
       "      <td>...</td>\n",
       "      <td>...</td>\n",
       "      <td>...</td>\n",
       "      <td>...</td>\n",
       "      <td>...</td>\n",
       "      <td>...</td>\n",
       "      <td>...</td>\n",
       "      <td>...</td>\n",
       "      <td>...</td>\n",
       "      <td>...</td>\n",
       "      <td>...</td>\n",
       "      <td>...</td>\n",
       "      <td>...</td>\n",
       "    </tr>\n",
       "    <tr>\n",
       "      <th>7354</th>\n",
       "      <td>GCF_003386675.1</td>\n",
       "      <td>1</td>\n",
       "      <td>1.985298e+11</td>\n",
       "      <td>0.000018</td>\n",
       "      <td>6.452220e+10</td>\n",
       "      <td>0.000311</td>\n",
       "      <td>9.999819e-01</td>\n",
       "      <td>1</td>\n",
       "      <td>0.700075</td>\n",
       "      <td>3592275</td>\n",
       "      <td>9</td>\n",
       "      <td>96</td>\n",
       "      <td>k__Bacteria;p__Actinobacteria;c__Actinobacteri...</td>\n",
       "      <td>s__Microbacterium_chocolatum</td>\n",
       "      <td>g__Microbacterium</td>\n",
       "      <td>f__Microbacteriaceae</td>\n",
       "      <td>False</td>\n",
       "    </tr>\n",
       "    <tr>\n",
       "      <th>7355</th>\n",
       "      <td>GCF_900097955.1</td>\n",
       "      <td>1</td>\n",
       "      <td>1.101172e+11</td>\n",
       "      <td>0.000024</td>\n",
       "      <td>3.578810e+10</td>\n",
       "      <td>0.000407</td>\n",
       "      <td>9.999757e-01</td>\n",
       "      <td>1</td>\n",
       "      <td>0.324814</td>\n",
       "      <td>2675373</td>\n",
       "      <td>35</td>\n",
       "      <td>362</td>\n",
       "      <td>k__Bacteria;p__Firmicutes;c__Bacilli;o__Bacill...</td>\n",
       "      <td>s__Staphylococcus_cohnii</td>\n",
       "      <td>g__Staphylococcus</td>\n",
       "      <td>f__Staphylococcaceae</td>\n",
       "      <td>False</td>\n",
       "    </tr>\n",
       "    <tr>\n",
       "      <th>7356</th>\n",
       "      <td>GCF_900103135.1</td>\n",
       "      <td>1</td>\n",
       "      <td>1.231825e+11</td>\n",
       "      <td>0.000022</td>\n",
       "      <td>3.695475e+10</td>\n",
       "      <td>0.000373</td>\n",
       "      <td>9.999779e-01</td>\n",
       "      <td>1</td>\n",
       "      <td>0.450703</td>\n",
       "      <td>2718630</td>\n",
       "      <td>71</td>\n",
       "      <td>20</td>\n",
       "      <td>k__Bacteria;p__Firmicutes;c__Clostridia;o__Hal...</td>\n",
       "      <td>s__Halarsenatibacter_silvermanii</td>\n",
       "      <td>g__Halarsenatibacter</td>\n",
       "      <td>f__Halanaerobiaceae</td>\n",
       "      <td>False</td>\n",
       "    </tr>\n",
       "    <tr>\n",
       "      <th>7357</th>\n",
       "      <td>GCF_000219125.1</td>\n",
       "      <td>1</td>\n",
       "      <td>3.114687e+11</td>\n",
       "      <td>0.000014</td>\n",
       "      <td>9.344061e+10</td>\n",
       "      <td>0.000244</td>\n",
       "      <td>9.999861e-01</td>\n",
       "      <td>1</td>\n",
       "      <td>0.503612</td>\n",
       "      <td>4322976</td>\n",
       "      <td>297</td>\n",
       "      <td>20</td>\n",
       "      <td>k__Bacteria;p__Firmicutes;c__Negativicutes;o__...</td>\n",
       "      <td>s__Acetonema_longum</td>\n",
       "      <td>g__Acetonema</td>\n",
       "      <td>f__Sporomusaceae</td>\n",
       "      <td>False</td>\n",
       "    </tr>\n",
       "    <tr>\n",
       "      <th>7358</th>\n",
       "      <td>GCF_002200855.1</td>\n",
       "      <td>2</td>\n",
       "      <td>2.222121e+11</td>\n",
       "      <td>0.000031</td>\n",
       "      <td>7.959837e+10</td>\n",
       "      <td>0.000325</td>\n",
       "      <td>9.999820e-01</td>\n",
       "      <td>2</td>\n",
       "      <td>0.347444</td>\n",
       "      <td>3999909</td>\n",
       "      <td>155</td>\n",
       "      <td>20</td>\n",
       "      <td>k__Bacteria;p__Firmicutes;c__Bacilli;o__Bacill...</td>\n",
       "      <td>s__Lysinibacillus_massiliensis</td>\n",
       "      <td>g__Lysinibacillus</td>\n",
       "      <td>f__Bacillaceae</td>\n",
       "      <td>False</td>\n",
       "    </tr>\n",
       "  </tbody>\n",
       "</table>\n",
       "<p>7359 rows × 17 columns</p>\n",
       "</div>"
      ],
      "text/plain": [
       "     assembly_accession     hits  percent_coverage  expected_coverage  \\\n",
       "0       GCF_000233715.2  5850498      4.855530e+06           1.000000   \n",
       "1       GCF_000227705.2  5884236      4.357000e+06           1.000000   \n",
       "2       GCF_000025905.1  2219355      3.750772e+06           1.000000   \n",
       "3       GCF_000017545.1   605899      9.987303e+07           1.000000   \n",
       "4       GCF_001644665.1  2083245      8.145842e+06           1.000000   \n",
       "...                 ...      ...               ...                ...   \n",
       "7354    GCF_003386675.1        1      1.985298e+11           0.000018   \n",
       "7355    GCF_900097955.1        1      1.101172e+11           0.000024   \n",
       "7356    GCF_900103135.1        1      1.231825e+11           0.000022   \n",
       "7357    GCF_000219125.1        1      3.114687e+11           0.000014   \n",
       "7358    GCF_002200855.1        2      2.222121e+11           0.000031   \n",
       "\n",
       "      percent_padded_coverage  shannon_entropy  percent_max_uncovered_region  \\\n",
       "0                4.855557e+06              NaN                  2.059508e-07   \n",
       "1                4.356534e+06              NaN                  5.579121e-05   \n",
       "2                3.750812e+06              NaN                  2.666119e-07   \n",
       "3                9.037285e+07              NaN                  2.383700e-01   \n",
       "4                7.186443e+06              NaN                  1.817104e-02   \n",
       "...                       ...              ...                           ...   \n",
       "7354             6.452220e+10         0.000311                  9.999819e-01   \n",
       "7355             3.578810e+10         0.000407                  9.999757e-01   \n",
       "7356             3.695475e+10         0.000373                  9.999779e-01   \n",
       "7357             9.344061e+10         0.000244                  9.999861e-01   \n",
       "7358             7.959837e+10         0.000325                  9.999820e-01   \n",
       "\n",
       "      largest_pileup  gc_content  genome_length  num_n_groups  consecutive_ns  \\\n",
       "0               2668    0.454910        4855529             0               0   \n",
       "1               4756    0.601164        4355525             1              20   \n",
       "2                678    0.536018        3750771             0               0   \n",
       "3              25789    0.349893        1948941             0               0   \n",
       "4              25789    0.389368        2061852             0               0   \n",
       "...              ...         ...            ...           ...             ...   \n",
       "7354               1    0.700075        3592275             9              96   \n",
       "7355               1    0.324814        2675373            35             362   \n",
       "7356               1    0.450703        2718630            71              20   \n",
       "7357               1    0.503612        4322976           297              20   \n",
       "7358               2    0.347444        3999909           155              20   \n",
       "\n",
       "                                                    tax  \\\n",
       "0     k__Bacteria;p__Firmicutes;c__Clostridia;o__Clo...   \n",
       "1     k__Bacteria;p__Firmicutes;c__Bacilli;o__Bacill...   \n",
       "2     k__Bacteria;p__Verrucomicrobia;c__Opitutae;o__...   \n",
       "3     k__Bacteria;p__Thermotogae;c__Thermotogae;o__T...   \n",
       "4     k__Bacteria;p__Thermotogae;c__Thermotogae;o__T...   \n",
       "...                                                 ...   \n",
       "7354  k__Bacteria;p__Actinobacteria;c__Actinobacteri...   \n",
       "7355  k__Bacteria;p__Firmicutes;c__Bacilli;o__Bacill...   \n",
       "7356  k__Bacteria;p__Firmicutes;c__Clostridia;o__Hal...   \n",
       "7357  k__Bacteria;p__Firmicutes;c__Negativicutes;o__...   \n",
       "7358  k__Bacteria;p__Firmicutes;c__Bacilli;o__Bacill...   \n",
       "\n",
       "                               species                 genus  \\\n",
       "0             s__Desulfallas_gibsoniae        g__Desulfallas   \n",
       "1           s__Thermobacillus_composti     g__Thermobacillus   \n",
       "2      s__Coraliomargarita_akajimensis   g__Coraliomargarita   \n",
       "3          s__Fervidobacterium_nodosum   g__Fervidobacterium   \n",
       "4      s__Fervidobacterium_pennivorans   g__Fervidobacterium   \n",
       "...                                ...                   ...   \n",
       "7354      s__Microbacterium_chocolatum     g__Microbacterium   \n",
       "7355          s__Staphylococcus_cohnii     g__Staphylococcus   \n",
       "7356  s__Halarsenatibacter_silvermanii  g__Halarsenatibacter   \n",
       "7357               s__Acetonema_longum          g__Acetonema   \n",
       "7358    s__Lysinibacillus_massiliensis     g__Lysinibacillus   \n",
       "\n",
       "                      family  truth  \n",
       "0          f__Peptococcaceae   True  \n",
       "1        f__Paenibacillaceae   True  \n",
       "2        f__Puniceicoccaceae   True  \n",
       "3     f__Fervidobacteriaceae  False  \n",
       "4     f__Fervidobacteriaceae   True  \n",
       "...                      ...    ...  \n",
       "7354    f__Microbacteriaceae  False  \n",
       "7355    f__Staphylococcaceae  False  \n",
       "7356     f__Halanaerobiaceae  False  \n",
       "7357        f__Sporomusaceae  False  \n",
       "7358          f__Bacillaceae  False  \n",
       "\n",
       "[7359 rows x 17 columns]"
      ]
     },
     "execution_count": 9,
     "metadata": {},
     "output_type": "execute_result"
    }
   ],
   "source": [
    "df_type_1_features"
   ]
  },
  {
   "cell_type": "code",
   "execution_count": 10,
   "metadata": {},
   "outputs": [],
   "source": [
    "df_type_1_features = df_type_1_features.replace([np.inf, -np.inf], np.nan)\n",
    "df_type_1_features = df_type_1_features.dropna()\n",
    "\n",
    "X_type_1 = df_type_1_features.loc[:, df_type_1_features.columns.difference([\"assembly_accession\", \"tax\", \"truth\", \"species\", \"family\", \"genus\"])]\n",
    "\n",
    "y = df_type_1_features[\"truth\"]\n",
    "X_type_1_train, X_type_1_test, y_train, y_test = train_test_split(X_type_1, y, random_state=42)"
   ]
  },
  {
   "cell_type": "code",
   "execution_count": 11,
   "metadata": {},
   "outputs": [
    {
     "data": {
      "text/plain": [
       "RandomForestClassifier(random_state=42)"
      ]
     },
     "execution_count": 11,
     "metadata": {},
     "output_type": "execute_result"
    }
   ],
   "source": [
    "clf = RandomForestClassifier(random_state=42)\n",
    "\n",
    "clf.fit(X_type_1_train, y_train)"
   ]
  },
  {
   "cell_type": "code",
   "execution_count": 12,
   "metadata": {},
   "outputs": [
    {
     "data": {
      "image/png": "[encoded data removed]",
      "text/plain": [
       "<Figure size 432x288 with 1 Axes>"
      ]
     },
     "metadata": {
      "needs_background": "light"
     },
     "output_type": "display_data"
    }
   ],
   "source": [
    "clf_disp = plot_roc_curve(clf, X_type_1_test, y_test)\n",
    "plt.show()"
   ]
  },
  {
   "cell_type": "code",
   "execution_count": 13,
   "metadata": {},
   "outputs": [],
   "source": [
    "# X_type_1[\"truth\"] = y\n",
    "# sns.pairplot(X_type_1, hue=\"truth\")"
   ]
  },
  {
   "cell_type": "code",
   "execution_count": 14,
   "metadata": {},
   "outputs": [
    {
     "data": {
      "image/png": "[encoded data removed]",
      "text/plain": [
       "<Figure size 576x424.8 with 1 Axes>"
      ]
     },
     "metadata": {
      "needs_background": "light"
     },
     "output_type": "display_data"
    }
   ],
   "source": [
    "explainer = shap.TreeExplainer(clf, X_type_1_train)\n",
    "\n",
    "shap_values = explainer.shap_values(X_type_1_train)\n",
    "shap.summary_plot(shap_values, X_type_1_train, show=False)\n",
    "fig = plt.gcf()"
   ]
  },
  {
   "cell_type": "code",
   "execution_count": 15,
   "metadata": {},
   "outputs": [],
   "source": [
    "df_truth.columns = [\"id\", \"tax\"]\n",
    "df_truth[\"species\"] = [\";\".join(s.split(\";\")[:7]) for s in df_truth[\"tax\"]]\n",
    "s_truth = set(df_truth[\"species\"])\n",
    "\n",
    "df_shogun_features[\"truth\"] = [species in s_truth for species in df_shogun_features.tax]"
   ]
  },
  {
   "cell_type": "code",
   "execution_count": 16,
   "metadata": {},
   "outputs": [],
   "source": [
    "X = df_shogun_features.loc[:, df_shogun_features.columns.difference([\"truth\", \"tax\", \"ratio_covered_over_expected\", \"species\"])]\n",
    "y = df_shogun_features[\"truth\"]\n",
    "X_shogun_train, X_shogun_test, y_shogun_train, y_shogun_test = train_test_split(X, y, random_state=42)"
   ]
  },
  {
   "cell_type": "code",
   "execution_count": 17,
   "metadata": {},
   "outputs": [
    {
     "data": {
      "text/plain": [
       "RandomForestClassifier(random_state=42)"
      ]
     },
     "execution_count": 17,
     "metadata": {},
     "output_type": "execute_result"
    }
   ],
   "source": [
    "clf_shogun = RandomForestClassifier(random_state=42)\n",
    "\n",
    "clf_shogun.fit(X_shogun_train, y_shogun_train)"
   ]
  },
  {
   "cell_type": "code",
   "execution_count": 18,
   "metadata": {},
   "outputs": [
    {
     "data": {
      "image/png": "[encoded data removed]",
      "text/plain": [
       "<Figure size 432x288 with 1 Axes>"
      ]
     },
     "metadata": {
      "needs_background": "light"
     },
     "output_type": "display_data"
    }
   ],
   "source": [
    "clf_shogun_disp = plot_roc_curve(clf_shogun, X_shogun_test, y_shogun_test)\n",
    "plt.show()"
   ]
  },
  {
   "cell_type": "code",
   "execution_count": 143,
   "metadata": {},
   "outputs": [
    {
     "name": "stdout",
     "output_type": "stream",
     "text": [
      "0.9998640195811803\n"
     ]
    }
   ],
   "source": [
    "y_mbarc26_preds = clf_shogun.predict(X)\n",
    "\n",
    "accuracy_mbarc26_shogun = (y_mbarc26_preds == y).sum() / (y.shape[0])\n",
    "\n",
    "print(accuracy_mbarc26_shogun)"
   ]
  },
  {
   "cell_type": "code",
   "execution_count": 145,
   "metadata": {},
   "outputs": [
    {
     "data": {
      "text/plain": [
       "25"
      ]
     },
     "execution_count": 145,
     "metadata": {},
     "output_type": "execute_result"
    }
   ],
   "source": [
    "y_mbarc26_preds.sum()"
   ]
  },
  {
   "cell_type": "code",
   "execution_count": 119,
   "metadata": {},
   "outputs": [],
   "source": [
    "mbarc26_capitalist_inf = \"/mnt/nvidia/pkr/code/type_1/data/mock_communities/mbarc_26/SRR3656745/filter/taxatable.capitalist.species.txt\"\n",
    "mbarc26_shogun_inf = \"/mnt/nvidia/pkr/code/type_1/data/mock_communities/mbarc_26/SRR3656745/filter/taxatable.species.txt\""
   ]
  },
  {
   "cell_type": "code",
   "execution_count": 139,
   "metadata": {},
   "outputs": [],
   "source": [
    "df_mbarc26_capitalist = pd.read_csv(mbarc26_capitalist_inf, sep=\"\\t\")\n",
    "df_mbarc26_shogun = pd.read_csv(mbarc26_shogun_inf, sep=\"\\t\")"
   ]
  },
  {
   "cell_type": "code",
   "execution_count": 140,
   "metadata": {},
   "outputs": [
    {
     "name": "stdout",
     "output_type": "stream",
     "text": [
      "0.017310252996005325\n"
     ]
    }
   ],
   "source": [
    "df_mbarc26_capitalist[\"species\"] = [\";\".join(_.split(\";\")[:7]) for _ in df_mbarc26_capitalist[\"#OTU ID\"]]\n",
    "df_mbarc26_capitalist[\"truth\"] = [species in s_truth for species in df_mbarc26_capitalist.species]\n",
    "\n",
    "accuracy_mbarc26 = df_mbarc26_capitalist[\"truth\"].sum() / df_mbarc26_capitalist[\"truth\"].shape[0]\n",
    "print(accuracy_mbarc26)"
   ]
  },
  {
   "cell_type": "code",
   "execution_count": 141,
   "metadata": {},
   "outputs": [],
   "source": [
    "df_mbarc26_capitalist[\"species\"] = [\";\".join(_.split(\";\")[:7]) for _ in df_mbarc26_capitalist[\"#OTU ID\"]]\n",
    "df_mbarc26_capitalist[\"truth\"] = [species in s_truth for species in df_mbarc26_capitalist.species]\n",
    "\n",
    "df_mbarc26_capitalist[\"SRR3656745\"] = df_mbarc26_capitalist[\"SRR3656745\"] / df_mbarc26_capitalist[\"SRR3656745\"].sum()\n",
    "\n",
    "df_mbarc26_capitalist = df_mbarc26_capitalist[df_mbarc26_capitalist[\"SRR3656745\"] > .005]\n",
    "\n",
    "accuracy_mbarc26 = df_mbarc26_capitalist[\"truth\"].sum() / df_mbarc26_capitalist.shape[0]"
   ]
  },
  {
   "cell_type": "code",
   "execution_count": 142,
   "metadata": {},
   "outputs": [
    {
     "data": {
      "text/plain": [
       "10     k__Archaea;p__Euryarchaeota;c__Halobacteria;o_...\n",
       "13     k__Archaea;p__Euryarchaeota;c__Halobacteria;o_...\n",
       "16     k__Archaea;p__Euryarchaeota;c__Halobacteria;o_...\n",
       "62     k__Bacteria;p__Actinobacteria;c__Actinobacteri...\n",
       "87     k__Bacteria;p__Actinobacteria;c__Coriobacterii...\n",
       "107    k__Bacteria;p__Bacteroidetes;c__Cytophagia;o__...\n",
       "139    k__Bacteria;p__Deinococcus-Thermus;c__Deinococ...\n",
       "172    k__Bacteria;p__Firmicutes;c__Bacilli;o__Bacill...\n",
       "236    k__Bacteria;p__Firmicutes;c__Clostridia;o__Clo...\n",
       "264    k__Bacteria;p__Firmicutes;c__Clostridia;o__Clo...\n",
       "270    k__Bacteria;p__Firmicutes;c__Clostridia;o__Clo...\n",
       "273    k__Bacteria;p__Firmicutes;c__Clostridia;o__Clo...\n",
       "343    k__Bacteria;p__Proteobacteria;c__Alphaproteoba...\n",
       "712    k__Bacteria;p__Proteobacteria;c__Gammaproteoba...\n",
       "734    k__Bacteria;p__Spirochaetes;c__Spirochaetia;o_...\n",
       "746    k__Bacteria;p__Thermotogae;c__Thermotogae;o__T...\n",
       "750    k__Bacteria;p__Verrucomicrobia;c__Opitutae;o__...\n",
       "Name: species, dtype: object"
      ]
     },
     "execution_count": 142,
     "metadata": {},
     "output_type": "execute_result"
    }
   ],
   "source": [
    "df_mbarc26_capitalist[\"species\"]"
   ]
  },
  {
   "cell_type": "markdown",
   "metadata": {},
   "source": [
    "# bmock12 test"
   ]
  },
  {
   "cell_type": "code",
   "execution_count": 52,
   "metadata": {},
   "outputs": [],
   "source": [
    "with open(bmock12_outf_truth, \"w\") as outf:\n",
    "    with open(bmock12_inf_truth) as inf:\n",
    "        for query in inf:\n",
    "            query = query.rstrip()\n",
    "            results = !rg {query} {inf_tax_file}\n",
    "            for result in results:\n",
    "                outf.write(result + \"\\n\")"
   ]
  },
  {
   "cell_type": "code",
   "execution_count": 53,
   "metadata": {},
   "outputs": [],
   "source": [
    "df_bmock12_inf_coverage = pd.read_csv(bmock12_inf_coverage, sep=\"\\t\")\n",
    "headers = list(df_bmock12_inf_coverage.columns)\n",
    "headers[0] = \"tax\"\n",
    "df_bmock12_inf_coverage.columns = headers"
   ]
  },
  {
   "cell_type": "code",
   "execution_count": 54,
   "metadata": {},
   "outputs": [
    {
     "data": {
      "text/plain": [
       "id     object\n",
       "tax    object\n",
       "dtype: object"
      ]
     },
     "execution_count": 54,
     "metadata": {},
     "output_type": "execute_result"
    }
   ],
   "source": [
    "df_bmock12_truth.dtypes"
   ]
  },
  {
   "cell_type": "code",
   "execution_count": 57,
   "metadata": {},
   "outputs": [
    {
     "data": {
      "text/plain": [
       "225"
      ]
     },
     "execution_count": 57,
     "metadata": {},
     "output_type": "execute_result"
    }
   ],
   "source": [
    "df_bmock12_truth = pd.read_csv(bmock12_outf_truth, header=None, sep=\"\\t\")\n",
    "\n",
    "df_bmock12_truth.columns = [\"id\", \"tax\"]\n",
    "df_bmock12_truth[\"species\"] = [\";\".join(s.split(\";\")[:7]) for s in df_bmock12_truth[\"tax\"]]\n",
    "s_truth = set(df_bmock12_truth[\"species\"])\n",
    "df_bmock12_inf_coverage[\"truth\"] = [species in s_truth for species in df_bmock12_inf_coverage.tax]\n",
    "df_bmock12_inf_coverage[\"truth\"].sum()\n",
    "len(s_truth)"
   ]
  },
  {
   "cell_type": "code",
   "execution_count": 62,
   "metadata": {},
   "outputs": [],
   "source": [
    "X_bmock12 = df_bmock12_inf_coverage.loc[:, df_bmock12_inf_coverage.columns.difference([\"truth\", \"tax\", \"ratio_covered_over_expected\", \"species\"])]\n",
    "y_bmock12 = df_bmock12_inf_coverage[\"truth\"]"
   ]
  },
  {
   "cell_type": "code",
   "execution_count": 65,
   "metadata": {},
   "outputs": [
    {
     "data": {
      "image/png": "[encoded data removed]",
      "text/plain": [
       "<Figure size 432x288 with 1 Axes>"
      ]
     },
     "metadata": {
      "needs_background": "light"
     },
     "output_type": "display_data"
    }
   ],
   "source": [
    "y_bmock12_preds = clf_shogun.predict(X_bmock12)\n",
    "\n",
    "lgb_disp = plot_roc_curve(clf_shogun, X_bmock12, y_bmock12)\n",
    "plt.show()"
   ]
  },
  {
   "cell_type": "code",
   "execution_count": 69,
   "metadata": {},
   "outputs": [],
   "source": [
    "accuracy_bmock12_shogun = (y_bmock12_preds == y_bmock12).sum() / (y_bmock12.shape[0])"
   ]
  },
  {
   "cell_type": "code",
   "execution_count": 77,
   "metadata": {},
   "outputs": [],
   "source": [
    "bmock12_capitalist_inf = \"/mnt/nvidia/pkr/code/type_1/data/mock_communities/bmock_12/SRR8073716/filter/results-201029/taxatable.capitalist.species.txt\"\n",
    "bmock12_shogun_inf = \"/mnt/nvidia/pkr/code/type_1/data/mock_communities/bmock_12/SRR8073716/filter/results-201029/taxatable.species.txt\""
   ]
  },
  {
   "cell_type": "code",
   "execution_count": 108,
   "metadata": {},
   "outputs": [],
   "source": [
    "df_bmock12_capitalist = pd.read_csv(bmock12_capitalist_inf, sep=\"\\t\")\n",
    "df_bmock12_shogun = pd.read_csv(bmock12_shogun_inf, sep=\"\\t\")"
   ]
  },
  {
   "cell_type": "code",
   "execution_count": 109,
   "metadata": {},
   "outputs": [],
   "source": [
    "df_bmock12_shogun[\"species\"] = [\";\".join(_.split(\";\")[:7]) for _ in df_bmock12_shogun[\"#OTU ID\"]]\n",
    "df_bmock12_shogun[\"truth\"] = [species in s_truth for species in df_bmock12_shogun.species]\n",
    "\n",
    "accuracy_bmock12_shogun_redistribute = df_bmock12_shogun[\"truth\"].sum() / df_bmock12_shogun.shape[0]"
   ]
  },
  {
   "cell_type": "code",
   "execution_count": 110,
   "metadata": {},
   "outputs": [],
   "source": [
    "df_bmock12_capitalist[\"species\"] = [\";\".join(_.split(\";\")[:7]) for _ in df_bmock12_capitalist[\"#OTU ID\"]]\n",
    "df_bmock12_capitalist[\"truth\"] = [species in s_truth for species in df_bmock12_capitalist.species]\n",
    "\n",
    "df_bmock12_capitalist[\"SRR8073716\"] = df_bmock12_capitalist[\"SRR8073716\"] / df_bmock12_capitalist[\"SRR8073716\"].sum()\n",
    "\n",
    "df_bmock12_capitalist = df_bmock12_capitalist[df_bmock12_capitalist[\"SRR8073716\"] > .005]\n",
    "\n",
    "accuracy_bmock12_capitalist = df_bmock12_capitalist[\"truth\"].sum() / df_bmock12_capitalist.shape[0]"
   ]
  },
  {
   "cell_type": "code",
   "execution_count": 111,
   "metadata": {},
   "outputs": [
    {
     "data": {
      "text/plain": [
       "0.9333333333333333"
      ]
     },
     "execution_count": 111,
     "metadata": {},
     "output_type": "execute_result"
    }
   ],
   "source": [
    "accuracy_bmock12_capitalist"
   ]
  },
  {
   "cell_type": "code",
   "execution_count": 112,
   "metadata": {},
   "outputs": [
    {
     "data": {
      "text/html": [
       "<div>\n",
       "<style scoped>\n",
       "    .dataframe tbody tr th:only-of-type {\n",
       "        vertical-align: middle;\n",
       "    }\n",
       "\n",
       "    .dataframe tbody tr th {\n",
       "        vertical-align: top;\n",
       "    }\n",
       "\n",
       "    .dataframe thead th {\n",
       "        text-align: right;\n",
       "    }\n",
       "</style>\n",
       "<table border=\"1\" class=\"dataframe\">\n",
       "  <thead>\n",
       "    <tr style=\"text-align: right;\">\n",
       "      <th></th>\n",
       "      <th>#OTU ID</th>\n",
       "      <th>SRR8073716</th>\n",
       "      <th>species</th>\n",
       "      <th>truth</th>\n",
       "    </tr>\n",
       "  </thead>\n",
       "  <tbody>\n",
       "    <tr>\n",
       "      <th>17</th>\n",
       "      <td>k__Bacteria;p__Actinobacteria;c__Actinobacteri...</td>\n",
       "      <td>0.185369</td>\n",
       "      <td>k__Bacteria;p__Actinobacteria;c__Actinobacteri...</td>\n",
       "      <td>True</td>\n",
       "    </tr>\n",
       "    <tr>\n",
       "      <th>18</th>\n",
       "      <td>k__Bacteria;p__Actinobacteria;c__Actinobacteri...</td>\n",
       "      <td>0.220644</td>\n",
       "      <td>k__Bacteria;p__Actinobacteria;c__Actinobacteri...</td>\n",
       "      <td>True</td>\n",
       "    </tr>\n",
       "    <tr>\n",
       "      <th>29</th>\n",
       "      <td>k__Bacteria;p__Actinobacteria;c__Actinobacteri...</td>\n",
       "      <td>0.167796</td>\n",
       "      <td>k__Bacteria;p__Actinobacteria;c__Actinobacteri...</td>\n",
       "      <td>True</td>\n",
       "    </tr>\n",
       "    <tr>\n",
       "      <th>56</th>\n",
       "      <td>k__Bacteria;p__Bacteroidetes;c__Flavobacteriia...</td>\n",
       "      <td>0.161311</td>\n",
       "      <td>k__Bacteria;p__Bacteroidetes;c__Flavobacteriia...</td>\n",
       "      <td>True</td>\n",
       "    </tr>\n",
       "    <tr>\n",
       "      <th>108</th>\n",
       "      <td>k__Bacteria;p__Proteobacteria;c__Alphaproteoba...</td>\n",
       "      <td>0.045901</td>\n",
       "      <td>k__Bacteria;p__Proteobacteria;c__Alphaproteoba...</td>\n",
       "      <td>True</td>\n",
       "    </tr>\n",
       "    <tr>\n",
       "      <th>112</th>\n",
       "      <td>k__Bacteria;p__Proteobacteria;c__Alphaproteoba...</td>\n",
       "      <td>0.029796</td>\n",
       "      <td>k__Bacteria;p__Proteobacteria;c__Alphaproteoba...</td>\n",
       "      <td>True</td>\n",
       "    </tr>\n",
       "    <tr>\n",
       "      <th>134</th>\n",
       "      <td>k__Bacteria;p__Proteobacteria;c__Gammaproteoba...</td>\n",
       "      <td>0.006230</td>\n",
       "      <td>k__Bacteria;p__Proteobacteria;c__Gammaproteoba...</td>\n",
       "      <td>True</td>\n",
       "    </tr>\n",
       "    <tr>\n",
       "      <th>139</th>\n",
       "      <td>k__Bacteria;p__Proteobacteria;c__Gammaproteoba...</td>\n",
       "      <td>0.068989</td>\n",
       "      <td>k__Bacteria;p__Proteobacteria;c__Gammaproteoba...</td>\n",
       "      <td>True</td>\n",
       "    </tr>\n",
       "    <tr>\n",
       "      <th>148</th>\n",
       "      <td>k__Bacteria;p__Proteobacteria;c__Gammaproteoba...</td>\n",
       "      <td>0.007187</td>\n",
       "      <td>k__Bacteria;p__Proteobacteria;c__Gammaproteoba...</td>\n",
       "      <td>True</td>\n",
       "    </tr>\n",
       "    <tr>\n",
       "      <th>174</th>\n",
       "      <td>k__Bacteria;p__Proteobacteria;c__Gammaproteoba...</td>\n",
       "      <td>0.006238</td>\n",
       "      <td>k__Bacteria;p__Proteobacteria;c__Gammaproteoba...</td>\n",
       "      <td>True</td>\n",
       "    </tr>\n",
       "    <tr>\n",
       "      <th>203</th>\n",
       "      <td>k__Bacteria;p__Proteobacteria;c__Gammaproteoba...</td>\n",
       "      <td>0.008578</td>\n",
       "      <td>k__Bacteria;p__Proteobacteria;c__Gammaproteoba...</td>\n",
       "      <td>True</td>\n",
       "    </tr>\n",
       "    <tr>\n",
       "      <th>205</th>\n",
       "      <td>k__Bacteria;p__Proteobacteria;c__Gammaproteoba...</td>\n",
       "      <td>0.009585</td>\n",
       "      <td>k__Bacteria;p__Proteobacteria;c__Gammaproteoba...</td>\n",
       "      <td>True</td>\n",
       "    </tr>\n",
       "    <tr>\n",
       "      <th>207</th>\n",
       "      <td>k__Bacteria;p__Proteobacteria;c__Gammaproteoba...</td>\n",
       "      <td>0.009163</td>\n",
       "      <td>k__Bacteria;p__Proteobacteria;c__Gammaproteoba...</td>\n",
       "      <td>True</td>\n",
       "    </tr>\n",
       "    <tr>\n",
       "      <th>212</th>\n",
       "      <td>k__Bacteria;p__Proteobacteria;c__Gammaproteoba...</td>\n",
       "      <td>0.005868</td>\n",
       "      <td>k__Bacteria;p__Proteobacteria;c__Gammaproteoba...</td>\n",
       "      <td>False</td>\n",
       "    </tr>\n",
       "    <tr>\n",
       "      <th>226</th>\n",
       "      <td>k__Bacteria;p__Proteobacteria;c__Gammaproteoba...</td>\n",
       "      <td>0.005469</td>\n",
       "      <td>k__Bacteria;p__Proteobacteria;c__Gammaproteoba...</td>\n",
       "      <td>True</td>\n",
       "    </tr>\n",
       "  </tbody>\n",
       "</table>\n",
       "</div>"
      ],
      "text/plain": [
       "                                               #OTU ID  SRR8073716  \\\n",
       "17   k__Bacteria;p__Actinobacteria;c__Actinobacteri...    0.185369   \n",
       "18   k__Bacteria;p__Actinobacteria;c__Actinobacteri...    0.220644   \n",
       "29   k__Bacteria;p__Actinobacteria;c__Actinobacteri...    0.167796   \n",
       "56   k__Bacteria;p__Bacteroidetes;c__Flavobacteriia...    0.161311   \n",
       "108  k__Bacteria;p__Proteobacteria;c__Alphaproteoba...    0.045901   \n",
       "112  k__Bacteria;p__Proteobacteria;c__Alphaproteoba...    0.029796   \n",
       "134  k__Bacteria;p__Proteobacteria;c__Gammaproteoba...    0.006230   \n",
       "139  k__Bacteria;p__Proteobacteria;c__Gammaproteoba...    0.068989   \n",
       "148  k__Bacteria;p__Proteobacteria;c__Gammaproteoba...    0.007187   \n",
       "174  k__Bacteria;p__Proteobacteria;c__Gammaproteoba...    0.006238   \n",
       "203  k__Bacteria;p__Proteobacteria;c__Gammaproteoba...    0.008578   \n",
       "205  k__Bacteria;p__Proteobacteria;c__Gammaproteoba...    0.009585   \n",
       "207  k__Bacteria;p__Proteobacteria;c__Gammaproteoba...    0.009163   \n",
       "212  k__Bacteria;p__Proteobacteria;c__Gammaproteoba...    0.005868   \n",
       "226  k__Bacteria;p__Proteobacteria;c__Gammaproteoba...    0.005469   \n",
       "\n",
       "                                               species  truth  \n",
       "17   k__Bacteria;p__Actinobacteria;c__Actinobacteri...   True  \n",
       "18   k__Bacteria;p__Actinobacteria;c__Actinobacteri...   True  \n",
       "29   k__Bacteria;p__Actinobacteria;c__Actinobacteri...   True  \n",
       "56   k__Bacteria;p__Bacteroidetes;c__Flavobacteriia...   True  \n",
       "108  k__Bacteria;p__Proteobacteria;c__Alphaproteoba...   True  \n",
       "112  k__Bacteria;p__Proteobacteria;c__Alphaproteoba...   True  \n",
       "134  k__Bacteria;p__Proteobacteria;c__Gammaproteoba...   True  \n",
       "139  k__Bacteria;p__Proteobacteria;c__Gammaproteoba...   True  \n",
       "148  k__Bacteria;p__Proteobacteria;c__Gammaproteoba...   True  \n",
       "174  k__Bacteria;p__Proteobacteria;c__Gammaproteoba...   True  \n",
       "203  k__Bacteria;p__Proteobacteria;c__Gammaproteoba...   True  \n",
       "205  k__Bacteria;p__Proteobacteria;c__Gammaproteoba...   True  \n",
       "207  k__Bacteria;p__Proteobacteria;c__Gammaproteoba...   True  \n",
       "212  k__Bacteria;p__Proteobacteria;c__Gammaproteoba...  False  \n",
       "226  k__Bacteria;p__Proteobacteria;c__Gammaproteoba...   True  "
      ]
     },
     "execution_count": 112,
     "metadata": {},
     "output_type": "execute_result"
    }
   ],
   "source": [
    "df_bmock12_capitalist"
   ]
  }
 ],
 "metadata": {
  "kernelspec": {
   "display_name": "Python [conda env:.conda-type_1]",
   "language": "python",
   "name": "conda-env-.conda-type_1-py"
  },
  "language_info": {
   "codemirror_mode": {
    "name": "ipython",
    "version": 3
   },
   "file_extension": ".py",
   "mimetype": "text/x-python",
   "name": "python",
   "nbconvert_exporter": "python",
   "pygments_lexer": "ipython3",
   "version": "3.8.2"
  }
 },
 "nbformat": 4,
 "nbformat_minor": 4
}
