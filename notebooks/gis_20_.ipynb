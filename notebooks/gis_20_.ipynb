{
 "cells": [
  {
   "cell_type": "code",
   "execution_count": 1,
   "metadata": {},
   "outputs": [
    {
     "name": "stdout",
     "output_type": "stream",
     "text": [
      "pandas  1.0.4\n",
      "seaborn 0.10.1\n",
      "numpy   1.18.4\n",
      "\n"
     ]
    }
   ],
   "source": [
    "import numpy as np\n",
    "import matplotlib.pyplot as plt\n",
    "import pandas as pd\n",
    "import warnings\n",
    "import seaborn as sns\n",
    "\n",
    "from scipy.stats import pearsonr\n",
    "\n",
    "sns.set_style(\"darkgrid\")\n",
    "np.random.seed(930525)\n",
    "pd.set_option('display.max_columns', 20)\n",
    "pd.set_option('display.max_rows', 200)\n",
    "\n",
    "warnings.simplefilter('once')\n",
    "\n",
    "%matplotlib inline\n",
    "%load_ext watermark\n",
    "%watermark --iversions"
   ]
  },
  {
   "cell_type": "code",
   "execution_count": 4,
   "metadata": {},
   "outputs": [],
   "source": [
    "assembly_accessions = \"/mnt/btrfs/data/type_1/strains/gis_20/accessions.txt\"\n",
    "assembly_summary_refseq = \"/mnt/btrfs/data/type_1/strains/assembly_summary_refseq.txt\""
   ]
  },
  {
   "cell_type": "code",
   "execution_count": 30,
   "metadata": {},
   "outputs": [
    {
     "name": "stdout",
     "output_type": "stream",
     "text": [
      "--2021-02-03 21:52:03--  ftp://ftp.ncbi.nlm.nih.gov/genomes/all/GCF/001/077/675/GCF_001077675.1_ASM107767v1/GCF_001077675.1_ASM107767v1_genomic.fna.gz\n",
      "           => ‘/mnt/btrfs/data/type_1/strains/gis_20/GCF_001077675.fna’\n",
      "Resolving ftp.ncbi.nlm.nih.gov (ftp.ncbi.nlm.nih.gov)... 130.14.250.12, 2607:f220:41e:250::11, 2607:f220:41e:250::10, ...\n",
      "Connecting to ftp.ncbi.nlm.nih.gov (ftp.ncbi.nlm.nih.gov)|130.14.250.12|:21... connected.\n",
      "Logging in as anonymous ... Logged in!\n",
      "==> SYST ... done.    ==> PWD ... done.\n",
      "==> TYPE I ... done.  ==> CWD (1) /genomes/all/GCF/001/077/675/GCF_001077675.1_ASM107767v1 ... done.\n",
      "==> SIZE GCF_001077675.1_ASM107767v1_genomic.fna.gz ... 1188455\n",
      "==> PASV ... done.    ==> RETR GCF_001077675.1_ASM107767v1_genomic.fna.gz ... done.\n",
      "Length: 1188455 (1.1M) (unauthoritative)\n",
      "\n",
      "GCF_001077675.1_ASM 100%[===================>]   1.13M  3.57MB/s    in 0.3s    \n",
      "\n",
      "2021-02-03 21:52:04 (3.57 MB/s) - ‘/mnt/btrfs/data/type_1/strains/gis_20/GCF_001077675.fna’ saved [1188455]\n",
      "\n",
      "--2021-02-03 21:52:04--  ftp://ftp.ncbi.nlm.nih.gov/genomes/all/GCF/000/743/055/GCF_000743055.1_ASM74305v1/GCF_000743055.1_ASM74305v1_genomic.fna.gz\n",
      "           => ‘/mnt/btrfs/data/type_1/strains/gis_20/GCF_000743055.fna’\n",
      "Resolving ftp.ncbi.nlm.nih.gov (ftp.ncbi.nlm.nih.gov)... 130.14.250.12, 2607:f220:41e:250::10, 2607:f220:41e:250::7, ...\n",
      "Connecting to ftp.ncbi.nlm.nih.gov (ftp.ncbi.nlm.nih.gov)|130.14.250.12|:21... connected.\n",
      "Logging in as anonymous ... Logged in!\n",
      "==> SYST ... done.    ==> PWD ... done.\n",
      "==> TYPE I ... done.  ==> CWD (1) /genomes/all/GCF/000/743/055/GCF_000743055.1_ASM74305v1 ... done.\n",
      "==> SIZE GCF_000743055.1_ASM74305v1_genomic.fna.gz ... 1436078\n",
      "==> PASV ... done.    ==> RETR GCF_000743055.1_ASM74305v1_genomic.fna.gz ... done.\n",
      "Length: 1436078 (1.4M) (unauthoritative)\n",
      "\n",
      "GCF_000743055.1_ASM 100%[===================>]   1.37M  4.73MB/s    in 0.3s    \n",
      "\n",
      "2021-02-03 21:52:05 (4.73 MB/s) - ‘/mnt/btrfs/data/type_1/strains/gis_20/GCF_000743055.fna’ saved [1436078]\n",
      "\n",
      "--2021-02-03 21:52:06--  ftp://ftp.ncbi.nlm.nih.gov/genomes/all/GCF/000/237/805/GCF_000237805.1_ASM23780v1/GCF_000237805.1_ASM23780v1_genomic.fna.gz\n",
      "           => ‘/mnt/btrfs/data/type_1/strains/gis_20/GCF_000237805.fna’\n",
      "Resolving ftp.ncbi.nlm.nih.gov (ftp.ncbi.nlm.nih.gov)... 130.14.250.12, 2607:f220:41e:250::11, 2607:f220:41e:250::7, ...\n",
      "Connecting to ftp.ncbi.nlm.nih.gov (ftp.ncbi.nlm.nih.gov)|130.14.250.12|:21... connected.\n",
      "Logging in as anonymous ... Logged in!\n",
      "==> SYST ... done.    ==> PWD ... done.\n",
      "==> TYPE I ... done.  ==> CWD (1) /genomes/all/GCF/000/237/805/GCF_000237805.1_ASM23780v1 ... done.\n",
      "==> SIZE GCF_000237805.1_ASM23780v1_genomic.fna.gz ... 493375\n",
      "==> PASV ... done.    ==> RETR GCF_000237805.1_ASM23780v1_genomic.fna.gz ... done.\n",
      "Length: 493375 (482K) (unauthoritative)\n",
      "\n",
      "GCF_000237805.1_ASM 100%[===================>] 481.81K  2.42MB/s    in 0.2s    \n",
      "\n",
      "2021-02-03 21:52:07 (2.42 MB/s) - ‘/mnt/btrfs/data/type_1/strains/gis_20/GCF_000237805.fna’ saved [493375]\n",
      "\n",
      "--2021-02-03 21:52:07--  ftp://ftp.ncbi.nlm.nih.gov/genomes/all/GCF/000/153/625/GCF_000153625.3_ASM15362v1/GCF_000153625.3_ASM15362v1_genomic.fna.gz\n",
      "           => ‘/mnt/btrfs/data/type_1/strains/gis_20/GCF_000153625.fna’\n",
      "Resolving ftp.ncbi.nlm.nih.gov (ftp.ncbi.nlm.nih.gov)... 130.14.250.10, 2607:f220:41e:250::10, 2607:f220:41e:250::13, ...\n",
      "Connecting to ftp.ncbi.nlm.nih.gov (ftp.ncbi.nlm.nih.gov)|130.14.250.10|:21... connected.\n",
      "Logging in as anonymous ... Logged in!\n",
      "==> SYST ... done.    ==> PWD ... done.\n",
      "==> TYPE I ... done.  ==> CWD (1) /genomes/all/GCF/000/153/625/GCF_000153625.3_ASM15362v1 ... done.\n",
      "==> SIZE GCF_000153625.3_ASM15362v1_genomic.fna.gz ... 679527\n",
      "==> PASV ... done.    ==> RETR GCF_000153625.3_ASM15362v1_genomic.fna.gz ... done.\n",
      "Length: 679527 (664K) (unauthoritative)\n",
      "\n",
      "GCF_000153625.3_ASM 100%[===================>] 663.60K  3.66MB/s    in 0.2s    \n",
      "\n",
      "2021-02-03 21:52:08 (3.66 MB/s) - ‘/mnt/btrfs/data/type_1/strains/gis_20/GCF_000153625.fna’ saved [679527]\n",
      "\n",
      "--2021-02-03 21:52:08--  ftp://ftp.ncbi.nlm.nih.gov/genomes/all/GCF/000/377/685/GCF_000377685.1_ASM37768v1/GCF_000377685.1_ASM37768v1_genomic.fna.gz\n",
      "           => ‘/mnt/btrfs/data/type_1/strains/gis_20/GCF_000377685.fna’\n",
      "Resolving ftp.ncbi.nlm.nih.gov (ftp.ncbi.nlm.nih.gov)... 130.14.250.10, 2607:f220:41e:250::13, 2607:f220:41e:250::7, ...\n",
      "Connecting to ftp.ncbi.nlm.nih.gov (ftp.ncbi.nlm.nih.gov)|130.14.250.10|:21... connected.\n",
      "Logging in as anonymous ... Logged in!\n",
      "==> SYST ... done.    ==> PWD ... done.\n",
      "==> TYPE I ... done.  ==> CWD (1) /genomes/all/GCF/000/377/685/GCF_000377685.1_ASM37768v1 ... done.\n",
      "==> SIZE GCF_000377685.1_ASM37768v1_genomic.fna.gz ... 917280\n",
      "==> PASV ... done.    ==> RETR GCF_000377685.1_ASM37768v1_genomic.fna.gz ... done.\n",
      "Length: 917280 (896K) (unauthoritative)\n",
      "\n",
      "GCF_000377685.1_ASM 100%[===================>] 895.78K  2.92MB/s    in 0.3s    \n",
      "\n",
      "2021-02-03 21:52:09 (2.92 MB/s) - ‘/mnt/btrfs/data/type_1/strains/gis_20/GCF_000377685.fna’ saved [917280]\n",
      "\n",
      "--2021-02-03 21:52:09--  ftp://ftp.ncbi.nlm.nih.gov/genomes/all/GCF/000/191/785/GCF_000191785.1_ASM19178v1/GCF_000191785.1_ASM19178v1_genomic.fna.gz\n",
      "           => ‘/mnt/btrfs/data/type_1/strains/gis_20/GCF_000191785.fna’\n",
      "Resolving ftp.ncbi.nlm.nih.gov (ftp.ncbi.nlm.nih.gov)... 130.14.250.10, 2607:f220:41e:250::13, 2607:f220:41e:250::12, ...\n",
      "Connecting to ftp.ncbi.nlm.nih.gov (ftp.ncbi.nlm.nih.gov)|130.14.250.10|:21... connected.\n",
      "Logging in as anonymous ... Logged in!\n",
      "==> SYST ... done.    ==> PWD ... done.\n",
      "==> TYPE I ... done.  ==> CWD (1) /genomes/all/GCF/000/191/785/GCF_000191785.1_ASM19178v1 ... done.\n",
      "==> SIZE GCF_000191785.1_ASM19178v1_genomic.fna.gz ... 558193\n",
      "==> PASV ... done.    ==> RETR GCF_000191785.1_ASM19178v1_genomic.fna.gz ... done.\n",
      "Length: 558193 (545K) (unauthoritative)\n",
      "\n",
      "GCF_000191785.1_ASM 100%[===================>] 545.11K  2.20MB/s    in 0.2s    \n",
      "\n",
      "2021-02-03 21:52:10 (2.20 MB/s) - ‘/mnt/btrfs/data/type_1/strains/gis_20/GCF_000191785.fna’ saved [558193]\n",
      "\n"
     ]
    }
   ],
   "source": [
    "with open(assembly_accessions) as inf:\n",
    "    for line in inf:\n",
    "        query = line.strip().split('.')[0]\n",
    "        results = !rg {query} {assembly_summary_refseq}\n",
    "        \n",
    "        if len(results) == 1:\n",
    "            ftp = results[0].split(\"\\t\")[-3]\n",
    "            fn = ftp.split(\"/\")[-1]\n",
    "            !wget {ftp}/{fn}_genomic.fna.gz -O /mnt/btrfs/data/type_1/strains/gis_20/{query}.fna\n",
    "\n",
    "                "
   ]
  }
 ],
 "metadata": {
  "kernelspec": {
   "display_name": "Python [conda env:.conda-type_1]",
   "language": "python",
   "name": "conda-env-.conda-type_1-py"
  },
  "language_info": {
   "codemirror_mode": {
    "name": "ipython",
    "version": 3
   },
   "file_extension": ".py",
   "mimetype": "text/x-python",
   "name": "python",
   "nbconvert_exporter": "python",
   "pygments_lexer": "ipython3",
   "version": "3.8.2"
  }
 },
 "nbformat": 4,
 "nbformat_minor": 4
}
