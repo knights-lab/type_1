{
 "cells": [
  {
   "cell_type": "code",
   "execution_count": 1,
   "metadata": {},
   "outputs": [
    {
     "name": "stdout",
     "output_type": "stream",
     "text": [
      "seaborn 0.10.1\n",
      "pandas  1.1.4\n",
      "numpy   1.19.5\n",
      "\n"
     ]
    }
   ],
   "source": [
    "import numpy as np\n",
    "import matplotlib.pyplot as plt\n",
    "import pandas as pd\n",
    "import warnings\n",
    "import seaborn as sns\n",
    "\n",
    "from scipy.stats import pearsonr\n",
    "\n",
    "sns.set_style(\"darkgrid\")\n",
    "np.random.seed(930525)\n",
    "pd.set_option('display.max_columns', 20)\n",
    "pd.set_option('display.max_rows', 200)\n",
    "\n",
    "warnings.simplefilter('once')\n",
    "\n",
    "%matplotlib inline\n",
    "%load_ext watermark\n",
    "%watermark --iversions"
   ]
  },
  {
   "cell_type": "code",
   "execution_count": 23,
   "metadata": {},
   "outputs": [],
   "source": [
    "def shannon_index(p):\n",
    "#     print(p)\n",
    "    return -np.sum(p*np.log(p))"
   ]
  },
  {
   "cell_type": "code",
   "execution_count": 24,
   "metadata": {},
   "outputs": [
    {
     "data": {
      "text/plain": [
       "1.6094379124341005"
      ]
     },
     "execution_count": 24,
     "metadata": {},
     "output_type": "execute_result"
    }
   ],
   "source": [
    "v = np.array([3,3,3,3,3])\n",
    "\n",
    "v = v / v.sum()\n",
    "\n",
    "shannon_index(v)"
   ]
  },
  {
   "cell_type": "code",
   "execution_count": 4,
   "metadata": {},
   "outputs": [],
   "source": [
    "import numpy as np\n",
    "from scipy.optimize import minimize, LinearConstraint"
   ]
  },
  {
   "cell_type": "code",
   "execution_count": 5,
   "metadata": {},
   "outputs": [],
   "source": [
    "def minimize_shannon_index(num_reads: int, num_species: int, s: float, min_bound: int = 1_000):\n",
    "    objective_function = lambda x: np.square(s - shannon_index(x))\n",
    "    \n",
    "    x0 = np.random.random(num_species)\n",
    "    x0 = x0 / x0.sum()\n",
    "\n",
    "    constraint = LinearConstraint(np.ones(num_species), lb=1, ub=1)\n",
    "\n",
    "    bounds = [(min_bound / num_reads, 1 - ((num_species -1) * (min_bound / num_reads))) for n in range(num_species)]\n",
    "\n",
    "\n",
    "    res = minimize(\n",
    "        objective_function,\n",
    "        x0=x0,\n",
    "        constraints=constraint,\n",
    "        bounds=bounds,\n",
    "    )\n",
    "    return res"
   ]
  },
  {
   "cell_type": "code",
   "execution_count": 6,
   "metadata": {},
   "outputs": [],
   "source": [
    "num_reads = 10_000_000\n",
    "num_species = 20\n",
    "s = 1.663\n",
    "\n",
    "res = minimize_shannon_index(num_reads, num_species, s)"
   ]
  },
  {
   "cell_type": "code",
   "execution_count": 7,
   "metadata": {},
   "outputs": [
    {
     "data": {
      "text/plain": [
       "1.661826487041822"
      ]
     },
     "execution_count": 7,
     "metadata": {},
     "output_type": "execute_result"
    }
   ],
   "source": [
    "shannon_index(res.x)"
   ]
  },
  {
   "cell_type": "code",
   "execution_count": 15,
   "metadata": {},
   "outputs": [
    {
     "data": {
      "text/plain": [
       "[1.663, 2.067, 2.665]"
      ]
     },
     "execution_count": 15,
     "metadata": {},
     "output_type": "execute_result"
    }
   ],
   "source": [
    "[1.663, (2.149 + 1.985) / 2, 2.665]"
   ]
  },
  {
   "cell_type": "code",
   "execution_count": 8,
   "metadata": {},
   "outputs": [],
   "source": [
    "# columns name, assembly_accession, proportion, num_reads, dataset, file\n",
    "names = [\"stool\", \"skin\", \"saliva\"]\n",
    "l_shannon_index = [1.663, (2.149 + 1.985) / 2, 2.665]\n",
    "num_replicates = 3\n",
    "l_num_species = [20, 50, 100]\n",
    "num_reads = 10_000_000"
   ]
  },
  {
   "cell_type": "code",
   "execution_count": 9,
   "metadata": {},
   "outputs": [],
   "source": [
    "from glob import glob\n",
    "\n",
    "import os"
   ]
  },
  {
   "cell_type": "code",
   "execution_count": 10,
   "metadata": {},
   "outputs": [],
   "source": [
    "file_paths = \"/mnt/btrfs/data/type_1/assembly_wgs_500_alignment/b6_capitalist_split_by_sample/*.b6\""
   ]
  },
  {
   "cell_type": "code",
   "execution_count": 11,
   "metadata": {},
   "outputs": [],
   "source": [
    "d_sra_to_filepath = {}\n",
    "\n",
    "df_merged_in_gtdb = pd.read_csv(\"../data/assembly_accessions_500.csv\", index_col=0)\n",
    "d_sra_to_closest_assembly_accession = dict(zip(df_merged_in_gtdb['Run'].values, df_merged_in_gtdb['closest_assembly_accession'].values))\n",
    "\n",
    "for file in glob(file_paths):\n",
    "    bn = os.path.basename(file)\n",
    "    sra = \".\".join(bn.split(\".\")[:1])\n",
    "    if sra in d_sra_to_closest_assembly_accession:\n",
    "        d_sra_to_filepath[sra] = file"
   ]
  },
  {
   "cell_type": "code",
   "execution_count": 12,
   "metadata": {},
   "outputs": [],
   "source": [
    "import csv"
   ]
  },
  {
   "cell_type": "code",
   "execution_count": 13,
   "metadata": {},
   "outputs": [
    {
     "data": {
      "text/plain": [
       "<function _csv.writer>"
      ]
     },
     "execution_count": 13,
     "metadata": {},
     "output_type": "execute_result"
    }
   ],
   "source": [
    "csv.writer"
   ]
  },
  {
   "cell_type": "code",
   "execution_count": 14,
   "metadata": {},
   "outputs": [
    {
     "name": "stderr",
     "output_type": "stream",
     "text": [
      "/home/bhillmann/.conda/envs/type_1/lib/python3.8/site-packages/scipy/optimize/optimize.py:282: RuntimeWarning: Values in x were outside bounds during a minimize step, clipping to bounds\n",
      "  warnings.warn(\"Values in x were outside bounds during a \"\n"
     ]
    }
   ],
   "source": [
    "import csv\n",
    "import os\n",
    "\n",
    "output_csv = \"../data/simulation.truth.csv\"\n",
    "\n",
    "with open(output_csv, \"w\") as out_file:\n",
    "    out_csv = csv.writer(out_file)\n",
    "    out_csv.writerow([\"file_location\", \"num_lines\", \"basename\", \"run\", \"file_location\", \"output_location\", \"closest_assembly_accession\"])\n",
    "    for name, s_i in zip(names, l_shannon_index):\n",
    "        for num_species in l_num_species:\n",
    "            for replicate in range(num_replicates*2):\n",
    "                basename = f\"{name}.{replicate}.{num_species}\"\n",
    "                output_location = f\"../data/simulation.{basename}.b6\"\n",
    "                res = minimize_shannon_index(num_reads, num_species, s_i)\n",
    "                l_read_distribution = (res.x * num_reads).astype(int)\n",
    "                l_species = np.random.choice(np.array(list(d_sra_to_filepath.keys())), num_species, replace=False)\n",
    "                for num_lines, species in zip(l_read_distribution, l_species):\n",
    "                    file_location = d_sra_to_filepath[species]\n",
    "                    !shuf -n {num_lines} -r {file_location} >> {output_location}\n",
    "                    out_csv.writerow([os.path.abspath(file_location), num_lines, basename, species, os.path.abspath(file_location), os.path.abspath(output_location), d_sra_to_closest_assembly_accession[species]])\n",
    "#                     break\n",
    "#                 break\n",
    "#             break\n",
    "#         break\n",
    "    \n"
   ]
  },
  {
   "cell_type": "code",
   "execution_count": null,
   "metadata": {},
   "outputs": [],
   "source": [
    "percent_coverage = [.2, .3, .2, .3, .01]\n",
    "\n",
    "thresholds = [.1, .2, .3, .4, .5, .6, .7, .8]\n",
    "\n",
    "for threshold in thresholds:\n",
    "    fetch samples percent_coverage < threshold:\n",
    "        precision(samples)"
   ]
  }
 ],
 "metadata": {
  "kernelspec": {
   "display_name": "Python [conda env:.conda-type_1]",
   "language": "python",
   "name": "conda-env-.conda-type_1-py"
  },
  "language_info": {
   "codemirror_mode": {
    "name": "ipython",
    "version": 3
   },
   "file_extension": ".py",
   "mimetype": "text/x-python",
   "name": "python",
   "nbconvert_exporter": "python",
   "pygments_lexer": "ipython3",
   "version": "3.8.8"
  }
 },
 "nbformat": 4,
 "nbformat_minor": 4
}
