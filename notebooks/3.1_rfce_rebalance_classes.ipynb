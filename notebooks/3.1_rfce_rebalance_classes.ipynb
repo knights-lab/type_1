{
 "cells": [
  {
   "cell_type": "code",
   "execution_count": 1,
   "metadata": {},
   "outputs": [],
   "source": [
    "import os\n",
    "os.environ[\"OPENBLAS_NUM_THREADS\"] = \"1\"\n",
    "os.environ[\"OMP_NUM_THREADS\"] = \"1\"\n",
    "os.environ[\"MKL_NUM_THREADS\"] = \"1\""
   ]
  },
  {
   "cell_type": "code",
   "execution_count": 2,
   "metadata": {},
   "outputs": [
    {
     "name": "stdout",
     "output_type": "stream",
     "text": [
      "pandas    : 1.1.5\n",
      "numpy     : 1.20.1\n",
      "matplotlib: 3.3.4\n",
      "seaborn   : 0.11.1\n",
      "\n"
     ]
    }
   ],
   "source": [
    "import numpy as np\n",
    "import matplotlib.pyplot as plt\n",
    "import pandas as pd\n",
    "import warnings\n",
    "import seaborn as sns\n",
    "\n",
    "from scipy.stats import pearsonr\n",
    "\n",
    "sns.set_style(\"darkgrid\")\n",
    "np.random.seed(930525)\n",
    "pd.set_option('display.max_columns', 20)\n",
    "pd.set_option('display.max_rows', 200)\n",
    "\n",
    "warnings.simplefilter('once')\n",
    "\n",
    "%matplotlib inline\n",
    "%load_ext watermark\n",
    "%watermark --iversions"
   ]
  },
  {
   "cell_type": "code",
   "execution_count": 3,
   "metadata": {},
   "outputs": [
    {
     "name": "stderr",
     "output_type": "stream",
     "text": [
      "/home/bhillmann/.conda/envs/tpot-cuml/lib/python3.7/site-packages/ipykernel/ipkernel.py:283: DeprecationWarning: `should_run_async` will not call `transform_cell` automatically in the future. Please pass the result to `transformed_cell` argument and any exception that happen during thetransform in `preprocessing_exc_tuple` in IPython 7.17 and above.\n",
      "  and should_run_async(code)\n"
     ]
    }
   ],
   "source": [
    "from sklearn.model_selection import train_test_split\n",
    "from sklearn.svm import SVC\n",
    "from sklearn.metrics import plot_roc_curve\n",
    "from sklearn.ensemble import RandomForestClassifier\n",
    "\n",
    "from sklearn.model_selection import PredefinedSplit"
   ]
  },
  {
   "cell_type": "code",
   "execution_count": 4,
   "metadata": {},
   "outputs": [
    {
     "name": "stderr",
     "output_type": "stream",
     "text": [
      "/home/bhillmann/.conda/envs/tpot-cuml/lib/python3.7/site-packages/ipykernel/ipkernel.py:283: DeprecationWarning: `should_run_async` will not call `transform_cell` automatically in the future. Please pass the result to `transformed_cell` argument and any exception that happen during thetransform in `preprocessing_exc_tuple` in IPython 7.17 and above.\n",
      "  and should_run_async(code)\n",
      "/home/bhillmann/.conda/envs/tpot-cuml/lib/python3.7/site-packages/IPython/core/interactiveshell.py:3156: DtypeWarning: Columns (73,86,98,99,103,106,107,111,112,204,217,229,230,234,237,238,242,243) have mixed types.Specify dtype option on import or set low_memory=False.\n",
      "  interactivity=interactivity, compiler=compiler, result=result)\n"
     ]
    }
   ],
   "source": [
    "df_type_1_features = pd.read_csv(\"../data/strains.dataset.tree.csv\", index_col=0)"
   ]
  },
  {
   "cell_type": "code",
   "execution_count": 5,
   "metadata": {},
   "outputs": [],
   "source": [
    "df_type_1_features['dataset_cat'] = pd.Series([_.split(\"_\")[0] for _ in df_type_1_features['dataset']], dtype='category')\n",
    "CV = PredefinedSplit(df_type_1_features['dataset_cat'].cat.codes)"
   ]
  },
  {
   "cell_type": "code",
   "execution_count": 6,
   "metadata": {},
   "outputs": [
    {
     "name": "stdout",
     "output_type": "stream",
     "text": [
      "15921\n",
      "18806\n",
      "21665\n",
      "21036\n",
      "13506\n",
      "16495\n",
      "16662\n"
     ]
    }
   ],
   "source": [
    "for name, group in df_type_1_features.groupby('dataset'):\n",
    "    print(len(group['assembly_accession'].unique()))"
   ]
  },
  {
   "cell_type": "code",
   "execution_count": 7,
   "metadata": {},
   "outputs": [
    {
     "data": {
      "text/plain": [
       "0.0009831494628941664"
      ]
     },
     "execution_count": 7,
     "metadata": {},
     "output_type": "execute_result"
    }
   ],
   "source": [
    "df_type_1_features['truth'].sum() / df_type_1_features.shape[0]"
   ]
  },
  {
   "cell_type": "code",
   "execution_count": 8,
   "metadata": {},
   "outputs": [
    {
     "data": {
      "text/plain": [
       "['assembly_accession',\n",
       " 'tree_closest_assembly_accession',\n",
       " 'tree_dist',\n",
       " 'tree_top_dist',\n",
       " 'hits',\n",
       " 'percent_coverage',\n",
       " 'mean_coverage',\n",
       " 'sd_coverage',\n",
       " 'percent_padded_coverage',\n",
       " 'mean_padded_coverage',\n",
       " 'sd_padded_coverage',\n",
       " 'percent_binned_coverage',\n",
       " 'mean_binned_coverage',\n",
       " 'sd_binned_coverage',\n",
       " 'expected_percent_coverage',\n",
       " 'shannon_entropy',\n",
       " 'percent_max_uncovered_region',\n",
       " 'largest_pileup',\n",
       " 'largest_padded_pileup',\n",
       " 'largest_binned_pileup',\n",
       " 'gc_content',\n",
       " 'total_genome_length',\n",
       " 'ungapped_genome_length',\n",
       " 'num_n_groups',\n",
       " 'consecutive_ns',\n",
       " 'gf_accession',\n",
       " 'gf_ambiguous_bases',\n",
       " 'gf_checkm_completeness',\n",
       " 'gf_checkm_contamination',\n",
       " 'gf_checkm_marker_count',\n",
       " 'gf_checkm_marker_lineage',\n",
       " 'gf_checkm_marker_set_count',\n",
       " 'gf_checkm_strain_heterogeneity',\n",
       " 'gf_coding_bases',\n",
       " 'gf_coding_density',\n",
       " 'gf_contig_count',\n",
       " 'gf_gc_count',\n",
       " 'gf_gc_percentage',\n",
       " 'gf_genome_size',\n",
       " 'gf_gtdb_genome_representative',\n",
       " 'gf_gtdb_representative',\n",
       " 'gf_gtdb_taxonomy',\n",
       " 'gf_gtdb_type_designation',\n",
       " 'gf_gtdb_type_designation_sources',\n",
       " 'gf_gtdb_type_species_of_genus',\n",
       " 'gf_l50_contigs',\n",
       " 'gf_l50_scaffolds',\n",
       " 'gf_longest_contig',\n",
       " 'gf_longest_scaffold',\n",
       " 'gf_lsu_23s_contig_len',\n",
       " 'gf_lsu_23s_count',\n",
       " 'gf_lsu_23s_length',\n",
       " 'gf_lsu_23s_query_id',\n",
       " 'gf_lsu_5s_contig_len',\n",
       " 'gf_lsu_5s_count',\n",
       " 'gf_lsu_5s_length',\n",
       " 'gf_lsu_5s_query_id',\n",
       " 'gf_lsu_silva_23s_blast_align_len',\n",
       " 'gf_lsu_silva_23s_blast_bitscore',\n",
       " 'gf_lsu_silva_23s_blast_evalue',\n",
       " 'gf_lsu_silva_23s_blast_perc_identity',\n",
       " 'gf_lsu_silva_23s_blast_subject_id',\n",
       " 'gf_lsu_silva_23s_taxonomy',\n",
       " 'gf_mean_contig_length',\n",
       " 'gf_mean_scaffold_length',\n",
       " 'gf_mimag_high_quality',\n",
       " 'gf_mimag_low_quality',\n",
       " 'gf_mimag_medium_quality',\n",
       " 'gf_n50_contigs',\n",
       " 'gf_n50_scaffolds',\n",
       " 'gf_ncbi_assembly_level',\n",
       " 'gf_ncbi_assembly_name',\n",
       " 'gf_ncbi_assembly_type',\n",
       " 'gf_ncbi_bioproject',\n",
       " 'gf_ncbi_biosample',\n",
       " 'gf_ncbi_contig_count',\n",
       " 'gf_ncbi_contig_n50',\n",
       " 'gf_ncbi_country',\n",
       " 'gf_ncbi_date',\n",
       " 'gf_ncbi_genbank_assembly_accession',\n",
       " 'gf_ncbi_genome_category',\n",
       " 'gf_ncbi_genome_representation',\n",
       " 'gf_ncbi_isolate',\n",
       " 'gf_ncbi_isolation_source',\n",
       " 'gf_ncbi_lat_lon',\n",
       " 'gf_ncbi_molecule_count',\n",
       " 'gf_ncbi_ncrna_count',\n",
       " 'gf_ncbi_organism_name',\n",
       " 'gf_ncbi_protein_count',\n",
       " 'gf_ncbi_refseq_category',\n",
       " 'gf_ncbi_rrna_count',\n",
       " 'gf_ncbi_scaffold_count',\n",
       " 'gf_ncbi_scaffold_l50',\n",
       " 'gf_ncbi_scaffold_n50',\n",
       " 'gf_ncbi_scaffold_n75',\n",
       " 'gf_ncbi_scaffold_n90',\n",
       " 'gf_ncbi_seq_rel_date',\n",
       " 'gf_ncbi_spanned_gaps',\n",
       " 'gf_ncbi_species_taxid',\n",
       " 'gf_ncbi_ssu_count',\n",
       " 'gf_ncbi_strain_identifiers',\n",
       " 'gf_ncbi_submitter',\n",
       " 'gf_ncbi_taxid',\n",
       " 'gf_ncbi_taxonomy',\n",
       " 'gf_ncbi_taxonomy_unfiltered',\n",
       " 'gf_ncbi_total_gap_length',\n",
       " 'gf_ncbi_total_length',\n",
       " 'gf_ncbi_translation_table',\n",
       " 'gf_ncbi_trna_count',\n",
       " 'gf_ncbi_type_material_designation',\n",
       " 'gf_ncbi_ungapped_length',\n",
       " 'gf_ncbi_unspanned_gaps',\n",
       " 'gf_ncbi_wgs_master',\n",
       " 'gf_protein_count',\n",
       " 'gf_scaffold_count',\n",
       " 'gf_ssu_contig_len',\n",
       " 'gf_ssu_count',\n",
       " 'gf_ssu_gg_blast_align_len',\n",
       " 'gf_ssu_gg_blast_bitscore',\n",
       " 'gf_ssu_gg_blast_evalue',\n",
       " 'gf_ssu_gg_blast_perc_identity',\n",
       " 'gf_ssu_gg_blast_subject_id',\n",
       " 'gf_ssu_gg_taxonomy',\n",
       " 'gf_ssu_length',\n",
       " 'gf_ssu_query_id',\n",
       " 'gf_ssu_silva_blast_align_len',\n",
       " 'gf_ssu_silva_blast_bitscore',\n",
       " 'gf_ssu_silva_blast_evalue',\n",
       " 'gf_ssu_silva_blast_perc_identity',\n",
       " 'gf_ssu_silva_blast_subject_id',\n",
       " 'gf_ssu_silva_taxonomy',\n",
       " 'gf_total_gap_length',\n",
       " 'gf_trna_aa_count',\n",
       " 'gf_trna_count',\n",
       " 'gf_trna_selenocysteine_count',\n",
       " 'tree_hits',\n",
       " 'tree_percent_coverage',\n",
       " 'tree_mean_coverage',\n",
       " 'tree_sd_coverage',\n",
       " 'tree_percent_padded_coverage',\n",
       " 'tree_mean_padded_coverage',\n",
       " 'tree_sd_padded_coverage',\n",
       " 'tree_percent_binned_coverage',\n",
       " 'tree_mean_binned_coverage',\n",
       " 'tree_sd_binned_coverage',\n",
       " 'tree_expected_percent_coverage',\n",
       " 'tree_shannon_entropy',\n",
       " 'tree_percent_max_uncovered_region',\n",
       " 'tree_largest_pileup',\n",
       " 'tree_largest_padded_pileup',\n",
       " 'tree_largest_binned_pileup',\n",
       " 'tree_gc_content',\n",
       " 'tree_total_genome_length',\n",
       " 'tree_ungapped_genome_length',\n",
       " 'tree_num_n_groups',\n",
       " 'tree_consecutive_ns',\n",
       " 'tree_gf_accession',\n",
       " 'tree_gf_ambiguous_bases',\n",
       " 'tree_gf_checkm_completeness',\n",
       " 'tree_gf_checkm_contamination',\n",
       " 'tree_gf_checkm_marker_count',\n",
       " 'tree_gf_checkm_marker_lineage',\n",
       " 'tree_gf_checkm_marker_set_count',\n",
       " 'tree_gf_checkm_strain_heterogeneity',\n",
       " 'tree_gf_coding_bases',\n",
       " 'tree_gf_coding_density',\n",
       " 'tree_gf_contig_count',\n",
       " 'tree_gf_gc_count',\n",
       " 'tree_gf_gc_percentage',\n",
       " 'tree_gf_genome_size',\n",
       " 'tree_gf_gtdb_genome_representative',\n",
       " 'tree_gf_gtdb_representative',\n",
       " 'tree_gf_gtdb_taxonomy',\n",
       " 'tree_gf_gtdb_type_designation',\n",
       " 'tree_gf_gtdb_type_designation_sources',\n",
       " 'tree_gf_gtdb_type_species_of_genus',\n",
       " 'tree_gf_l50_contigs',\n",
       " 'tree_gf_l50_scaffolds',\n",
       " 'tree_gf_longest_contig',\n",
       " 'tree_gf_longest_scaffold',\n",
       " 'tree_gf_lsu_23s_contig_len',\n",
       " 'tree_gf_lsu_23s_count',\n",
       " 'tree_gf_lsu_23s_length',\n",
       " 'tree_gf_lsu_23s_query_id',\n",
       " 'tree_gf_lsu_5s_contig_len',\n",
       " 'tree_gf_lsu_5s_count',\n",
       " 'tree_gf_lsu_5s_length',\n",
       " 'tree_gf_lsu_5s_query_id',\n",
       " 'tree_gf_lsu_silva_23s_blast_align_len',\n",
       " 'tree_gf_lsu_silva_23s_blast_bitscore',\n",
       " 'tree_gf_lsu_silva_23s_blast_evalue',\n",
       " 'tree_gf_lsu_silva_23s_blast_perc_identity',\n",
       " 'tree_gf_lsu_silva_23s_blast_subject_id',\n",
       " 'tree_gf_lsu_silva_23s_taxonomy',\n",
       " 'tree_gf_mean_contig_length',\n",
       " 'tree_gf_mean_scaffold_length',\n",
       " 'tree_gf_mimag_high_quality',\n",
       " 'tree_gf_mimag_low_quality',\n",
       " 'tree_gf_mimag_medium_quality',\n",
       " 'tree_gf_n50_contigs',\n",
       " 'tree_gf_n50_scaffolds',\n",
       " 'tree_gf_ncbi_assembly_level',\n",
       " 'tree_gf_ncbi_assembly_name',\n",
       " 'tree_gf_ncbi_assembly_type',\n",
       " 'tree_gf_ncbi_bioproject',\n",
       " 'tree_gf_ncbi_biosample',\n",
       " 'tree_gf_ncbi_contig_count',\n",
       " 'tree_gf_ncbi_contig_n50',\n",
       " 'tree_gf_ncbi_country',\n",
       " 'tree_gf_ncbi_date',\n",
       " 'tree_gf_ncbi_genbank_assembly_accession',\n",
       " 'tree_gf_ncbi_genome_category',\n",
       " 'tree_gf_ncbi_genome_representation',\n",
       " 'tree_gf_ncbi_isolate',\n",
       " 'tree_gf_ncbi_isolation_source',\n",
       " 'tree_gf_ncbi_lat_lon',\n",
       " 'tree_gf_ncbi_molecule_count',\n",
       " 'tree_gf_ncbi_ncrna_count',\n",
       " 'tree_gf_ncbi_organism_name',\n",
       " 'tree_gf_ncbi_protein_count',\n",
       " 'tree_gf_ncbi_refseq_category',\n",
       " 'tree_gf_ncbi_rrna_count',\n",
       " 'tree_gf_ncbi_scaffold_count',\n",
       " 'tree_gf_ncbi_scaffold_l50',\n",
       " 'tree_gf_ncbi_scaffold_n50',\n",
       " 'tree_gf_ncbi_scaffold_n75',\n",
       " 'tree_gf_ncbi_scaffold_n90',\n",
       " 'tree_gf_ncbi_seq_rel_date',\n",
       " 'tree_gf_ncbi_spanned_gaps',\n",
       " 'tree_gf_ncbi_species_taxid',\n",
       " 'tree_gf_ncbi_ssu_count',\n",
       " 'tree_gf_ncbi_strain_identifiers',\n",
       " 'tree_gf_ncbi_submitter',\n",
       " 'tree_gf_ncbi_taxid',\n",
       " 'tree_gf_ncbi_taxonomy',\n",
       " 'tree_gf_ncbi_taxonomy_unfiltered',\n",
       " 'tree_gf_ncbi_total_gap_length',\n",
       " 'tree_gf_ncbi_total_length',\n",
       " 'tree_gf_ncbi_translation_table',\n",
       " 'tree_gf_ncbi_trna_count',\n",
       " 'tree_gf_ncbi_type_material_designation',\n",
       " 'tree_gf_ncbi_ungapped_length',\n",
       " 'tree_gf_ncbi_unspanned_gaps',\n",
       " 'tree_gf_ncbi_wgs_master',\n",
       " 'tree_gf_protein_count',\n",
       " 'tree_gf_scaffold_count',\n",
       " 'tree_gf_ssu_contig_len',\n",
       " 'tree_gf_ssu_count',\n",
       " 'tree_gf_ssu_gg_blast_align_len',\n",
       " 'tree_gf_ssu_gg_blast_bitscore',\n",
       " 'tree_gf_ssu_gg_blast_evalue',\n",
       " 'tree_gf_ssu_gg_blast_perc_identity',\n",
       " 'tree_gf_ssu_gg_blast_subject_id',\n",
       " 'tree_gf_ssu_gg_taxonomy',\n",
       " 'tree_gf_ssu_length',\n",
       " 'tree_gf_ssu_query_id',\n",
       " 'tree_gf_ssu_silva_blast_align_len',\n",
       " 'tree_gf_ssu_silva_blast_bitscore',\n",
       " 'tree_gf_ssu_silva_blast_evalue',\n",
       " 'tree_gf_ssu_silva_blast_perc_identity',\n",
       " 'tree_gf_ssu_silva_blast_subject_id',\n",
       " 'tree_gf_ssu_silva_taxonomy',\n",
       " 'tree_gf_total_gap_length',\n",
       " 'tree_gf_trna_aa_count',\n",
       " 'tree_gf_trna_count',\n",
       " 'tree_gf_trna_selenocysteine_count',\n",
       " 'dataset',\n",
       " 'truth',\n",
       " 'dataset_cat']"
      ]
     },
     "execution_count": 8,
     "metadata": {},
     "output_type": "execute_result"
    }
   ],
   "source": [
    "list(df_type_1_features.columns)"
   ]
  },
  {
   "cell_type": "code",
   "execution_count": 9,
   "metadata": {},
   "outputs": [],
   "source": [
    "features = ['hits',\n",
    " 'percent_coverage',\n",
    " 'mean_coverage',\n",
    " 'sd_coverage',\n",
    " 'percent_binned_coverage',\n",
    " 'mean_binned_coverage',\n",
    " 'sd_binned_coverage',\n",
    " 'expected_percent_coverage',\n",
    " 'shannon_entropy',\n",
    " 'percent_max_uncovered_region',\n",
    " 'largest_pileup',\n",
    " 'largest_binned_pileup',\n",
    " 'gc_content',\n",
    " 'total_genome_length',\n",
    " 'ungapped_genome_length',\n",
    " 'num_n_groups',\n",
    " 'consecutive_ns',\n",
    " 'tree_dist',\n",
    " 'tree_top_dist',\n",
    " 'gf_checkm_completeness',\n",
    " 'gf_checkm_contamination'\n",
    "]"
   ]
  },
  {
   "cell_type": "code",
   "execution_count": 10,
   "metadata": {},
   "outputs": [
    {
     "name": "stdout",
     "output_type": "stream",
     "text": [
      "                    hits  percent_coverage  mean_coverage    sd_coverage  \\\n",
      "dataset                                                                    \n",
      "dual_index       1734304         28.062051      88.341678     840.304259   \n",
      "gis_20         361319935         40.965084   11045.607897  214833.055608   \n",
      "hmp_even        26120868         48.138912     588.211176   14515.805304   \n",
      "hmp_staggered   13987473         23.541141     275.052218    9609.165257   \n",
      "mbarc_26        89680807         32.067000    6017.729981   16506.313587   \n",
      "zymo_even       10317373         19.231281     485.308514    5010.760035   \n",
      "zymo_log       133887236         13.417510    4209.986755   65399.745693   \n",
      "\n",
      "               percent_binned_coverage  mean_binned_coverage  \\\n",
      "dataset                                                        \n",
      "dual_index                     45.7004              173.4298   \n",
      "gis_20                         69.4328            36131.9216   \n",
      "hmp_even                      100.7977             2612.0792   \n",
      "hmp_staggered                  62.3441             1398.7440   \n",
      "mbarc_26                       42.1304             8968.0651   \n",
      "zymo_even                      33.6067             1031.7351   \n",
      "zymo_log                       30.3834            13388.6801   \n",
      "\n",
      "               sd_binned_coverage  expected_percent_coverage  shannon_entropy  \\\n",
      "dataset                                                                         \n",
      "dual_index            1702.960876                  52.153433       179.823230   \n",
      "gis_20              550476.441207                1997.584353       455.353938   \n",
      "hmp_even             42566.330971                 321.571858       410.359824   \n",
      "hmp_staggered        29917.616720                 169.792360       225.185784   \n",
      "mbarc_26             24474.325905                 148.190806       258.978773   \n",
      "zymo_even             9718.049812                 142.845271       179.112161   \n",
      "zymo_log            144636.955753                 618.069370       146.651949   \n",
      "\n",
      "               percent_max_uncovered_region  ...    gc_content  \\\n",
      "dataset                                      ...                 \n",
      "dual_index                     12865.579866  ...   8153.139975   \n",
      "gis_20                         14008.598856  ...   9984.697541   \n",
      "hmp_even                       14694.308894  ...  11394.495270   \n",
      "hmp_staggered                  14745.911165  ...  11069.700191   \n",
      "mbarc_26                       10447.003019  ...   7205.804696   \n",
      "zymo_even                      13094.897772  ...   8496.605595   \n",
      "zymo_log                       13270.054093  ...   8595.051518   \n",
      "\n",
      "               total_genome_length  ungapped_genome_length  num_n_groups  \\\n",
      "dataset                                                                    \n",
      "dual_index             66185721944             66060166994       1273492   \n",
      "gis_20                 80325904277             80182860947       1712365   \n",
      "hmp_even               89611972578             89445493597       2221353   \n",
      "hmp_staggered          87510930871             87349093800       2117274   \n",
      "mbarc_26               56988763472             56870883734       1268256   \n",
      "zymo_even              67343881866             67214666035       1334836   \n",
      "zymo_log               68232051912             68102146950       1357088   \n",
      "\n",
      "               consecutive_ns   tree_dist  tree_top_dist  \\\n",
      "dataset                                                    \n",
      "dual_index           13050147  1921.51874        31667.0   \n",
      "gis_20               13403030  2236.04027        35668.0   \n",
      "hmp_even             14826389  2879.85512        39688.0   \n",
      "hmp_staggered        14644311  2784.11203        38917.0   \n",
      "mbarc_26             11027610  1578.82674        27770.0   \n",
      "zymo_even            13134779  2022.09748        32730.0   \n",
      "zymo_log             13159080  2101.82460        33029.0   \n",
      "\n",
      "               gf_checkm_completeness  gf_checkm_contamination  truth  \n",
      "dataset                                                                \n",
      "dual_index                 1554894.59                 14666.02     19  \n",
      "gis_20                     1832452.12                 18495.29     19  \n",
      "hmp_even                   2091061.88                 22515.26     21  \n",
      "hmp_staggered              2034855.73                 21900.10     21  \n",
      "mbarc_26                   1317350.91                 13451.00     26  \n",
      "zymo_even                  1609169.63                 15387.32      8  \n",
      "zymo_log                   1624968.18                 15760.26      8  \n",
      "\n",
      "[7 rows x 22 columns]\n"
     ]
    }
   ],
   "source": [
    "X_type_1 = df_type_1_features[features + [\"assembly_accession\", \"dataset\", \"truth\", \"dataset_cat\"]]\n",
    "                                                 \n",
    "X_type_1 = X_type_1.replace([np.inf, -np.inf], np.nan)\n",
    "X_type_1 = X_type_1.dropna()\n",
    "\n",
    "print(X_type_1.groupby('dataset').sum())\n",
    "\n",
    "y = X_type_1[\"truth\"]\n",
    "X = X_type_1.loc[:, X_type_1.columns.difference([\"assembly_accession\", \"dataset\", \"dataset_cat\", \"truth\"])]\n",
    "\n",
    "X_type_1.to_csv(\"../data/type_1.extra.tree.csv\", index=False)"
   ]
  },
  {
   "cell_type": "code",
   "execution_count": 11,
   "metadata": {},
   "outputs": [
    {
     "name": "stderr",
     "output_type": "stream",
     "text": [
      "/home/bhillmann/.conda/envs/tpot-cuml/lib/python3.7/site-packages/ipykernel/ipkernel.py:283: DeprecationWarning: `should_run_async` will not call `transform_cell` automatically in the future. Please pass the result to `transformed_cell` argument and any exception that happen during thetransform in `preprocessing_exc_tuple` in IPython 7.17 and above.\n",
      "  and should_run_async(code)\n"
     ]
    }
   ],
   "source": [
    "from sklearn.feature_selection import RFECV\n",
    "\n",
    "from sklearn.linear_model import LogisticRegression"
   ]
  },
  {
   "cell_type": "code",
   "execution_count": 12,
   "metadata": {},
   "outputs": [],
   "source": [
    "rfc = RandomForestClassifier(n_estimators=100, max_features=.2, min_samples_leaf=17, min_samples_split=9, bootstrap=False, criterion=\"gini\", class_weight=\"balanced\")\n",
    "\n",
    "logistic = LogisticRegression(penalty=\"l1\", solver=\"liblinear\", fit_intercept=True, dual=False, tol=0.001, class_weight=\"balanced\")\n",
    "\n",
    "min_features_to_select = 5"
   ]
  },
  {
   "cell_type": "code",
   "execution_count": 13,
   "metadata": {},
   "outputs": [],
   "source": [
    "rfecv = RFECV(rfc, step=1, cv=CV, scoring=\"f1\", min_features_to_select=min_features_to_select, n_jobs=40)"
   ]
  },
  {
   "cell_type": "code",
   "execution_count": 14,
   "metadata": {},
   "outputs": [
    {
     "data": {
      "text/plain": [
       "['accuracy',\n",
       " 'adjusted_mutual_info_score',\n",
       " 'adjusted_rand_score',\n",
       " 'average_precision',\n",
       " 'balanced_accuracy',\n",
       " 'completeness_score',\n",
       " 'explained_variance',\n",
       " 'f1',\n",
       " 'f1_macro',\n",
       " 'f1_micro',\n",
       " 'f1_samples',\n",
       " 'f1_weighted',\n",
       " 'fowlkes_mallows_score',\n",
       " 'homogeneity_score',\n",
       " 'jaccard',\n",
       " 'jaccard_macro',\n",
       " 'jaccard_micro',\n",
       " 'jaccard_samples',\n",
       " 'jaccard_weighted',\n",
       " 'max_error',\n",
       " 'mutual_info_score',\n",
       " 'neg_brier_score',\n",
       " 'neg_log_loss',\n",
       " 'neg_mean_absolute_error',\n",
       " 'neg_mean_absolute_percentage_error',\n",
       " 'neg_mean_gamma_deviance',\n",
       " 'neg_mean_poisson_deviance',\n",
       " 'neg_mean_squared_error',\n",
       " 'neg_mean_squared_log_error',\n",
       " 'neg_median_absolute_error',\n",
       " 'neg_root_mean_squared_error',\n",
       " 'normalized_mutual_info_score',\n",
       " 'precision',\n",
       " 'precision_macro',\n",
       " 'precision_micro',\n",
       " 'precision_samples',\n",
       " 'precision_weighted',\n",
       " 'r2',\n",
       " 'rand_score',\n",
       " 'recall',\n",
       " 'recall_macro',\n",
       " 'recall_micro',\n",
       " 'recall_samples',\n",
       " 'recall_weighted',\n",
       " 'roc_auc',\n",
       " 'roc_auc_ovo',\n",
       " 'roc_auc_ovo_weighted',\n",
       " 'roc_auc_ovr',\n",
       " 'roc_auc_ovr_weighted',\n",
       " 'top_k_accuracy',\n",
       " 'v_measure_score']"
      ]
     },
     "execution_count": 14,
     "metadata": {},
     "output_type": "execute_result"
    }
   ],
   "source": [
    "import sklearn\n",
    "sorted(sklearn.metrics.SCORERS.keys())"
   ]
  },
  {
   "cell_type": "code",
   "execution_count": 15,
   "metadata": {},
   "outputs": [
    {
     "data": {
      "text/plain": [
       "RFECV(cv=PredefinedSplit(test_fold=array([0, 0, ..., 1, 1])),\n",
       "      estimator=RandomForestClassifier(bootstrap=False, class_weight='balanced',\n",
       "                                       max_features=0.2, min_samples_leaf=17,\n",
       "                                       min_samples_split=9),\n",
       "      min_features_to_select=5, n_jobs=40, scoring='f1')"
      ]
     },
     "execution_count": 15,
     "metadata": {},
     "output_type": "execute_result"
    }
   ],
   "source": [
    "rfecv.fit(X, y)"
   ]
  },
  {
   "cell_type": "code",
   "execution_count": 16,
   "metadata": {},
   "outputs": [
    {
     "name": "stderr",
     "output_type": "stream",
     "text": [
      "/home/bhillmann/.conda/envs/tpot-cuml/lib/python3.7/site-packages/ipykernel/ipkernel.py:283: DeprecationWarning: `should_run_async` will not call `transform_cell` automatically in the future. Please pass the result to `transformed_cell` argument and any exception that happen during thetransform in `preprocessing_exc_tuple` in IPython 7.17 and above.\n",
      "  and should_run_async(code)\n"
     ]
    },
    {
     "data": {
      "text/plain": [
       "array([[9.60000000e+01, 1.71595733e-05, 7.10437693e-01, ...,\n",
       "        4.60000000e-02, 2.00000000e+00, 3.90422500e+06],\n",
       "       [2.00000000e+01, 3.41750416e-04, 4.13717990e-01, ...,\n",
       "        4.30000000e-02, 1.00000000e+00, 2.02284400e+06],\n",
       "       [9.70000000e+01, 9.12636080e-05, 3.36073526e-01, ...,\n",
       "        4.70000000e-02, 1.00000000e+00, 3.54738900e+06],\n",
       "       ...,\n",
       "       [2.00000000e+01, 1.42146210e-04, 3.12217588e-01, ...,\n",
       "        2.50000000e-02, 1.00000000e+00, 1.41293700e+06],\n",
       "       [0.00000000e+00, 2.08775914e-02, 3.69864685e-01, ...,\n",
       "        1.62000000e-01, 3.00000000e+00, 4.10605300e+06],\n",
       "       [2.00000000e+01, 1.26640733e-04, 5.80128200e-01, ...,\n",
       "        1.40000000e-02, 2.00000000e+00, 3.58367100e+06]])"
      ]
     },
     "execution_count": 16,
     "metadata": {},
     "output_type": "execute_result"
    }
   ],
   "source": [
    "rfecv.transform(X)"
   ]
  },
  {
   "cell_type": "code",
   "execution_count": 17,
   "metadata": {},
   "outputs": [
    {
     "name": "stderr",
     "output_type": "stream",
     "text": [
      "/home/bhillmann/.conda/envs/tpot-cuml/lib/python3.7/site-packages/ipykernel/ipkernel.py:283: DeprecationWarning: `should_run_async` will not call `transform_cell` automatically in the future. Please pass the result to `transformed_cell` argument and any exception that happen during thetransform in `preprocessing_exc_tuple` in IPython 7.17 and above.\n",
      "  and should_run_async(code)\n"
     ]
    },
    {
     "data": {
      "text/plain": [
       "Index(['consecutive_ns', 'expected_percent_coverage', 'gc_content',\n",
       "       'gf_checkm_completeness', 'gf_checkm_contamination', 'hits',\n",
       "       'largest_binned_pileup', 'largest_pileup', 'mean_binned_coverage',\n",
       "       'mean_coverage', 'num_n_groups', 'percent_binned_coverage',\n",
       "       'percent_coverage', 'percent_max_uncovered_region',\n",
       "       'sd_binned_coverage', 'sd_coverage', 'shannon_entropy',\n",
       "       'total_genome_length', 'tree_dist', 'tree_top_dist',\n",
       "       'ungapped_genome_length'],\n",
       "      dtype='object')"
      ]
     },
     "execution_count": 17,
     "metadata": {},
     "output_type": "execute_result"
    }
   ],
   "source": [
    "X.columns[rfecv.ranking_ == 1]"
   ]
  },
  {
   "cell_type": "code",
   "execution_count": 18,
   "metadata": {},
   "outputs": [
    {
     "name": "stdout",
     "output_type": "stream",
     "text": [
      "Optimal number of features : 21\n"
     ]
    },
    {
     "data": {
      "image/png": "[encoded data removed]",
      "text/plain": [
       "<Figure size 432x288 with 1 Axes>"
      ]
     },
     "metadata": {
      "needs_background": "light"
     },
     "output_type": "display_data"
    }
   ],
   "source": [
    "print(\"Optimal number of features : %d\" % rfecv.n_features_)\n",
    "\n",
    "# Plot number of features VS. cross-validation scores\n",
    "plt.figure()\n",
    "plt.xlabel(\"Number of features selected\")\n",
    "plt.ylabel(\"Cross validation score (nb of correct classifications)\")\n",
    "plt.plot(range(min_features_to_select,\n",
    "               len(rfecv.grid_scores_) + min_features_to_select),\n",
    "         rfecv.grid_scores_)\n",
    "plt.show()"
   ]
  },
  {
   "cell_type": "code",
   "execution_count": 19,
   "metadata": {},
   "outputs": [
    {
     "name": "stderr",
     "output_type": "stream",
     "text": [
      "/home/bhillmann/.conda/envs/tpot-cuml/lib/python3.7/site-packages/ipykernel/ipkernel.py:283: DeprecationWarning: `should_run_async` will not call `transform_cell` automatically in the future. Please pass the result to `transformed_cell` argument and any exception that happen during thetransform in `preprocessing_exc_tuple` in IPython 7.17 and above.\n",
      "  and should_run_async(code)\n"
     ]
    }
   ],
   "source": [
    "from sklearn.metrics import average_precision_score\n",
    "from sklearn.metrics import plot_precision_recall_curve\n",
    "import matplotlib.pyplot as plt\n",
    "\n",
    "df_type_1_features['dataset_cat'] = pd.Series([_.split(\"_\")[0] for _ in df_type_1_features['dataset']], dtype='category')\n",
    "cv = PredefinedSplit(df_type_1_features['dataset_cat'].cat.codes)\n",
    "classifier = rfc\n",
    "\n",
    "categories = df_type_1_features['dataset_cat'].cat.categories\n",
    "\n",
    "X = X_type_1.loc[:, X_type_1.columns.difference([\"assembly_accession\", \"dataset\", \"dataset_cat\", \"truth\"])]\n",
    "X = rfecv.transform(X)\n",
    "\n",
    "precisions = []\n",
    "average_precisions = []\n",
    "mean_recall = np.linspace(0, 1, 100)\n",
    "classifiers = []\n",
    "\n",
    "for i, (train, test) in enumerate(CV.split(X, y)):\n",
    "    clf = RandomForestClassifier(n_estimators=100, max_features=.2, min_samples_leaf=17, min_samples_split=9, bootstrap=False, criterion=\"gini\", class_weight=\"balanced_subsample\")\n",
    "    clf.fit(X[train], y[train])\n",
    "    classifiers.append(clf)"
   ]
  },
  {
   "cell_type": "code",
   "execution_count": 20,
   "metadata": {},
   "outputs": [
    {
     "name": "stderr",
     "output_type": "stream",
     "text": [
      "/home/bhillmann/.conda/envs/tpot-cuml/lib/python3.7/site-packages/ipykernel/ipkernel.py:283: DeprecationWarning: `should_run_async` will not call `transform_cell` automatically in the future. Please pass the result to `transformed_cell` argument and any exception that happen during thetransform in `preprocessing_exc_tuple` in IPython 7.17 and above.\n",
      "  and should_run_async(code)\n"
     ]
    }
   ],
   "source": [
    "from sklearn.metrics import f1_score, precision_score, recall_score"
   ]
  },
  {
   "cell_type": "code",
   "execution_count": 24,
   "metadata": {},
   "outputs": [
    {
     "data": {
      "text/plain": [
       "array([[9.60000000e+01, 1.71595733e-05, 7.10437693e-01, ...,\n",
       "        4.60000000e-02, 2.00000000e+00, 3.90422500e+06],\n",
       "       [2.00000000e+01, 3.41750416e-04, 4.13717990e-01, ...,\n",
       "        4.30000000e-02, 1.00000000e+00, 2.02284400e+06],\n",
       "       [9.70000000e+01, 9.12636080e-05, 3.36073526e-01, ...,\n",
       "        4.70000000e-02, 1.00000000e+00, 3.54738900e+06],\n",
       "       ...,\n",
       "       [2.00000000e+01, 1.42146210e-04, 3.12217588e-01, ...,\n",
       "        2.50000000e-02, 1.00000000e+00, 1.41293700e+06],\n",
       "       [0.00000000e+00, 2.08775914e-02, 3.69864685e-01, ...,\n",
       "        1.62000000e-01, 3.00000000e+00, 4.10605300e+06],\n",
       "       [2.00000000e+01, 1.26640733e-04, 5.80128200e-01, ...,\n",
       "        1.40000000e-02, 2.00000000e+00, 3.58367100e+06]])"
      ]
     },
     "execution_count": 24,
     "metadata": {},
     "output_type": "execute_result"
    }
   ],
   "source": [
    "X"
   ]
  },
  {
   "cell_type": "code",
   "execution_count": 22,
   "metadata": {},
   "outputs": [
    {
     "name": "stdout",
     "output_type": "stream",
     "text": [
      "Dataset: dual\n",
      "F1: 0.44444444444444436\n",
      "Precision: 0.3181818181818182\n",
      "Recall: 0.7368421052631579\n",
      "Num Predicted: 44\n",
      "Dataset: gis\n",
      "F1: 0.23214285714285712\n",
      "Precision: 0.13978494623655913\n",
      "Recall: 0.6842105263157895\n",
      "Num Predicted: 93\n",
      "Dataset: hmp\n",
      "F1: 0.21739130434782605\n",
      "Precision: 0.13297872340425532\n",
      "Recall: 0.5952380952380952\n",
      "Num Predicted: 188\n",
      "Dataset: mbarc\n",
      "F1: 0.3\n",
      "Precision: 0.42857142857142855\n",
      "Recall: 0.23076923076923078\n",
      "Num Predicted: 14\n",
      "Dataset: zymo\n",
      "F1: 0.360655737704918\n",
      "Precision: 0.24444444444444444\n",
      "Recall: 0.6875\n",
      "Num Predicted: 45\n"
     ]
    },
    {
     "data": {
      "image/png": "[encoded data removed]",
      "text/plain": [
       "<Figure size 432x288 with 1 Axes>"
      ]
     },
     "metadata": {
      "needs_background": "light"
     },
     "output_type": "display_data"
    }
   ],
   "source": [
    "fig, ax = plt.subplots()\n",
    "for i, ((train, test), classifier) in enumerate(zip(CV.split(X, y), classifiers)):\n",
    "    viz = plot_precision_recall_curve(classifier, X[test], y[test],\n",
    "                     name=f'{categories[i]}',\n",
    "                     alpha=0.3, lw=1, ax=ax)\n",
    "    interp_precision = np.interp(mean_recall, viz.recall[::-1], viz.precision[::-1])\n",
    "    interp_precision[0] = 1.0\n",
    "    precisions.append(interp_precision)\n",
    "    average_precisions.append(viz.average_precision)\n",
    "    y_pred = classifier.predict(X[test])\n",
    "    print(f\"Dataset: {categories[i]}\")\n",
    "    print(f\"F1: {f1_score(y[test], y_pred)}\")\n",
    "    print(f\"Precision: {precision_score(y[test], y_pred)}\")\n",
    "    print(f\"Recall: {recall_score(y[test], y_pred)}\")\n",
    "    print(f\"Num Predicted: {y_pred.sum()}\")\n",
    "    \n",
    "\n",
    "mean_precision = np.mean(precisions, axis=0)\n",
    "mean_precision[-1] = 0.0\n",
    "mean_average_precisions = np.mean(average_precisions)\n",
    "std_average_precisions = np.std(average_precisions)\n",
    "\n",
    "ax.plot(mean_recall, mean_precision, color='b',\n",
    "        label=r'Mean PR (AP = %0.2f $\\pm$ %0.2f)' % (mean_average_precisions, std_average_precisions),\n",
    "        lw=2, alpha=.8)\n",
    "\n",
    "# calculate the no skill line as the proportion of the positive class\n",
    "# no_skill = len(y[y==False]) / len(y)\n",
    "# # plot the no skill precision-recall curve\n",
    "# plt.plot([0, 1], [no_skill, no_skill], linestyle='--', label=f'No Skill ( AP = {no_skill:.5f})')\n",
    "\n",
    "std_precisions = np.std(precisions, axis=0)\n",
    "precisions_upper = np.minimum(mean_precision + std_precisions, 1)\n",
    "precisions_lower = np.maximum(mean_precision - std_precisions, 0)\n",
    "ax.fill_between(mean_recall, precisions_lower, precisions_upper, color='grey', alpha=.2,\n",
    "                label=r'$\\pm$ 1 std. dev.')\n",
    "\n",
    "ax.set(xlim=[-0.05, 1.05], ylim=[-0.05, 1.05],\n",
    "       title=\"Precision Recall Curves\")\n",
    "ax.legend(loc='center left', bbox_to_anchor=(1, 0.5))\n",
    "plt.show()"
   ]
  },
  {
   "cell_type": "code",
   "execution_count": 23,
   "metadata": {},
   "outputs": [
    {
     "name": "stderr",
     "output_type": "stream",
     "text": [
      "/home/bhillmann/.conda/envs/tpot-cuml/lib/python3.7/site-packages/ipykernel/ipkernel.py:283: DeprecationWarning: `should_run_async` will not call `transform_cell` automatically in the future. Please pass the result to `transformed_cell` argument and any exception that happen during thetransform in `preprocessing_exc_tuple` in IPython 7.17 and above.\n",
      "  and should_run_async(code)\n"
     ]
    }
   ],
   "source": [
    "# #import the required library\n",
    "# from numpy import argmax\n",
    "\n",
    "# # Calculate F-Scores and find the index of ideal score\n",
    "# fscore = (2 * mean_precision * mean_recall) / (mean_precision + mean_recall)\n",
    "# ix = argmax(fscore)\n",
    "# best_thresh = thresholds[ix]\n",
    "# print('Best Threshold: %f' % (best_thresh))"
   ]
  }
 ],
 "metadata": {
  "kernelspec": {
   "display_name": "Python [conda env:.conda-tpot-cuml]",
   "language": "python",
   "name": "conda-env-.conda-tpot-cuml-py"
  },
  "language_info": {
   "codemirror_mode": {
    "name": "ipython",
    "version": 3
   },
   "file_extension": ".py",
   "mimetype": "text/x-python",
   "name": "python",
   "nbconvert_exporter": "python",
   "pygments_lexer": "ipython3",
   "version": "3.7.10"
  }
 },
 "nbformat": 4,
 "nbformat_minor": 4
}
