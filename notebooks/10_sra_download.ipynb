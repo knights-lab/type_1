{
 "cells": [
  {
   "cell_type": "code",
   "execution_count": 1,
   "metadata": {},
   "outputs": [
    {
     "name": "stdout",
     "output_type": "stream",
     "text": [
      "numpy   1.19.5\n",
      "pandas  1.1.4\n",
      "seaborn 0.10.1\n",
      "\n"
     ]
    }
   ],
   "source": [
    "import numpy as np\n",
    "import matplotlib.pyplot as plt\n",
    "import pandas as pd\n",
    "import warnings\n",
    "import seaborn as sns\n",
    "\n",
    "from scipy.stats import pearsonr\n",
    "\n",
    "sns.set_style(\"darkgrid\")\n",
    "np.random.seed(930525)\n",
    "pd.set_option('display.max_columns', 20)\n",
    "pd.set_option('display.max_rows', 200)\n",
    "\n",
    "warnings.simplefilter('once')\n",
    "\n",
    "%matplotlib inline\n",
    "%load_ext watermark\n",
    "%watermark --iversions"
   ]
  },
  {
   "cell_type": "code",
   "execution_count": 2,
   "metadata": {},
   "outputs": [
    {
     "name": "stderr",
     "output_type": "stream",
     "text": [
      "/home/bhillmann/.conda/envs/type_1/lib/python3.8/site-packages/ipykernel/ipkernel.py:287: DeprecationWarning: `should_run_async` will not call `transform_cell` automatically in the future. Please pass the result to `transformed_cell` argument and any exception that happen during thetransform in `preprocessing_exc_tuple` in IPython 7.17 and above.\n",
      "  and should_run_async(code)\n"
     ]
    }
   ],
   "source": [
    "from glob import glob"
   ]
  },
  {
   "cell_type": "code",
   "execution_count": 3,
   "metadata": {},
   "outputs": [],
   "source": [
    "files = glob(\"/mnt/btrfs/data/type_1/sra/runinfor.*.txt\")"
   ]
  },
  {
   "cell_type": "code",
   "execution_count": 4,
   "metadata": {},
   "outputs": [],
   "source": [
    "import json"
   ]
  },
  {
   "cell_type": "code",
   "execution_count": 5,
   "metadata": {},
   "outputs": [],
   "source": [
    "sras = []\n",
    "\n",
    "for file in files:\n",
    "    with open(file) as inf:\n",
    "        filename = \".\".join(file.split(\".\")[-3:-1])\n",
    "        contents = inf.read()\n",
    "        if len(contents) > 0:\n",
    "            js = json.loads(contents)\n",
    "            if type(js) != type(sras):\n",
    "                js['wgs_master'] = filename\n",
    "                sras.append(js)\n",
    "            else:\n",
    "                for d in js:\n",
    "                    d['wgs_master'] = filename\n",
    "                    sras.append(d)\n",
    "            "
   ]
  },
  {
   "cell_type": "code",
   "execution_count": 6,
   "metadata": {},
   "outputs": [],
   "source": [
    "df_sra = pd.DataFrame.from_records(sras)"
   ]
  },
  {
   "cell_type": "code",
   "execution_count": 7,
   "metadata": {},
   "outputs": [
    {
     "data": {
      "text/plain": [
       "array(['https://sra-downloadb.st-va.ncbi.nlm.nih.gov/sos2/sra-pub-run-6/SRR2886784/SRR2886784.1',\n",
       "       'https://sra-downloadb.st-va.ncbi.nlm.nih.gov/sos2/sra-pub-run-6/SRR2886880/SRR2886880.1',\n",
       "       'https://sra-downloadb.be-md.ncbi.nlm.nih.gov/sos3/sra-pub-run-20/SRR11038190/SRR11038190.1',\n",
       "       ...,\n",
       "       'https://sra-downloadb.be-md.ncbi.nlm.nih.gov/sos3/sra-pub-run-21/ERR3046676/ERR3046676.1',\n",
       "       'https://sra-downloadb.be-md.ncbi.nlm.nih.gov/sos3/sra-pub-run-20/ERR3046932/ERR3046932.1',\n",
       "       'https://sra-downloadb.be-md.ncbi.nlm.nih.gov/sos1/sra-pub-run-2/SRR8847018/SRR8847018.1'],\n",
       "      dtype=object)"
      ]
     },
     "execution_count": 7,
     "metadata": {},
     "output_type": "execute_result"
    }
   ],
   "source": [
    "df_sra.download_path.values"
   ]
  },
  {
   "cell_type": "code",
   "execution_count": 8,
   "metadata": {},
   "outputs": [
    {
     "data": {
      "text/html": [
       "<div>\n",
       "<style scoped>\n",
       "    .dataframe tbody tr th:only-of-type {\n",
       "        vertical-align: middle;\n",
       "    }\n",
       "\n",
       "    .dataframe tbody tr th {\n",
       "        vertical-align: top;\n",
       "    }\n",
       "\n",
       "    .dataframe thead th {\n",
       "        text-align: right;\n",
       "    }\n",
       "</style>\n",
       "<table border=\"1\" class=\"dataframe\">\n",
       "  <thead>\n",
       "    <tr style=\"text-align: right;\">\n",
       "      <th></th>\n",
       "      <th>Run</th>\n",
       "      <th>ReleaseDate</th>\n",
       "      <th>LoadDate</th>\n",
       "      <th>spots</th>\n",
       "      <th>bases</th>\n",
       "      <th>spots_with_mates</th>\n",
       "      <th>avgLength</th>\n",
       "      <th>size_MB</th>\n",
       "      <th>download_path</th>\n",
       "      <th>Experiment</th>\n",
       "      <th>...</th>\n",
       "      <th>Tumor</th>\n",
       "      <th>CenterName</th>\n",
       "      <th>Submission</th>\n",
       "      <th>Consent</th>\n",
       "      <th>RunHash</th>\n",
       "      <th>ReadHash</th>\n",
       "      <th>wgs_master</th>\n",
       "      <th>LibraryName</th>\n",
       "      <th>Subject_ID</th>\n",
       "      <th>AssemblyName</th>\n",
       "    </tr>\n",
       "  </thead>\n",
       "  <tbody>\n",
       "    <tr>\n",
       "      <th>0</th>\n",
       "      <td>SRR2886784</td>\n",
       "      <td>2017-08-01 00:00:32</td>\n",
       "      <td>2015-11-01 02:48:19</td>\n",
       "      <td>3776199</td>\n",
       "      <td>569917417</td>\n",
       "      <td>3776199</td>\n",
       "      <td>150</td>\n",
       "      <td>277</td>\n",
       "      <td>https://sra-downloadb.st-va.ncbi.nlm.nih.gov/s...</td>\n",
       "      <td>SRX1406647</td>\n",
       "      <td>...</td>\n",
       "      <td>no</td>\n",
       "      <td>UNIVERSITY OF CALIFORNIA, SANTA BARBARA</td>\n",
       "      <td>SRA308460</td>\n",
       "      <td>public</td>\n",
       "      <td>B3D91B8C88595960A14E5899ECA06D2B</td>\n",
       "      <td>22BE7CC5D2703B673FB9AF0CA3517131</td>\n",
       "      <td>LMVM00000000.1</td>\n",
       "      <td>NaN</td>\n",
       "      <td>NaN</td>\n",
       "      <td>NaN</td>\n",
       "    </tr>\n",
       "    <tr>\n",
       "      <th>1</th>\n",
       "      <td>SRR2886880</td>\n",
       "      <td>2017-08-01 00:00:32</td>\n",
       "      <td>2015-11-01 21:05:38</td>\n",
       "      <td>2395447</td>\n",
       "      <td>361505594</td>\n",
       "      <td>2395447</td>\n",
       "      <td>150</td>\n",
       "      <td>177</td>\n",
       "      <td>https://sra-downloadb.st-va.ncbi.nlm.nih.gov/s...</td>\n",
       "      <td>SRX1406759</td>\n",
       "      <td>...</td>\n",
       "      <td>no</td>\n",
       "      <td>UNIVERSITY OF CALIFORNIA, SANTA BARBARA</td>\n",
       "      <td>SRA308487</td>\n",
       "      <td>public</td>\n",
       "      <td>E738CBB0367D44574137C7D7F48EBCF4</td>\n",
       "      <td>4ED2E095F415C2E3BB6958B3DE7E10D4</td>\n",
       "      <td>LMVO00000000.1</td>\n",
       "      <td>NaN</td>\n",
       "      <td>NaN</td>\n",
       "      <td>NaN</td>\n",
       "    </tr>\n",
       "    <tr>\n",
       "      <th>2</th>\n",
       "      <td>SRR11038190</td>\n",
       "      <td>2020-02-07 18:27:13</td>\n",
       "      <td>2020-02-07 18:24:21</td>\n",
       "      <td>3101206</td>\n",
       "      <td>1556805412</td>\n",
       "      <td>3101206</td>\n",
       "      <td>502</td>\n",
       "      <td>746</td>\n",
       "      <td>https://sra-downloadb.be-md.ncbi.nlm.nih.gov/s...</td>\n",
       "      <td>SRX7690448</td>\n",
       "      <td>...</td>\n",
       "      <td>no</td>\n",
       "      <td>NORTH CAROLINA STATE UNIVERSITY</td>\n",
       "      <td>SRA1039248</td>\n",
       "      <td>public</td>\n",
       "      <td>40932E74CD0AD0A03ED796098C097DBD</td>\n",
       "      <td>8D51B9EB6984CA2DE8FE2BD21E410865</td>\n",
       "      <td>WFIY00000000.1</td>\n",
       "      <td>Acidianus_infernus_Illumina</td>\n",
       "      <td>NaN</td>\n",
       "      <td>NaN</td>\n",
       "    </tr>\n",
       "    <tr>\n",
       "      <th>3</th>\n",
       "      <td>SRR11038191</td>\n",
       "      <td>2020-02-07 18:27:16</td>\n",
       "      <td>2020-02-07 18:26:16</td>\n",
       "      <td>218658</td>\n",
       "      <td>1130230661</td>\n",
       "      <td>0</td>\n",
       "      <td>5168</td>\n",
       "      <td>272</td>\n",
       "      <td>https://sra-downloadb.be-md.ncbi.nlm.nih.gov/s...</td>\n",
       "      <td>SRX7690447</td>\n",
       "      <td>...</td>\n",
       "      <td>no</td>\n",
       "      <td>NORTH CAROLINA STATE UNIVERSITY</td>\n",
       "      <td>SRA1039248</td>\n",
       "      <td>public</td>\n",
       "      <td>E128C60B2086D564E54FF3C9D720ED16</td>\n",
       "      <td>949C68C299081D419C8D40B9FDAA5F81</td>\n",
       "      <td>WFIY00000000.1</td>\n",
       "      <td>Acidianus_infernus_PacBio</td>\n",
       "      <td>NaN</td>\n",
       "      <td>NaN</td>\n",
       "    </tr>\n",
       "    <tr>\n",
       "      <th>4</th>\n",
       "      <td>SRR4236987</td>\n",
       "      <td>2016-09-11 07:09:36</td>\n",
       "      <td>2016-09-11 07:13:04</td>\n",
       "      <td>2850334</td>\n",
       "      <td>860800868</td>\n",
       "      <td>2850334</td>\n",
       "      <td>302</td>\n",
       "      <td>336</td>\n",
       "      <td>https://sra-downloadb.st-va.ncbi.nlm.nih.gov/s...</td>\n",
       "      <td>SRX2158223</td>\n",
       "      <td>...</td>\n",
       "      <td>no</td>\n",
       "      <td>JGI</td>\n",
       "      <td>SRA467326</td>\n",
       "      <td>public</td>\n",
       "      <td>F56FEFE1F9893DC04F115A5C280A6108</td>\n",
       "      <td>9D71A380EB8A49C6CE75F0167A2281FB</td>\n",
       "      <td>FNOF00000000.1</td>\n",
       "      <td>BBPBB</td>\n",
       "      <td>NaN</td>\n",
       "      <td>NaN</td>\n",
       "    </tr>\n",
       "  </tbody>\n",
       "</table>\n",
       "<p>5 rows × 38 columns</p>\n",
       "</div>"
      ],
      "text/plain": [
       "           Run          ReleaseDate             LoadDate    spots       bases  \\\n",
       "0   SRR2886784  2017-08-01 00:00:32  2015-11-01 02:48:19  3776199   569917417   \n",
       "1   SRR2886880  2017-08-01 00:00:32  2015-11-01 21:05:38  2395447   361505594   \n",
       "2  SRR11038190  2020-02-07 18:27:13  2020-02-07 18:24:21  3101206  1556805412   \n",
       "3  SRR11038191  2020-02-07 18:27:16  2020-02-07 18:26:16   218658  1130230661   \n",
       "4   SRR4236987  2016-09-11 07:09:36  2016-09-11 07:13:04  2850334   860800868   \n",
       "\n",
       "  spots_with_mates avgLength size_MB  \\\n",
       "0          3776199       150     277   \n",
       "1          2395447       150     177   \n",
       "2          3101206       502     746   \n",
       "3                0      5168     272   \n",
       "4          2850334       302     336   \n",
       "\n",
       "                                       download_path  Experiment  ... Tumor  \\\n",
       "0  https://sra-downloadb.st-va.ncbi.nlm.nih.gov/s...  SRX1406647  ...    no   \n",
       "1  https://sra-downloadb.st-va.ncbi.nlm.nih.gov/s...  SRX1406759  ...    no   \n",
       "2  https://sra-downloadb.be-md.ncbi.nlm.nih.gov/s...  SRX7690448  ...    no   \n",
       "3  https://sra-downloadb.be-md.ncbi.nlm.nih.gov/s...  SRX7690447  ...    no   \n",
       "4  https://sra-downloadb.st-va.ncbi.nlm.nih.gov/s...  SRX2158223  ...    no   \n",
       "\n",
       "                                CenterName  Submission Consent  \\\n",
       "0  UNIVERSITY OF CALIFORNIA, SANTA BARBARA   SRA308460  public   \n",
       "1  UNIVERSITY OF CALIFORNIA, SANTA BARBARA   SRA308487  public   \n",
       "2          NORTH CAROLINA STATE UNIVERSITY  SRA1039248  public   \n",
       "3          NORTH CAROLINA STATE UNIVERSITY  SRA1039248  public   \n",
       "4                                      JGI   SRA467326  public   \n",
       "\n",
       "                            RunHash                          ReadHash  \\\n",
       "0  B3D91B8C88595960A14E5899ECA06D2B  22BE7CC5D2703B673FB9AF0CA3517131   \n",
       "1  E738CBB0367D44574137C7D7F48EBCF4  4ED2E095F415C2E3BB6958B3DE7E10D4   \n",
       "2  40932E74CD0AD0A03ED796098C097DBD  8D51B9EB6984CA2DE8FE2BD21E410865   \n",
       "3  E128C60B2086D564E54FF3C9D720ED16  949C68C299081D419C8D40B9FDAA5F81   \n",
       "4  F56FEFE1F9893DC04F115A5C280A6108  9D71A380EB8A49C6CE75F0167A2281FB   \n",
       "\n",
       "       wgs_master                  LibraryName Subject_ID AssemblyName  \n",
       "0  LMVM00000000.1                          NaN        NaN          NaN  \n",
       "1  LMVO00000000.1                          NaN        NaN          NaN  \n",
       "2  WFIY00000000.1  Acidianus_infernus_Illumina        NaN          NaN  \n",
       "3  WFIY00000000.1    Acidianus_infernus_PacBio        NaN          NaN  \n",
       "4  FNOF00000000.1                        BBPBB        NaN          NaN  \n",
       "\n",
       "[5 rows x 38 columns]"
      ]
     },
     "execution_count": 8,
     "metadata": {},
     "output_type": "execute_result"
    }
   ],
   "source": [
    "df_sra.head()"
   ]
  },
  {
   "cell_type": "code",
   "execution_count": 9,
   "metadata": {},
   "outputs": [
    {
     "name": "stderr",
     "output_type": "stream",
     "text": [
      "/home/bhillmann/.conda/envs/type_1/lib/python3.8/site-packages/ipykernel/ipkernel.py:287: DeprecationWarning: `should_run_async` will not call `transform_cell` automatically in the future. Please pass the result to `transformed_cell` argument and any exception that happen during thetransform in `preprocessing_exc_tuple` in IPython 7.17 and above.\n",
      "  and should_run_async(code)\n"
     ]
    },
    {
     "data": {
      "text/plain": [
       "3723"
      ]
     },
     "execution_count": 9,
     "metadata": {},
     "output_type": "execute_result"
    }
   ],
   "source": [
    "(df_sra[\"Platform\"] == \"ILLUMINA\").sum()"
   ]
  },
  {
   "cell_type": "code",
   "execution_count": 10,
   "metadata": {},
   "outputs": [],
   "source": [
    "df_sra = df_sra.query(\"Platform == 'ILLUMINA'\").copy()"
   ]
  },
  {
   "cell_type": "code",
   "execution_count": 11,
   "metadata": {},
   "outputs": [
    {
     "name": "stderr",
     "output_type": "stream",
     "text": [
      "/home/bhillmann/.conda/envs/type_1/lib/python3.8/site-packages/IPython/core/interactiveshell.py:3165: DtypeWarning: Columns (5,6) have mixed types.Specify dtype option on import or set low_memory=False.\n",
      "  has_raised = await self.run_ast_nodes(code_ast.body, cell_name,\n"
     ]
    }
   ],
   "source": [
    "file_path = \"/mnt/btrfs/data/type_1/assemblies/assembly_summary.txt\"\n",
    "\n",
    "df_assembly = pd.read_csv(file_path, sep=\"\\t\", skiprows=1)\n",
    "\n",
    "df_assembly_clean = df_assembly.copy()\n",
    "\n",
    "df_assembly = df_assembly.query('refseq_category in (\"representative genome\", \"reference genome\")')\n",
    "\n",
    "df_assembly = df_assembly.query('genome_rep == \"Full\"')\n",
    "\n",
    "df_assembly = df_assembly.query('version_status == \"latest\"')\n",
    "\n",
    "mask_master = df_assembly['wgs_master'].astype(str) != 'nan'\n",
    "\n",
    "df_assembly = df_assembly.loc[mask_master,:]"
   ]
  },
  {
   "cell_type": "code",
   "execution_count": 12,
   "metadata": {},
   "outputs": [],
   "source": [
    "tax_file = \"/mnt/btrfs/data/gtdb_95/gtdb_genomes_reps_r95/r95.gtdb.tax\""
   ]
  },
  {
   "cell_type": "code",
   "execution_count": 13,
   "metadata": {},
   "outputs": [],
   "source": [
    "df_tax_clean = pd.read_csv(tax_file, header=None, sep=\"\\t\")\n",
    "\n",
    "df_tax = df_tax_clean.copy()"
   ]
  },
  {
   "cell_type": "code",
   "execution_count": 14,
   "metadata": {},
   "outputs": [],
   "source": [
    "in_gtdb = set([_.split('.')[0] for _ in df_tax[0]])"
   ]
  },
  {
   "cell_type": "code",
   "execution_count": 15,
   "metadata": {},
   "outputs": [],
   "source": [
    "refseq = np.array([_.split('.')[0] in in_gtdb for _ in df_assembly[\"# assembly_accession\"]])\n",
    "genbank = np.array([_.split('.')[0] in in_gtdb for _ in df_assembly[\"gbrs_paired_asm\"]])\n",
    "\n",
    "df_assembly[\"in_gtdb\"] = refseq | genbank"
   ]
  },
  {
   "cell_type": "code",
   "execution_count": 16,
   "metadata": {},
   "outputs": [],
   "source": [
    "tax_file_path = \"/mnt/btrfs/data/type_1/assemblies/taxtmp/tid2gg.srt.txt\"\n",
    "\n",
    "df_tax_refseq = pd.read_csv(tax_file_path, sep=\"\\t\", header=None)\n",
    "\n",
    "df_tax_refseq.columns = [\"taxid\", \"gg\"]"
   ]
  },
  {
   "cell_type": "code",
   "execution_count": 17,
   "metadata": {},
   "outputs": [],
   "source": [
    "df_assembly['taxid'] = df_assembly['taxid'].astype(int)\n",
    "df_tax_refseq['taxid'] = df_tax_refseq['taxid'].astype(int)\n",
    "\n",
    "df_assembly_gg = pd.merge(df_assembly, df_tax_refseq, on=\"taxid\", how=\"left\")"
   ]
  },
  {
   "cell_type": "code",
   "execution_count": 18,
   "metadata": {},
   "outputs": [],
   "source": [
    "df_merged = pd.merge(df_assembly_gg, df_sra, how=\"inner\", on=\"wgs_master\")"
   ]
  },
  {
   "cell_type": "code",
   "execution_count": 19,
   "metadata": {},
   "outputs": [
    {
     "data": {
      "text/plain": [
       "2619"
      ]
     },
     "execution_count": 19,
     "metadata": {},
     "output_type": "execute_result"
    }
   ],
   "source": [
    "df_merged[\"in_gtdb\"].sum()"
   ]
  },
  {
   "cell_type": "code",
   "execution_count": 20,
   "metadata": {},
   "outputs": [
    {
     "data": {
      "text/plain": [
       "(3723, 61)"
      ]
     },
     "execution_count": 20,
     "metadata": {},
     "output_type": "execute_result"
    }
   ],
   "source": [
    "df_merged.shape"
   ]
  },
  {
   "cell_type": "code",
   "execution_count": 21,
   "metadata": {},
   "outputs": [],
   "source": [
    "df_merged.to_csv(\"../data/assembly_summary.sra.csv\", index=False)"
   ]
  },
  {
   "cell_type": "code",
   "execution_count": 22,
   "metadata": {},
   "outputs": [],
   "source": [
    "df_merged.sample(500)[\"Run\"].to_csv(\"../data/srastudy.500.txt\", index=False, header=False)\n",
    "df_merged.sample(100)[\"Run\"].to_csv(\"../data/srastudy.100.txt\", index=False, header=False)"
   ]
  },
  {
   "cell_type": "code",
   "execution_count": 23,
   "metadata": {},
   "outputs": [
    {
     "data": {
      "text/plain": [
       "array(['ftp://ftp.ncbi.nlm.nih.gov/genomes/all/GCF/002/287/175/GCF_002287175.1_ASM228717v1',\n",
       "       'ftp://ftp.ncbi.nlm.nih.gov/genomes/all/GCF/002/287/215/GCF_002287215.1_ASM228721v1',\n",
       "       'ftp://ftp.ncbi.nlm.nih.gov/genomes/all/GCF/009/729/545/GCF_009729545.1_ASM972954v1',\n",
       "       ...,\n",
       "       'ftp://ftp.ncbi.nlm.nih.gov/genomes/all/GCF/900/890/705/GCF_900890705.1_Kiritimatiellales_strain_F21_draft_genome',\n",
       "       'ftp://ftp.ncbi.nlm.nih.gov/genomes/all/GCF/900/890/425/GCF_900890425.1_Kiritimatiellales_strain_F1_draft_genome',\n",
       "       'ftp://ftp.ncbi.nlm.nih.gov/genomes/all/GCF/004/768/465/GCF_004768465.1_ASM476846v1'],\n",
       "      dtype=object)"
      ]
     },
     "execution_count": 23,
     "metadata": {},
     "output_type": "execute_result"
    }
   ],
   "source": [
    "df_merged.ftp_path.values"
   ]
  },
  {
   "cell_type": "code",
   "execution_count": 24,
   "metadata": {},
   "outputs": [
    {
     "data": {
      "text/plain": [
       "0       SRP065574\n",
       "1       SRP065585\n",
       "2       SRP247566\n",
       "3       SRP089436\n",
       "4       SRP008004\n",
       "          ...    \n",
       "3718    SRP072866\n",
       "3719    ERP000943\n",
       "3720    ERP106613\n",
       "3721    ERP106613\n",
       "3722    SRP190798\n",
       "Name: SRAStudy, Length: 3723, dtype: object"
      ]
     },
     "execution_count": 24,
     "metadata": {},
     "output_type": "execute_result"
    }
   ],
   "source": [
    "df_merged.SRAStudy"
   ]
  },
  {
   "cell_type": "code",
   "execution_count": 25,
   "metadata": {},
   "outputs": [
    {
     "data": {
      "text/plain": [
       "0        SRA308460\n",
       "1        SRA308487\n",
       "2       SRA1039248\n",
       "3        SRA467326\n",
       "4        SRA045669\n",
       "           ...    \n",
       "3718     SRA404858\n",
       "3719     ERA087401\n",
       "3720    ERA1714097\n",
       "3721    ERA1714097\n",
       "3722     SRA869444\n",
       "Name: Submission, Length: 3723, dtype: object"
      ]
     },
     "execution_count": 25,
     "metadata": {},
     "output_type": "execute_result"
    }
   ],
   "source": [
    "df_merged.Submission"
   ]
  }
 ],
 "metadata": {
  "kernelspec": {
   "display_name": "Python [conda env:.conda-type_1]",
   "language": "python",
   "name": "conda-env-.conda-type_1-py"
  },
  "language_info": {
   "codemirror_mode": {
    "name": "ipython",
    "version": 3
   },
   "file_extension": ".py",
   "mimetype": "text/x-python",
   "name": "python",
   "nbconvert_exporter": "python",
   "pygments_lexer": "ipython3",
   "version": "3.8.8"
  }
 },
 "nbformat": 4,
 "nbformat_minor": 4
}
