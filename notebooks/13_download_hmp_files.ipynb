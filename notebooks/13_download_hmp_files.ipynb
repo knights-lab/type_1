{
 "cells": [
  {
   "cell_type": "code",
   "execution_count": 1,
   "metadata": {},
   "outputs": [
    {
     "name": "stdout",
     "output_type": "stream",
     "text": [
      "numpy   1.19.5\n",
      "pandas  1.1.4\n",
      "seaborn 0.10.1\n",
      "\n"
     ]
    }
   ],
   "source": [
    "import numpy as np\n",
    "import matplotlib.pyplot as plt\n",
    "import pandas as pd\n",
    "import warnings\n",
    "import seaborn as sns\n",
    "\n",
    "from scipy.stats import pearsonr\n",
    "\n",
    "sns.set_style(\"darkgrid\")\n",
    "np.random.seed(930525)\n",
    "pd.set_option('display.max_columns', 20)\n",
    "pd.set_option('display.max_rows', 200)\n",
    "\n",
    "warnings.simplefilter('once')\n",
    "\n",
    "%matplotlib inline\n",
    "%load_ext watermark\n",
    "%watermark --iversions"
   ]
  },
  {
   "cell_type": "code",
   "execution_count": 2,
   "metadata": {},
   "outputs": [
    {
     "name": "stderr",
     "output_type": "stream",
     "text": [
      "/home/bhillmann/.conda/envs/type_1/lib/python3.8/site-packages/ipykernel/ipkernel.py:287: DeprecationWarning: `should_run_async` will not call `transform_cell` automatically in the future. Please pass the result to `transformed_cell` argument and any exception that happen during thetransform in `preprocessing_exc_tuple` in IPython 7.17 and above.\n",
      "  and should_run_async(code)\n",
      "/home/bhillmann/.conda/envs/type_1/lib/python3.8/site-packages/IPython/core/interactiveshell.py:3165: DtypeWarning: Columns (27,65,66,67,68,69,70,71,72,73,74,75,76,77,78,79,80,81,82) have mixed types.Specify dtype option on import or set low_memory=False.\n",
      "  has_raised = await self.run_ast_nodes(code_ast.body, cell_name,\n"
     ]
    }
   ],
   "source": [
    "df_sra = pd.read_csv(\"../data/HMP.SraRunTable.txt\")"
   ]
  },
  {
   "cell_type": "code",
   "execution_count": 4,
   "metadata": {},
   "outputs": [
    {
     "name": "stderr",
     "output_type": "stream",
     "text": [
      "/home/bhillmann/.conda/envs/type_1/lib/python3.8/site-packages/ipykernel/ipkernel.py:287: DeprecationWarning: `should_run_async` will not call `transform_cell` automatically in the future. Please pass the result to `transformed_cell` argument and any exception that happen during thetransform in `preprocessing_exc_tuple` in IPython 7.17 and above.\n",
      "  and should_run_async(code)\n"
     ]
    },
    {
     "data": {
      "text/plain": [
       "0        True\n",
       "1        True\n",
       "2        True\n",
       "3        True\n",
       "4        True\n",
       "         ... \n",
       "11240    True\n",
       "11241    True\n",
       "11242    True\n",
       "11243    True\n",
       "11244    True\n",
       "Name: Assay Type, Length: 11245, dtype: bool"
      ]
     },
     "execution_count": 4,
     "metadata": {},
     "output_type": "execute_result"
    }
   ],
   "source": [
    "df_sra[\"Assay Type\"] == \"WGS\""
   ]
  },
  {
   "cell_type": "code",
   "execution_count": 5,
   "metadata": {},
   "outputs": [
    {
     "data": {
      "text/plain": [
       "Illumina HiSeq 2000            9497\n",
       "Illumina Genome Analyzer II    1671\n",
       "454 GS FLX Titanium              75\n",
       "Illumina HiSeq 1000               2\n",
       "Name: Instrument, dtype: int64"
      ]
     },
     "execution_count": 5,
     "metadata": {},
     "output_type": "execute_result"
    }
   ],
   "source": [
    "df_sra[\"Instrument\"].value_counts()"
   ]
  },
  {
   "cell_type": "code",
   "execution_count": 14,
   "metadata": {},
   "outputs": [],
   "source": [
    "df_sra_filtered = df_sra.query(\"Instrument == 'Illumina HiSeq 2000'\").groupby([\"submitted_subject_id\", \"analyte_type\"]).first().reset_index()"
   ]
  },
  {
   "cell_type": "code",
   "execution_count": 26,
   "metadata": {},
   "outputs": [
    {
     "name": "stdout",
     "output_type": "stream",
     "text": [
      "G_DNA_Anterior_nares (91, 83)\n",
      "G_DNA_Attached_Keratinized_gingiva (10, 83)\n",
      "G_DNA_Buccal_mucosa (113, 83)\n",
      "G_DNA_L_Retroauricular_crease (12, 83)\n",
      "G_DNA_Mid_vagina (11, 83)\n",
      "G_DNA_Palatine_Tonsils (19, 83)\n",
      "G_DNA_Posterior_fornix (66, 83)\n",
      "G_DNA_R_Antecubital_fossa (1, 83)\n",
      "G_DNA_R_Retroauricular_crease (15, 83)\n",
      "G_DNA_Saliva (3, 83)\n",
      "G_DNA_Stool (183, 83)\n",
      "G_DNA_Subgingival_plaque (15, 83)\n",
      "G_DNA_Supragingival_plaque (131, 83)\n",
      "G_DNA_Throat (11, 83)\n",
      "G_DNA_Tongue_dorsum (142, 83)\n",
      "G_DNA_Vaginal_introitus (8, 83)\n"
     ]
    }
   ],
   "source": [
    "for group, df in df_sra_filtered.groupby(\"analyte_type\"):\n",
    "    group = group.replace(\" \", \"_\").replace(\"/\", \"_\")\n",
    "    print(group, df.shape)\n",
    "    df[\"Run\"].to_csv(f\"../data/HMP.{group}.sra_study.txt\", index=False, header=False)"
   ]
  },
  {
   "cell_type": "code",
   "execution_count": 11,
   "metadata": {},
   "outputs": [
    {
     "data": {
      "text/plain": [
       "array(['WUGSC', 'BCM', 'JCVI', 'BI'], dtype=object)"
      ]
     },
     "execution_count": 11,
     "metadata": {},
     "output_type": "execute_result"
    }
   ],
   "source": [
    "df_sra[\"Center Name\"].unique()"
   ]
  }
 ],
 "metadata": {
  "kernelspec": {
   "display_name": "Python [conda env:.conda-type_1]",
   "language": "python",
   "name": "conda-env-.conda-type_1-py"
  },
  "language_info": {
   "codemirror_mode": {
    "name": "ipython",
    "version": 3
   },
   "file_extension": ".py",
   "mimetype": "text/x-python",
   "name": "python",
   "nbconvert_exporter": "python",
   "pygments_lexer": "ipython3",
   "version": "3.8.8"
  }
 },
 "nbformat": 4,
 "nbformat_minor": 4
}
