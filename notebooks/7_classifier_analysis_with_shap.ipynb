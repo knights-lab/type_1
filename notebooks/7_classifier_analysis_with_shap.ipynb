{
 "cells": [
  {
   "cell_type": "code",
   "execution_count": 1,
   "metadata": {},
   "outputs": [],
   "source": [
    "import os\n",
    "os.environ[\"OPENBLAS_NUM_THREADS\"] = \"1\"\n",
    "os.environ[\"OMP_NUM_THREADS\"] = \"1\"\n",
    "os.environ[\"MKL_NUM_THREADS\"] = \"1\""
   ]
  },
  {
   "cell_type": "code",
   "execution_count": 2,
   "metadata": {},
   "outputs": [
    {
     "name": "stdout",
     "output_type": "stream",
     "text": [
      "numpy   1.19.5\n",
      "pandas  1.1.4\n",
      "seaborn 0.10.1\n",
      "\n"
     ]
    }
   ],
   "source": [
    "import numpy as np\n",
    "import matplotlib.pyplot as plt\n",
    "import pandas as pd\n",
    "import warnings\n",
    "import seaborn as sns\n",
    "\n",
    "from scipy.stats import pearsonr\n",
    "\n",
    "sns.set_style(\"darkgrid\")\n",
    "np.random.seed(930525)\n",
    "pd.set_option('display.max_columns', 20)\n",
    "pd.set_option('display.max_rows', 200)\n",
    "\n",
    "warnings.simplefilter('once')\n",
    "\n",
    "%matplotlib inline\n",
    "%load_ext watermark\n",
    "%watermark --iversions"
   ]
  },
  {
   "cell_type": "code",
   "execution_count": 3,
   "metadata": {},
   "outputs": [
    {
     "name": "stderr",
     "output_type": "stream",
     "text": [
      "/home/bhillmann/.conda/envs/type_1/lib/python3.8/site-packages/ipykernel/ipkernel.py:287: DeprecationWarning: `should_run_async` will not call `transform_cell` automatically in the future. Please pass the result to `transformed_cell` argument and any exception that happen during thetransform in `preprocessing_exc_tuple` in IPython 7.17 and above.\n",
      "  and should_run_async(code)\n"
     ]
    }
   ],
   "source": [
    "import plot_utils as pu"
   ]
  },
  {
   "cell_type": "code",
   "execution_count": 4,
   "metadata": {},
   "outputs": [],
   "source": [
    "from glob import glob\n",
    "\n",
    "import joblib\n",
    "\n",
    "classifiers = []\n",
    "\n",
    "for file in glob(\"../data/clf.sklearn.*\"):\n",
    "    clf = joblib.load(file)\n",
    "    classifiers.append(clf)"
   ]
  },
  {
   "cell_type": "code",
   "execution_count": 13,
   "metadata": {},
   "outputs": [
    {
     "data": {
      "text/html": [
       "<div>\n",
       "<style scoped>\n",
       "    .dataframe tbody tr th:only-of-type {\n",
       "        vertical-align: middle;\n",
       "    }\n",
       "\n",
       "    .dataframe tbody tr th {\n",
       "        vertical-align: top;\n",
       "    }\n",
       "\n",
       "    .dataframe thead th {\n",
       "        text-align: right;\n",
       "    }\n",
       "</style>\n",
       "<table border=\"1\" class=\"dataframe\">\n",
       "  <thead>\n",
       "    <tr style=\"text-align: right;\">\n",
       "      <th></th>\n",
       "      <th>hits</th>\n",
       "      <th>mean_coverage</th>\n",
       "      <th>sd_coverage</th>\n",
       "      <th>percent_binned_coverage</th>\n",
       "      <th>mean_binned_coverage</th>\n",
       "      <th>sd_binned_coverage</th>\n",
       "      <th>expected_percent_coverage</th>\n",
       "      <th>shannon_entropy</th>\n",
       "      <th>percent_max_uncovered_region</th>\n",
       "      <th>largest_pileup</th>\n",
       "      <th>...</th>\n",
       "      <th>gf_checkm_contamination</th>\n",
       "      <th>tree_mean_coverage</th>\n",
       "      <th>tree_shannon_entropy</th>\n",
       "      <th>tree_percent_max_uncovered_region</th>\n",
       "      <th>tree_largest_pileup</th>\n",
       "      <th>tree_largest_binned_pileup</th>\n",
       "      <th>tree_dist</th>\n",
       "      <th>tree_dist</th>\n",
       "      <th>tree_top_dist</th>\n",
       "      <th>tree_top_dist</th>\n",
       "    </tr>\n",
       "  </thead>\n",
       "  <tbody>\n",
       "    <tr>\n",
       "      <th>0</th>\n",
       "      <td>2885.0</td>\n",
       "      <td>0.101421</td>\n",
       "      <td>0.442790</td>\n",
       "      <td>0.1609</td>\n",
       "      <td>0.2885</td>\n",
       "      <td>0.825389</td>\n",
       "      <td>0.096448</td>\n",
       "      <td>0.446408</td>\n",
       "      <td>0.012793</td>\n",
       "      <td>8.0</td>\n",
       "      <td>...</td>\n",
       "      <td>1.34</td>\n",
       "      <td>0.408550</td>\n",
       "      <td>1.154647</td>\n",
       "      <td>0.045304</td>\n",
       "      <td>13.0</td>\n",
       "      <td>16.0</td>\n",
       "      <td>0.005</td>\n",
       "      <td>0.005</td>\n",
       "      <td>2.0</td>\n",
       "      <td>2.0</td>\n",
       "    </tr>\n",
       "    <tr>\n",
       "      <th>1</th>\n",
       "      <td>31832.0</td>\n",
       "      <td>2.149773</td>\n",
       "      <td>1.910565</td>\n",
       "      <td>0.8376</td>\n",
       "      <td>3.1832</td>\n",
       "      <td>2.445698</td>\n",
       "      <td>0.883489</td>\n",
       "      <td>2.747820</td>\n",
       "      <td>0.003968</td>\n",
       "      <td>17.0</td>\n",
       "      <td>...</td>\n",
       "      <td>0.27</td>\n",
       "      <td>0.188667</td>\n",
       "      <td>0.636505</td>\n",
       "      <td>0.012494</td>\n",
       "      <td>15.0</td>\n",
       "      <td>19.0</td>\n",
       "      <td>0.006</td>\n",
       "      <td>0.006</td>\n",
       "      <td>1.0</td>\n",
       "      <td>1.0</td>\n",
       "    </tr>\n",
       "    <tr>\n",
       "      <th>2</th>\n",
       "      <td>38514.0</td>\n",
       "      <td>3.084938</td>\n",
       "      <td>2.319953</td>\n",
       "      <td>0.8852</td>\n",
       "      <td>3.8513</td>\n",
       "      <td>2.696329</td>\n",
       "      <td>0.954267</td>\n",
       "      <td>3.101891</td>\n",
       "      <td>0.005930</td>\n",
       "      <td>23.0</td>\n",
       "      <td>...</td>\n",
       "      <td>0.03</td>\n",
       "      <td>0.009710</td>\n",
       "      <td>0.048313</td>\n",
       "      <td>0.201170</td>\n",
       "      <td>11.0</td>\n",
       "      <td>9.0</td>\n",
       "      <td>0.042</td>\n",
       "      <td>0.042</td>\n",
       "      <td>1.0</td>\n",
       "      <td>1.0</td>\n",
       "    </tr>\n",
       "    <tr>\n",
       "      <th>3</th>\n",
       "      <td>69980.0</td>\n",
       "      <td>4.380529</td>\n",
       "      <td>3.045010</td>\n",
       "      <td>0.9607</td>\n",
       "      <td>6.9980</td>\n",
       "      <td>3.931844</td>\n",
       "      <td>0.987481</td>\n",
       "      <td>3.519081</td>\n",
       "      <td>0.010597</td>\n",
       "      <td>32.0</td>\n",
       "      <td>...</td>\n",
       "      <td>0.08</td>\n",
       "      <td>0.004080</td>\n",
       "      <td>0.021317</td>\n",
       "      <td>0.275227</td>\n",
       "      <td>15.0</td>\n",
       "      <td>16.0</td>\n",
       "      <td>0.019</td>\n",
       "      <td>0.019</td>\n",
       "      <td>2.0</td>\n",
       "      <td>2.0</td>\n",
       "    </tr>\n",
       "    <tr>\n",
       "      <th>4</th>\n",
       "      <td>39461.0</td>\n",
       "      <td>2.773138</td>\n",
       "      <td>2.416129</td>\n",
       "      <td>0.9197</td>\n",
       "      <td>3.9461</td>\n",
       "      <td>2.919896</td>\n",
       "      <td>0.937534</td>\n",
       "      <td>3.044385</td>\n",
       "      <td>0.001599</td>\n",
       "      <td>39.0</td>\n",
       "      <td>...</td>\n",
       "      <td>0.00</td>\n",
       "      <td>0.001083</td>\n",
       "      <td>0.007489</td>\n",
       "      <td>0.769399</td>\n",
       "      <td>5.0</td>\n",
       "      <td>3.0</td>\n",
       "      <td>0.059</td>\n",
       "      <td>0.059</td>\n",
       "      <td>3.0</td>\n",
       "      <td>3.0</td>\n",
       "    </tr>\n",
       "    <tr>\n",
       "      <th>...</th>\n",
       "      <td>...</td>\n",
       "      <td>...</td>\n",
       "      <td>...</td>\n",
       "      <td>...</td>\n",
       "      <td>...</td>\n",
       "      <td>...</td>\n",
       "      <td>...</td>\n",
       "      <td>...</td>\n",
       "      <td>...</td>\n",
       "      <td>...</td>\n",
       "      <td>...</td>\n",
       "      <td>...</td>\n",
       "      <td>...</td>\n",
       "      <td>...</td>\n",
       "      <td>...</td>\n",
       "      <td>...</td>\n",
       "      <td>...</td>\n",
       "      <td>...</td>\n",
       "      <td>...</td>\n",
       "      <td>...</td>\n",
       "      <td>...</td>\n",
       "    </tr>\n",
       "    <tr>\n",
       "      <th>8761</th>\n",
       "      <td>1.0</td>\n",
       "      <td>0.000033</td>\n",
       "      <td>0.005706</td>\n",
       "      <td>0.0001</td>\n",
       "      <td>0.0001</td>\n",
       "      <td>0.009999</td>\n",
       "      <td>0.000033</td>\n",
       "      <td>0.000532</td>\n",
       "      <td>0.999967</td>\n",
       "      <td>1.0</td>\n",
       "      <td>...</td>\n",
       "      <td>0.00</td>\n",
       "      <td>0.000082</td>\n",
       "      <td>0.001238</td>\n",
       "      <td>0.561964</td>\n",
       "      <td>1.0</td>\n",
       "      <td>1.0</td>\n",
       "      <td>0.160</td>\n",
       "      <td>0.160</td>\n",
       "      <td>1.0</td>\n",
       "      <td>1.0</td>\n",
       "    </tr>\n",
       "    <tr>\n",
       "      <th>8762</th>\n",
       "      <td>1.0</td>\n",
       "      <td>0.000050</td>\n",
       "      <td>0.007071</td>\n",
       "      <td>0.0001</td>\n",
       "      <td>0.0001</td>\n",
       "      <td>0.009999</td>\n",
       "      <td>0.000050</td>\n",
       "      <td>0.000787</td>\n",
       "      <td>0.999950</td>\n",
       "      <td>1.0</td>\n",
       "      <td>...</td>\n",
       "      <td>0.00</td>\n",
       "      <td>0.000049</td>\n",
       "      <td>0.000771</td>\n",
       "      <td>0.999951</td>\n",
       "      <td>1.0</td>\n",
       "      <td>1.0</td>\n",
       "      <td>0.846</td>\n",
       "      <td>0.846</td>\n",
       "      <td>12.0</td>\n",
       "      <td>12.0</td>\n",
       "    </tr>\n",
       "    <tr>\n",
       "      <th>8763</th>\n",
       "      <td>1.0</td>\n",
       "      <td>0.000029</td>\n",
       "      <td>0.005418</td>\n",
       "      <td>0.0001</td>\n",
       "      <td>0.0001</td>\n",
       "      <td>0.009999</td>\n",
       "      <td>0.000029</td>\n",
       "      <td>0.000484</td>\n",
       "      <td>0.999971</td>\n",
       "      <td>1.0</td>\n",
       "      <td>...</td>\n",
       "      <td>0.19</td>\n",
       "      <td>0.026177</td>\n",
       "      <td>0.011693</td>\n",
       "      <td>0.144170</td>\n",
       "      <td>468.0</td>\n",
       "      <td>510.0</td>\n",
       "      <td>0.009</td>\n",
       "      <td>0.009</td>\n",
       "      <td>3.0</td>\n",
       "      <td>3.0</td>\n",
       "    </tr>\n",
       "    <tr>\n",
       "      <th>8764</th>\n",
       "      <td>1.0</td>\n",
       "      <td>0.000029</td>\n",
       "      <td>0.005401</td>\n",
       "      <td>0.0001</td>\n",
       "      <td>0.0001</td>\n",
       "      <td>0.009999</td>\n",
       "      <td>0.000029</td>\n",
       "      <td>0.000482</td>\n",
       "      <td>0.999971</td>\n",
       "      <td>1.0</td>\n",
       "      <td>...</td>\n",
       "      <td>0.80</td>\n",
       "      <td>0.000298</td>\n",
       "      <td>0.001899</td>\n",
       "      <td>0.496013</td>\n",
       "      <td>8.0</td>\n",
       "      <td>10.0</td>\n",
       "      <td>0.004</td>\n",
       "      <td>0.004</td>\n",
       "      <td>2.0</td>\n",
       "      <td>2.0</td>\n",
       "    </tr>\n",
       "    <tr>\n",
       "      <th>8765</th>\n",
       "      <td>1.0</td>\n",
       "      <td>0.000047</td>\n",
       "      <td>0.006842</td>\n",
       "      <td>0.0001</td>\n",
       "      <td>0.0001</td>\n",
       "      <td>0.009999</td>\n",
       "      <td>0.000047</td>\n",
       "      <td>0.000741</td>\n",
       "      <td>0.999953</td>\n",
       "      <td>1.0</td>\n",
       "      <td>...</td>\n",
       "      <td>0.89</td>\n",
       "      <td>0.000019</td>\n",
       "      <td>0.000324</td>\n",
       "      <td>0.999981</td>\n",
       "      <td>1.0</td>\n",
       "      <td>1.0</td>\n",
       "      <td>0.318</td>\n",
       "      <td>0.318</td>\n",
       "      <td>11.0</td>\n",
       "      <td>11.0</td>\n",
       "    </tr>\n",
       "  </tbody>\n",
       "</table>\n",
       "<p>8766 rows × 31 columns</p>\n",
       "</div>"
      ],
      "text/plain": [
       "         hits  mean_coverage  sd_coverage  percent_binned_coverage  \\\n",
       "0      2885.0       0.101421     0.442790                   0.1609   \n",
       "1     31832.0       2.149773     1.910565                   0.8376   \n",
       "2     38514.0       3.084938     2.319953                   0.8852   \n",
       "3     69980.0       4.380529     3.045010                   0.9607   \n",
       "4     39461.0       2.773138     2.416129                   0.9197   \n",
       "...       ...            ...          ...                      ...   \n",
       "8761      1.0       0.000033     0.005706                   0.0001   \n",
       "8762      1.0       0.000050     0.007071                   0.0001   \n",
       "8763      1.0       0.000029     0.005418                   0.0001   \n",
       "8764      1.0       0.000029     0.005401                   0.0001   \n",
       "8765      1.0       0.000047     0.006842                   0.0001   \n",
       "\n",
       "      mean_binned_coverage  sd_binned_coverage  expected_percent_coverage  \\\n",
       "0                   0.2885            0.825389                   0.096448   \n",
       "1                   3.1832            2.445698                   0.883489   \n",
       "2                   3.8513            2.696329                   0.954267   \n",
       "3                   6.9980            3.931844                   0.987481   \n",
       "4                   3.9461            2.919896                   0.937534   \n",
       "...                    ...                 ...                        ...   \n",
       "8761                0.0001            0.009999                   0.000033   \n",
       "8762                0.0001            0.009999                   0.000050   \n",
       "8763                0.0001            0.009999                   0.000029   \n",
       "8764                0.0001            0.009999                   0.000029   \n",
       "8765                0.0001            0.009999                   0.000047   \n",
       "\n",
       "      shannon_entropy  percent_max_uncovered_region  largest_pileup  ...  \\\n",
       "0            0.446408                      0.012793             8.0  ...   \n",
       "1            2.747820                      0.003968            17.0  ...   \n",
       "2            3.101891                      0.005930            23.0  ...   \n",
       "3            3.519081                      0.010597            32.0  ...   \n",
       "4            3.044385                      0.001599            39.0  ...   \n",
       "...               ...                           ...             ...  ...   \n",
       "8761         0.000532                      0.999967             1.0  ...   \n",
       "8762         0.000787                      0.999950             1.0  ...   \n",
       "8763         0.000484                      0.999971             1.0  ...   \n",
       "8764         0.000482                      0.999971             1.0  ...   \n",
       "8765         0.000741                      0.999953             1.0  ...   \n",
       "\n",
       "      gf_checkm_contamination  tree_mean_coverage  tree_shannon_entropy  \\\n",
       "0                        1.34            0.408550              1.154647   \n",
       "1                        0.27            0.188667              0.636505   \n",
       "2                        0.03            0.009710              0.048313   \n",
       "3                        0.08            0.004080              0.021317   \n",
       "4                        0.00            0.001083              0.007489   \n",
       "...                       ...                 ...                   ...   \n",
       "8761                     0.00            0.000082              0.001238   \n",
       "8762                     0.00            0.000049              0.000771   \n",
       "8763                     0.19            0.026177              0.011693   \n",
       "8764                     0.80            0.000298              0.001899   \n",
       "8765                     0.89            0.000019              0.000324   \n",
       "\n",
       "      tree_percent_max_uncovered_region  tree_largest_pileup  \\\n",
       "0                              0.045304                 13.0   \n",
       "1                              0.012494                 15.0   \n",
       "2                              0.201170                 11.0   \n",
       "3                              0.275227                 15.0   \n",
       "4                              0.769399                  5.0   \n",
       "...                                 ...                  ...   \n",
       "8761                           0.561964                  1.0   \n",
       "8762                           0.999951                  1.0   \n",
       "8763                           0.144170                468.0   \n",
       "8764                           0.496013                  8.0   \n",
       "8765                           0.999981                  1.0   \n",
       "\n",
       "      tree_largest_binned_pileup  tree_dist  tree_dist  tree_top_dist  \\\n",
       "0                           16.0      0.005      0.005            2.0   \n",
       "1                           19.0      0.006      0.006            1.0   \n",
       "2                            9.0      0.042      0.042            1.0   \n",
       "3                           16.0      0.019      0.019            2.0   \n",
       "4                            3.0      0.059      0.059            3.0   \n",
       "...                          ...        ...        ...            ...   \n",
       "8761                         1.0      0.160      0.160            1.0   \n",
       "8762                         1.0      0.846      0.846           12.0   \n",
       "8763                       510.0      0.009      0.009            3.0   \n",
       "8764                        10.0      0.004      0.004            2.0   \n",
       "8765                         1.0      0.318      0.318           11.0   \n",
       "\n",
       "      tree_top_dist  \n",
       "0               2.0  \n",
       "1               1.0  \n",
       "2               1.0  \n",
       "3               2.0  \n",
       "4               3.0  \n",
       "...             ...  \n",
       "8761            1.0  \n",
       "8762           12.0  \n",
       "8763            3.0  \n",
       "8764            2.0  \n",
       "8765           11.0  \n",
       "\n",
       "[8766 rows x 31 columns]"
      ]
     },
     "execution_count": 13,
     "metadata": {},
     "output_type": "execute_result"
    }
   ],
   "source": [
    "X"
   ]
  },
  {
   "cell_type": "code",
   "execution_count": 5,
   "metadata": {},
   "outputs": [
    {
     "name": "stderr",
     "output_type": "stream",
     "text": [
      "/home/bhillmann/.conda/envs/type_1/lib/python3.8/site-packages/ipykernel/ipkernel.py:287: DeprecationWarning: `should_run_async` will not call `transform_cell` automatically in the future. Please pass the result to `transformed_cell` argument and any exception that happen during thetransform in `preprocessing_exc_tuple` in IPython 7.17 and above.\n",
      "  and should_run_async(code)\n"
     ]
    }
   ],
   "source": [
    "X = joblib.load(\"../data/X.pkl\")\n",
    "y = joblib.load(\"../data/y.pkl\")"
   ]
  },
  {
   "cell_type": "code",
   "execution_count": 6,
   "metadata": {},
   "outputs": [
    {
     "data": {
      "text/plain": [
       "Pipeline(steps=[('minmaxscaler', MinMaxScaler()),\n",
       "                ('rfecv',\n",
       "                 RFECV(cv=StratifiedKFold(n_splits=5, random_state=930525, shuffle=True),\n",
       "                       estimator=LogisticRegression(class_weight='balanced',\n",
       "                                                    penalty='l1',\n",
       "                                                    solver='liblinear',\n",
       "                                                    tol=0.001),\n",
       "                       min_features_to_select=5, n_jobs=40, scoring='f1')),\n",
       "                ('mlpclassifier',\n",
       "                 MLPClassifier(alpha=0.01, learning_rate_init=0.01))])"
      ]
     },
     "execution_count": 6,
     "metadata": {},
     "output_type": "execute_result"
    }
   ],
   "source": [
    "classifiers[0]"
   ]
  },
  {
   "cell_type": "code",
   "execution_count": 7,
   "metadata": {},
   "outputs": [
    {
     "name": "stdout",
     "output_type": "stream",
     "text": [
      "Object `shap.Explainer` not found.\n"
     ]
    },
    {
     "name": "stderr",
     "output_type": "stream",
     "text": [
      "/home/bhillmann/.conda/envs/type_1/lib/python3.8/site-packages/ipykernel/ipkernel.py:287: DeprecationWarning: `should_run_async` will not call `transform_cell` automatically in the future. Please pass the result to `transformed_cell` argument and any exception that happen during thetransform in `preprocessing_exc_tuple` in IPython 7.17 and above.\n",
      "  and should_run_async(code)\n"
     ]
    }
   ],
   "source": [
    "shap.Explainer?"
   ]
  },
  {
   "cell_type": "code",
   "execution_count": 12,
   "metadata": {},
   "outputs": [
    {
     "name": "stdout",
     "output_type": "stream",
     "text": [
      "Provided model function fails when applied to the provided data set.\n"
     ]
    },
    {
     "ename": "TypeError",
     "evalue": "'Pipeline' object is not callable",
     "output_type": "error",
     "traceback": [
      "\u001b[0;31m---------------------------------------------------------------------------\u001b[0m",
      "\u001b[0;31mTypeError\u001b[0m                                 Traceback (most recent call last)",
      "\u001b[0;32m<ipython-input-12-ade0c2b7c5c7>\u001b[0m in \u001b[0;36m<module>\u001b[0;34m\u001b[0m\n\u001b[1;32m      4\u001b[0m \u001b[0;31m# (same syntax works for LightGBM, CatBoost, scikit-learn, transformers, Spark, etc.)\u001b[0m\u001b[0;34m\u001b[0m\u001b[0;34m\u001b[0m\u001b[0;34m\u001b[0m\u001b[0m\n\u001b[1;32m      5\u001b[0m \u001b[0;31m# explainer = shap.TreeExplainer(classifiers[0])\u001b[0m\u001b[0;34m\u001b[0m\u001b[0;34m\u001b[0m\u001b[0;34m\u001b[0m\u001b[0m\n\u001b[0;32m----> 6\u001b[0;31m \u001b[0mexplainer\u001b[0m \u001b[0;34m=\u001b[0m \u001b[0mshap\u001b[0m\u001b[0;34m.\u001b[0m\u001b[0mKernelExplainer\u001b[0m\u001b[0;34m(\u001b[0m\u001b[0mclassifiers\u001b[0m\u001b[0;34m[\u001b[0m\u001b[0;36m0\u001b[0m\u001b[0;34m]\u001b[0m\u001b[0;34m,\u001b[0m  \u001b[0mdata\u001b[0m \u001b[0;34m=\u001b[0m \u001b[0mX\u001b[0m\u001b[0;34m.\u001b[0m\u001b[0mhead\u001b[0m\u001b[0;34m(\u001b[0m\u001b[0;36m50\u001b[0m\u001b[0;34m)\u001b[0m\u001b[0;34m,\u001b[0m \u001b[0mlink\u001b[0m \u001b[0;34m=\u001b[0m \u001b[0;34m\"identity\"\u001b[0m\u001b[0;34m)\u001b[0m\u001b[0;34m\u001b[0m\u001b[0;34m\u001b[0m\u001b[0m\n\u001b[0m",
      "\u001b[0;32m~/.conda/envs/type_1/lib/python3.8/site-packages/shap/explainers/_kernel.py\u001b[0m in \u001b[0;36m__init__\u001b[0;34m(self, model, data, link, **kwargs)\u001b[0m\n\u001b[1;32m     66\u001b[0m         \u001b[0mself\u001b[0m\u001b[0;34m.\u001b[0m\u001b[0mkeep_index_ordered\u001b[0m \u001b[0;34m=\u001b[0m \u001b[0mkwargs\u001b[0m\u001b[0;34m.\u001b[0m\u001b[0mget\u001b[0m\u001b[0;34m(\u001b[0m\u001b[0;34m\"keep_index_ordered\"\u001b[0m\u001b[0;34m,\u001b[0m \u001b[0;32mFalse\u001b[0m\u001b[0;34m)\u001b[0m\u001b[0;34m\u001b[0m\u001b[0;34m\u001b[0m\u001b[0m\n\u001b[1;32m     67\u001b[0m         \u001b[0mself\u001b[0m\u001b[0;34m.\u001b[0m\u001b[0mdata\u001b[0m \u001b[0;34m=\u001b[0m \u001b[0mconvert_to_data\u001b[0m\u001b[0;34m(\u001b[0m\u001b[0mdata\u001b[0m\u001b[0;34m,\u001b[0m \u001b[0mkeep_index\u001b[0m\u001b[0;34m=\u001b[0m\u001b[0mself\u001b[0m\u001b[0;34m.\u001b[0m\u001b[0mkeep_index\u001b[0m\u001b[0;34m)\u001b[0m\u001b[0;34m\u001b[0m\u001b[0;34m\u001b[0m\u001b[0m\n\u001b[0;32m---> 68\u001b[0;31m         \u001b[0mmodel_null\u001b[0m \u001b[0;34m=\u001b[0m \u001b[0mmatch_model_to_data\u001b[0m\u001b[0;34m(\u001b[0m\u001b[0mself\u001b[0m\u001b[0;34m.\u001b[0m\u001b[0mmodel\u001b[0m\u001b[0;34m,\u001b[0m \u001b[0mself\u001b[0m\u001b[0;34m.\u001b[0m\u001b[0mdata\u001b[0m\u001b[0;34m)\u001b[0m\u001b[0;34m\u001b[0m\u001b[0;34m\u001b[0m\u001b[0m\n\u001b[0m\u001b[1;32m     69\u001b[0m \u001b[0;34m\u001b[0m\u001b[0m\n\u001b[1;32m     70\u001b[0m         \u001b[0;31m# enforce our current input type limitations\u001b[0m\u001b[0;34m\u001b[0m\u001b[0;34m\u001b[0m\u001b[0;34m\u001b[0m\u001b[0m\n",
      "\u001b[0;32m~/.conda/envs/type_1/lib/python3.8/site-packages/shap/utils/_legacy.py\u001b[0m in \u001b[0;36mmatch_model_to_data\u001b[0;34m(model, data)\u001b[0m\n\u001b[1;32m    110\u001b[0m             \u001b[0mout_val\u001b[0m \u001b[0;34m=\u001b[0m \u001b[0mmodel\u001b[0m\u001b[0;34m.\u001b[0m\u001b[0mf\u001b[0m\u001b[0;34m(\u001b[0m\u001b[0mdata\u001b[0m\u001b[0;34m.\u001b[0m\u001b[0mconvert_to_df\u001b[0m\u001b[0;34m(\u001b[0m\u001b[0;34m)\u001b[0m\u001b[0;34m)\u001b[0m\u001b[0;34m\u001b[0m\u001b[0;34m\u001b[0m\u001b[0m\n\u001b[1;32m    111\u001b[0m         \u001b[0;32melse\u001b[0m\u001b[0;34m:\u001b[0m\u001b[0;34m\u001b[0m\u001b[0;34m\u001b[0m\u001b[0m\n\u001b[0;32m--> 112\u001b[0;31m             \u001b[0mout_val\u001b[0m \u001b[0;34m=\u001b[0m \u001b[0mmodel\u001b[0m\u001b[0;34m.\u001b[0m\u001b[0mf\u001b[0m\u001b[0;34m(\u001b[0m\u001b[0mdata\u001b[0m\u001b[0;34m.\u001b[0m\u001b[0mdata\u001b[0m\u001b[0;34m)\u001b[0m\u001b[0;34m\u001b[0m\u001b[0;34m\u001b[0m\u001b[0m\n\u001b[0m\u001b[1;32m    113\u001b[0m     \u001b[0;32mexcept\u001b[0m\u001b[0;34m:\u001b[0m\u001b[0;34m\u001b[0m\u001b[0;34m\u001b[0m\u001b[0m\n\u001b[1;32m    114\u001b[0m         \u001b[0mprint\u001b[0m\u001b[0;34m(\u001b[0m\u001b[0;34m\"Provided model function fails when applied to the provided data set.\"\u001b[0m\u001b[0;34m)\u001b[0m\u001b[0;34m\u001b[0m\u001b[0;34m\u001b[0m\u001b[0m\n",
      "\u001b[0;31mTypeError\u001b[0m: 'Pipeline' object is not callable"
     ]
    }
   ],
   "source": [
    "import shap\n",
    "\n",
    "# explain the model's predictions using SHAP\n",
    "# (same syntax works for LightGBM, CatBoost, scikit-learn, transformers, Spark, etc.)\n",
    "# explainer = shap.TreeExplainer(classifiers[0])\n",
    "explainer = shap.KernelExplainer(classifiers[0],  data = X.head(50), link = \"identity\")"
   ]
  },
  {
   "cell_type": "code",
   "execution_count": null,
   "metadata": {},
   "outputs": [],
   "source": [
    "model = classifiers[0]"
   ]
  },
  {
   "cell_type": "code",
   "execution_count": null,
   "metadata": {},
   "outputs": [],
   "source": [
    "pred = clf.predict_proba(X)[:, 0]"
   ]
  },
  {
   "cell_type": "code",
   "execution_count": null,
   "metadata": {},
   "outputs": [],
   "source": [
    "# np.abs(shap_values.sum(1) + explainer.expected_value - pred).max()"
   ]
  },
  {
   "cell_type": "code",
   "execution_count": null,
   "metadata": {},
   "outputs": [],
   "source": [
    "shap_values = explainer.shap_values(X)"
   ]
  },
  {
   "cell_type": "code",
   "execution_count": null,
   "metadata": {},
   "outputs": [],
   "source": [
    "# explain the model's predictions using SHAP values\n",
    "# (same syntax works for LightGBM, CatBoost, and scikit-learn models)\n",
    "\n",
    "# visualize the first prediction's explanation\n",
    "shap.plots.waterfall?"
   ]
  },
  {
   "cell_type": "code",
   "execution_count": null,
   "metadata": {},
   "outputs": [],
   "source": [
    "shap.summary_plot(shap_values, X)"
   ]
  },
  {
   "cell_type": "code",
   "execution_count": null,
   "metadata": {},
   "outputs": [],
   "source": [
    "shap.plots.beeswarm?"
   ]
  },
  {
   "cell_type": "code",
   "execution_count": null,
   "metadata": {},
   "outputs": [],
   "source": [
    "shap.plots.beeswarm?"
   ]
  },
  {
   "cell_type": "code",
   "execution_count": null,
   "metadata": {},
   "outputs": [],
   "source": [
    "shap_obj = explainer(X)"
   ]
  },
  {
   "cell_type": "code",
   "execution_count": null,
   "metadata": {},
   "outputs": [],
   "source": [
    "# shap.plots.beeswarm(shap_obj)"
   ]
  },
  {
   "cell_type": "code",
   "execution_count": null,
   "metadata": {},
   "outputs": [],
   "source": [
    "X['percent_coverage'].max()"
   ]
  },
  {
   "cell_type": "code",
   "execution_count": null,
   "metadata": {},
   "outputs": [],
   "source": [
    "shap.dependence_plot(\"relative_abundance\", shap_values[1], X, interaction_index = \"percent_binned_coverage\")"
   ]
  },
  {
   "cell_type": "code",
   "execution_count": null,
   "metadata": {},
   "outputs": [],
   "source": [
    "shap.dependence_plot(\"tree_dist\", shap_values[1], X, interaction_index = \"relative_abundance\")"
   ]
  },
  {
   "cell_type": "code",
   "execution_count": null,
   "metadata": {},
   "outputs": [],
   "source": [
    "shap.dependence_plot(\"percent_binned_coverage\", shap_values[1], X, interaction_index = \"relative_abundance\")"
   ]
  },
  {
   "cell_type": "code",
   "execution_count": null,
   "metadata": {},
   "outputs": [],
   "source": [
    "# for name in X.columns:\n",
    "#     shap.dependence_plot(name, shap_values[1], X)"
   ]
  }
 ],
 "metadata": {
  "kernelspec": {
   "display_name": "Python [conda env:.conda-type_1]",
   "language": "python",
   "name": "conda-env-.conda-type_1-py"
  },
  "language_info": {
   "codemirror_mode": {
    "name": "ipython",
    "version": 3
   },
   "file_extension": ".py",
   "mimetype": "text/x-python",
   "name": "python",
   "nbconvert_exporter": "python",
   "pygments_lexer": "ipython3",
   "version": "3.8.8"
  }
 },
 "nbformat": 4,
 "nbformat_minor": 4
}
