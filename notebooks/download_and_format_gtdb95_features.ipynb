{
 "cells": [
  {
   "cell_type": "code",
   "execution_count": 1,
   "metadata": {},
   "outputs": [
    {
     "name": "stdout",
     "output_type": "stream",
     "text": [
      "seaborn 0.10.1\n",
      "pandas  1.0.4\n",
      "numpy   1.18.4\n",
      "\n"
     ]
    }
   ],
   "source": [
    "import numpy as np\n",
    "import matplotlib.pyplot as plt\n",
    "import pandas as pd\n",
    "import warnings\n",
    "import seaborn as sns\n",
    "\n",
    "from scipy.stats import pearsonr\n",
    "\n",
    "sns.set_style(\"darkgrid\")\n",
    "np.random.seed(930525)\n",
    "pd.set_option('display.max_columns', 20)\n",
    "pd.set_option('display.max_rows', 200)\n",
    "\n",
    "warnings.simplefilter('once')\n",
    "\n",
    "%matplotlib inline\n",
    "%load_ext watermark\n",
    "%watermark --iversions"
   ]
  },
  {
   "cell_type": "code",
   "execution_count": 2,
   "metadata": {},
   "outputs": [],
   "source": [
    "bacteria_metadata = \"https://data.gtdb.ecogenomic.org/releases/release95/95.0/bac120_metadata_r95.tar.gz\"\n",
    "archea_metadata = \"https://data.gtdb.ecogenomic.org/releases/release95/95.0/ar122_metadata_r95.tar.gz\""
   ]
  },
  {
   "cell_type": "code",
   "execution_count": 3,
   "metadata": {},
   "outputs": [],
   "source": [
    "output_folder = \"/mnt/btrfs/data/gtdb_95/gtdb_genomes_reps_r95/metadata\""
   ]
  },
  {
   "cell_type": "code",
   "execution_count": 4,
   "metadata": {},
   "outputs": [],
   "source": [
    "import os\n",
    "\n",
    "os.makedirs(output_folder, exist_ok=True)"
   ]
  },
  {
   "cell_type": "code",
   "execution_count": 5,
   "metadata": {},
   "outputs": [
    {
     "name": "stdout",
     "output_type": "stream",
     "text": [
      "--2021-02-19 17:45:32--  https://data.gtdb.ecogenomic.org/releases/release95/95.0/bac120_metadata_r95.tar.gz\n",
      "Resolving data.gtdb.ecogenomic.org (data.gtdb.ecogenomic.org)... 203.101.230.55\n",
      "Connecting to data.gtdb.ecogenomic.org (data.gtdb.ecogenomic.org)|203.101.230.55|:443... connected.\n",
      "HTTP request sent, awaiting response... 200 OK\n",
      "Length: 40465971 (39M) [application/octet-stream]\n",
      "Saving to: ‘/mnt/btrfs/data/gtdb_95/gtdb_genomes_reps_r95/metadata/bac120_metadata_r95.tar.gz.1’\n",
      "\n",
      "bac120_metadata_r95 100%[===================>]  38.59M  8.58MB/s    in 4.5s    \n",
      "\n",
      "2021-02-19 17:45:38 (8.58 MB/s) - ‘/mnt/btrfs/data/gtdb_95/gtdb_genomes_reps_r95/metadata/bac120_metadata_r95.tar.gz.1’ saved [40465971/40465971]\n",
      "\n"
     ]
    }
   ],
   "source": [
    "!wget {bacteria_metadata} --directory-prefix={output_folder}"
   ]
  },
  {
   "cell_type": "code",
   "execution_count": 6,
   "metadata": {},
   "outputs": [
    {
     "name": "stdout",
     "output_type": "stream",
     "text": [
      "--2021-02-19 17:45:38--  https://data.gtdb.ecogenomic.org/releases/release95/95.0/ar122_metadata_r95.tar.gz\n",
      "Resolving data.gtdb.ecogenomic.org (data.gtdb.ecogenomic.org)... 203.101.230.55\n",
      "Connecting to data.gtdb.ecogenomic.org (data.gtdb.ecogenomic.org)|203.101.230.55|:443... connected.\n",
      "HTTP request sent, awaiting response... 200 OK\n",
      "Length: 718199 (701K) [application/octet-stream]\n",
      "Saving to: ‘/mnt/btrfs/data/gtdb_95/gtdb_genomes_reps_r95/metadata/ar122_metadata_r95.tar.gz.1’\n",
      "\n",
      "ar122_metadata_r95. 100%[===================>] 701.37K   815KB/s    in 0.9s    \n",
      "\n",
      "2021-02-19 17:45:40 (815 KB/s) - ‘/mnt/btrfs/data/gtdb_95/gtdb_genomes_reps_r95/metadata/ar122_metadata_r95.tar.gz.1’ saved [718199/718199]\n",
      "\n"
     ]
    }
   ],
   "source": [
    "!wget {archea_metadata} --directory-prefix={output_folder}"
   ]
  },
  {
   "cell_type": "code",
   "execution_count": 7,
   "metadata": {},
   "outputs": [
    {
     "name": "stdout",
     "output_type": "stream",
     "text": [
      "bac120_metadata_r95.tsv\n"
     ]
    }
   ],
   "source": [
    "!tar -xvf {output_folder}/bac120_metadata_r95.tar.gz --directory {output_folder}"
   ]
  },
  {
   "cell_type": "code",
   "execution_count": 8,
   "metadata": {},
   "outputs": [
    {
     "name": "stdout",
     "output_type": "stream",
     "text": [
      "ar122_metadata_r95.tsv\n"
     ]
    }
   ],
   "source": [
    "!tar -xvf {output_folder}/ar122_metadata_r95.tar.gz --directory {output_folder}"
   ]
  },
  {
   "cell_type": "code",
   "execution_count": 9,
   "metadata": {},
   "outputs": [
    {
     "name": "stderr",
     "output_type": "stream",
     "text": [
      "/home/bhillmann/.conda/envs/type_1/lib/python3.8/site-packages/IPython/core/interactiveshell.py:3062: DtypeWarning: Columns (61,65,74,82,83) have mixed types.Specify dtype option on import or set low_memory=False.\n",
      "  has_raised = await self.run_ast_nodes(code_ast.body, cell_name,\n"
     ]
    }
   ],
   "source": [
    "df_bac = pd.read_csv(output_folder + \"/bac120_metadata_r95.tsv\", sep=\"\\t\")\n",
    "df_arch = pd.read_csv(output_folder + \"/ar122_metadata_r95.tsv\", sep=\"\\t\")"
   ]
  },
  {
   "cell_type": "code",
   "execution_count": 13,
   "metadata": {},
   "outputs": [],
   "source": [
    "df = pd.concat((df_arch, df_bac))"
   ]
  },
  {
   "cell_type": "code",
   "execution_count": 14,
   "metadata": {},
   "outputs": [],
   "source": [
    "df.columns = [\"gf_\" + col for col in df.columns]\n",
    "\n",
    "df['assembly_accession'] = [_.replace(\"GB_\", \"\").replace(\"RS_\", \"\") for _ in df['gf_accession']]\n"
   ]
  },
  {
   "cell_type": "code",
   "execution_count": 15,
   "metadata": {},
   "outputs": [],
   "source": [
    "assembly_features = \"/mnt/btrfs/data/gtdb_95/gtdb_genomes_reps_r95/db_features.fixed.csv\""
   ]
  },
  {
   "cell_type": "code",
   "execution_count": 16,
   "metadata": {},
   "outputs": [],
   "source": [
    "df_features = pd.read_csv(assembly_features, index_col=0)"
   ]
  },
  {
   "cell_type": "code",
   "execution_count": 17,
   "metadata": {},
   "outputs": [],
   "source": [
    "df_merged = pd.merge(df_features, df, on=\"assembly_accession\")"
   ]
  },
  {
   "cell_type": "code",
   "execution_count": 18,
   "metadata": {},
   "outputs": [],
   "source": [
    "df_merged.to_csv(\"/mnt/btrfs/data/gtdb_95/gtdb_genomes_reps_r95/db_features.fixed.extra.csv\")"
   ]
  }
 ],
 "metadata": {
  "kernelspec": {
   "display_name": "Python [conda env:.conda-type_1]",
   "language": "python",
   "name": "conda-env-.conda-type_1-py"
  },
  "language_info": {
   "codemirror_mode": {
    "name": "ipython",
    "version": 3
   },
   "file_extension": ".py",
   "mimetype": "text/x-python",
   "name": "python",
   "nbconvert_exporter": "python",
   "pygments_lexer": "ipython3",
   "version": "3.8.8"
  }
 },
 "nbformat": 4,
 "nbformat_minor": 4
}
