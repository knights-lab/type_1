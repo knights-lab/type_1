{
 "cells": [
  {
   "cell_type": "code",
   "execution_count": 11,
   "metadata": {},
   "outputs": [
    {
     "name": "stdout",
     "output_type": "stream",
     "text": [
      "1\n",
      "1\n",
      "2\n",
      "1\n",
      "Candida_albicans\n",
      "0\n",
      "1\n",
      "2\n",
      "3\n",
      "10\n",
      "1\n",
      "1\n",
      "1\n",
      "1\n",
      "1\n",
      "1\n",
      "1\n",
      "4\n",
      "2\n",
      "2\n",
      "1\n",
      "1\n",
      "1\n"
     ]
    }
   ],
   "source": [
    "inf_hmp_mock_truth = \"/mnt/nvidia/pkr/code/type_1/data/hmp_mock_community/hmp_mock_truth.txt\"\n",
    "inf_tax_file = \"/mnt/btrfs/data/rep82/rep82.tax\"\n",
    "outf_hmp_mock_truth = \"/mnt/nvidia/pkr/code/type_1/data/hmp_mock_community/hmp_mock_truth_rg.txt\"\n",
    "\n",
    "with open(outf_hmp_mock_truth, \"w\") as outf:\n",
    "    with open(inf_hmp_mock_truth) as inf:\n",
    "        for query in inf:\n",
    "            query = query.rstrip()\n",
    "            results = !rg {query} {inf_tax_file}\n",
    "            if len(results) == 0:\n",
    "                print(query)\n",
    "            print(len(results))\n",
    "            for result in results:\n",
    "                outf.write(result + \"\\n\")"
   ]
  },
  {
   "cell_type": "code",
   "execution_count": 6,
   "metadata": {},
   "outputs": [],
   "source": [
    "!rg \"Cryptococcus\" {inf_tax_file}"
   ]
  },
  {
   "cell_type": "code",
   "execution_count": null,
   "metadata": {},
   "outputs": [],
   "source": []
  },
  {
   "cell_type": "code",
   "execution_count": 8,
   "metadata": {},
   "outputs": [
    {
     "name": "stdout",
     "output_type": "stream",
     "text": [
      "\u001b[0m\u001b[32m9087\u001b[0m:NZ_CP009257.1\tk__Bacteria;p__Proteobacteria;c__Gammaproteobacteria;o__Pseudomonadales;f__Moraxellaceae;g__Acinetobacter;s__\u001b[0m\u001b[1m\u001b[31mAcinetobacter_baumannii\u001b[0m;t__\n"
     ]
    }
   ],
   "source": [
    "!rg {query} {inf_tax_file}"
   ]
  }
 ],
 "metadata": {
  "kernelspec": {
   "display_name": "Python 3",
   "language": "python",
   "name": "python3"
  },
  "language_info": {
   "codemirror_mode": {
    "name": "ipython",
    "version": 3
   },
   "file_extension": ".py",
   "mimetype": "text/x-python",
   "name": "python",
   "nbconvert_exporter": "python",
   "pygments_lexer": "ipython3",
   "version": "3.7.6"
  }
 },
 "nbformat": 4,
 "nbformat_minor": 4
}
