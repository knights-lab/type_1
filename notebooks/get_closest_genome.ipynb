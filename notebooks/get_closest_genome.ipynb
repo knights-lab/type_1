{
 "cells": [
  {
   "cell_type": "code",
   "execution_count": 1,
   "metadata": {},
   "outputs": [
    {
     "name": "stdout",
     "output_type": "stream",
     "text": [
      "numpy   1.18.4\n",
      "pandas  1.0.4\n",
      "seaborn 0.10.1\n",
      "\n"
     ]
    }
   ],
   "source": [
    "import numpy as np\n",
    "import matplotlib.pyplot as plt\n",
    "import pandas as pd\n",
    "import warnings\n",
    "import seaborn as sns\n",
    "\n",
    "from scipy.stats import pearsonr\n",
    "\n",
    "sns.set_style(\"darkgrid\")\n",
    "np.random.seed(930525)\n",
    "pd.set_option('display.max_columns', 20)\n",
    "pd.set_option('display.max_rows', 200)\n",
    "\n",
    "warnings.simplefilter('once')\n",
    "\n",
    "%matplotlib inline\n",
    "%load_ext watermark\n",
    "%watermark --iversions"
   ]
  },
  {
   "cell_type": "code",
   "execution_count": 52,
   "metadata": {},
   "outputs": [],
   "source": [
    "cmd_akronomyr = \"/mnt/nvidia/pkr/code/aKronyMer/bin/akmer94b_linux\""
   ]
  },
  {
   "cell_type": "code",
   "execution_count": 22,
   "metadata": {},
   "outputs": [
    {
     "name": "stdout",
     "output_type": "stream",
     "text": [
      "This is aKronyMer v1.00 by Gabe.\n",
      "usage: aKronyMer inseqs.lin.fna output [K] [Q queries.lin.fna [MIN2]] [HEUR[0-9]] [ANI] [CHANCE] [GC] [ADJ] [GLOBAL/DIRECT/LOCAL] [TREE/SETCLUSTER] [RC] [NOCUT]\n"
     ]
    }
   ],
   "source": [
    "!{cmd_akronomyr}"
   ]
  },
  {
   "cell_type": "code",
   "execution_count": 5,
   "metadata": {},
   "outputs": [],
   "source": [
    "accessions = \"/mnt/btrfs/data/type_1/strains/gis_20/accessions.txt\""
   ]
  },
  {
   "cell_type": "code",
   "execution_count": 8,
   "metadata": {},
   "outputs": [
    {
     "name": "stdout",
     "output_type": "stream",
     "text": [
      "GCF_000153625.3\tPRJNA224116\tSAMN02469324\tAARG00000000.1\tna\t393480\t851\tFusobacterium nucleatum subsp. polymorphum ATCC 10953\tstrain=ATCC 10953\t\tlatest\tChromosome\tMajor\tFull\t2007/05/30\tASM15362v1\tBaylor College of Medicine\tGCA_000153625.1\tidentical\tftp://ftp.ncbi.nlm.nih.gov/genomes/all/GCF/000/153/625/GCF_000153625.3_ASM15362v1\t\tassembly from type material\n"
     ]
    }
   ],
   "source": [
    "!grep \"GCF_000153625\" /mnt/btrfs/data/type_1/strains/assembly_summary_refseq.txt"
   ]
  },
  {
   "cell_type": "code",
   "execution_count": 25,
   "metadata": {},
   "outputs": [],
   "source": [
    "genome_file = \"/mnt/btrfs/data/type_1/strains/gis_20/GCF_000153625.fna\""
   ]
  },
  {
   "cell_type": "code",
   "execution_count": 10,
   "metadata": {},
   "outputs": [],
   "source": [
    "family_name = \"k__Bacteria;p__Fusobacteriota;c__Fusobacteriia;o__Fusobacteriales;f__Fusobacteriaceae\""
   ]
  },
  {
   "cell_type": "code",
   "execution_count": 11,
   "metadata": {},
   "outputs": [],
   "source": [
    "split_dir = \"/mnt/btrfs/data/gtdb_95/gtdb_split_by_family/\""
   ]
  },
  {
   "cell_type": "code",
   "execution_count": 46,
   "metadata": {},
   "outputs": [],
   "source": [
    "fna = split_dir + family_name + \"/combined_seqs.fna\"\n",
    "\n",
    "# fna_file = fna.replace(\";\", \"\\;\")"
   ]
  },
  {
   "cell_type": "code",
   "execution_count": 47,
   "metadata": {},
   "outputs": [
    {
     "name": "stdout",
     "output_type": "stream",
     "text": [
      ">GCA_000182945.1\n"
     ]
    }
   ],
   "source": [
    "!head -n 1 {fna_file}"
   ]
  },
  {
   "cell_type": "code",
   "execution_count": 60,
   "metadata": {},
   "outputs": [
    {
     "name": "stdout",
     "output_type": "stream",
     "text": [
      ">GCF_000153625\n"
     ]
    }
   ],
   "source": [
    "!head -n 1 {genome_file}"
   ]
  },
  {
   "cell_type": "code",
   "execution_count": 59,
   "metadata": {},
   "outputs": [
    {
     "data": {
      "text/plain": [
       "'/mnt/btrfs/data/type_1/strains/gis_20/combined_seqs.fna'"
      ]
     },
     "execution_count": 59,
     "metadata": {},
     "output_type": "execute_result"
    }
   ],
   "source": [
    "genome_file"
   ]
  },
  {
   "cell_type": "code",
   "execution_count": 77,
   "metadata": {},
   "outputs": [],
   "source": [
    "!cp {genome_file} ./GCF_000153625/genome_file.fna"
   ]
  },
  {
   "cell_type": "code",
   "execution_count": 78,
   "metadata": {},
   "outputs": [],
   "source": [
    "!cp {fna_file} ./GCF_000153625/combined_seqs.fna"
   ]
  },
  {
   "cell_type": "code",
   "execution_count": 74,
   "metadata": {},
   "outputs": [
    {
     "name": "stdout",
     "output_type": "stream",
     "text": [
      "This is aKronyMer v0.94b by Gabe.\n",
      "Using 40 thread(s).\n",
      "Goal: output raw global distance matrix\n",
      "Avg. length: 2315792, max = 4122881. Sugg. K = 12\n",
      "Running with K = 4 [H = 4]\n",
      "[0 (0)] L = 2124279, Density = 256 [1.000000], Entropy = 0.000121\n",
      "[1 (1)] L = 1370004, Density = 256 [1.000000], Entropy = 0.000187\n",
      "[2 (2)] L = 2769664, Density = 256 [1.000000], Entropy = 0.000092\n",
      "[3 (3)] L = 1730516, Density = 256 [1.000000], Entropy = 0.000148\n",
      "[4 (4)] L = 2495845, Density = 256 [1.000000], Entropy = 0.000103\n",
      "[5 (5)] L = 1032389, Density = 256 [1.000000], Entropy = 0.000248\n",
      "[6 (6)] L = 1303708, Density = 256 [1.000000], Entropy = 0.000196\n",
      "[7 (7)] L = 2213795, Density = 256 [1.000000], Entropy = 0.000116\n",
      "[8 (8)] L = 2299301, Density = 256 [1.000000], Entropy = 0.000111\n",
      "[9 (9)] L = 1840082, Density = 256 [1.000000], Entropy = 0.000139\n",
      "[10 (10)] L = 1999480, Density = 256 [1.000000], Entropy = 0.000128\n",
      "[11 (11)] L = 794058, Density = 256 [1.000000], Entropy = 0.000322\n",
      "[12 (12)] L = 824782, Density = 256 [1.000000], Entropy = 0.000310\n",
      "[13 (13)] L = 884460, Density = 256 [1.000000], Entropy = 0.000289\n",
      "[14 (14)] L = 1229633, Density = 256 [1.000000], Entropy = 0.000208\n",
      "[15 (15)] L = 2174500, Density = 256 [1.000000], Entropy = 0.000118\n",
      "[16 (16)] L = 2671176, Density = 256 [1.000000], Entropy = 0.000096\n",
      "[17 (17)] L = 2514049, Density = 256 [1.000000], Entropy = 0.000102\n",
      "[18 (18)] L = 2616043, Density = 256 [1.000000], Entropy = 0.000098\n",
      "[19 (19)] L = 2480055, Density = 256 [1.000000], Entropy = 0.000103\n",
      "[20 (20)] L = 3132354, Density = 256 [1.000000], Entropy = 0.000082\n",
      "[21 (21)] L = 2095939, Density = 256 [1.000000], Entropy = 0.000122\n",
      "[22 (22)] L = 2362264, Density = 256 [1.000000], Entropy = 0.000108\n",
      "[23 (23)] L = 1942604, Density = 256 [1.000000], Entropy = 0.000132\n",
      "[24 (24)] L = 3539365, Density = 256 [1.000000], Entropy = 0.000072\n",
      "[25 (25)] L = 3071708, Density = 256 [1.000000], Entropy = 0.000083\n",
      "[26 (26)] L = 2481671, Density = 256 [1.000000], Entropy = 0.000103\n",
      "[27 (27)] L = 2103488, Density = 256 [1.000000], Entropy = 0.000122\n",
      "[28 (28)] L = 2740714, Density = 256 [1.000000], Entropy = 0.000093\n",
      "[29 (29)] L = 2455080, Density = 256 [1.000000], Entropy = 0.000104\n",
      "[30 (30)] L = 4122881, Density = 256 [1.000000], Entropy = 0.000062\n",
      "[31 (31)] L = 2856640, Density = 256 [1.000000], Entropy = 0.000090\n",
      "[32 (32)] L = 2324076, Density = 256 [1.000000], Entropy = 0.000110\n",
      "[33 (33)] L = 2643576, Density = 256 [1.000000], Entropy = 0.000097\n",
      "[34 (34)] L = 3537675, Density = 256 [1.000000], Entropy = 0.000072\n",
      "[35 (35)] L = 1678881, Density = 256 [1.000000], Entropy = 0.000152\n",
      "[36 (36)] L = 3360509, Density = 256 [1.000000], Entropy = 0.000076\n",
      "[37 (37)] L = 2225956, Density = 256 [1.000000], Entropy = 0.000115\n",
      "[38 (38)] L = 2678415, Density = 256 [1.000000], Entropy = 0.000096\n",
      "[39 (39)] L = 2219251, Density = 256 [1.000000], Entropy = 0.000115\n",
      "[40 (40)] L = 2037095, Density = 256 [1.000000], Entropy = 0.000126\n",
      "[41 (41)] L = 1809270, Density = 256 [1.000000], Entropy = 0.000141\n",
      "[42 (42)] L = 2582107, Density = 256 [1.000000], Entropy = 0.000099\n",
      "[43 (43)] L = 2015316, Density = 256 [1.000000], Entropy = 0.000127\n",
      "[44 (44)] L = 3302398, Density = 256 [1.000000], Entropy = 0.000078\n",
      "[45 (45)] L = 3839419, Density = 256 [1.000000], Entropy = 0.000067\n",
      "Done parsing 46 (46 cls) sequences [3.738078]\n"
     ]
    }
   ],
   "source": [
    "!{cmd_akronomyr} {fna_file} ./test.out K 12 Q {genome_file} RC GLOBAL "
   ]
  },
  {
   "cell_type": "code",
   "execution_count": 57,
   "metadata": {},
   "outputs": [],
   "source": [
    "!grep \"GCF_000153625\" ./test.out"
   ]
  },
  {
   "cell_type": "code",
   "execution_count": null,
   "metadata": {},
   "outputs": [],
   "source": []
  },
  {
   "cell_type": "code",
   "execution_count": 79,
   "metadata": {},
   "outputs": [
    {
     "name": "stdout",
     "output_type": "stream",
     "text": [
      "GCF_001457555.1\tk__Bacteria;p__Fusobacteriota;c__Fusobacteriia;o__Fusobacteriales;f__Fusobacteriaceae;g__Fusobacterium;s__Fusobacterium_polymorphum\n"
     ]
    }
   ],
   "source": [
    "!grep \"GCF_001457555\" \"/mnt/btrfs/data/gtdb_95/gtdb_genomes_reps_r95/r95.gtdb.tax\""
   ]
  }
 ],
 "metadata": {
  "kernelspec": {
   "display_name": "Python [conda env:.conda-type_1]",
   "language": "python",
   "name": "conda-env-.conda-type_1-py"
  },
  "language_info": {
   "codemirror_mode": {
    "name": "ipython",
    "version": 3
   },
   "file_extension": ".py",
   "mimetype": "text/x-python",
   "name": "python",
   "nbconvert_exporter": "python",
   "pygments_lexer": "ipython3",
   "version": "3.8.2"
  }
 },
 "nbformat": 4,
 "nbformat_minor": 4
}
