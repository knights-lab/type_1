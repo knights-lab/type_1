{
 "cells": [
  {
   "cell_type": "code",
   "execution_count": 29,
   "metadata": {},
   "outputs": [],
   "source": [
    "import os\n",
    "os.environ[\"OPENBLAS_NUM_THREADS\"] = \"1\"\n",
    "os.environ[\"OMP_NUM_THREADS\"] = \"1\"\n",
    "os.environ[\"MKL_NUM_THREADS\"] = \"1\""
   ]
  },
  {
   "cell_type": "code",
   "execution_count": 30,
   "metadata": {},
   "outputs": [
    {
     "name": "stdout",
     "output_type": "stream",
     "text": [
      "The watermark extension is already loaded. To reload it, use:\n",
      "  %reload_ext watermark\n",
      "numpy   1.19.5\n",
      "seaborn 0.10.1\n",
      "pandas  1.1.4\n",
      "joblib  1.0.1\n",
      "shap    0.37.0\n",
      "\n"
     ]
    }
   ],
   "source": [
    "import numpy as np\n",
    "import matplotlib.pyplot as plt\n",
    "import pandas as pd\n",
    "import warnings\n",
    "import seaborn as sns\n",
    "\n",
    "from scipy.stats import pearsonr\n",
    "\n",
    "sns.set_style(\"darkgrid\")\n",
    "np.random.seed(930525)\n",
    "pd.set_option('display.max_columns', 20)\n",
    "pd.set_option('display.max_rows', 200)\n",
    "\n",
    "warnings.simplefilter('once')\n",
    "\n",
    "%matplotlib inline\n",
    "%load_ext watermark\n",
    "%watermark --iversions"
   ]
  },
  {
   "cell_type": "code",
   "execution_count": 31,
   "metadata": {},
   "outputs": [
    {
     "name": "stderr",
     "output_type": "stream",
     "text": [
      "`should_run_async` will not call `transform_cell` automatically in the future. Please pass the result to `transformed_cell` argument and any exception that happen during thetransform in `preprocessing_exc_tuple` in IPython 7.17 and above.\n"
     ]
    }
   ],
   "source": [
    "import plot_utils as pu\n",
    "clf_name = \"rf_feature_selection_et\""
   ]
  },
  {
   "cell_type": "code",
   "execution_count": 32,
   "metadata": {},
   "outputs": [],
   "source": [
    "from glob import glob\n",
    "\n",
    "import joblib\n",
    "\n",
    "clf_model = joblib.load(\"../data/clf.sklearn.all.rf_feature_selection_et.pkl\")\n",
    "clf_log = joblib.load(\"../data/clf.logistic.all.rf_feature_selection_et.pkl\")"
   ]
  },
  {
   "cell_type": "code",
   "execution_count": 33,
   "metadata": {},
   "outputs": [],
   "source": [
    "X_train, y_train, X_test, y_test = joblib.load(\"../data/data.pkl\")"
   ]
  },
  {
   "cell_type": "code",
   "execution_count": 34,
   "metadata": {},
   "outputs": [
    {
     "name": "stderr",
     "output_type": "stream",
     "text": [
      "Columns (84,88,97,106,218,222,231,240) have mixed types.Specify dtype option on import or set low_memory=False.\n",
      "Columns (70,83,84,88,95,96,97,100,103,104,106,108,109,204,217,218,222,229,230,231,234,237,238,240,242,243) have mixed types.Specify dtype option on import or set low_memory=False.\n",
      "Columns (84,88,97,106) have mixed types.Specify dtype option on import or set low_memory=False.\n",
      "Columns (218,222,231,240) have mixed types.Specify dtype option on import or set low_memory=False.\n",
      "Columns (70,83,95,96,100,103,104,108,109,204,217,218,222,229,230,231,234,237,238,240,242,243) have mixed types.Specify dtype option on import or set low_memory=False.\n",
      "Columns (84,88,97,106,207,208,218,222,231,240) have mixed types.Specify dtype option on import or set low_memory=False.\n",
      "Columns (73,74,84,88,97,106,207,208,218,222,231,240) have mixed types.Specify dtype option on import or set low_memory=False.\n"
     ]
    }
   ],
   "source": [
    "files = glob(\"/mnt/btrfs/data/type_1/chemo/b6_capitalist_split_by_sample/*.extra.csv\")\n",
    "\n",
    "dfs = []\n",
    "for file in files:\n",
    "    name = os.path.basename(file).split('.b6')[0]    \n",
    "    df = pd.read_csv(file, index_col = 0)\n",
    "    df['dataset'] = name\n",
    "    dfs.append(df)\n",
    "df_assembly_features = pd.concat(dfs)"
   ]
  },
  {
   "cell_type": "code",
   "execution_count": 35,
   "metadata": {},
   "outputs": [],
   "source": [
    "df_assembly_features['relative_abundance'] = df_assembly_features['hits'] / df_assembly_features.groupby('dataset')['hits'].transform('sum')\n",
    "\n",
    "features = ['hits',\n",
    " 'percent_coverage',\n",
    " 'mean_coverage',\n",
    " 'sd_coverage',\n",
    " 'percent_binned_coverage',\n",
    " 'mean_binned_coverage',\n",
    " 'sd_binned_coverage',\n",
    " 'expected_percent_coverage',\n",
    " 'shannon_entropy',\n",
    " 'percent_max_uncovered_region',\n",
    " 'largest_pileup',\n",
    " 'largest_binned_pileup',\n",
    " 'gc_content',\n",
    " 'total_genome_length',\n",
    " 'ungapped_genome_length',\n",
    " 'num_n_groups',\n",
    " 'consecutive_ns',\n",
    " 'tree_dist',\n",
    " 'tree_top_dist',\n",
    " 'gf_checkm_completeness',\n",
    " 'gf_checkm_contamination',\n",
    " 'relative_abundance',\n",
    " 'tree_hits',\n",
    " 'tree_percent_coverage',\n",
    " 'tree_mean_coverage',\n",
    " 'tree_sd_coverage',\n",
    " 'tree_percent_binned_coverage',\n",
    " 'tree_mean_binned_coverage',\n",
    " 'tree_sd_binned_coverage',\n",
    " 'tree_expected_percent_coverage',\n",
    " 'tree_shannon_entropy',\n",
    " 'tree_percent_max_uncovered_region',\n",
    " 'tree_largest_pileup',\n",
    " 'tree_largest_binned_pileup',\n",
    " 'tree_dist',\n",
    " 'tree_top_dist'\n",
    "]"
   ]
  },
  {
   "cell_type": "code",
   "execution_count": 36,
   "metadata": {},
   "outputs": [],
   "source": [
    "y_mod = clf_model.predict(df_assembly_features[features])"
   ]
  },
  {
   "cell_type": "code",
   "execution_count": 37,
   "metadata": {},
   "outputs": [
    {
     "name": "stderr",
     "output_type": "stream",
     "text": [
      "`should_run_async` will not call `transform_cell` automatically in the future. Please pass the result to `transformed_cell` argument and any exception that happen during thetransform in `preprocessing_exc_tuple` in IPython 7.17 and above.\n"
     ]
    }
   ],
   "source": [
    "y_log = clf_log.predict(df_assembly_features[[\"relative_abundance\"]])"
   ]
  },
  {
   "cell_type": "code",
   "execution_count": 38,
   "metadata": {},
   "outputs": [
    {
     "name": "stderr",
     "output_type": "stream",
     "text": [
      "`should_run_async` will not call `transform_cell` automatically in the future. Please pass the result to `transformed_cell` argument and any exception that happen during thetransform in `preprocessing_exc_tuple` in IPython 7.17 and above.\n"
     ]
    }
   ],
   "source": [
    "df_assembly_features[\"y_mod\"] = y_mod\n",
    "df_assembly_features[\"y_log\"] = y_log"
   ]
  },
  {
   "cell_type": "code",
   "execution_count": 39,
   "metadata": {},
   "outputs": [
    {
     "data": {
      "text/plain": [
       "dataset\n",
       "6091701       96\n",
       "6091703       83\n",
       "6091705       64\n",
       "6091706       82\n",
       "6091708      144\n",
       "            ... \n",
       "p054.s002     58\n",
       "p058.s001     75\n",
       "p059.s001     70\n",
       "p063.s001      0\n",
       "p063.s005      4\n",
       "Name: y_mod, Length: 293, dtype: int64"
      ]
     },
     "execution_count": 39,
     "metadata": {},
     "output_type": "execute_result"
    }
   ],
   "source": [
    "df_assembly_features.groupby(\"dataset\")[\"y_mod\"].sum()"
   ]
  },
  {
   "cell_type": "code",
   "execution_count": 40,
   "metadata": {},
   "outputs": [],
   "source": [
    "# def remove_outliers(x, outlier_constant = 1.5):\n",
    "#     upper_quartile = np.percentile(x, 75)\n",
    "#     lower_quartile = np.percentile(x, 25)\n",
    "#     iqr = (upper_quartile - lower_quartile) * outlier_constant\n",
    "#     quartile_set = (lower_quartile - iqr, upper_quartile + iqr)\n",
    "    \n",
    "#     result = x[np.where((x >= quartile_set[0]) & (x <= quartile_set[1]))]\n",
    "    \n",
    "#     return result"
   ]
  },
  {
   "cell_type": "code",
   "execution_count": 41,
   "metadata": {},
   "outputs": [],
   "source": [
    "depths = df_assembly_features.groupby(\"dataset\")[\"hits\"].sum()\n",
    "mask = (df_assembly_features.groupby(\"dataset\")[\"hits\"].sum() < 100_000)"
   ]
  },
  {
   "cell_type": "code",
   "execution_count": 42,
   "metadata": {},
   "outputs": [
    {
     "name": "stderr",
     "output_type": "stream",
     "text": [
      "`should_run_async` will not call `transform_cell` automatically in the future. Please pass the result to `transformed_cell` argument and any exception that happen during thetransform in `preprocessing_exc_tuple` in IPython 7.17 and above.\n"
     ]
    }
   ],
   "source": [
    "mask_dataset = [_ in set(depths[mask].index) for _ in df_assembly_features.dataset]"
   ]
  },
  {
   "cell_type": "code",
   "execution_count": 43,
   "metadata": {},
   "outputs": [],
   "source": [
    "mask_dataset = np.array(mask_dataset)"
   ]
  },
  {
   "cell_type": "code",
   "execution_count": 44,
   "metadata": {},
   "outputs": [],
   "source": [
    "df_masked = df_assembly_features.loc[~mask_dataset, :]"
   ]
  },
  {
   "cell_type": "code",
   "execution_count": 45,
   "metadata": {},
   "outputs": [
    {
     "data": {
      "text/plain": [
       "<AxesSubplot:>"
      ]
     },
     "execution_count": 45,
     "metadata": {},
     "output_type": "execute_result"
    },
    {
     "data": {
      "image/png": "[encoded data removed]",
      "text/plain": [
       "<Figure size 432x288 with 1 Axes>"
      ]
     },
     "metadata": {
      "needs_background": "light"
     },
     "output_type": "display_data"
    }
   ],
   "source": [
    "df_masked.groupby(\"dataset\")[\"hits\"].sum().hist()"
   ]
  },
  {
   "cell_type": "code",
   "execution_count": 46,
   "metadata": {},
   "outputs": [
    {
     "data": {
      "text/plain": [
       "dataset\n",
       "6091701      134\n",
       "6091703      135\n",
       "6091705       81\n",
       "6091706       96\n",
       "6091708      151\n",
       "            ... \n",
       "p046.s010    131\n",
       "p046.s014    135\n",
       "p054.s002    121\n",
       "p058.s001    153\n",
       "p059.s001    106\n",
       "Name: y_log, Length: 275, dtype: int64"
      ]
     },
     "execution_count": 46,
     "metadata": {},
     "output_type": "execute_result"
    }
   ],
   "source": [
    "df_masked.groupby(\"dataset\")[\"y_log\"].sum()"
   ]
  },
  {
   "cell_type": "code",
   "execution_count": 47,
   "metadata": {},
   "outputs": [
    {
     "data": {
      "text/plain": [
       "dataset\n",
       "6091701       96\n",
       "6091703       83\n",
       "6091705       64\n",
       "6091706       82\n",
       "6091708      144\n",
       "            ... \n",
       "p046.s010     82\n",
       "p046.s014     84\n",
       "p054.s002     58\n",
       "p058.s001     75\n",
       "p059.s001     70\n",
       "Name: y_mod, Length: 275, dtype: int64"
      ]
     },
     "execution_count": 47,
     "metadata": {},
     "output_type": "execute_result"
    }
   ],
   "source": [
    "df_masked.groupby(\"dataset\")[\"y_mod\"].sum()"
   ]
  },
  {
   "cell_type": "code",
   "execution_count": 48,
   "metadata": {},
   "outputs": [],
   "source": [
    "mask_false_negatives = ((df_masked[\"y_mod\"]) & (df_masked[\"y_log\"] == False))"
   ]
  },
  {
   "cell_type": "code",
   "execution_count": 49,
   "metadata": {},
   "outputs": [
    {
     "name": "stderr",
     "output_type": "stream",
     "text": [
      "`should_run_async` will not call `transform_cell` automatically in the future. Please pass the result to `transformed_cell` argument and any exception that happen during thetransform in `preprocessing_exc_tuple` in IPython 7.17 and above.\n"
     ]
    },
    {
     "data": {
      "text/plain": [
       "1823"
      ]
     },
     "execution_count": 49,
     "metadata": {},
     "output_type": "execute_result"
    }
   ],
   "source": [
    "mask_false_negatives.sum()"
   ]
  },
  {
   "cell_type": "code",
   "execution_count": 50,
   "metadata": {},
   "outputs": [],
   "source": [
    "mask_false_positives = ((df_masked[\"y_mod\"] == False) & (df_masked[\"y_log\"] == True))"
   ]
  },
  {
   "cell_type": "code",
   "execution_count": 51,
   "metadata": {},
   "outputs": [
    {
     "name": "stderr",
     "output_type": "stream",
     "text": [
      "`should_run_async` will not call `transform_cell` automatically in the future. Please pass the result to `transformed_cell` argument and any exception that happen during thetransform in `preprocessing_exc_tuple` in IPython 7.17 and above.\n"
     ]
    },
    {
     "data": {
      "text/plain": [
       "18615"
      ]
     },
     "execution_count": 51,
     "metadata": {},
     "output_type": "execute_result"
    }
   ],
   "source": [
    "mask_false_positives.sum()"
   ]
  },
  {
   "cell_type": "code",
   "execution_count": 52,
   "metadata": {},
   "outputs": [
    {
     "data": {
      "text/plain": [
       "0.00030814348505661297"
      ]
     },
     "execution_count": 52,
     "metadata": {},
     "output_type": "execute_result"
    }
   ],
   "source": [
    "df_masked.loc[mask_false_negatives, \"relative_abundance\"].mean()"
   ]
  },
  {
   "cell_type": "code",
   "execution_count": 53,
   "metadata": {},
   "outputs": [
    {
     "data": {
      "text/plain": [
       "0.47526948487090154"
      ]
     },
     "execution_count": 53,
     "metadata": {},
     "output_type": "execute_result"
    }
   ],
   "source": [
    "df_masked.loc[mask_false_positives, \"relative_abundance\"].max()"
   ]
  },
  {
   "cell_type": "code",
   "execution_count": null,
   "metadata": {},
   "outputs": [],
   "source": []
  },
  {
   "cell_type": "code",
   "execution_count": 54,
   "metadata": {},
   "outputs": [],
   "source": [
    "import shap\n",
    "\n",
    "# explain the model's predictions using SHAP\n",
    "# (same syntax works for LightGBM, CatBoost, scikit-learn, transformers, Spark, etc.)\n",
    "explainer = shap.TreeExplainer(clf_model[\"extratreesclassifier\"])"
   ]
  },
  {
   "cell_type": "code",
   "execution_count": 55,
   "metadata": {},
   "outputs": [],
   "source": [
    "X_transf = pd.DataFrame(clf_model['rfecv'].transform(df_masked[features]), columns=[df_assembly_features[features].columns[i] for i in range(len(df_assembly_features[features].columns)) if clf_model['rfecv'].get_support()[i]])"
   ]
  },
  {
   "cell_type": "code",
   "execution_count": null,
   "metadata": {},
   "outputs": [],
   "source": []
  },
  {
   "cell_type": "code",
   "execution_count": 56,
   "metadata": {},
   "outputs": [
    {
     "name": "stderr",
     "output_type": "stream",
     "text": [
      "`should_run_async` will not call `transform_cell` automatically in the future. Please pass the result to `transformed_cell` argument and any exception that happen during thetransform in `preprocessing_exc_tuple` in IPython 7.17 and above.\n"
     ]
    }
   ],
   "source": [
    "# this takes a minute or two since we are explaining over 30 thousand samples in a model with over a thousand trees\n",
    "explainer = shap.TreeExplainer(clf_model['extratreesclassifier'])\n",
    "shap_values = explainer.shap_values(X_transf)"
   ]
  },
  {
   "cell_type": "code",
   "execution_count": 57,
   "metadata": {},
   "outputs": [
    {
     "data": {
      "text/plain": [
       "[array([[-2.92861311e-01, -2.48950393e-02, -8.27842845e-02, ...,\n",
       "         -1.89501254e-02,  1.85022748e-03,  1.88848582e-02],\n",
       "        [ 1.87301480e-02,  3.28174699e-03,  5.30880292e-03, ...,\n",
       "         -2.31829751e-04, -1.01481803e-04, -1.20032546e-03],\n",
       "        [ 1.84710396e-02,  3.27250307e-03,  5.26391347e-03, ...,\n",
       "         -2.27452309e-04, -8.20535524e-05, -8.23504244e-04],\n",
       "        ...,\n",
       "        [ 1.85221738e-02,  3.13427970e-03,  5.39756973e-03, ...,\n",
       "         -2.61502740e-04, -1.08856962e-04, -1.35584853e-03],\n",
       "        [ 1.84586567e-02,  3.22646534e-03,  5.03824963e-03, ...,\n",
       "         -1.88420856e-04, -1.39527124e-04, -1.25945548e-03],\n",
       "        [ 1.83792557e-02,  3.26659591e-03,  5.18948877e-03, ...,\n",
       "         -2.37776640e-04, -7.51597254e-05, -1.12309521e-03]]),\n",
       " array([[ 2.92861311e-01,  2.48950393e-02,  8.27842845e-02, ...,\n",
       "          1.89501254e-02, -1.85022748e-03, -1.88848582e-02],\n",
       "        [-1.87301480e-02, -3.28174699e-03, -5.30880292e-03, ...,\n",
       "          2.31829751e-04,  1.01481803e-04,  1.20032546e-03],\n",
       "        [-1.84710396e-02, -3.27250307e-03, -5.26391347e-03, ...,\n",
       "          2.27452309e-04,  8.20535524e-05,  8.23504244e-04],\n",
       "        ...,\n",
       "        [-1.85221738e-02, -3.13427970e-03, -5.39756973e-03, ...,\n",
       "          2.61502740e-04,  1.08856962e-04,  1.35584853e-03],\n",
       "        [-1.84586567e-02, -3.22646534e-03, -5.03824963e-03, ...,\n",
       "          1.88420856e-04,  1.39527124e-04,  1.25945548e-03],\n",
       "        [-1.83792557e-02, -3.26659591e-03, -5.18948877e-03, ...,\n",
       "          2.37776640e-04,  7.51597254e-05,  1.12309521e-03]])]"
      ]
     },
     "execution_count": 57,
     "metadata": {},
     "output_type": "execute_result"
    }
   ],
   "source": [
    "shap_values"
   ]
  }
 ],
 "metadata": {
  "kernelspec": {
   "display_name": "Python [conda env:.conda-type_1]",
   "language": "python",
   "name": "conda-env-.conda-type_1-py"
  },
  "language_info": {
   "codemirror_mode": {
    "name": "ipython",
    "version": 3
   },
   "file_extension": ".py",
   "mimetype": "text/x-python",
   "name": "python",
   "nbconvert_exporter": "python",
   "pygments_lexer": "ipython3",
   "version": "3.8.8"
  }
 },
 "nbformat": 4,
 "nbformat_minor": 4
}
