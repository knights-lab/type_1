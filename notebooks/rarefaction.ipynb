{
 "cells": [
  {
   "cell_type": "code",
   "execution_count": 2,
   "metadata": {},
   "outputs": [
    {
     "name": "stdout",
     "output_type": "stream",
     "text": [
      "seaborn 0.10.1\n",
      "pandas  1.0.4\n",
      "numpy   1.18.4\n",
      "\n"
     ]
    }
   ],
   "source": [
    "import numpy as np\n",
    "import matplotlib.pyplot as plt\n",
    "import pandas as pd\n",
    "import warnings\n",
    "import seaborn as sns\n",
    "\n",
    "from scipy.stats import pearsonr\n",
    "\n",
    "sns.set_style(\"darkgrid\")\n",
    "np.random.seed(930525)\n",
    "pd.set_option('display.max_columns', 20)\n",
    "pd.set_option('display.max_rows', 200)\n",
    "\n",
    "warnings.simplefilter('once')\n",
    "\n",
    "%matplotlib inline\n",
    "%load_ext watermark\n",
    "%watermark --iversions"
   ]
  },
  {
   "cell_type": "code",
   "execution_count": 4,
   "metadata": {},
   "outputs": [],
   "source": [
    "from collections import defaultdict\n",
    "\n",
    "url = requests.get('https://docs.google.com/spreadsheets/d/1xqhFLsQplNUu5k9Uxv7DgTwftCiE78E0JmsKvNi0Ft4/export?format=csv')\n",
    "csv_raw = StringIO(url.text)\n",
    "df_truth = pd.read_csv(csv_raw)\n",
    "\n",
    "inf_tax_file = \"/mnt/btrfs/data/rep202/ab/taxmap.tsv\""
   ]
  },
  {
   "cell_type": "code",
   "execution_count": 5,
   "metadata": {},
   "outputs": [],
   "source": [
    "dd = defaultdict(set)\n",
    "dd_species = defaultdict(set)\n",
    "for t in df_truth.itertuples():\n",
    "    query = t.homotypic_synonym\n",
    "    results = !rg {query} {inf_tax_file}\n",
    "    if len(results) > 0:\n",
    "        for r in results:\n",
    "            split = r.split(\"\\t\")\n",
    "            dd[t.dataset].add(split[0])\n",
    "            dd_species[t.dataset].add(\";\".join(split[1].split(\";\")[:7]))"
   ]
  },
  {
   "cell_type": "code",
   "execution_count": 4,
   "metadata": {},
   "outputs": [],
   "source": [
    "from glob import glob\n",
    "import os\n",
    "\n",
    "basepath = \"/mnt/btrfs/data/type_1/species_mc\"\n",
    "dirs = [d for d in os.listdir(basepath) if os.path.isdir(os.path.join(basepath, d))]\n",
    "\n",
    "# dual_index failed\n",
    "dirs.remove('dual_index')"
   ]
  },
  {
   "cell_type": "code",
   "execution_count": 22,
   "metadata": {},
   "outputs": [],
   "source": [
    "import random\n",
    "\n",
    "basepath_sim = \"/mnt/btrfs/data/type_1/simulation_strain\"\n",
    "\n",
    "os.makedirs(basepath_sim, exist_ok=True)\n",
    "os.makedirs(basepath_sim + \"/strain_hits\", exist_ok=True)\n",
    "os.makedirs(basepath_sim + \"/sims\", exist_ok=True)\n",
    "\n",
    "\n",
    "for directory in dirs:\n",
    "    strains = list(dd[directory])\n",
    "    strain = strains[random.randint(0, len(strains) - 1)]\n",
    "    \n",
    "    alignment_file = os.path.join(basepath, directory, 'filter', 'allpath.r202.b6')\n",
    "    !grep {strain} {alignment_file} > {basepath_sim}/strain_hits/{strain}.{directory}.b6\n",
    "    \n",
    "    with open(f\"{basepath_sim}/strain_hits/{strain}.{directory}.b6\", \"r\") as inf:\n",
    "        lines = inf.readlines()\n",
    "    \n",
    "    for i in [10, 100, 1000, 10_000, 100_000, 1_000_000]:\n",
    "        for j in range(10):\n",
    "            with open(f\"{basepath_sim}/sims/{strain}.{directory}.{j}.{i}.b6\", \"w\") as outf:\n",
    "                outf.writelines(random.choices(lines, k=i))"
   ]
  },
  {
   "cell_type": "code",
   "execution_count": 23,
   "metadata": {},
   "outputs": [],
   "source": [
    "import random\n",
    "\n",
    "basepath_sim = \"/mnt/btrfs/data/type_1/simulation_metagenome\"\n",
    "\n",
    "os.makedirs(basepath_sim, exist_ok=True)\n",
    "\n",
    "for directory in dirs:\n",
    "    strains = list(dd[directory])\n",
    "    strain = strains[random.randint(0, len(strains) - 1)]\n",
    "    \n",
    "    alignment_file = os.path.join(basepath, directory, 'filter', 'allpath.r202.b6')\n",
    "    \n",
    "    with open(alignment_file, \"r\") as inf:\n",
    "        lines = inf.readlines()\n",
    "    \n",
    "    for i in [10, 100, 1000, 10_000, 100_000, 1_000_000]:\n",
    "        for j in range(10):\n",
    "            with open(f\"{basepath_sim}/{directory}.{j}.{i}.b6\", \"w\") as outf:\n",
    "                outf.writelines(random.choices(lines, k=i))"
   ]
  },
  {
   "cell_type": "code",
   "execution_count": 31,
   "metadata": {},
   "outputs": [],
   "source": [
    "basepath_sim = \"/mnt/btrfs/data/type_1/simulation_strain/sims\"\n",
    "db_features = \"/mnt/nvidia/pkr/code/type_1/data/db_features.csv\"\n",
    "\n",
    "\n",
    "from glob import glob\n",
    "b6_files = glob(f\"{basepath_sim}/*.b6\", recursive=True)\n",
    "\n",
    "for b6_file in b6_files:\n",
    "    base_path = os.path.dirname(b6_file)\n",
    "    basename = os.path.basename(\".\".join(b6_file.split(\".\")[:-1]))\n",
    "\n",
    "    command_coverage = f\"\"\"/usr/bin/time -v python /mnt/nvidia/pkr/code/type_1/type_1/main.py features-alignment \\\n",
    "{db_features} \\\n",
    "{b6_file} \\\n",
    "{basepath_sim}/t1.coverage.{basename}.txt \\\n",
    "> {basepath_sim}/t1.coverage.{basename}.log 2>&1\"\"\"\n",
    "    !{command_coverage}"
   ]
  },
  {
   "cell_type": "code",
   "execution_count": null,
   "metadata": {},
   "outputs": [],
   "source": [
    "basepath_sim = \"/mnt/btrfs/data/type_1/simulation_metagenome\"\n",
    "db_features = \"/mnt/nvidia/pkr/code/type_1/data/db_features.csv\"\n",
    "\n",
    "\n",
    "from glob import glob\n",
    "b6_files = glob(f\"{basepath_sim}/*.b6\", recursive=True)\n",
    "\n",
    "for b6_file in b6_files:\n",
    "    base_path = os.path.dirname(b6_file)\n",
    "    basename = os.path.basename(\".\".join(b6_file.split(\".\")[:-1]))\n",
    "\n",
    "    command_coverage = f\"\"\"/usr/bin/time -v python /mnt/nvidia/pkr/code/type_1/type_1/main.py features-alignment \\\n",
    "{db_features} \\\n",
    "{b6_file} \\\n",
    "{basepath_sim}/t1.coverage.{basename}.txt \\\n",
    "> {basepath_sim}/t1.coverage.{basename}.log 2>&1\"\"\"\n",
    "    !{command_coverage}"
   ]
  },
  {
   "cell_type": "code",
   "execution_count": null,
   "metadata": {},
   "outputs": [],
   "source": [
    "basepath_sim = \"/mnt/btrfs/data/type_1/simulation_metagenome\"\n",
    "db_features = \"/mnt/nvidia/pkr/code/type_1/data/db_features.csv\"\n",
    "\n",
    "\n",
    "from glob import glob\n",
    "b6_files = glob(f\"{basepath_sim}/mbarc*.b6\", recursive=True)\n",
    "\n",
    "for b6_file in b6_files:\n",
    "    base_path = os.path.dirname(b6_file)\n",
    "    basename = os.path.basename(\".\".join(b6_file.split(\".\")[:-1]))\n",
    "\n",
    "    command_coverage = f\"\"\"/usr/bin/time -v python /mnt/nvidia/pkr/code/type_1/type_1/main.py features-alignment \\\n",
    "{db_features} \\\n",
    "{b6_file} \\\n",
    "{basepath_sim}/t1.coverage.{basename}.txt \\\n",
    "> {basepath_sim}/t1.coverage.{basename}.log 2>&1\"\"\"\n",
    "    !{command_coverage}"
   ]
  }
 ],
 "metadata": {
  "kernelspec": {
   "display_name": "Python [conda env:.conda-type_1]",
   "language": "python",
   "name": "conda-env-.conda-type_1-py"
  },
  "language_info": {
   "codemirror_mode": {
    "name": "ipython",
    "version": 3
   },
   "file_extension": ".py",
   "mimetype": "text/x-python",
   "name": "python",
   "nbconvert_exporter": "python",
   "pygments_lexer": "ipython3",
   "version": "3.8.2"
  }
 },
 "nbformat": 4,
 "nbformat_minor": 4
}
