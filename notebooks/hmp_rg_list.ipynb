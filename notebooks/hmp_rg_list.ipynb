{
 "cells": [
  {
   "cell_type": "code",
   "execution_count": 9,
   "metadata": {},
   "outputs": [
    {
     "name": "stdout",
     "output_type": "stream",
     "text": [
      "13\n",
      "9\n",
      "6\n",
      "49\n",
      "55\n",
      "55\n",
      "19\n",
      "1\n",
      "1\n",
      "1\n",
      "71\n",
      "71\n"
     ]
    }
   ],
   "source": [
    "inf_hmp_mock_truth = \"/mnt/nvidia/pkr/code/type_1/data/mock_communities/bmock_12/SRR8073716/bmock_12_truth.txt\"\n",
    "inf_tax_file = \"/mnt/btrfs/data/rep202/ab/taxmap.tsv\"\n",
    "outf_hmp_mock_truth = \"/mnt/nvidia/pkr/code/type_1/data/mock_communities/bmock_12/SRR8073716/bmock_12_truth_rg.txt\"\n",
    "\n",
    "with open(outf_hmp_mock_truth, \"w\") as outf:\n",
    "    with open(inf_hmp_mock_truth) as inf:\n",
    "        for query in inf:\n",
    "            query = query.rstrip()\n",
    "            results = !rg {query} {inf_tax_file}\n",
    "            if len(results) == 0:\n",
    "                print(query)\n",
    "            print(len(results))\n",
    "            for result in results:\n",
    "                outf.write(result + \"\\n\")"
   ]
  },
  {
   "cell_type": "code",
   "execution_count": 11,
   "metadata": {},
   "outputs": [
    {
     "name": "stdout",
     "output_type": "stream",
     "text": [
      "\u001b[0m\u001b[32m1800\u001b[0m:GCF_900090235.1\tk__Bacteria;p__Actinobacteria;c__Actinobacteria;o__Micromonosporales;f__Micromonosporaceae;g__Micromonospora;s__\u001b[0m\u001b[1m\u001b[31mMicromonospora_echinaurantiaca\u001b[0m\n"
     ]
    }
   ],
   "source": [
    "!rg \"Micromonospora_echinaurantiaca\" {inf_tax_file}"
   ]
  },
  {
   "cell_type": "code",
   "execution_count": 6,
   "metadata": {},
   "outputs": [],
   "source": [
    "!rg \"Cryptococcus\" {inf_tax_file}"
   ]
  },
  {
   "cell_type": "code",
   "execution_count": 8,
   "metadata": {},
   "outputs": [
    {
     "name": "stdout",
     "output_type": "stream",
     "text": [
      "\u001b[0m\u001b[32m9087\u001b[0m:NZ_CP009257.1\tk__Bacteria;p__Proteobacteria;c__Gammaproteobacteria;o__Pseudomonadales;f__Moraxellaceae;g__Acinetobacter;s__\u001b[0m\u001b[1m\u001b[31mAcinetobacter_baumannii\u001b[0m;t__\n"
     ]
    }
   ],
   "source": [
    "!rg {query} {inf_tax_file}"
   ]
  }
 ],
 "metadata": {
  "kernelspec": {
   "display_name": "Python [conda env:.conda-type_1]",
   "language": "python",
   "name": "conda-env-.conda-type_1-py"
  },
  "language_info": {
   "codemirror_mode": {
    "name": "ipython",
    "version": 3
   },
   "file_extension": ".py",
   "mimetype": "text/x-python",
   "name": "python",
   "nbconvert_exporter": "python",
   "pygments_lexer": "ipython3",
   "version": "3.8.2"
  }
 },
 "nbformat": 4,
 "nbformat_minor": 4
}
