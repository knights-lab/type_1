{
 "cells": [
  {
   "cell_type": "code",
   "execution_count": 2,
   "metadata": {},
   "outputs": [
    {
     "name": "stdout",
     "output_type": "stream",
     "text": [
      "numpy   1.19.5\n",
      "pandas  1.1.4\n",
      "seaborn 0.10.1\n",
      "\n"
     ]
    }
   ],
   "source": [
    "import numpy as np\n",
    "import matplotlib.pyplot as plt\n",
    "import pandas as pd\n",
    "import warnings\n",
    "import seaborn as sns\n",
    "\n",
    "from scipy.stats import pearsonr\n",
    "\n",
    "sns.set_style(\"darkgrid\")\n",
    "np.random.seed(930525)\n",
    "pd.set_option('display.max_columns', 20)\n",
    "pd.set_option('display.max_rows', 200)\n",
    "\n",
    "warnings.simplefilter('once')\n",
    "\n",
    "%matplotlib inline\n",
    "%load_ext watermark\n",
    "%watermark --iversions"
   ]
  },
  {
   "cell_type": "code",
   "execution_count": 3,
   "metadata": {},
   "outputs": [
    {
     "name": "stderr",
     "output_type": "stream",
     "text": [
      "/home/bhillmann/.conda/envs/type_1/lib/python3.8/site-packages/ipykernel/ipkernel.py:287: DeprecationWarning: `should_run_async` will not call `transform_cell` automatically in the future. Please pass the result to `transformed_cell` argument and any exception that happen during thetransform in `preprocessing_exc_tuple` in IPython 7.17 and above.\n",
      "  and should_run_async(code)\n"
     ]
    }
   ],
   "source": [
    "sra_assembly_summary = \"../data/assembly_summary.sra.csv\"\n",
    "sra_500_subset = \"../data/srastudy.500.txt\""
   ]
  },
  {
   "cell_type": "code",
   "execution_count": 4,
   "metadata": {},
   "outputs": [
    {
     "name": "stderr",
     "output_type": "stream",
     "text": [
      "/home/bhillmann/.conda/envs/type_1/lib/python3.8/site-packages/ipykernel/ipkernel.py:287: DeprecationWarning: `should_run_async` will not call `transform_cell` automatically in the future. Please pass the result to `transformed_cell` argument and any exception that happen during thetransform in `preprocessing_exc_tuple` in IPython 7.17 and above.\n",
      "  and should_run_async(code)\n"
     ]
    }
   ],
   "source": [
    "df_sra = pd.read_csv(sra_assembly_summary)"
   ]
  },
  {
   "cell_type": "code",
   "execution_count": 9,
   "metadata": {},
   "outputs": [],
   "source": [
    "sras_subset = pd.read_csv(sra_500_subset, header=None)\n",
    "sras_subset.columns = [\"Run\"]"
   ]
  },
  {
   "cell_type": "code",
   "execution_count": 15,
   "metadata": {},
   "outputs": [],
   "source": [
    "df_sra = pd.merge(df_sra, sras_subset, on=\"Run\", how=\"inner\")"
   ]
  },
  {
   "cell_type": "code",
   "execution_count": 29,
   "metadata": {},
   "outputs": [
    {
     "data": {
      "text/plain": [
       "Index(['# assembly_accession', 'bioproject', 'biosample', 'wgs_master',\n",
       "       'refseq_category', 'taxid', 'species_taxid', 'organism_name',\n",
       "       'infraspecific_name', 'isolate', 'version_status', 'assembly_level',\n",
       "       'release_type', 'genome_rep', 'seq_rel_date', 'asm_name', 'submitter',\n",
       "       'gbrs_paired_asm', 'paired_asm_comp', 'ftp_path',\n",
       "       'excluded_from_refseq', 'relation_to_type_material', 'in_gtdb', 'gg',\n",
       "       'Run', 'ReleaseDate', 'LoadDate', 'spots', 'bases', 'spots_with_mates',\n",
       "       'avgLength', 'size_MB', 'download_path', 'Experiment',\n",
       "       'LibraryStrategy', 'LibrarySelection', 'LibrarySource', 'LibraryLayout',\n",
       "       'InsertSize', 'InsertDev', 'Platform', 'Model', 'SRAStudy',\n",
       "       'BioProject', 'Study_Pubmed_id', 'ProjectID', 'Sample', 'BioSample',\n",
       "       'SampleType', 'TaxID', 'ScientificName', 'SampleName', 'Tumor',\n",
       "       'CenterName', 'Submission', 'Consent', 'RunHash', 'ReadHash',\n",
       "       'LibraryName', 'Subject_ID', 'AssemblyName'],\n",
       "      dtype='object')"
      ]
     },
     "execution_count": 29,
     "metadata": {},
     "output_type": "execute_result"
    }
   ],
   "source": [
    "df_sra.columns"
   ]
  },
  {
   "cell_type": "code",
   "execution_count": 36,
   "metadata": {},
   "outputs": [
    {
     "data": {
      "text/plain": [
       "'ftp://ftp.ncbi.nlm.nih.gov/genomes/all/GCF/900/112/205/GCF_900112205.1_IMG-taxon_2693429869_annotated_assembly'"
      ]
     },
     "execution_count": 36,
     "metadata": {},
     "output_type": "execute_result"
    }
   ],
   "source": []
  },
  {
   "cell_type": "code",
   "execution_count": 35,
   "metadata": {},
   "outputs": [
    {
     "name": "stdout",
     "output_type": "stream",
     "text": [
      "--2021-04-13 19:30:49--  ftp://ftp.ncbi.nlm.nih.gov/genomes/all/GCF/900/112/205/GCF_900112205.1_IMG-taxon_2693429869_annotated_assembly\n",
      "           => ‘GCF_900112205.1_IMG-taxon_2693429869_annotated_assembly’\n",
      "Resolving ftp.ncbi.nlm.nih.gov (ftp.ncbi.nlm.nih.gov)... 130.14.250.7, 165.112.9.230, 2607:f220:41e:250::10, ...\n",
      "Connecting to ftp.ncbi.nlm.nih.gov (ftp.ncbi.nlm.nih.gov)|130.14.250.7|:21... connected.\n",
      "Logging in as anonymous ... Logged in!\n",
      "==> SYST ... done.    ==> PWD ... done.\n",
      "==> TYPE I ... done.  ==> CWD (1) /genomes/all/GCF/900/112/205 ... done.\n",
      "==> SIZE GCF_900112205.1_IMG-taxon_2693429869_annotated_assembly ... done.\n",
      "\n",
      "==> PASV ... done.    ==> RETR GCF_900112205.1_IMG-taxon_2693429869_annotated_assembly ... \n",
      "No such file ‘GCF_900112205.1_IMG-taxon_2693429869_annotated_assembly’.\n",
      "\n"
     ]
    }
   ],
   "source": [
    "!wget {}"
   ]
  },
  {
   "cell_type": "code",
   "execution_count": 37,
   "metadata": {},
   "outputs": [],
   "source": [
    "ftp_paths = []\n",
    "\n",
    "\n",
    "with open(\"../data/ftp_assembly_500.txt\", \"w\") as outf:\n",
    "    for ftp_base_path in df_sra.query(\"~in_gtdb\")[\"ftp_path\"]:\n",
    "        base = ftp_base_path.split(\"/\")[-1]\n",
    "\n",
    "        ftp_path = f\"{ftp_base_path}/{base}_genomic.fna.gz\"\n",
    "        outf.write(ftp_path + \"\\n\")\n",
    "\n"
   ]
  }
 ],
 "metadata": {
  "kernelspec": {
   "display_name": "Python [conda env:.conda-type_1]",
   "language": "python",
   "name": "conda-env-.conda-type_1-py"
  },
  "language_info": {
   "codemirror_mode": {
    "name": "ipython",
    "version": 3
   },
   "file_extension": ".py",
   "mimetype": "text/x-python",
   "name": "python",
   "nbconvert_exporter": "python",
   "pygments_lexer": "ipython3",
   "version": "3.8.8"
  }
 },
 "nbformat": 4,
 "nbformat_minor": 4
}
