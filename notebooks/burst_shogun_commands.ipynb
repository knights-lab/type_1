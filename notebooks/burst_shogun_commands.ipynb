{
 "cells": [
  {
   "cell_type": "code",
   "execution_count": 1,
   "metadata": {},
   "outputs": [],
   "source": [
    "path_burst15 = \"/project/flatiron2/ben/projects/type_1/bin/burst15\"\n",
    "\n",
    "file_paths = [\"/project/flatiron2/ben/projects/type_1/data/zymo/ERR2935805\",\n",
    "\"/project/flatiron2/ben/projects/type_1/data/zymo/ERR2984773\",\n",
    "\"/project/flatiron2/ben/projects/type_1/data/bmock_12/SRR8073716\",\n",
    "\"/project/flatiron2/ben/projects/type_1/data/gis_20/ERR3200809\",\n",
    "\"/project/flatiron2/ben/projects/type_1/data/gis_20/ERR2835738\",\n",
    "\"/project/flatiron2/ben/projects/type_1/data/mosaic/CS_4\",\n",
    "\"/project/flatiron2/ben/projects/type_1/data/mosaic/CS_3\",\n",
    "\"/project/flatiron2/ben/projects/type_1/data/mosaic/CS_2\",\n",
    "\"/project/flatiron2/ben/projects/type_1/data/mosaic/CS_1\",\n",
    "\"/project/flatiron2/ben/projects/type_1/data/mbarc_26/SRR3656745\"]"
   ]
  },
  {
   "cell_type": "code",
   "execution_count": 9,
   "metadata": {},
   "outputs": [
    {
     "name": "stdout",
     "output_type": "stream",
     "text": [
      "/usr/bin/time -v /project/flatiron2/ben/projects/type_1/bin/burst15 -t 72 -q /project/flatiron2/ben/projects/type_1/data/zymo/ERR2935805/combined_seqs.fna -a /project/flatiron2/data/shogun/rep82/burst/rep82.acx -r /project/flatiron2/data/shogun/rep82/burst/rep82.edx -o /project/flatiron2/ben/projects/type_1/data/zymo/ERR2935805/allpath.b6 -m ALLPATHS -fr -i 0.98 --noprogress > /project/flatiron2/ben/projects/type_1/data/zymo/ERR2935805/burst_log.txt 2>&1\n",
      "/usr/bin/time -v /project/flatiron2/ben/projects/type_1/bin/burst15 -t 72 -q /project/flatiron2/ben/projects/type_1/data/zymo/ERR2984773/combined_seqs.fna -a /project/flatiron2/data/shogun/rep82/burst/rep82.acx -r /project/flatiron2/data/shogun/rep82/burst/rep82.edx -o /project/flatiron2/ben/projects/type_1/data/zymo/ERR2984773/allpath.b6 -m ALLPATHS -fr -i 0.98 --noprogress > /project/flatiron2/ben/projects/type_1/data/zymo/ERR2984773/burst_log.txt 2>&1\n",
      "/usr/bin/time -v /project/flatiron2/ben/projects/type_1/bin/burst15 -t 72 -q /project/flatiron2/ben/projects/type_1/data/bmock_12/SRR8073716/combined_seqs.fna -a /project/flatiron2/data/shogun/rep82/burst/rep82.acx -r /project/flatiron2/data/shogun/rep82/burst/rep82.edx -o /project/flatiron2/ben/projects/type_1/data/bmock_12/SRR8073716/allpath.b6 -m ALLPATHS -fr -i 0.98 --noprogress > /project/flatiron2/ben/projects/type_1/data/bmock_12/SRR8073716/burst_log.txt 2>&1\n",
      "/usr/bin/time -v /project/flatiron2/ben/projects/type_1/bin/burst15 -t 72 -q /project/flatiron2/ben/projects/type_1/data/gis_20/ERR3200809/combined_seqs.fna -a /project/flatiron2/data/shogun/rep82/burst/rep82.acx -r /project/flatiron2/data/shogun/rep82/burst/rep82.edx -o /project/flatiron2/ben/projects/type_1/data/gis_20/ERR3200809/allpath.b6 -m ALLPATHS -fr -i 0.98 --noprogress > /project/flatiron2/ben/projects/type_1/data/gis_20/ERR3200809/burst_log.txt 2>&1\n",
      "/usr/bin/time -v /project/flatiron2/ben/projects/type_1/bin/burst15 -t 72 -q /project/flatiron2/ben/projects/type_1/data/gis_20/ERR2835738/combined_seqs.fna -a /project/flatiron2/data/shogun/rep82/burst/rep82.acx -r /project/flatiron2/data/shogun/rep82/burst/rep82.edx -o /project/flatiron2/ben/projects/type_1/data/gis_20/ERR2835738/allpath.b6 -m ALLPATHS -fr -i 0.98 --noprogress > /project/flatiron2/ben/projects/type_1/data/gis_20/ERR2835738/burst_log.txt 2>&1\n",
      "/usr/bin/time -v /project/flatiron2/ben/projects/type_1/bin/burst15 -t 72 -q /project/flatiron2/ben/projects/type_1/data/mosaic/CS_4/combined_seqs.fna -a /project/flatiron2/data/shogun/rep82/burst/rep82.acx -r /project/flatiron2/data/shogun/rep82/burst/rep82.edx -o /project/flatiron2/ben/projects/type_1/data/mosaic/CS_4/allpath.b6 -m ALLPATHS -fr -i 0.98 --noprogress > /project/flatiron2/ben/projects/type_1/data/mosaic/CS_4/burst_log.txt 2>&1\n",
      "/usr/bin/time -v /project/flatiron2/ben/projects/type_1/bin/burst15 -t 72 -q /project/flatiron2/ben/projects/type_1/data/mosaic/CS_3/combined_seqs.fna -a /project/flatiron2/data/shogun/rep82/burst/rep82.acx -r /project/flatiron2/data/shogun/rep82/burst/rep82.edx -o /project/flatiron2/ben/projects/type_1/data/mosaic/CS_3/allpath.b6 -m ALLPATHS -fr -i 0.98 --noprogress > /project/flatiron2/ben/projects/type_1/data/mosaic/CS_3/burst_log.txt 2>&1\n",
      "/usr/bin/time -v /project/flatiron2/ben/projects/type_1/bin/burst15 -t 72 -q /project/flatiron2/ben/projects/type_1/data/mosaic/CS_2/combined_seqs.fna -a /project/flatiron2/data/shogun/rep82/burst/rep82.acx -r /project/flatiron2/data/shogun/rep82/burst/rep82.edx -o /project/flatiron2/ben/projects/type_1/data/mosaic/CS_2/allpath.b6 -m ALLPATHS -fr -i 0.98 --noprogress > /project/flatiron2/ben/projects/type_1/data/mosaic/CS_2/burst_log.txt 2>&1\n",
      "/usr/bin/time -v /project/flatiron2/ben/projects/type_1/bin/burst15 -t 72 -q /project/flatiron2/ben/projects/type_1/data/mosaic/CS_1/combined_seqs.fna -a /project/flatiron2/data/shogun/rep82/burst/rep82.acx -r /project/flatiron2/data/shogun/rep82/burst/rep82.edx -o /project/flatiron2/ben/projects/type_1/data/mosaic/CS_1/allpath.b6 -m ALLPATHS -fr -i 0.98 --noprogress > /project/flatiron2/ben/projects/type_1/data/mosaic/CS_1/burst_log.txt 2>&1\n",
      "/usr/bin/time -v /project/flatiron2/ben/projects/type_1/bin/burst15 -t 72 -q /project/flatiron2/ben/projects/type_1/data/mbarc_26/SRR3656745/combined_seqs.fna -a /project/flatiron2/data/shogun/rep82/burst/rep82.acx -r /project/flatiron2/data/shogun/rep82/burst/rep82.edx -o /project/flatiron2/ben/projects/type_1/data/mbarc_26/SRR3656745/allpath.b6 -m ALLPATHS -fr -i 0.98 --noprogress > /project/flatiron2/ben/projects/type_1/data/mbarc_26/SRR3656745/burst_log.txt 2>&1\n"
     ]
    }
   ],
   "source": [
    "for path in file_paths:\n",
    "    print(f\"/usr/bin/time -v {path_burst15} -t 72 -q {path}/combined_seqs.fna -a /project/flatiron2/data/shogun/rep82/burst/rep82.acx -r /project/flatiron2/data/shogun/rep82/burst/rep82.edx -o {path}/allpath.b6 -m ALLPATHS -fr -i 0.98 --noprogress > {path}/burst_log.txt 2>&1\")"
   ]
  },
  {
   "cell_type": "code",
   "execution_count": 10,
   "metadata": {},
   "outputs": [
    {
     "name": "stdout",
     "output_type": "stream",
     "text": [
      "/usr/bin/time -v shogun coverage -d /project/flatiron2/data/shogun/rep82 -i /project/flatiron2/ben/projects/type_1/data/zymo/ERR2935805/allpath.b6 -o /project/flatiron2/ben/projects/type_1/data/zymo/ERR2935805/coverage.txt -l species -t mapping > /project/flatiron2/ben/projects/type_1/data/zymo/ERR2935805/shogun_coverage_log.txt 2>&1\n",
      "/usr/bin/time -v shogun coverage -d /project/flatiron2/data/shogun/rep82 -i /project/flatiron2/ben/projects/type_1/data/zymo/ERR2984773/allpath.b6 -o /project/flatiron2/ben/projects/type_1/data/zymo/ERR2984773/coverage.txt -l species -t mapping > /project/flatiron2/ben/projects/type_1/data/zymo/ERR2984773/shogun_coverage_log.txt 2>&1\n",
      "/usr/bin/time -v shogun coverage -d /project/flatiron2/data/shogun/rep82 -i /project/flatiron2/ben/projects/type_1/data/bmock_12/SRR8073716/allpath.b6 -o /project/flatiron2/ben/projects/type_1/data/bmock_12/SRR8073716/coverage.txt -l species -t mapping > /project/flatiron2/ben/projects/type_1/data/bmock_12/SRR8073716/shogun_coverage_log.txt 2>&1\n",
      "/usr/bin/time -v shogun coverage -d /project/flatiron2/data/shogun/rep82 -i /project/flatiron2/ben/projects/type_1/data/gis_20/ERR3200809/allpath.b6 -o /project/flatiron2/ben/projects/type_1/data/gis_20/ERR3200809/coverage.txt -l species -t mapping > /project/flatiron2/ben/projects/type_1/data/gis_20/ERR3200809/shogun_coverage_log.txt 2>&1\n",
      "/usr/bin/time -v shogun coverage -d /project/flatiron2/data/shogun/rep82 -i /project/flatiron2/ben/projects/type_1/data/gis_20/ERR2835738/allpath.b6 -o /project/flatiron2/ben/projects/type_1/data/gis_20/ERR2835738/coverage.txt -l species -t mapping > /project/flatiron2/ben/projects/type_1/data/gis_20/ERR2835738/shogun_coverage_log.txt 2>&1\n",
      "/usr/bin/time -v shogun coverage -d /project/flatiron2/data/shogun/rep82 -i /project/flatiron2/ben/projects/type_1/data/mosaic/CS_4/allpath.b6 -o /project/flatiron2/ben/projects/type_1/data/mosaic/CS_4/coverage.txt -l species -t mapping > /project/flatiron2/ben/projects/type_1/data/mosaic/CS_4/shogun_coverage_log.txt 2>&1\n",
      "/usr/bin/time -v shogun coverage -d /project/flatiron2/data/shogun/rep82 -i /project/flatiron2/ben/projects/type_1/data/mosaic/CS_3/allpath.b6 -o /project/flatiron2/ben/projects/type_1/data/mosaic/CS_3/coverage.txt -l species -t mapping > /project/flatiron2/ben/projects/type_1/data/mosaic/CS_3/shogun_coverage_log.txt 2>&1\n",
      "/usr/bin/time -v shogun coverage -d /project/flatiron2/data/shogun/rep82 -i /project/flatiron2/ben/projects/type_1/data/mosaic/CS_2/allpath.b6 -o /project/flatiron2/ben/projects/type_1/data/mosaic/CS_2/coverage.txt -l species -t mapping > /project/flatiron2/ben/projects/type_1/data/mosaic/CS_2/shogun_coverage_log.txt 2>&1\n",
      "/usr/bin/time -v shogun coverage -d /project/flatiron2/data/shogun/rep82 -i /project/flatiron2/ben/projects/type_1/data/mosaic/CS_1/allpath.b6 -o /project/flatiron2/ben/projects/type_1/data/mosaic/CS_1/coverage.txt -l species -t mapping > /project/flatiron2/ben/projects/type_1/data/mosaic/CS_1/shogun_coverage_log.txt 2>&1\n",
      "/usr/bin/time -v shogun coverage -d /project/flatiron2/data/shogun/rep82 -i /project/flatiron2/ben/projects/type_1/data/mbarc_26/SRR3656745/allpath.b6 -o /project/flatiron2/ben/projects/type_1/data/mbarc_26/SRR3656745/coverage.txt -l species -t mapping > /project/flatiron2/ben/projects/type_1/data/mbarc_26/SRR3656745/shogun_coverage_log.txt 2>&1\n"
     ]
    }
   ],
   "source": [
    "for path in file_paths:\n",
    "    print(f\"/usr/bin/time -v shogun coverage -d /project/flatiron2/data/shogun/rep82 -i {path}/allpath.b6 -o {path}/coverage.txt -l species -t mapping > {path}/shogun_coverage_log.txt 2>&1\")"
   ]
  }
 ],
 "metadata": {
  "kernelspec": {
   "display_name": "Python [conda env:.conda-type_1]",
   "language": "python",
   "name": "conda-env-.conda-type_1-py"
  },
  "language_info": {
   "codemirror_mode": {
    "name": "ipython",
    "version": 3
   },
   "file_extension": ".py",
   "mimetype": "text/x-python",
   "name": "python",
   "nbconvert_exporter": "python",
   "pygments_lexer": "ipython3",
   "version": "3.8.2"
  }
 },
 "nbformat": 4,
 "nbformat_minor": 4
}
